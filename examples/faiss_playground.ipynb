{
 "cells": [
  {
   "cell_type": "code",
   "execution_count": 1,
   "metadata": {},
   "outputs": [],
   "source": [
    "from vod_benchmarking import DatasetGlove, DatasetLastFM, DatasetSift1M"
   ]
  },
  {
   "cell_type": "code",
   "execution_count": 2,
   "metadata": {},
   "outputs": [
    {
     "name": "stdout",
     "output_type": "stream",
     "text": [
      "Downloading lastfm-64-dot from http://ann-benchmarks.com/lastfm-64-dot.hdf5\n"
     ]
    },
    {
     "name": "stderr",
     "output_type": "stream",
     "text": [
      "100%|██████████| 142M/142M [00:06<00:00, 21.9MB/s] \n"
     ]
    },
    {
     "name": "stdout",
     "output_type": "stream",
     "text": [
      "Loading lastfm-64-dot from cache\n"
     ]
    }
   ],
   "source": [
    "dataset = DatasetLastFM()"
   ]
  },
  {
   "cell_type": "code",
   "execution_count": 3,
   "metadata": {},
   "outputs": [],
   "source": [
    "index_vectors, query_vectors = dataset.get_indices_and_queries_split(1, 10)\n",
    "query_vectors = query_vectors.squeeze()"
   ]
  },
  {
   "cell_type": "code",
   "execution_count": 4,
   "metadata": {},
   "outputs": [
    {
     "data": {
      "text/plain": [
       "((342375, 65), (10, 65))"
      ]
     },
     "execution_count": 4,
     "metadata": {},
     "output_type": "execute_result"
    }
   ],
   "source": [
    "index_vectors.shape, query_vectors.shape"
   ]
  },
  {
   "cell_type": "code",
   "execution_count": 5,
   "metadata": {},
   "outputs": [
    {
     "name": "stdout",
     "output_type": "stream",
     "text": [
      "342375\n"
     ]
    }
   ],
   "source": [
    "import faiss\n",
    "index = faiss.IndexHNSWFlat(index_vectors.shape[1], 32)\n",
    "index.add(index_vectors) # type: ignore\n",
    "print(index.ntotal)"
   ]
  },
  {
   "cell_type": "code",
   "execution_count": 6,
   "metadata": {},
   "outputs": [
    {
     "data": {
      "text/plain": [
       "(array([[2.41056303e-04, 2.42130816e-04, 2.48374592e-04, 2.48765544e-04,\n",
       "         2.57764390e-04, 2.58667627e-04, 2.59676512e-04, 2.62065005e-04,\n",
       "         2.62996968e-04, 2.63154216e-04],\n",
       "        [1.07170144e-05, 2.25720505e-05, 2.88971696e-05, 3.84629566e-05,\n",
       "         3.86223146e-05, 4.00084682e-05, 4.07744883e-05, 4.14807510e-05,\n",
       "         4.17682095e-05, 4.18595773e-05],\n",
       "        [9.23930857e-05, 9.53483177e-05, 9.54371499e-05, 1.11658388e-04,\n",
       "         1.11806061e-04, 1.12319060e-04, 1.13099297e-04, 1.13405738e-04,\n",
       "         1.13565802e-04, 1.17675896e-04],\n",
       "        [1.91602574e-08, 6.75462870e-05, 6.86112471e-05, 7.12208057e-05,\n",
       "         7.22319091e-05, 7.57399830e-05, 7.70201659e-05, 7.70865809e-05,\n",
       "         7.99496556e-05, 8.16108368e-05],\n",
       "        [1.23299169e-05, 1.41138171e-05, 1.65009078e-05, 1.79158487e-05,\n",
       "         1.84260462e-05, 1.89238290e-05, 1.98825292e-05, 1.99018232e-05,\n",
       "         2.06191689e-05, 2.10329472e-05],\n",
       "        [8.13787628e-05, 9.41352482e-05, 9.72975540e-05, 9.96331728e-05,\n",
       "         1.01958998e-04, 1.03989820e-04, 1.04633946e-04, 1.05596650e-04,\n",
       "         1.05835381e-04, 1.06177424e-04],\n",
       "        [5.89284813e-04, 5.89589996e-04, 6.16970297e-04, 6.26798545e-04,\n",
       "         6.38155034e-04, 6.39247883e-04, 7.33274210e-04, 8.53198173e-04,\n",
       "         8.83976754e-04, 9.18439473e-04],\n",
       "        [4.49133264e-09, 1.33953930e-04, 1.45328391e-04, 1.46286038e-04,\n",
       "         1.48295498e-04, 1.52475171e-04, 1.52781111e-04, 1.53075802e-04,\n",
       "         1.55814560e-04, 1.56158261e-04],\n",
       "        [8.64814377e+01, 9.03813934e+01, 9.29242706e+01, 1.01231544e+02,\n",
       "         1.04625580e+02, 1.08185852e+02, 1.08196671e+02, 1.09190445e+02,\n",
       "         1.09775543e+02, 1.10113747e+02],\n",
       "        [2.58013257e-04, 3.12102726e-04, 3.92552931e-04, 3.93796421e-04,\n",
       "         4.00974473e-04, 4.07784391e-04, 4.38960706e-04, 4.55539790e-04,\n",
       "         4.57997463e-04, 4.59460833e-04]], dtype=float32),\n",
       " array([[ 42295, 273077,  32109, 168660,  11624, 106687, 143351, 125772,\n",
       "          63678, 198367],\n",
       "        [ 46878, 164768,   3120, 122654, 200723, 140383,   6382, 284018,\n",
       "         105324,  75146],\n",
       "        [265384, 202545, 204862, 139654, 167640, 245304, 168617, 177212,\n",
       "         185079, 255976],\n",
       "        [255552, 134077,   2705, 111945, 242805, 141869, 193452, 112792,\n",
       "         237068, 157933],\n",
       "        [ 80074, 199399,  65989, 276164,  34612, 193410, 129879, 268446,\n",
       "          11459, 276790],\n",
       "        [110631, 205589, 185378, 186307, 126131, 166951, 195245, 160837,\n",
       "         157950, 219161],\n",
       "        [191172, 202218, 192064, 179811,  60314,  75915, 282884, 274995,\n",
       "         175328,  64618],\n",
       "        [ 97891,  28425,  93035, 266126, 133928, 279061,  94064, 139672,\n",
       "         275180, 206421],\n",
       "        [319928, 297985, 338866, 311324, 321126, 306129, 301624, 298409,\n",
       "         324606, 294236],\n",
       "        [253349,  72494, 186329, 200098, 253085, 260684, 168019, 237671,\n",
       "          86244, 275574]]))"
      ]
     },
     "execution_count": 6,
     "metadata": {},
     "output_type": "execute_result"
    }
   ],
   "source": [
    "index.search(query_vectors, k=10)"
   ]
  }
 ],
 "metadata": {
  "kernelspec": {
   "display_name": "vod-EhoGd8y6-py3.11",
   "language": "python",
   "name": "python3"
  },
  "language_info": {
   "codemirror_mode": {
    "name": "ipython",
    "version": 3
   },
   "file_extension": ".py",
   "mimetype": "text/x-python",
   "name": "python",
   "nbconvert_exporter": "python",
   "pygments_lexer": "ipython3",
   "version": "3.11.2"
  }
 },
 "nbformat": 4,
 "nbformat_minor": 2
}
