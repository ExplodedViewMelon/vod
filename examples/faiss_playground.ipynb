{
 "cells": [
  {
   "cell_type": "code",
   "execution_count": 19,
   "metadata": {},
   "outputs": [],
   "source": [
    "from vod_benchmarking import DatasetGlove, DatasetLastFM, DatasetSift1M"
   ]
  },
  {
   "cell_type": "code",
   "execution_count": 20,
   "metadata": {},
   "outputs": [
    {
     "name": "stdout",
     "output_type": "stream",
     "text": [
      "Loading lastfm-64-dot from cache\n"
     ]
    }
   ],
   "source": [
    "dataset = DatasetLastFM()"
   ]
  },
  {
   "cell_type": "code",
   "execution_count": 21,
   "metadata": {},
   "outputs": [],
   "source": [
    "index_vectors, query_vectors = dataset.get_indices_and_queries_split(1, 10)\n",
    "query_vectors = query_vectors.squeeze()"
   ]
  },
  {
   "cell_type": "code",
   "execution_count": 22,
   "metadata": {},
   "outputs": [
    {
     "data": {
      "text/plain": [
       "((342375, 65), (10, 65))"
      ]
     },
     "execution_count": 22,
     "metadata": {},
     "output_type": "execute_result"
    }
   ],
   "source": [
    "index_vectors.shape, query_vectors.shape"
   ]
  },
  {
   "cell_type": "code",
   "execution_count": 29,
   "metadata": {},
   "outputs": [
    {
     "name": "stdout",
     "output_type": "stream",
     "text": [
      "342375\n"
     ]
    }
   ],
   "source": [
    "import faiss\n",
    "index = faiss.IndexHNSWFlat(index_vectors.shape[1], 32)\n",
    "index.add(index_vectors) # type: ignore\n",
    "print(index.ntotal)"
   ]
  },
  {
   "cell_type": "code",
   "execution_count": 32,
   "metadata": {},
   "outputs": [
    {
     "data": {
      "text/plain": [
       "(array([[5.8683865e-05, 6.0079674e-05, 6.2334380e-05, 6.3456770e-05,\n",
       "         6.3463420e-05, 6.4207561e-05, 6.6201392e-05, 6.7981382e-05,\n",
       "         6.8922847e-05, 6.9572779e-05],\n",
       "        [4.4020981e-04, 4.6399765e-04, 4.7103822e-04, 4.8353389e-04,\n",
       "         4.8515998e-04, 4.9125694e-04, 4.9396721e-04, 4.9700803e-04,\n",
       "         5.0851703e-04, 5.1583425e-04],\n",
       "        [3.9663122e-04, 5.2498397e-04, 5.3540734e-04, 5.4651423e-04,\n",
       "         5.6366413e-04, 5.8263273e-04, 6.0656015e-04, 6.5205310e-04,\n",
       "         6.8418938e-04, 6.8566750e-04],\n",
       "        [2.3843206e-05, 2.4736932e-05, 2.5139529e-05, 2.5577587e-05,\n",
       "         2.5632862e-05, 2.5826748e-05, 2.5962101e-05, 2.5970397e-05,\n",
       "         2.6066749e-05, 2.6494206e-05],\n",
       "        [1.1714943e-05, 1.3723594e-05, 1.4812939e-05, 1.5770625e-05,\n",
       "         1.6229515e-05, 1.6413258e-05, 1.6451057e-05, 1.6529239e-05,\n",
       "         1.6985274e-05, 1.7092982e-05],\n",
       "        [1.6869696e-04, 2.1022662e-04, 2.2330708e-04, 2.2491063e-04,\n",
       "         2.2827086e-04, 2.3016549e-04, 2.3256206e-04, 2.3308168e-04,\n",
       "         2.3760847e-04, 2.4112767e-04],\n",
       "        [3.9491959e-05, 4.7260932e-05, 4.8638420e-05, 4.8790858e-05,\n",
       "         4.8887890e-05, 4.8928625e-05, 4.8948757e-05, 4.8998867e-05,\n",
       "         5.1124760e-05, 5.1974683e-05],\n",
       "        [9.6090105e-08, 2.3970307e-07, 7.4944255e-05, 7.5255091e-05,\n",
       "         7.7845049e-05, 7.8123550e-05, 7.8517776e-05, 7.9103775e-05,\n",
       "         7.9333760e-05, 8.0638369e-05],\n",
       "        [2.7156295e-05, 3.7550111e-05, 3.7961072e-05, 3.9971706e-05,\n",
       "         4.0297047e-05, 4.1441424e-05, 4.5047924e-05, 4.5646881e-05,\n",
       "         4.5946308e-05, 4.6164772e-05],\n",
       "        [4.3530281e-13, 3.2820768e-08, 1.9174688e-06, 1.9487507e-06,\n",
       "         1.9750337e-06, 2.0055136e-06, 2.0270609e-06, 2.0952573e-06,\n",
       "         2.1085632e-06, 2.1087944e-06]], dtype=float32),\n",
       " array([[136518, 127375, 108250,  63213, 265134, 234745, 220648, 259195,\n",
       "         205080,  11955],\n",
       "        [232127, 109779, 268449, 157424, 168642, 124819, 143815, 202091,\n",
       "         222728, 168776],\n",
       "        [196765, 112871,   8495, 219261,  29988, 202329,  33177, 207186,\n",
       "         278303, 176374],\n",
       "        [106688,  21289,  49282, 129582, 245783,  72428,  96482, 111531,\n",
       "          72040,  40473],\n",
       "        [223013, 124791, 277166, 239671, 242712,   6969, 251390, 185359,\n",
       "         130499, 284128],\n",
       "        [245702, 192969, 121876,  21668, 268877, 112500,  60702, 204628,\n",
       "         152772, 282470],\n",
       "        [234170, 234458, 242342,  82397, 122667, 159469,  79879, 217592,\n",
       "          21663, 227296],\n",
       "        [ 23434,   6324, 198116, 274874, 236852,  46833, 161229, 111451,\n",
       "         117626, 220583],\n",
       "        [117898, 150389,  16097,  23496, 143977, 185204, 173183, 129406,\n",
       "         176285, 177685],\n",
       "        [ 21829, 266482, 123901, 144852, 286635, 285666, 185826,    845,\n",
       "         284707,  37985]]))"
      ]
     },
     "execution_count": 32,
     "metadata": {},
     "output_type": "execute_result"
    }
   ],
   "source": [
    "index.search(query_vectors, k=10)"
   ]
  }
 ],
 "metadata": {
  "kernelspec": {
   "display_name": "vod-EhoGd8y6-py3.11",
   "language": "python",
   "name": "python3"
  },
  "language_info": {
   "codemirror_mode": {
    "name": "ipython",
    "version": 3
   },
   "file_extension": ".py",
   "mimetype": "text/x-python",
   "name": "python",
   "nbconvert_exporter": "python",
   "pygments_lexer": "ipython3",
   "version": "3.11.2"
  }
 },
 "nbformat": 4,
 "nbformat_minor": 2
}
