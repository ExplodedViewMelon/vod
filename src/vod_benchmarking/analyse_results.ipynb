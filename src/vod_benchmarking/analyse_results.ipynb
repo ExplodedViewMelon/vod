{
 "cells": [
  {
   "cell_type": "code",
   "execution_count": 25,
   "metadata": {},
   "outputs": [],
   "source": [
    "import pandas as pd\n",
    "import matplotlib.pyplot as plt\n",
    "import os"
   ]
  },
  {
   "cell_type": "markdown",
   "metadata": {},
   "source": [
    "## Preprocessing"
   ]
  },
  {
   "cell_type": "code",
   "execution_count": 26,
   "metadata": {},
   "outputs": [
    {
     "name": "stdout",
     "output_type": "stream",
     "text": [
      "/Users/oas/Downloads/benchmarking_results/2024-03-06-13-45-38.csv\n"
     ]
    }
   ],
   "source": [
    "folder_path = \"/Users/oas/Downloads/benchmarking_results\"\n",
    "# folder_path = \"/Users/oas/Documents/VOD/vod/benchmarking_results\"\n",
    "files = [\n",
    "    os.path.join(folder_path, file)\n",
    "    for file in os.listdir(folder_path)\n",
    "    if os.path.isfile(os.path.join(folder_path, file))\n",
    "]\n",
    "files.sort()  # Sort the files by name\n",
    "newest_file = files[-1]  # Pick the newest\n",
    "print(newest_file)"
   ]
  },
  {
   "cell_type": "code",
   "execution_count": 27,
   "metadata": {},
   "outputs": [],
   "source": [
    "df_results = pd.read_csv(newest_file)\n",
    "df_results.shape"
   ]
  },
  {
   "cell_type": "code",
   "execution_count": 28,
   "metadata": {},
   "outputs": [
    {
     "data": {
      "text/html": [
       "<div>\n",
       "<style scoped>\n",
       "    .dataframe tbody tr th:only-of-type {\n",
       "        vertical-align: middle;\n",
       "    }\n",
       "\n",
       "    .dataframe tbody tr th {\n",
       "        vertical-align: top;\n",
       "    }\n",
       "\n",
       "    .dataframe thead th {\n",
       "        text-align: right;\n",
       "    }\n",
       "</style>\n",
       "<table border=\"1\" class=\"dataframe\">\n",
       "  <thead>\n",
       "    <tr style=\"text-align: right;\">\n",
       "      <th></th>\n",
       "      <th>Unnamed: 0</th>\n",
       "      <th>Dataset</th>\n",
       "      <th>Index</th>\n",
       "      <th>IndexParameters</th>\n",
       "      <th>timerMasterMean</th>\n",
       "      <th>timerServerStartupMean</th>\n",
       "      <th>timerBuildIndexMean</th>\n",
       "      <th>SearchSpeedAverage</th>\n",
       "      <th>SearchSpeedP95</th>\n",
       "      <th>RecallMean</th>\n",
       "      <th>RecallAt1Mean</th>\n",
       "      <th>RecallAt10Mean</th>\n",
       "      <th>RecallAt100Mean</th>\n",
       "      <th>RecallAt1000Mean</th>\n",
       "      <th>baselineMax</th>\n",
       "      <th>baselineMean</th>\n",
       "      <th>ingestingMax</th>\n",
       "      <th>ingestingMean</th>\n",
       "      <th>benchmarkingMax</th>\n",
       "      <th>benchmarkingMean</th>\n",
       "    </tr>\n",
       "  </thead>\n",
       "  <tbody>\n",
       "    <tr>\n",
       "      <th>0</th>\n",
       "      <td>0</td>\n",
       "      <td>sift-128-euclidean</td>\n",
       "      <td>index: milvus IVF, n_partition=64, None, L2</td>\n",
       "      <td>IVF, n_partition=64, None, L2</td>\n",
       "      <td>161.984408</td>\n",
       "      <td>91.158141</td>\n",
       "      <td>65.742976</td>\n",
       "      <td>2.320321</td>\n",
       "      <td>2.548022</td>\n",
       "      <td>0.982151</td>\n",
       "      <td>0.9949</td>\n",
       "      <td>0.9970</td>\n",
       "      <td>0.9970</td>\n",
       "      <td>0.9970</td>\n",
       "      <td>211.510</td>\n",
       "      <td>211.510</td>\n",
       "      <td>1796.068</td>\n",
       "      <td>697.179813</td>\n",
       "      <td>1716.708</td>\n",
       "      <td>1203.750538</td>\n",
       "    </tr>\n",
       "    <tr>\n",
       "      <th>1</th>\n",
       "      <td>1</td>\n",
       "      <td>sift-128-euclidean</td>\n",
       "      <td>index: milvus IVF, n_partition=128, None, L2</td>\n",
       "      <td>IVF, n_partition=128, None, L2</td>\n",
       "      <td>165.023545</td>\n",
       "      <td>91.434945</td>\n",
       "      <td>68.507926</td>\n",
       "      <td>2.218690</td>\n",
       "      <td>2.435784</td>\n",
       "      <td>0.991873</td>\n",
       "      <td>0.9961</td>\n",
       "      <td>0.9983</td>\n",
       "      <td>0.9983</td>\n",
       "      <td>0.9983</td>\n",
       "      <td>190.180</td>\n",
       "      <td>190.180</td>\n",
       "      <td>1692.490</td>\n",
       "      <td>674.164171</td>\n",
       "      <td>1727.580</td>\n",
       "      <td>1226.194077</td>\n",
       "    </tr>\n",
       "    <tr>\n",
       "      <th>2</th>\n",
       "      <td>2</td>\n",
       "      <td>sift-128-euclidean</td>\n",
       "      <td>index: milvus IVF, n_partition=256, None, L2</td>\n",
       "      <td>IVF, n_partition=256, None, L2</td>\n",
       "      <td>165.876709</td>\n",
       "      <td>91.942128</td>\n",
       "      <td>68.853711</td>\n",
       "      <td>2.367089</td>\n",
       "      <td>2.621065</td>\n",
       "      <td>0.995921</td>\n",
       "      <td>0.9968</td>\n",
       "      <td>0.9990</td>\n",
       "      <td>0.9990</td>\n",
       "      <td>0.9990</td>\n",
       "      <td>200.400</td>\n",
       "      <td>200.400</td>\n",
       "      <td>1433.844</td>\n",
       "      <td>609.283059</td>\n",
       "      <td>1763.804</td>\n",
       "      <td>1249.281615</td>\n",
       "    </tr>\n",
       "    <tr>\n",
       "      <th>3</th>\n",
       "      <td>3</td>\n",
       "      <td>sift-128-euclidean</td>\n",
       "      <td>index: milvus IVF, n_partition=512, None, L2</td>\n",
       "      <td>IVF, n_partition=512, None, L2</td>\n",
       "      <td>188.140312</td>\n",
       "      <td>101.273602</td>\n",
       "      <td>81.785626</td>\n",
       "      <td>2.617808</td>\n",
       "      <td>3.437749</td>\n",
       "      <td>0.998081</td>\n",
       "      <td>0.9974</td>\n",
       "      <td>0.9996</td>\n",
       "      <td>0.9996</td>\n",
       "      <td>0.9996</td>\n",
       "      <td>201.960</td>\n",
       "      <td>201.960</td>\n",
       "      <td>1447.148</td>\n",
       "      <td>620.706950</td>\n",
       "      <td>3522.008</td>\n",
       "      <td>1751.865933</td>\n",
       "    </tr>\n",
       "    <tr>\n",
       "      <th>4</th>\n",
       "      <td>4</td>\n",
       "      <td>sift-128-euclidean</td>\n",
       "      <td>index: milvus IVF, n_partition=1024, None, L2</td>\n",
       "      <td>IVF, n_partition=1024, None, L2</td>\n",
       "      <td>210.754938</td>\n",
       "      <td>91.788467</td>\n",
       "      <td>113.886073</td>\n",
       "      <td>2.857559</td>\n",
       "      <td>3.806693</td>\n",
       "      <td>0.999030</td>\n",
       "      <td>0.9975</td>\n",
       "      <td>0.9997</td>\n",
       "      <td>0.9997</td>\n",
       "      <td>0.9997</td>\n",
       "      <td>207.340</td>\n",
       "      <td>207.340</td>\n",
       "      <td>1625.720</td>\n",
       "      <td>718.006393</td>\n",
       "      <td>3328.900</td>\n",
       "      <td>1823.883824</td>\n",
       "    </tr>\n",
       "    <tr>\n",
       "      <th>5</th>\n",
       "      <td>5</td>\n",
       "      <td>sift-128-euclidean</td>\n",
       "      <td>index: milvus IVF, n_partition=2048, None, L2</td>\n",
       "      <td>IVF, n_partition=2048, None, L2</td>\n",
       "      <td>268.749255</td>\n",
       "      <td>101.867774</td>\n",
       "      <td>161.801337</td>\n",
       "      <td>3.588178</td>\n",
       "      <td>4.486139</td>\n",
       "      <td>0.999511</td>\n",
       "      <td>0.9978</td>\n",
       "      <td>1.0000</td>\n",
       "      <td>1.0000</td>\n",
       "      <td>1.0000</td>\n",
       "      <td>190.140</td>\n",
       "      <td>190.140</td>\n",
       "      <td>1459.890</td>\n",
       "      <td>643.252700</td>\n",
       "      <td>2149.064</td>\n",
       "      <td>1920.769800</td>\n",
       "    </tr>\n",
       "    <tr>\n",
       "      <th>6</th>\n",
       "      <td>6</td>\n",
       "      <td>sift-128-euclidean</td>\n",
       "      <td>index: milvus IVF, n_partition=4096, None, L2</td>\n",
       "      <td>IVF, n_partition=4096, None, L2</td>\n",
       "      <td>394.264325</td>\n",
       "      <td>91.554489</td>\n",
       "      <td>297.609647</td>\n",
       "      <td>4.520539</td>\n",
       "      <td>4.998783</td>\n",
       "      <td>0.999775</td>\n",
       "      <td>0.9978</td>\n",
       "      <td>1.0000</td>\n",
       "      <td>1.0000</td>\n",
       "      <td>1.0000</td>\n",
       "      <td>1291.674</td>\n",
       "      <td>1291.674</td>\n",
       "      <td>3026.032</td>\n",
       "      <td>934.210272</td>\n",
       "      <td>1424.634</td>\n",
       "      <td>1386.330383</td>\n",
       "    </tr>\n",
       "    <tr>\n",
       "      <th>7</th>\n",
       "      <td>7</td>\n",
       "      <td>sift-128-euclidean</td>\n",
       "      <td>index: milvus IVF, n_partition=64, None, L2</td>\n",
       "      <td>IVF, n_partition=64, None, L2</td>\n",
       "      <td>238.794323</td>\n",
       "      <td>101.900144</td>\n",
       "      <td>131.772166</td>\n",
       "      <td>1.003152</td>\n",
       "      <td>1.279109</td>\n",
       "      <td>0.575082</td>\n",
       "      <td>0.7130</td>\n",
       "      <td>0.7140</td>\n",
       "      <td>0.7140</td>\n",
       "      <td>0.7140</td>\n",
       "      <td>570.310</td>\n",
       "      <td>570.310</td>\n",
       "      <td>1732.498</td>\n",
       "      <td>884.317908</td>\n",
       "      <td>1818.710</td>\n",
       "      <td>1268.213100</td>\n",
       "    </tr>\n",
       "    <tr>\n",
       "      <th>8</th>\n",
       "      <td>8</td>\n",
       "      <td>sift-128-euclidean</td>\n",
       "      <td>index: milvus IVF, n_partition=128, None, L2</td>\n",
       "      <td>IVF, n_partition=128, None, L2</td>\n",
       "      <td>163.729941</td>\n",
       "      <td>91.079997</td>\n",
       "      <td>67.568300</td>\n",
       "      <td>0.960180</td>\n",
       "      <td>1.221338</td>\n",
       "      <td>0.497288</td>\n",
       "      <td>0.6497</td>\n",
       "      <td>0.6509</td>\n",
       "      <td>0.6509</td>\n",
       "      <td>0.6509</td>\n",
       "      <td>210.080</td>\n",
       "      <td>210.080</td>\n",
       "      <td>1716.320</td>\n",
       "      <td>670.783879</td>\n",
       "      <td>1146.950</td>\n",
       "      <td>1092.080000</td>\n",
       "    </tr>\n",
       "    <tr>\n",
       "      <th>9</th>\n",
       "      <td>9</td>\n",
       "      <td>sift-128-euclidean</td>\n",
       "      <td>index: milvus IVF, n_partition=256, None, L2</td>\n",
       "      <td>IVF, n_partition=256, None, L2</td>\n",
       "      <td>167.164632</td>\n",
       "      <td>91.365211</td>\n",
       "      <td>70.713892</td>\n",
       "      <td>0.909274</td>\n",
       "      <td>1.199511</td>\n",
       "      <td>0.431680</td>\n",
       "      <td>0.6084</td>\n",
       "      <td>0.6090</td>\n",
       "      <td>0.6090</td>\n",
       "      <td>0.6090</td>\n",
       "      <td>211.380</td>\n",
       "      <td>211.380</td>\n",
       "      <td>1668.022</td>\n",
       "      <td>681.027143</td>\n",
       "      <td>1167.740</td>\n",
       "      <td>1094.865556</td>\n",
       "    </tr>\n",
       "    <tr>\n",
       "      <th>10</th>\n",
       "      <td>10</td>\n",
       "      <td>sift-128-euclidean</td>\n",
       "      <td>index: milvus IVF, n_partition=512, None, L2</td>\n",
       "      <td>IVF, n_partition=512, None, L2</td>\n",
       "      <td>177.105939</td>\n",
       "      <td>91.160229</td>\n",
       "      <td>80.860819</td>\n",
       "      <td>0.842747</td>\n",
       "      <td>1.144575</td>\n",
       "      <td>0.367090</td>\n",
       "      <td>0.5668</td>\n",
       "      <td>0.5671</td>\n",
       "      <td>0.5671</td>\n",
       "      <td>0.5671</td>\n",
       "      <td>211.860</td>\n",
       "      <td>211.860</td>\n",
       "      <td>1651.116</td>\n",
       "      <td>723.402900</td>\n",
       "      <td>1704.300</td>\n",
       "      <td>1234.436000</td>\n",
       "    </tr>\n",
       "    <tr>\n",
       "      <th>11</th>\n",
       "      <td>11</td>\n",
       "      <td>sift-128-euclidean</td>\n",
       "      <td>index: milvus IVF, n_partition=1024, None, L2</td>\n",
       "      <td>IVF, n_partition=1024, None, L2</td>\n",
       "      <td>209.727457</td>\n",
       "      <td>92.052205</td>\n",
       "      <td>112.589817</td>\n",
       "      <td>1.059387</td>\n",
       "      <td>1.654792</td>\n",
       "      <td>0.313820</td>\n",
       "      <td>0.5280</td>\n",
       "      <td>0.5284</td>\n",
       "      <td>0.5284</td>\n",
       "      <td>0.5284</td>\n",
       "      <td>205.060</td>\n",
       "      <td>205.060</td>\n",
       "      <td>1764.024</td>\n",
       "      <td>702.490800</td>\n",
       "      <td>2015.180</td>\n",
       "      <td>1762.430800</td>\n",
       "    </tr>\n",
       "    <tr>\n",
       "      <th>12</th>\n",
       "      <td>12</td>\n",
       "      <td>sift-128-euclidean</td>\n",
       "      <td>index: milvus IVF, n_partition=1024, None, L2</td>\n",
       "      <td>IVF, n_partition=1024, None, L2</td>\n",
       "      <td>223.534063</td>\n",
       "      <td>92.521058</td>\n",
       "      <td>125.907625</td>\n",
       "      <td>1.036100</td>\n",
       "      <td>1.398001</td>\n",
       "      <td>0.310420</td>\n",
       "      <td>0.5295</td>\n",
       "      <td>0.5300</td>\n",
       "      <td>0.5300</td>\n",
       "      <td>0.5300</td>\n",
       "      <td>1176.900</td>\n",
       "      <td>1176.900</td>\n",
       "      <td>3040.360</td>\n",
       "      <td>976.891290</td>\n",
       "      <td>3416.906</td>\n",
       "      <td>2154.162560</td>\n",
       "    </tr>\n",
       "    <tr>\n",
       "      <th>13</th>\n",
       "      <td>13</td>\n",
       "      <td>sift-128-euclidean</td>\n",
       "      <td>index: milvus IVF, n_partition=1024, None, L2</td>\n",
       "      <td>IVF, n_partition=1024, None, L2</td>\n",
       "      <td>211.237687</td>\n",
       "      <td>91.426309</td>\n",
       "      <td>114.729346</td>\n",
       "      <td>1.209096</td>\n",
       "      <td>1.636439</td>\n",
       "      <td>0.629661</td>\n",
       "      <td>0.8288</td>\n",
       "      <td>0.8302</td>\n",
       "      <td>0.8302</td>\n",
       "      <td>0.8302</td>\n",
       "      <td>211.040</td>\n",
       "      <td>211.040</td>\n",
       "      <td>1462.170</td>\n",
       "      <td>648.545172</td>\n",
       "      <td>3113.330</td>\n",
       "      <td>1707.304538</td>\n",
       "    </tr>\n",
       "    <tr>\n",
       "      <th>14</th>\n",
       "      <td>14</td>\n",
       "      <td>sift-128-euclidean</td>\n",
       "      <td>index: milvus IVF, n_partition=1024, None, L2</td>\n",
       "      <td>IVF, n_partition=1024, None, L2</td>\n",
       "      <td>215.790238</td>\n",
       "      <td>92.087610</td>\n",
       "      <td>118.619772</td>\n",
       "      <td>1.273961</td>\n",
       "      <td>1.799906</td>\n",
       "      <td>0.895293</td>\n",
       "      <td>0.9710</td>\n",
       "      <td>0.9731</td>\n",
       "      <td>0.9731</td>\n",
       "      <td>0.9731</td>\n",
       "      <td>207.940</td>\n",
       "      <td>207.940</td>\n",
       "      <td>2000.760</td>\n",
       "      <td>733.924367</td>\n",
       "      <td>3051.704</td>\n",
       "      <td>1803.265407</td>\n",
       "    </tr>\n",
       "    <tr>\n",
       "      <th>15</th>\n",
       "      <td>15</td>\n",
       "      <td>sift-128-euclidean</td>\n",
       "      <td>index: milvus IVF, n_partition=1024, None, L2</td>\n",
       "      <td>IVF, n_partition=1024, None, L2</td>\n",
       "      <td>218.397342</td>\n",
       "      <td>91.467297</td>\n",
       "      <td>121.846685</td>\n",
       "      <td>2.211025</td>\n",
       "      <td>2.831323</td>\n",
       "      <td>0.991313</td>\n",
       "      <td>0.9966</td>\n",
       "      <td>0.9988</td>\n",
       "      <td>0.9988</td>\n",
       "      <td>0.9988</td>\n",
       "      <td>214.170</td>\n",
       "      <td>214.170</td>\n",
       "      <td>1443.622</td>\n",
       "      <td>696.643667</td>\n",
       "      <td>2866.598</td>\n",
       "      <td>1845.210581</td>\n",
       "    </tr>\n",
       "    <tr>\n",
       "      <th>16</th>\n",
       "      <td>16</td>\n",
       "      <td>sift-128-euclidean</td>\n",
       "      <td>index: milvus IVF, n_partition=1024, None, L2</td>\n",
       "      <td>IVF, n_partition=1024, None, L2</td>\n",
       "      <td>216.521795</td>\n",
       "      <td>91.669374</td>\n",
       "      <td>119.768581</td>\n",
       "      <td>4.395519</td>\n",
       "      <td>6.046579</td>\n",
       "      <td>0.999888</td>\n",
       "      <td>0.9978</td>\n",
       "      <td>1.0000</td>\n",
       "      <td>1.0000</td>\n",
       "      <td>1.0000</td>\n",
       "      <td>207.260</td>\n",
       "      <td>207.260</td>\n",
       "      <td>1551.100</td>\n",
       "      <td>723.763276</td>\n",
       "      <td>3192.834</td>\n",
       "      <td>1659.607050</td>\n",
       "    </tr>\n",
       "    <tr>\n",
       "      <th>17</th>\n",
       "      <td>17</td>\n",
       "      <td>sift-128-euclidean</td>\n",
       "      <td>index: milvus HNSW, M=4, ef_construction=32, e...</td>\n",
       "      <td>HNSW, M=4, ef_construction=32, ef_search=128, ...</td>\n",
       "      <td>175.007357</td>\n",
       "      <td>91.151345</td>\n",
       "      <td>78.769111</td>\n",
       "      <td>0.870696</td>\n",
       "      <td>1.045331</td>\n",
       "      <td>0.793380</td>\n",
       "      <td>0.8551</td>\n",
       "      <td>0.8566</td>\n",
       "      <td>0.8566</td>\n",
       "      <td>0.8566</td>\n",
       "      <td>205.350</td>\n",
       "      <td>205.350</td>\n",
       "      <td>1526.372</td>\n",
       "      <td>703.594308</td>\n",
       "      <td>1829.874</td>\n",
       "      <td>1305.464444</td>\n",
       "    </tr>\n",
       "    <tr>\n",
       "      <th>18</th>\n",
       "      <td>18</td>\n",
       "      <td>sift-128-euclidean</td>\n",
       "      <td>index: milvus HNSW, M=8, ef_construction=32, e...</td>\n",
       "      <td>HNSW, M=8, ef_construction=32, ef_search=128, ...</td>\n",
       "      <td>177.932011</td>\n",
       "      <td>91.246688</td>\n",
       "      <td>81.601207</td>\n",
       "      <td>0.920883</td>\n",
       "      <td>1.164656</td>\n",
       "      <td>0.939502</td>\n",
       "      <td>0.9725</td>\n",
       "      <td>0.9747</td>\n",
       "      <td>0.9747</td>\n",
       "      <td>0.9747</td>\n",
       "      <td>210.770</td>\n",
       "      <td>210.770</td>\n",
       "      <td>1452.396</td>\n",
       "      <td>671.253000</td>\n",
       "      <td>1883.860</td>\n",
       "      <td>1373.609778</td>\n",
       "    </tr>\n",
       "    <tr>\n",
       "      <th>19</th>\n",
       "      <td>19</td>\n",
       "      <td>sift-128-euclidean</td>\n",
       "      <td>index: milvus HNSW, M=16, ef_construction=32, ...</td>\n",
       "      <td>HNSW, M=16, ef_construction=32, ef_search=128,...</td>\n",
       "      <td>182.440286</td>\n",
       "      <td>91.667591</td>\n",
       "      <td>85.690716</td>\n",
       "      <td>0.995762</td>\n",
       "      <td>1.216514</td>\n",
       "      <td>0.963096</td>\n",
       "      <td>0.9837</td>\n",
       "      <td>0.9859</td>\n",
       "      <td>0.9859</td>\n",
       "      <td>0.9859</td>\n",
       "      <td>221.930</td>\n",
       "      <td>221.930</td>\n",
       "      <td>1628.146</td>\n",
       "      <td>721.290140</td>\n",
       "      <td>1940.972</td>\n",
       "      <td>1522.371600</td>\n",
       "    </tr>\n",
       "    <tr>\n",
       "      <th>20</th>\n",
       "      <td>20</td>\n",
       "      <td>sift-128-euclidean</td>\n",
       "      <td>index: milvus HNSW, M=32, ef_construction=32, ...</td>\n",
       "      <td>HNSW, M=32, ef_construction=32, ef_search=128,...</td>\n",
       "      <td>184.843044</td>\n",
       "      <td>91.997602</td>\n",
       "      <td>87.762889</td>\n",
       "      <td>1.236868</td>\n",
       "      <td>1.553601</td>\n",
       "      <td>0.968492</td>\n",
       "      <td>0.9894</td>\n",
       "      <td>0.9916</td>\n",
       "      <td>0.9916</td>\n",
       "      <td>0.9916</td>\n",
       "      <td>210.520</td>\n",
       "      <td>210.520</td>\n",
       "      <td>1704.748</td>\n",
       "      <td>705.722136</td>\n",
       "      <td>2089.280</td>\n",
       "      <td>1702.828095</td>\n",
       "    </tr>\n",
       "    <tr>\n",
       "      <th>21</th>\n",
       "      <td>21</td>\n",
       "      <td>sift-128-euclidean</td>\n",
       "      <td>index: milvus HNSW, M=64, ef_construction=32, ...</td>\n",
       "      <td>HNSW, M=64, ef_construction=32, ef_search=128,...</td>\n",
       "      <td>214.750838</td>\n",
       "      <td>101.876971</td>\n",
       "      <td>107.792803</td>\n",
       "      <td>1.814663</td>\n",
       "      <td>2.351711</td>\n",
       "      <td>0.989694</td>\n",
       "      <td>0.9957</td>\n",
       "      <td>0.9979</td>\n",
       "      <td>0.9979</td>\n",
       "      <td>0.9979</td>\n",
       "      <td>216.820</td>\n",
       "      <td>216.820</td>\n",
       "      <td>1944.312</td>\n",
       "      <td>782.309736</td>\n",
       "      <td>3145.000</td>\n",
       "      <td>2667.359742</td>\n",
       "    </tr>\n",
       "  </tbody>\n",
       "</table>\n",
       "</div>"
      ],
      "text/plain": [
       "    Unnamed: 0             Dataset  \\\n",
       "0            0  sift-128-euclidean   \n",
       "1            1  sift-128-euclidean   \n",
       "2            2  sift-128-euclidean   \n",
       "3            3  sift-128-euclidean   \n",
       "4            4  sift-128-euclidean   \n",
       "5            5  sift-128-euclidean   \n",
       "6            6  sift-128-euclidean   \n",
       "7            7  sift-128-euclidean   \n",
       "8            8  sift-128-euclidean   \n",
       "9            9  sift-128-euclidean   \n",
       "10          10  sift-128-euclidean   \n",
       "11          11  sift-128-euclidean   \n",
       "12          12  sift-128-euclidean   \n",
       "13          13  sift-128-euclidean   \n",
       "14          14  sift-128-euclidean   \n",
       "15          15  sift-128-euclidean   \n",
       "16          16  sift-128-euclidean   \n",
       "17          17  sift-128-euclidean   \n",
       "18          18  sift-128-euclidean   \n",
       "19          19  sift-128-euclidean   \n",
       "20          20  sift-128-euclidean   \n",
       "21          21  sift-128-euclidean   \n",
       "\n",
       "                                                Index  \\\n",
       "0         index: milvus IVF, n_partition=64, None, L2   \n",
       "1        index: milvus IVF, n_partition=128, None, L2   \n",
       "2        index: milvus IVF, n_partition=256, None, L2   \n",
       "3        index: milvus IVF, n_partition=512, None, L2   \n",
       "4       index: milvus IVF, n_partition=1024, None, L2   \n",
       "5       index: milvus IVF, n_partition=2048, None, L2   \n",
       "6       index: milvus IVF, n_partition=4096, None, L2   \n",
       "7         index: milvus IVF, n_partition=64, None, L2   \n",
       "8        index: milvus IVF, n_partition=128, None, L2   \n",
       "9        index: milvus IVF, n_partition=256, None, L2   \n",
       "10       index: milvus IVF, n_partition=512, None, L2   \n",
       "11      index: milvus IVF, n_partition=1024, None, L2   \n",
       "12      index: milvus IVF, n_partition=1024, None, L2   \n",
       "13      index: milvus IVF, n_partition=1024, None, L2   \n",
       "14      index: milvus IVF, n_partition=1024, None, L2   \n",
       "15      index: milvus IVF, n_partition=1024, None, L2   \n",
       "16      index: milvus IVF, n_partition=1024, None, L2   \n",
       "17  index: milvus HNSW, M=4, ef_construction=32, e...   \n",
       "18  index: milvus HNSW, M=8, ef_construction=32, e...   \n",
       "19  index: milvus HNSW, M=16, ef_construction=32, ...   \n",
       "20  index: milvus HNSW, M=32, ef_construction=32, ...   \n",
       "21  index: milvus HNSW, M=64, ef_construction=32, ...   \n",
       "\n",
       "                                      IndexParameters  timerMasterMean  \\\n",
       "0                       IVF, n_partition=64, None, L2       161.984408   \n",
       "1                      IVF, n_partition=128, None, L2       165.023545   \n",
       "2                      IVF, n_partition=256, None, L2       165.876709   \n",
       "3                      IVF, n_partition=512, None, L2       188.140312   \n",
       "4                     IVF, n_partition=1024, None, L2       210.754938   \n",
       "5                     IVF, n_partition=2048, None, L2       268.749255   \n",
       "6                     IVF, n_partition=4096, None, L2       394.264325   \n",
       "7                       IVF, n_partition=64, None, L2       238.794323   \n",
       "8                      IVF, n_partition=128, None, L2       163.729941   \n",
       "9                      IVF, n_partition=256, None, L2       167.164632   \n",
       "10                     IVF, n_partition=512, None, L2       177.105939   \n",
       "11                    IVF, n_partition=1024, None, L2       209.727457   \n",
       "12                    IVF, n_partition=1024, None, L2       223.534063   \n",
       "13                    IVF, n_partition=1024, None, L2       211.237687   \n",
       "14                    IVF, n_partition=1024, None, L2       215.790238   \n",
       "15                    IVF, n_partition=1024, None, L2       218.397342   \n",
       "16                    IVF, n_partition=1024, None, L2       216.521795   \n",
       "17  HNSW, M=4, ef_construction=32, ef_search=128, ...       175.007357   \n",
       "18  HNSW, M=8, ef_construction=32, ef_search=128, ...       177.932011   \n",
       "19  HNSW, M=16, ef_construction=32, ef_search=128,...       182.440286   \n",
       "20  HNSW, M=32, ef_construction=32, ef_search=128,...       184.843044   \n",
       "21  HNSW, M=64, ef_construction=32, ef_search=128,...       214.750838   \n",
       "\n",
       "    timerServerStartupMean  timerBuildIndexMean  SearchSpeedAverage  \\\n",
       "0                91.158141            65.742976            2.320321   \n",
       "1                91.434945            68.507926            2.218690   \n",
       "2                91.942128            68.853711            2.367089   \n",
       "3               101.273602            81.785626            2.617808   \n",
       "4                91.788467           113.886073            2.857559   \n",
       "5               101.867774           161.801337            3.588178   \n",
       "6                91.554489           297.609647            4.520539   \n",
       "7               101.900144           131.772166            1.003152   \n",
       "8                91.079997            67.568300            0.960180   \n",
       "9                91.365211            70.713892            0.909274   \n",
       "10               91.160229            80.860819            0.842747   \n",
       "11               92.052205           112.589817            1.059387   \n",
       "12               92.521058           125.907625            1.036100   \n",
       "13               91.426309           114.729346            1.209096   \n",
       "14               92.087610           118.619772            1.273961   \n",
       "15               91.467297           121.846685            2.211025   \n",
       "16               91.669374           119.768581            4.395519   \n",
       "17               91.151345            78.769111            0.870696   \n",
       "18               91.246688            81.601207            0.920883   \n",
       "19               91.667591            85.690716            0.995762   \n",
       "20               91.997602            87.762889            1.236868   \n",
       "21              101.876971           107.792803            1.814663   \n",
       "\n",
       "    SearchSpeedP95  RecallMean  RecallAt1Mean  RecallAt10Mean  \\\n",
       "0         2.548022    0.982151         0.9949          0.9970   \n",
       "1         2.435784    0.991873         0.9961          0.9983   \n",
       "2         2.621065    0.995921         0.9968          0.9990   \n",
       "3         3.437749    0.998081         0.9974          0.9996   \n",
       "4         3.806693    0.999030         0.9975          0.9997   \n",
       "5         4.486139    0.999511         0.9978          1.0000   \n",
       "6         4.998783    0.999775         0.9978          1.0000   \n",
       "7         1.279109    0.575082         0.7130          0.7140   \n",
       "8         1.221338    0.497288         0.6497          0.6509   \n",
       "9         1.199511    0.431680         0.6084          0.6090   \n",
       "10        1.144575    0.367090         0.5668          0.5671   \n",
       "11        1.654792    0.313820         0.5280          0.5284   \n",
       "12        1.398001    0.310420         0.5295          0.5300   \n",
       "13        1.636439    0.629661         0.8288          0.8302   \n",
       "14        1.799906    0.895293         0.9710          0.9731   \n",
       "15        2.831323    0.991313         0.9966          0.9988   \n",
       "16        6.046579    0.999888         0.9978          1.0000   \n",
       "17        1.045331    0.793380         0.8551          0.8566   \n",
       "18        1.164656    0.939502         0.9725          0.9747   \n",
       "19        1.216514    0.963096         0.9837          0.9859   \n",
       "20        1.553601    0.968492         0.9894          0.9916   \n",
       "21        2.351711    0.989694         0.9957          0.9979   \n",
       "\n",
       "    RecallAt100Mean  RecallAt1000Mean  baselineMax  baselineMean  \\\n",
       "0            0.9970            0.9970      211.510       211.510   \n",
       "1            0.9983            0.9983      190.180       190.180   \n",
       "2            0.9990            0.9990      200.400       200.400   \n",
       "3            0.9996            0.9996      201.960       201.960   \n",
       "4            0.9997            0.9997      207.340       207.340   \n",
       "5            1.0000            1.0000      190.140       190.140   \n",
       "6            1.0000            1.0000     1291.674      1291.674   \n",
       "7            0.7140            0.7140      570.310       570.310   \n",
       "8            0.6509            0.6509      210.080       210.080   \n",
       "9            0.6090            0.6090      211.380       211.380   \n",
       "10           0.5671            0.5671      211.860       211.860   \n",
       "11           0.5284            0.5284      205.060       205.060   \n",
       "12           0.5300            0.5300     1176.900      1176.900   \n",
       "13           0.8302            0.8302      211.040       211.040   \n",
       "14           0.9731            0.9731      207.940       207.940   \n",
       "15           0.9988            0.9988      214.170       214.170   \n",
       "16           1.0000            1.0000      207.260       207.260   \n",
       "17           0.8566            0.8566      205.350       205.350   \n",
       "18           0.9747            0.9747      210.770       210.770   \n",
       "19           0.9859            0.9859      221.930       221.930   \n",
       "20           0.9916            0.9916      210.520       210.520   \n",
       "21           0.9979            0.9979      216.820       216.820   \n",
       "\n",
       "    ingestingMax  ingestingMean  benchmarkingMax  benchmarkingMean  \n",
       "0       1796.068     697.179813         1716.708       1203.750538  \n",
       "1       1692.490     674.164171         1727.580       1226.194077  \n",
       "2       1433.844     609.283059         1763.804       1249.281615  \n",
       "3       1447.148     620.706950         3522.008       1751.865933  \n",
       "4       1625.720     718.006393         3328.900       1823.883824  \n",
       "5       1459.890     643.252700         2149.064       1920.769800  \n",
       "6       3026.032     934.210272         1424.634       1386.330383  \n",
       "7       1732.498     884.317908         1818.710       1268.213100  \n",
       "8       1716.320     670.783879         1146.950       1092.080000  \n",
       "9       1668.022     681.027143         1167.740       1094.865556  \n",
       "10      1651.116     723.402900         1704.300       1234.436000  \n",
       "11      1764.024     702.490800         2015.180       1762.430800  \n",
       "12      3040.360     976.891290         3416.906       2154.162560  \n",
       "13      1462.170     648.545172         3113.330       1707.304538  \n",
       "14      2000.760     733.924367         3051.704       1803.265407  \n",
       "15      1443.622     696.643667         2866.598       1845.210581  \n",
       "16      1551.100     723.763276         3192.834       1659.607050  \n",
       "17      1526.372     703.594308         1829.874       1305.464444  \n",
       "18      1452.396     671.253000         1883.860       1373.609778  \n",
       "19      1628.146     721.290140         1940.972       1522.371600  \n",
       "20      1704.748     705.722136         2089.280       1702.828095  \n",
       "21      1944.312     782.309736         3145.000       2667.359742  "
      ]
     },
     "execution_count": 28,
     "metadata": {},
     "output_type": "execute_result"
    }
   ],
   "source": [
    "df_results.query(\"RecallMean != -1\")  # [\"Index parameters.\"].str[-40:]"
   ]
  },
  {
   "cell_type": "code",
   "execution_count": 29,
   "metadata": {},
   "outputs": [],
   "source": [
    "df_results = df_results.query(\"Index != 'None'\")  # ignore failed runs\n",
    "df_results = df_results.query(\"RecallMean != -1.0\")  # ignore failed runs"
   ]
  },
  {
   "cell_type": "code",
   "execution_count": 30,
   "metadata": {},
   "outputs": [
    {
     "data": {
      "text/html": [
       "<div>\n",
       "<style scoped>\n",
       "    .dataframe tbody tr th:only-of-type {\n",
       "        vertical-align: middle;\n",
       "    }\n",
       "\n",
       "    .dataframe tbody tr th {\n",
       "        vertical-align: top;\n",
       "    }\n",
       "\n",
       "    .dataframe thead th {\n",
       "        text-align: right;\n",
       "    }\n",
       "</style>\n",
       "<table border=\"1\" class=\"dataframe\">\n",
       "  <thead>\n",
       "    <tr style=\"text-align: right;\">\n",
       "      <th></th>\n",
       "      <th>Unnamed: 0</th>\n",
       "      <th>Dataset</th>\n",
       "      <th>Index</th>\n",
       "      <th>IndexParameters</th>\n",
       "      <th>timerMasterMean</th>\n",
       "      <th>timerServerStartupMean</th>\n",
       "      <th>timerBuildIndexMean</th>\n",
       "      <th>SearchSpeedAverage</th>\n",
       "      <th>SearchSpeedP95</th>\n",
       "      <th>RecallMean</th>\n",
       "      <th>RecallAt1Mean</th>\n",
       "      <th>RecallAt10Mean</th>\n",
       "      <th>RecallAt100Mean</th>\n",
       "      <th>RecallAt1000Mean</th>\n",
       "      <th>baselineMax</th>\n",
       "      <th>baselineMean</th>\n",
       "      <th>ingestingMax</th>\n",
       "      <th>ingestingMean</th>\n",
       "      <th>benchmarkingMax</th>\n",
       "      <th>benchmarkingMean</th>\n",
       "    </tr>\n",
       "  </thead>\n",
       "  <tbody>\n",
       "  </tbody>\n",
       "</table>\n",
       "</div>"
      ],
      "text/plain": [
       "Empty DataFrame\n",
       "Columns: [Unnamed: 0, Dataset, Index, IndexParameters, timerMasterMean, timerServerStartupMean, timerBuildIndexMean, SearchSpeedAverage, SearchSpeedP95, RecallMean, RecallAt1Mean, RecallAt10Mean, RecallAt100Mean, RecallAt1000Mean, baselineMax, baselineMean, ingestingMax, ingestingMean, benchmarkingMax, benchmarkingMean]\n",
       "Index: []"
      ]
     },
     "execution_count": 30,
     "metadata": {},
     "output_type": "execute_result"
    }
   ],
   "source": [
    "# this should be empty\n",
    "df_results[df_results.benchmarkingMean.isna()]"
   ]
  },
  {
   "cell_type": "code",
   "execution_count": 31,
   "metadata": {},
   "outputs": [],
   "source": [
    "# extract index information\n",
    "df_results[\"IndexProvider\"] = df_results.Index.str[7:].str.split(\",\").str[0].str.split(\" \").str[0]\n",
    "df_results[\"IndexType\"] = df_results.Index.str[7:].str.split(\",\").str[0].str.split(\" \").str[1]"
   ]
  },
  {
   "cell_type": "code",
   "execution_count": 32,
   "metadata": {},
   "outputs": [
    {
     "data": {
      "text/plain": [
       "''"
      ]
     },
     "execution_count": 32,
     "metadata": {},
     "output_type": "execute_result"
    }
   ],
   "source": [
    "# extract search parameters from parameter string\n",
    "\n",
    "df_hnsw_parameters = (df_results.query(\"IndexType == 'HNSW'\")[\"IndexParameters\"]\n",
    "    .str.replace(\"=\", \", \")\n",
    "    .str.split(\", \", expand=True)[[2, 4, 6, 7, 8]]\n",
    ")\n",
    "df_hnsw_parameters.columns = [\"M\", \"EfConstruction\", \"EfSearch\", \"Compression\", \"Metric\"]\n",
    "\n",
    "df_ivf_parameters = pd.DataFrame()\n",
    "# TODO fix that this makes errors when no IVF are in benchmark\n",
    "df_ivf_parameters = (df_results.query(\"IndexType == 'IVF'\")[\"IndexParameters\"]\n",
    "    .str.replace(\",\", \"\")\n",
    "    .str.replace(\"=\", \" \")\n",
    "    .str.split(\" \", expand=True)[[2, 3, 4]]\n",
    ")\n",
    "df_ivf_parameters.columns = [\"NPartitions\", \"Compression\", \"Metric\"]\n",
    "\"\""
   ]
  },
  {
   "cell_type": "code",
   "execution_count": 33,
   "metadata": {},
   "outputs": [],
   "source": [
    "# add search parameters to df_results\n",
    "df_parameters = df_hnsw_parameters.combine_first(df_ivf_parameters)\n",
    "df_results = pd.concat((df_results, df_parameters), axis=1)"
   ]
  },
  {
   "cell_type": "code",
   "execution_count": 34,
   "metadata": {},
   "outputs": [
    {
     "data": {
      "text/plain": [
       "Index(['Unnamed: 0', 'Dataset', 'Index', 'IndexParameters', 'TimerMasterMean',\n",
       "       'TimerServerStartupMean', 'TimerBuildIndexMean', 'SearchSpeedAverage',\n",
       "       'SearchSpeedP95', 'RecallMean', 'RecallAt1Mean', 'RecallAt10Mean',\n",
       "       'RecallAt100Mean', 'RecallAt1000Mean', 'BaselineMax', 'BaselineMean',\n",
       "       'IngestingMax', 'IngestingMean', 'BenchmarkingMax', 'BenchmarkingMean',\n",
       "       'IndexProvider', 'IndexType', 'Compression', 'EfConstruction',\n",
       "       'EfSearch', 'M', 'Metric', 'NPartitions'],\n",
       "      dtype='object')"
      ]
     },
     "execution_count": 34,
     "metadata": {},
     "output_type": "execute_result"
    }
   ],
   "source": [
    "df_results.columns = [col[0].upper() + col[1:] for col in df_results.columns]\n",
    "df_results.columns"
   ]
  },
  {
   "cell_type": "markdown",
   "metadata": {},
   "source": [
    "## Plotting"
   ]
  },
  {
   "cell_type": "code",
   "execution_count": 35,
   "metadata": {},
   "outputs": [
    {
     "data": {
      "text/plain": [
       "(22, 28)"
      ]
     },
     "execution_count": 35,
     "metadata": {},
     "output_type": "execute_result"
    }
   ],
   "source": [
    "df_results.shape"
   ]
  },
  {
   "cell_type": "markdown",
   "metadata": {},
   "source": [
    "### Large plotly plot"
   ]
  },
  {
   "cell_type": "code",
   "execution_count": 36,
   "metadata": {},
   "outputs": [
    {
     "data": {
      "application/vnd.plotly.v1+json": {
       "config": {
        "plotlyServerURL": "https://plot.ly"
       },
       "data": [
        {
         "customdata": [
          [
           "index: milvus IVF, n_partition=64, None, L2",
           1796.068,
           1203.7505384615388,
           "sift-128-euclidean"
          ],
          [
           "index: milvus IVF, n_partition=128, None, L2",
           1692.49,
           1226.1940769230769,
           "sift-128-euclidean"
          ],
          [
           "index: milvus IVF, n_partition=256, None, L2",
           1433.844,
           1249.2816153846154,
           "sift-128-euclidean"
          ],
          [
           "index: milvus IVF, n_partition=512, None, L2",
           1447.148,
           1751.8659333333335,
           "sift-128-euclidean"
          ],
          [
           "index: milvus IVF, n_partition=1024, None, L2",
           1625.72,
           1823.8838235294115,
           "sift-128-euclidean"
          ],
          [
           "index: milvus IVF, n_partition=2048, None, L2",
           1459.89,
           1920.7698,
           "sift-128-euclidean"
          ],
          [
           "index: milvus IVF, n_partition=4096, None, L2",
           3026.032,
           1386.330382978723,
           "sift-128-euclidean"
          ],
          [
           "index: milvus IVF, n_partition=64, None, L2",
           1732.498,
           1268.2131,
           "sift-128-euclidean"
          ],
          [
           "index: milvus IVF, n_partition=128, None, L2",
           1716.32,
           1092.08,
           "sift-128-euclidean"
          ],
          [
           "index: milvus IVF, n_partition=256, None, L2",
           1668.022,
           1094.8655555555556,
           "sift-128-euclidean"
          ],
          [
           "index: milvus IVF, n_partition=512, None, L2",
           1651.116,
           1234.436,
           "sift-128-euclidean"
          ],
          [
           "index: milvus IVF, n_partition=1024, None, L2",
           1764.024,
           1762.4308,
           "sift-128-euclidean"
          ],
          [
           "index: milvus IVF, n_partition=1024, None, L2",
           3040.36,
           2154.16256,
           "sift-128-euclidean"
          ],
          [
           "index: milvus IVF, n_partition=1024, None, L2",
           1462.17,
           1707.3045384615386,
           "sift-128-euclidean"
          ],
          [
           "index: milvus IVF, n_partition=1024, None, L2",
           2000.76,
           1803.2654074074076,
           "sift-128-euclidean"
          ],
          [
           "index: milvus IVF, n_partition=1024, None, L2",
           1443.622,
           1845.2105806451607,
           "sift-128-euclidean"
          ],
          [
           "index: milvus IVF, n_partition=1024, None, L2",
           1551.1,
           1659.60705,
           "sift-128-euclidean"
          ],
          [
           "index: milvus HNSW, M=4, ef_construction=32, ef_search=128, None, L2",
           1526.3719999999998,
           1305.4644444444446,
           "sift-128-euclidean"
          ],
          [
           "index: milvus HNSW, M=8, ef_construction=32, ef_search=128, None, L2",
           1452.396,
           1373.609777777778,
           "sift-128-euclidean"
          ],
          [
           "index: milvus HNSW, M=16, ef_construction=32, ef_search=128, None, L2",
           1628.146,
           1522.3716,
           "sift-128-euclidean"
          ],
          [
           "index: milvus HNSW, M=32, ef_construction=32, ef_search=128, None, L2",
           1704.748,
           1702.828095238095,
           "sift-128-euclidean"
          ],
          [
           "index: milvus HNSW, M=64, ef_construction=32, ef_search=128, None, L2",
           1944.312,
           2667.359741935484,
           "sift-128-euclidean"
          ]
         ],
         "hovertemplate": "IndexProvider=milvus<br>Dataset=%{customdata[3]}<br>RecallMean=%{x}<br>SearchSpeedAverage=%{y}<br>BenchmarkingMean=%{customdata[2]}<br>Index=%{customdata[0]}<br>IngestingMax=%{customdata[1]}<extra></extra>",
         "legendgroup": "milvus, sift-128-euclidean",
         "marker": {
          "color": "#636efa",
          "size": [
           1203.7505384615388,
           1226.1940769230769,
           1249.2816153846154,
           1751.8659333333335,
           1823.8838235294115,
           1920.7698,
           1386.330382978723,
           1268.2131,
           1092.08,
           1094.8655555555556,
           1234.436,
           1762.4308,
           2154.16256,
           1707.3045384615386,
           1803.2654074074076,
           1845.2105806451607,
           1659.60705,
           1305.4644444444446,
           1373.609777777778,
           1522.3716,
           1702.828095238095,
           2667.359741935484
          ],
          "sizemode": "area",
          "sizeref": 6.66839935483871,
          "symbol": "circle"
         },
         "mode": "markers",
         "name": "milvus, sift-128-euclidean",
         "orientation": "v",
         "showlegend": true,
         "type": "scatter",
         "x": [
          0.982151,
          0.991873,
          0.995921,
          0.998081,
          0.99903,
          0.999511,
          0.999775,
          0.5750820000000001,
          0.497288,
          0.4316799999999999,
          0.36709,
          0.31382,
          0.31042,
          0.6296610000000001,
          0.895293,
          0.991313,
          0.999888,
          0.79338,
          0.939502,
          0.9630960000000002,
          0.968492,
          0.989694
         ],
         "xaxis": "x",
         "y": [
          2.3203213165979832,
          2.218690173793584,
          2.3670894992304965,
          2.6178081256803125,
          2.8575592659180984,
          3.588178235432133,
          4.520539335091598,
          1.0031524612102658,
          0.9601799969328568,
          0.9092740745749324,
          0.8427467510802671,
          1.059386710403487,
          1.0360999531811104,
          1.2090958951739594,
          1.2739605403039604,
          2.2110247837146746,
          4.395518744783476,
          0.8706961893942207,
          0.9208828767295928,
          0.9957617650041356,
          1.2368682492990046,
          1.8146634995238853
         ],
         "yaxis": "y"
        }
       ],
       "layout": {
        "legend": {
         "itemsizing": "constant",
         "title": {
          "text": "IndexProvider, Dataset"
         },
         "tracegroupgap": 0
        },
        "margin": {
         "t": 60
        },
        "template": {
         "data": {
          "bar": [
           {
            "error_x": {
             "color": "#2a3f5f"
            },
            "error_y": {
             "color": "#2a3f5f"
            },
            "marker": {
             "line": {
              "color": "#E5ECF6",
              "width": 0.5
             },
             "pattern": {
              "fillmode": "overlay",
              "size": 10,
              "solidity": 0.2
             }
            },
            "type": "bar"
           }
          ],
          "barpolar": [
           {
            "marker": {
             "line": {
              "color": "#E5ECF6",
              "width": 0.5
             },
             "pattern": {
              "fillmode": "overlay",
              "size": 10,
              "solidity": 0.2
             }
            },
            "type": "barpolar"
           }
          ],
          "carpet": [
           {
            "aaxis": {
             "endlinecolor": "#2a3f5f",
             "gridcolor": "white",
             "linecolor": "white",
             "minorgridcolor": "white",
             "startlinecolor": "#2a3f5f"
            },
            "baxis": {
             "endlinecolor": "#2a3f5f",
             "gridcolor": "white",
             "linecolor": "white",
             "minorgridcolor": "white",
             "startlinecolor": "#2a3f5f"
            },
            "type": "carpet"
           }
          ],
          "choropleth": [
           {
            "colorbar": {
             "outlinewidth": 0,
             "ticks": ""
            },
            "type": "choropleth"
           }
          ],
          "contour": [
           {
            "colorbar": {
             "outlinewidth": 0,
             "ticks": ""
            },
            "colorscale": [
             [
              0,
              "#0d0887"
             ],
             [
              0.1111111111111111,
              "#46039f"
             ],
             [
              0.2222222222222222,
              "#7201a8"
             ],
             [
              0.3333333333333333,
              "#9c179e"
             ],
             [
              0.4444444444444444,
              "#bd3786"
             ],
             [
              0.5555555555555556,
              "#d8576b"
             ],
             [
              0.6666666666666666,
              "#ed7953"
             ],
             [
              0.7777777777777778,
              "#fb9f3a"
             ],
             [
              0.8888888888888888,
              "#fdca26"
             ],
             [
              1,
              "#f0f921"
             ]
            ],
            "type": "contour"
           }
          ],
          "contourcarpet": [
           {
            "colorbar": {
             "outlinewidth": 0,
             "ticks": ""
            },
            "type": "contourcarpet"
           }
          ],
          "heatmap": [
           {
            "colorbar": {
             "outlinewidth": 0,
             "ticks": ""
            },
            "colorscale": [
             [
              0,
              "#0d0887"
             ],
             [
              0.1111111111111111,
              "#46039f"
             ],
             [
              0.2222222222222222,
              "#7201a8"
             ],
             [
              0.3333333333333333,
              "#9c179e"
             ],
             [
              0.4444444444444444,
              "#bd3786"
             ],
             [
              0.5555555555555556,
              "#d8576b"
             ],
             [
              0.6666666666666666,
              "#ed7953"
             ],
             [
              0.7777777777777778,
              "#fb9f3a"
             ],
             [
              0.8888888888888888,
              "#fdca26"
             ],
             [
              1,
              "#f0f921"
             ]
            ],
            "type": "heatmap"
           }
          ],
          "heatmapgl": [
           {
            "colorbar": {
             "outlinewidth": 0,
             "ticks": ""
            },
            "colorscale": [
             [
              0,
              "#0d0887"
             ],
             [
              0.1111111111111111,
              "#46039f"
             ],
             [
              0.2222222222222222,
              "#7201a8"
             ],
             [
              0.3333333333333333,
              "#9c179e"
             ],
             [
              0.4444444444444444,
              "#bd3786"
             ],
             [
              0.5555555555555556,
              "#d8576b"
             ],
             [
              0.6666666666666666,
              "#ed7953"
             ],
             [
              0.7777777777777778,
              "#fb9f3a"
             ],
             [
              0.8888888888888888,
              "#fdca26"
             ],
             [
              1,
              "#f0f921"
             ]
            ],
            "type": "heatmapgl"
           }
          ],
          "histogram": [
           {
            "marker": {
             "pattern": {
              "fillmode": "overlay",
              "size": 10,
              "solidity": 0.2
             }
            },
            "type": "histogram"
           }
          ],
          "histogram2d": [
           {
            "colorbar": {
             "outlinewidth": 0,
             "ticks": ""
            },
            "colorscale": [
             [
              0,
              "#0d0887"
             ],
             [
              0.1111111111111111,
              "#46039f"
             ],
             [
              0.2222222222222222,
              "#7201a8"
             ],
             [
              0.3333333333333333,
              "#9c179e"
             ],
             [
              0.4444444444444444,
              "#bd3786"
             ],
             [
              0.5555555555555556,
              "#d8576b"
             ],
             [
              0.6666666666666666,
              "#ed7953"
             ],
             [
              0.7777777777777778,
              "#fb9f3a"
             ],
             [
              0.8888888888888888,
              "#fdca26"
             ],
             [
              1,
              "#f0f921"
             ]
            ],
            "type": "histogram2d"
           }
          ],
          "histogram2dcontour": [
           {
            "colorbar": {
             "outlinewidth": 0,
             "ticks": ""
            },
            "colorscale": [
             [
              0,
              "#0d0887"
             ],
             [
              0.1111111111111111,
              "#46039f"
             ],
             [
              0.2222222222222222,
              "#7201a8"
             ],
             [
              0.3333333333333333,
              "#9c179e"
             ],
             [
              0.4444444444444444,
              "#bd3786"
             ],
             [
              0.5555555555555556,
              "#d8576b"
             ],
             [
              0.6666666666666666,
              "#ed7953"
             ],
             [
              0.7777777777777778,
              "#fb9f3a"
             ],
             [
              0.8888888888888888,
              "#fdca26"
             ],
             [
              1,
              "#f0f921"
             ]
            ],
            "type": "histogram2dcontour"
           }
          ],
          "mesh3d": [
           {
            "colorbar": {
             "outlinewidth": 0,
             "ticks": ""
            },
            "type": "mesh3d"
           }
          ],
          "parcoords": [
           {
            "line": {
             "colorbar": {
              "outlinewidth": 0,
              "ticks": ""
             }
            },
            "type": "parcoords"
           }
          ],
          "pie": [
           {
            "automargin": true,
            "type": "pie"
           }
          ],
          "scatter": [
           {
            "fillpattern": {
             "fillmode": "overlay",
             "size": 10,
             "solidity": 0.2
            },
            "type": "scatter"
           }
          ],
          "scatter3d": [
           {
            "line": {
             "colorbar": {
              "outlinewidth": 0,
              "ticks": ""
             }
            },
            "marker": {
             "colorbar": {
              "outlinewidth": 0,
              "ticks": ""
             }
            },
            "type": "scatter3d"
           }
          ],
          "scattercarpet": [
           {
            "marker": {
             "colorbar": {
              "outlinewidth": 0,
              "ticks": ""
             }
            },
            "type": "scattercarpet"
           }
          ],
          "scattergeo": [
           {
            "marker": {
             "colorbar": {
              "outlinewidth": 0,
              "ticks": ""
             }
            },
            "type": "scattergeo"
           }
          ],
          "scattergl": [
           {
            "marker": {
             "colorbar": {
              "outlinewidth": 0,
              "ticks": ""
             }
            },
            "type": "scattergl"
           }
          ],
          "scattermapbox": [
           {
            "marker": {
             "colorbar": {
              "outlinewidth": 0,
              "ticks": ""
             }
            },
            "type": "scattermapbox"
           }
          ],
          "scatterpolar": [
           {
            "marker": {
             "colorbar": {
              "outlinewidth": 0,
              "ticks": ""
             }
            },
            "type": "scatterpolar"
           }
          ],
          "scatterpolargl": [
           {
            "marker": {
             "colorbar": {
              "outlinewidth": 0,
              "ticks": ""
             }
            },
            "type": "scatterpolargl"
           }
          ],
          "scatterternary": [
           {
            "marker": {
             "colorbar": {
              "outlinewidth": 0,
              "ticks": ""
             }
            },
            "type": "scatterternary"
           }
          ],
          "surface": [
           {
            "colorbar": {
             "outlinewidth": 0,
             "ticks": ""
            },
            "colorscale": [
             [
              0,
              "#0d0887"
             ],
             [
              0.1111111111111111,
              "#46039f"
             ],
             [
              0.2222222222222222,
              "#7201a8"
             ],
             [
              0.3333333333333333,
              "#9c179e"
             ],
             [
              0.4444444444444444,
              "#bd3786"
             ],
             [
              0.5555555555555556,
              "#d8576b"
             ],
             [
              0.6666666666666666,
              "#ed7953"
             ],
             [
              0.7777777777777778,
              "#fb9f3a"
             ],
             [
              0.8888888888888888,
              "#fdca26"
             ],
             [
              1,
              "#f0f921"
             ]
            ],
            "type": "surface"
           }
          ],
          "table": [
           {
            "cells": {
             "fill": {
              "color": "#EBF0F8"
             },
             "line": {
              "color": "white"
             }
            },
            "header": {
             "fill": {
              "color": "#C8D4E3"
             },
             "line": {
              "color": "white"
             }
            },
            "type": "table"
           }
          ]
         },
         "layout": {
          "annotationdefaults": {
           "arrowcolor": "#2a3f5f",
           "arrowhead": 0,
           "arrowwidth": 1
          },
          "autotypenumbers": "strict",
          "coloraxis": {
           "colorbar": {
            "outlinewidth": 0,
            "ticks": ""
           }
          },
          "colorscale": {
           "diverging": [
            [
             0,
             "#8e0152"
            ],
            [
             0.1,
             "#c51b7d"
            ],
            [
             0.2,
             "#de77ae"
            ],
            [
             0.3,
             "#f1b6da"
            ],
            [
             0.4,
             "#fde0ef"
            ],
            [
             0.5,
             "#f7f7f7"
            ],
            [
             0.6,
             "#e6f5d0"
            ],
            [
             0.7,
             "#b8e186"
            ],
            [
             0.8,
             "#7fbc41"
            ],
            [
             0.9,
             "#4d9221"
            ],
            [
             1,
             "#276419"
            ]
           ],
           "sequential": [
            [
             0,
             "#0d0887"
            ],
            [
             0.1111111111111111,
             "#46039f"
            ],
            [
             0.2222222222222222,
             "#7201a8"
            ],
            [
             0.3333333333333333,
             "#9c179e"
            ],
            [
             0.4444444444444444,
             "#bd3786"
            ],
            [
             0.5555555555555556,
             "#d8576b"
            ],
            [
             0.6666666666666666,
             "#ed7953"
            ],
            [
             0.7777777777777778,
             "#fb9f3a"
            ],
            [
             0.8888888888888888,
             "#fdca26"
            ],
            [
             1,
             "#f0f921"
            ]
           ],
           "sequentialminus": [
            [
             0,
             "#0d0887"
            ],
            [
             0.1111111111111111,
             "#46039f"
            ],
            [
             0.2222222222222222,
             "#7201a8"
            ],
            [
             0.3333333333333333,
             "#9c179e"
            ],
            [
             0.4444444444444444,
             "#bd3786"
            ],
            [
             0.5555555555555556,
             "#d8576b"
            ],
            [
             0.6666666666666666,
             "#ed7953"
            ],
            [
             0.7777777777777778,
             "#fb9f3a"
            ],
            [
             0.8888888888888888,
             "#fdca26"
            ],
            [
             1,
             "#f0f921"
            ]
           ]
          },
          "colorway": [
           "#636efa",
           "#EF553B",
           "#00cc96",
           "#ab63fa",
           "#FFA15A",
           "#19d3f3",
           "#FF6692",
           "#B6E880",
           "#FF97FF",
           "#FECB52"
          ],
          "font": {
           "color": "#2a3f5f"
          },
          "geo": {
           "bgcolor": "white",
           "lakecolor": "white",
           "landcolor": "#E5ECF6",
           "showlakes": true,
           "showland": true,
           "subunitcolor": "white"
          },
          "hoverlabel": {
           "align": "left"
          },
          "hovermode": "closest",
          "mapbox": {
           "style": "light"
          },
          "paper_bgcolor": "white",
          "plot_bgcolor": "#E5ECF6",
          "polar": {
           "angularaxis": {
            "gridcolor": "white",
            "linecolor": "white",
            "ticks": ""
           },
           "bgcolor": "#E5ECF6",
           "radialaxis": {
            "gridcolor": "white",
            "linecolor": "white",
            "ticks": ""
           }
          },
          "scene": {
           "xaxis": {
            "backgroundcolor": "#E5ECF6",
            "gridcolor": "white",
            "gridwidth": 2,
            "linecolor": "white",
            "showbackground": true,
            "ticks": "",
            "zerolinecolor": "white"
           },
           "yaxis": {
            "backgroundcolor": "#E5ECF6",
            "gridcolor": "white",
            "gridwidth": 2,
            "linecolor": "white",
            "showbackground": true,
            "ticks": "",
            "zerolinecolor": "white"
           },
           "zaxis": {
            "backgroundcolor": "#E5ECF6",
            "gridcolor": "white",
            "gridwidth": 2,
            "linecolor": "white",
            "showbackground": true,
            "ticks": "",
            "zerolinecolor": "white"
           }
          },
          "shapedefaults": {
           "line": {
            "color": "#2a3f5f"
           }
          },
          "ternary": {
           "aaxis": {
            "gridcolor": "white",
            "linecolor": "white",
            "ticks": ""
           },
           "baxis": {
            "gridcolor": "white",
            "linecolor": "white",
            "ticks": ""
           },
           "bgcolor": "#E5ECF6",
           "caxis": {
            "gridcolor": "white",
            "linecolor": "white",
            "ticks": ""
           }
          },
          "title": {
           "x": 0.05
          },
          "xaxis": {
           "automargin": true,
           "gridcolor": "white",
           "linecolor": "white",
           "ticks": "",
           "title": {
            "standoff": 15
           },
           "zerolinecolor": "white",
           "zerolinewidth": 2
          },
          "yaxis": {
           "automargin": true,
           "gridcolor": "white",
           "linecolor": "white",
           "ticks": "",
           "title": {
            "standoff": 15
           },
           "zerolinecolor": "white",
           "zerolinewidth": 2
          }
         }
        },
        "xaxis": {
         "anchor": "y",
         "domain": [
          0,
          1
         ],
         "title": {
          "text": "RecallMean"
         }
        },
        "yaxis": {
         "anchor": "x",
         "domain": [
          0,
          1
         ],
         "title": {
          "text": "SearchSpeedAverage"
         }
        }
       }
      },
      "text/html": [
       "<div>                            <div id=\"01e58eb3-b570-412e-81de-3f42349d374f\" class=\"plotly-graph-div\" style=\"height:525px; width:100%;\"></div>            <script type=\"text/javascript\">                require([\"plotly\"], function(Plotly) {                    window.PLOTLYENV=window.PLOTLYENV || {};                                    if (document.getElementById(\"01e58eb3-b570-412e-81de-3f42349d374f\")) {                    Plotly.newPlot(                        \"01e58eb3-b570-412e-81de-3f42349d374f\",                        [{\"customdata\":[[\"index: milvus IVF, n_partition=64, None, L2\",1796.068,1203.7505384615388,\"sift-128-euclidean\"],[\"index: milvus IVF, n_partition=128, None, L2\",1692.49,1226.1940769230769,\"sift-128-euclidean\"],[\"index: milvus IVF, n_partition=256, None, L2\",1433.844,1249.2816153846154,\"sift-128-euclidean\"],[\"index: milvus IVF, n_partition=512, None, L2\",1447.148,1751.8659333333335,\"sift-128-euclidean\"],[\"index: milvus IVF, n_partition=1024, None, L2\",1625.72,1823.8838235294115,\"sift-128-euclidean\"],[\"index: milvus IVF, n_partition=2048, None, L2\",1459.89,1920.7698,\"sift-128-euclidean\"],[\"index: milvus IVF, n_partition=4096, None, L2\",3026.032,1386.330382978723,\"sift-128-euclidean\"],[\"index: milvus IVF, n_partition=64, None, L2\",1732.498,1268.2131,\"sift-128-euclidean\"],[\"index: milvus IVF, n_partition=128, None, L2\",1716.32,1092.08,\"sift-128-euclidean\"],[\"index: milvus IVF, n_partition=256, None, L2\",1668.022,1094.8655555555556,\"sift-128-euclidean\"],[\"index: milvus IVF, n_partition=512, None, L2\",1651.116,1234.436,\"sift-128-euclidean\"],[\"index: milvus IVF, n_partition=1024, None, L2\",1764.024,1762.4308,\"sift-128-euclidean\"],[\"index: milvus IVF, n_partition=1024, None, L2\",3040.36,2154.16256,\"sift-128-euclidean\"],[\"index: milvus IVF, n_partition=1024, None, L2\",1462.17,1707.3045384615386,\"sift-128-euclidean\"],[\"index: milvus IVF, n_partition=1024, None, L2\",2000.76,1803.2654074074076,\"sift-128-euclidean\"],[\"index: milvus IVF, n_partition=1024, None, L2\",1443.622,1845.2105806451607,\"sift-128-euclidean\"],[\"index: milvus IVF, n_partition=1024, None, L2\",1551.1,1659.60705,\"sift-128-euclidean\"],[\"index: milvus HNSW, M=4, ef_construction=32, ef_search=128, None, L2\",1526.3719999999998,1305.4644444444446,\"sift-128-euclidean\"],[\"index: milvus HNSW, M=8, ef_construction=32, ef_search=128, None, L2\",1452.396,1373.609777777778,\"sift-128-euclidean\"],[\"index: milvus HNSW, M=16, ef_construction=32, ef_search=128, None, L2\",1628.146,1522.3716,\"sift-128-euclidean\"],[\"index: milvus HNSW, M=32, ef_construction=32, ef_search=128, None, L2\",1704.748,1702.828095238095,\"sift-128-euclidean\"],[\"index: milvus HNSW, M=64, ef_construction=32, ef_search=128, None, L2\",1944.312,2667.359741935484,\"sift-128-euclidean\"]],\"hovertemplate\":\"IndexProvider=milvus<br>Dataset=%{customdata[3]}<br>RecallMean=%{x}<br>SearchSpeedAverage=%{y}<br>BenchmarkingMean=%{customdata[2]}<br>Index=%{customdata[0]}<br>IngestingMax=%{customdata[1]}<extra></extra>\",\"legendgroup\":\"milvus, sift-128-euclidean\",\"marker\":{\"color\":\"#636efa\",\"size\":[1203.7505384615388,1226.1940769230769,1249.2816153846154,1751.8659333333335,1823.8838235294115,1920.7698,1386.330382978723,1268.2131,1092.08,1094.8655555555556,1234.436,1762.4308,2154.16256,1707.3045384615386,1803.2654074074076,1845.2105806451607,1659.60705,1305.4644444444446,1373.609777777778,1522.3716,1702.828095238095,2667.359741935484],\"sizemode\":\"area\",\"sizeref\":6.66839935483871,\"symbol\":\"circle\"},\"mode\":\"markers\",\"name\":\"milvus, sift-128-euclidean\",\"orientation\":\"v\",\"showlegend\":true,\"x\":[0.982151,0.991873,0.995921,0.998081,0.99903,0.999511,0.999775,0.5750820000000001,0.497288,0.4316799999999999,0.36709,0.31382,0.31042,0.6296610000000001,0.895293,0.991313,0.999888,0.79338,0.939502,0.9630960000000002,0.968492,0.989694],\"xaxis\":\"x\",\"y\":[2.3203213165979832,2.218690173793584,2.3670894992304965,2.6178081256803125,2.8575592659180984,3.588178235432133,4.520539335091598,1.0031524612102658,0.9601799969328568,0.9092740745749324,0.8427467510802671,1.059386710403487,1.0360999531811104,1.2090958951739594,1.2739605403039604,2.2110247837146746,4.395518744783476,0.8706961893942207,0.9208828767295928,0.9957617650041356,1.2368682492990046,1.8146634995238853],\"yaxis\":\"y\",\"type\":\"scatter\"}],                        {\"template\":{\"data\":{\"histogram2dcontour\":[{\"type\":\"histogram2dcontour\",\"colorbar\":{\"outlinewidth\":0,\"ticks\":\"\"},\"colorscale\":[[0.0,\"#0d0887\"],[0.1111111111111111,\"#46039f\"],[0.2222222222222222,\"#7201a8\"],[0.3333333333333333,\"#9c179e\"],[0.4444444444444444,\"#bd3786\"],[0.5555555555555556,\"#d8576b\"],[0.6666666666666666,\"#ed7953\"],[0.7777777777777778,\"#fb9f3a\"],[0.8888888888888888,\"#fdca26\"],[1.0,\"#f0f921\"]]}],\"choropleth\":[{\"type\":\"choropleth\",\"colorbar\":{\"outlinewidth\":0,\"ticks\":\"\"}}],\"histogram2d\":[{\"type\":\"histogram2d\",\"colorbar\":{\"outlinewidth\":0,\"ticks\":\"\"},\"colorscale\":[[0.0,\"#0d0887\"],[0.1111111111111111,\"#46039f\"],[0.2222222222222222,\"#7201a8\"],[0.3333333333333333,\"#9c179e\"],[0.4444444444444444,\"#bd3786\"],[0.5555555555555556,\"#d8576b\"],[0.6666666666666666,\"#ed7953\"],[0.7777777777777778,\"#fb9f3a\"],[0.8888888888888888,\"#fdca26\"],[1.0,\"#f0f921\"]]}],\"heatmap\":[{\"type\":\"heatmap\",\"colorbar\":{\"outlinewidth\":0,\"ticks\":\"\"},\"colorscale\":[[0.0,\"#0d0887\"],[0.1111111111111111,\"#46039f\"],[0.2222222222222222,\"#7201a8\"],[0.3333333333333333,\"#9c179e\"],[0.4444444444444444,\"#bd3786\"],[0.5555555555555556,\"#d8576b\"],[0.6666666666666666,\"#ed7953\"],[0.7777777777777778,\"#fb9f3a\"],[0.8888888888888888,\"#fdca26\"],[1.0,\"#f0f921\"]]}],\"heatmapgl\":[{\"type\":\"heatmapgl\",\"colorbar\":{\"outlinewidth\":0,\"ticks\":\"\"},\"colorscale\":[[0.0,\"#0d0887\"],[0.1111111111111111,\"#46039f\"],[0.2222222222222222,\"#7201a8\"],[0.3333333333333333,\"#9c179e\"],[0.4444444444444444,\"#bd3786\"],[0.5555555555555556,\"#d8576b\"],[0.6666666666666666,\"#ed7953\"],[0.7777777777777778,\"#fb9f3a\"],[0.8888888888888888,\"#fdca26\"],[1.0,\"#f0f921\"]]}],\"contourcarpet\":[{\"type\":\"contourcarpet\",\"colorbar\":{\"outlinewidth\":0,\"ticks\":\"\"}}],\"contour\":[{\"type\":\"contour\",\"colorbar\":{\"outlinewidth\":0,\"ticks\":\"\"},\"colorscale\":[[0.0,\"#0d0887\"],[0.1111111111111111,\"#46039f\"],[0.2222222222222222,\"#7201a8\"],[0.3333333333333333,\"#9c179e\"],[0.4444444444444444,\"#bd3786\"],[0.5555555555555556,\"#d8576b\"],[0.6666666666666666,\"#ed7953\"],[0.7777777777777778,\"#fb9f3a\"],[0.8888888888888888,\"#fdca26\"],[1.0,\"#f0f921\"]]}],\"surface\":[{\"type\":\"surface\",\"colorbar\":{\"outlinewidth\":0,\"ticks\":\"\"},\"colorscale\":[[0.0,\"#0d0887\"],[0.1111111111111111,\"#46039f\"],[0.2222222222222222,\"#7201a8\"],[0.3333333333333333,\"#9c179e\"],[0.4444444444444444,\"#bd3786\"],[0.5555555555555556,\"#d8576b\"],[0.6666666666666666,\"#ed7953\"],[0.7777777777777778,\"#fb9f3a\"],[0.8888888888888888,\"#fdca26\"],[1.0,\"#f0f921\"]]}],\"mesh3d\":[{\"type\":\"mesh3d\",\"colorbar\":{\"outlinewidth\":0,\"ticks\":\"\"}}],\"scatter\":[{\"fillpattern\":{\"fillmode\":\"overlay\",\"size\":10,\"solidity\":0.2},\"type\":\"scatter\"}],\"parcoords\":[{\"type\":\"parcoords\",\"line\":{\"colorbar\":{\"outlinewidth\":0,\"ticks\":\"\"}}}],\"scatterpolargl\":[{\"type\":\"scatterpolargl\",\"marker\":{\"colorbar\":{\"outlinewidth\":0,\"ticks\":\"\"}}}],\"bar\":[{\"error_x\":{\"color\":\"#2a3f5f\"},\"error_y\":{\"color\":\"#2a3f5f\"},\"marker\":{\"line\":{\"color\":\"#E5ECF6\",\"width\":0.5},\"pattern\":{\"fillmode\":\"overlay\",\"size\":10,\"solidity\":0.2}},\"type\":\"bar\"}],\"scattergeo\":[{\"type\":\"scattergeo\",\"marker\":{\"colorbar\":{\"outlinewidth\":0,\"ticks\":\"\"}}}],\"scatterpolar\":[{\"type\":\"scatterpolar\",\"marker\":{\"colorbar\":{\"outlinewidth\":0,\"ticks\":\"\"}}}],\"histogram\":[{\"marker\":{\"pattern\":{\"fillmode\":\"overlay\",\"size\":10,\"solidity\":0.2}},\"type\":\"histogram\"}],\"scattergl\":[{\"type\":\"scattergl\",\"marker\":{\"colorbar\":{\"outlinewidth\":0,\"ticks\":\"\"}}}],\"scatter3d\":[{\"type\":\"scatter3d\",\"line\":{\"colorbar\":{\"outlinewidth\":0,\"ticks\":\"\"}},\"marker\":{\"colorbar\":{\"outlinewidth\":0,\"ticks\":\"\"}}}],\"scattermapbox\":[{\"type\":\"scattermapbox\",\"marker\":{\"colorbar\":{\"outlinewidth\":0,\"ticks\":\"\"}}}],\"scatterternary\":[{\"type\":\"scatterternary\",\"marker\":{\"colorbar\":{\"outlinewidth\":0,\"ticks\":\"\"}}}],\"scattercarpet\":[{\"type\":\"scattercarpet\",\"marker\":{\"colorbar\":{\"outlinewidth\":0,\"ticks\":\"\"}}}],\"carpet\":[{\"aaxis\":{\"endlinecolor\":\"#2a3f5f\",\"gridcolor\":\"white\",\"linecolor\":\"white\",\"minorgridcolor\":\"white\",\"startlinecolor\":\"#2a3f5f\"},\"baxis\":{\"endlinecolor\":\"#2a3f5f\",\"gridcolor\":\"white\",\"linecolor\":\"white\",\"minorgridcolor\":\"white\",\"startlinecolor\":\"#2a3f5f\"},\"type\":\"carpet\"}],\"table\":[{\"cells\":{\"fill\":{\"color\":\"#EBF0F8\"},\"line\":{\"color\":\"white\"}},\"header\":{\"fill\":{\"color\":\"#C8D4E3\"},\"line\":{\"color\":\"white\"}},\"type\":\"table\"}],\"barpolar\":[{\"marker\":{\"line\":{\"color\":\"#E5ECF6\",\"width\":0.5},\"pattern\":{\"fillmode\":\"overlay\",\"size\":10,\"solidity\":0.2}},\"type\":\"barpolar\"}],\"pie\":[{\"automargin\":true,\"type\":\"pie\"}]},\"layout\":{\"autotypenumbers\":\"strict\",\"colorway\":[\"#636efa\",\"#EF553B\",\"#00cc96\",\"#ab63fa\",\"#FFA15A\",\"#19d3f3\",\"#FF6692\",\"#B6E880\",\"#FF97FF\",\"#FECB52\"],\"font\":{\"color\":\"#2a3f5f\"},\"hovermode\":\"closest\",\"hoverlabel\":{\"align\":\"left\"},\"paper_bgcolor\":\"white\",\"plot_bgcolor\":\"#E5ECF6\",\"polar\":{\"bgcolor\":\"#E5ECF6\",\"angularaxis\":{\"gridcolor\":\"white\",\"linecolor\":\"white\",\"ticks\":\"\"},\"radialaxis\":{\"gridcolor\":\"white\",\"linecolor\":\"white\",\"ticks\":\"\"}},\"ternary\":{\"bgcolor\":\"#E5ECF6\",\"aaxis\":{\"gridcolor\":\"white\",\"linecolor\":\"white\",\"ticks\":\"\"},\"baxis\":{\"gridcolor\":\"white\",\"linecolor\":\"white\",\"ticks\":\"\"},\"caxis\":{\"gridcolor\":\"white\",\"linecolor\":\"white\",\"ticks\":\"\"}},\"coloraxis\":{\"colorbar\":{\"outlinewidth\":0,\"ticks\":\"\"}},\"colorscale\":{\"sequential\":[[0.0,\"#0d0887\"],[0.1111111111111111,\"#46039f\"],[0.2222222222222222,\"#7201a8\"],[0.3333333333333333,\"#9c179e\"],[0.4444444444444444,\"#bd3786\"],[0.5555555555555556,\"#d8576b\"],[0.6666666666666666,\"#ed7953\"],[0.7777777777777778,\"#fb9f3a\"],[0.8888888888888888,\"#fdca26\"],[1.0,\"#f0f921\"]],\"sequentialminus\":[[0.0,\"#0d0887\"],[0.1111111111111111,\"#46039f\"],[0.2222222222222222,\"#7201a8\"],[0.3333333333333333,\"#9c179e\"],[0.4444444444444444,\"#bd3786\"],[0.5555555555555556,\"#d8576b\"],[0.6666666666666666,\"#ed7953\"],[0.7777777777777778,\"#fb9f3a\"],[0.8888888888888888,\"#fdca26\"],[1.0,\"#f0f921\"]],\"diverging\":[[0,\"#8e0152\"],[0.1,\"#c51b7d\"],[0.2,\"#de77ae\"],[0.3,\"#f1b6da\"],[0.4,\"#fde0ef\"],[0.5,\"#f7f7f7\"],[0.6,\"#e6f5d0\"],[0.7,\"#b8e186\"],[0.8,\"#7fbc41\"],[0.9,\"#4d9221\"],[1,\"#276419\"]]},\"xaxis\":{\"gridcolor\":\"white\",\"linecolor\":\"white\",\"ticks\":\"\",\"title\":{\"standoff\":15},\"zerolinecolor\":\"white\",\"automargin\":true,\"zerolinewidth\":2},\"yaxis\":{\"gridcolor\":\"white\",\"linecolor\":\"white\",\"ticks\":\"\",\"title\":{\"standoff\":15},\"zerolinecolor\":\"white\",\"automargin\":true,\"zerolinewidth\":2},\"scene\":{\"xaxis\":{\"backgroundcolor\":\"#E5ECF6\",\"gridcolor\":\"white\",\"linecolor\":\"white\",\"showbackground\":true,\"ticks\":\"\",\"zerolinecolor\":\"white\",\"gridwidth\":2},\"yaxis\":{\"backgroundcolor\":\"#E5ECF6\",\"gridcolor\":\"white\",\"linecolor\":\"white\",\"showbackground\":true,\"ticks\":\"\",\"zerolinecolor\":\"white\",\"gridwidth\":2},\"zaxis\":{\"backgroundcolor\":\"#E5ECF6\",\"gridcolor\":\"white\",\"linecolor\":\"white\",\"showbackground\":true,\"ticks\":\"\",\"zerolinecolor\":\"white\",\"gridwidth\":2}},\"shapedefaults\":{\"line\":{\"color\":\"#2a3f5f\"}},\"annotationdefaults\":{\"arrowcolor\":\"#2a3f5f\",\"arrowhead\":0,\"arrowwidth\":1},\"geo\":{\"bgcolor\":\"white\",\"landcolor\":\"#E5ECF6\",\"subunitcolor\":\"white\",\"showland\":true,\"showlakes\":true,\"lakecolor\":\"white\"},\"title\":{\"x\":0.05},\"mapbox\":{\"style\":\"light\"}}},\"xaxis\":{\"anchor\":\"y\",\"domain\":[0.0,1.0],\"title\":{\"text\":\"RecallMean\"}},\"yaxis\":{\"anchor\":\"x\",\"domain\":[0.0,1.0],\"title\":{\"text\":\"SearchSpeedAverage\"}},\"legend\":{\"title\":{\"text\":\"IndexProvider, Dataset\"},\"tracegroupgap\":0,\"itemsizing\":\"constant\"},\"margin\":{\"t\":60}},                        {\"responsive\": true}                    ).then(function(){\n",
       "                            \n",
       "var gd = document.getElementById('01e58eb3-b570-412e-81de-3f42349d374f');\n",
       "var x = new MutationObserver(function (mutations, observer) {{\n",
       "        var display = window.getComputedStyle(gd).display;\n",
       "        if (!display || display === 'none') {{\n",
       "            console.log([gd, 'removed!']);\n",
       "            Plotly.purge(gd);\n",
       "            observer.disconnect();\n",
       "        }}\n",
       "}});\n",
       "\n",
       "// Listen for the removal of the full notebook cells\n",
       "var notebookContainer = gd.closest('#notebook-container');\n",
       "if (notebookContainer) {{\n",
       "    x.observe(notebookContainer, {childList: true});\n",
       "}}\n",
       "\n",
       "// Listen for the clearing of the current output cell\n",
       "var outputEl = gd.closest('.output');\n",
       "if (outputEl) {{\n",
       "    x.observe(outputEl, {childList: true});\n",
       "}}\n",
       "\n",
       "                        })                };                });            </script>        </div>"
      ]
     },
     "metadata": {},
     "output_type": "display_data"
    }
   ],
   "source": [
    "import plotly.express as px\n",
    "import plotly.graph_objects as go\n",
    "\n",
    "# Your existing DataFrame and plot\n",
    "fig = px.scatter(\n",
    "    df_results,\n",
    "    x=\"RecallMean\",\n",
    "    y=\"SearchSpeedAverage\",\n",
    "    hover_data=[\"Index\",\"IngestingMax\",\"BenchmarkingMean\",\"Dataset\"],\n",
    "    color=\"IndexProvider\",\n",
    "    size=df_results[\"BenchmarkingMean\"],\n",
    "    symbol=\"Dataset\"\n",
    ")\n",
    "\n",
    "# # Adding a similar scatter plot but with semi-transparency and different size mapping\n",
    "# fig.add_trace(\n",
    "#     go.Scatter(\n",
    "#         x=df_results[\"Recall avg\"],\n",
    "#         y=df_results[\"Search speed avg. (ms)\"],\n",
    "#         mode=\"markers\",\n",
    "#         marker=dict(\n",
    "#             size=df_results[\"ingesting_max\"] / 25,  # Size based on 'ingesting_max' column\n",
    "#             opacity=0.1,  # Semi-transparent markers\n",
    "#             # color=fig.data[0].marker.color,  # Use the same color as the first plot\n",
    "#             # line=dict(color=\"MediumPurple\", width=2),\n",
    "#         ),\n",
    "#         hoverinfo=\"text\",  # You can customize hover info as needed\n",
    "#         name=\"Ingesting max\",\n",
    "#     )\n",
    "# )\n",
    "\n",
    "fig.show()"
   ]
  },
  {
   "cell_type": "code",
   "execution_count": 37,
   "metadata": {},
   "outputs": [
    {
     "data": {
      "text/html": [
       "<div>\n",
       "<style scoped>\n",
       "    .dataframe tbody tr th:only-of-type {\n",
       "        vertical-align: middle;\n",
       "    }\n",
       "\n",
       "    .dataframe tbody tr th {\n",
       "        vertical-align: top;\n",
       "    }\n",
       "\n",
       "    .dataframe thead th {\n",
       "        text-align: right;\n",
       "    }\n",
       "</style>\n",
       "<table border=\"1\" class=\"dataframe\">\n",
       "  <thead>\n",
       "    <tr style=\"text-align: right;\">\n",
       "      <th></th>\n",
       "      <th>Unnamed: 0</th>\n",
       "      <th>Dataset</th>\n",
       "      <th>Index</th>\n",
       "      <th>IndexParameters</th>\n",
       "      <th>TimerMasterMean</th>\n",
       "      <th>TimerServerStartupMean</th>\n",
       "      <th>TimerBuildIndexMean</th>\n",
       "      <th>SearchSpeedAverage</th>\n",
       "      <th>SearchSpeedP95</th>\n",
       "      <th>RecallMean</th>\n",
       "      <th>...</th>\n",
       "      <th>BenchmarkingMax</th>\n",
       "      <th>BenchmarkingMean</th>\n",
       "      <th>IndexProvider</th>\n",
       "      <th>IndexType</th>\n",
       "      <th>Compression</th>\n",
       "      <th>EfConstruction</th>\n",
       "      <th>EfSearch</th>\n",
       "      <th>M</th>\n",
       "      <th>Metric</th>\n",
       "      <th>NPartitions</th>\n",
       "    </tr>\n",
       "  </thead>\n",
       "  <tbody>\n",
       "  </tbody>\n",
       "</table>\n",
       "<p>0 rows × 28 columns</p>\n",
       "</div>"
      ],
      "text/plain": [
       "Empty DataFrame\n",
       "Columns: [Unnamed: 0, Dataset, Index, IndexParameters, TimerMasterMean, TimerServerStartupMean, TimerBuildIndexMean, SearchSpeedAverage, SearchSpeedP95, RecallMean, RecallAt1Mean, RecallAt10Mean, RecallAt100Mean, RecallAt1000Mean, BaselineMax, BaselineMean, IngestingMax, IngestingMean, BenchmarkingMax, BenchmarkingMean, IndexProvider, IndexType, Compression, EfConstruction, EfSearch, M, Metric, NPartitions]\n",
       "Index: []\n",
       "\n",
       "[0 rows x 28 columns]"
      ]
     },
     "execution_count": 37,
     "metadata": {},
     "output_type": "execute_result"
    }
   ],
   "source": [
    "df_results.query(\"Dataset == 'gist-960-euclidean'\")"
   ]
  },
  {
   "cell_type": "markdown",
   "metadata": {},
   "source": [
    "### Compression plot"
   ]
  },
  {
   "cell_type": "code",
   "execution_count": 38,
   "metadata": {},
   "outputs": [
    {
     "data": {
      "image/png": "[encoded data removed]",
      "text/plain": [
       "<Figure size 640x480 with 1 Axes>"
      ]
     },
     "metadata": {},
     "output_type": "display_data"
    }
   ],
   "source": [
    "df_plot = df_results.query(\"Compression == 'SQ8'\")\n",
    "plt.scatter(df_plot.NPartitions, df_plot.SearchSpeedAverage/10, label=\"SQ8\", c=\"red\")\n",
    "df_plot = df_results.query(\"Compression == 'PQ8'\")\n",
    "plt.scatter(df_plot.NPartitions, df_plot.SearchSpeedAverage / 10, label=\"PQ8\")\n",
    "plt.title(\"Faiss IVF SQ8 - latency vs n partitions\")\n",
    "plt.xlabel(\"n partitions\")\n",
    "plt.ylabel(\"Mean search latency (ms)\")\n",
    "plt.legend()\n",
    "plt.show()"
   ]
  },
  {
   "cell_type": "markdown",
   "metadata": {},
   "source": [
    "### n partitions plot"
   ]
  },
  {
   "cell_type": "code",
   "execution_count": 39,
   "metadata": {},
   "outputs": [
    {
     "data": {
      "image/png": "[encoded data removed]",
      "text/plain": [
       "<Figure size 600x400 with 1 Axes>"
      ]
     },
     "metadata": {},
     "output_type": "display_data"
    }
   ],
   "source": [
    "import seaborn as sns\n",
    "\n",
    "plt.figure(figsize=(6,4))\n",
    "sns.scatterplot(data=df_results, x=\"NPartitions\", y=\"SearchSpeedAverage\", hue=\"BenchmarkingMean\", style=\"Compression\", palette=\"flare\", s=70)\n",
    "plt.title(\"Faiss IVF SQ8 - latency vs n partitions\")\n",
    "plt.xlabel(\"n partitions\")\n",
    "plt.ylabel(\"Mean search latency (ms)\")\n",
    "plt.show()"
   ]
  },
  {
   "cell_type": "code",
   "execution_count": 40,
   "metadata": {},
   "outputs": [
    {
     "data": {
      "text/plain": [
       "Index(['Unnamed: 0', 'Dataset', 'Index', 'IndexParameters', 'TimerMasterMean',\n",
       "       'TimerServerStartupMean', 'TimerBuildIndexMean', 'SearchSpeedAverage',\n",
       "       'SearchSpeedP95', 'RecallMean', 'RecallAt1Mean', 'RecallAt10Mean',\n",
       "       'RecallAt100Mean', 'RecallAt1000Mean', 'BaselineMax', 'BaselineMean',\n",
       "       'IngestingMax', 'IngestingMean', 'BenchmarkingMax', 'BenchmarkingMean',\n",
       "       'IndexProvider', 'IndexType', 'Compression', 'EfConstruction',\n",
       "       'EfSearch', 'M', 'Metric', 'NPartitions'],\n",
       "      dtype='object')"
      ]
     },
     "execution_count": 40,
     "metadata": {},
     "output_type": "execute_result"
    }
   ],
   "source": [
    "df_results.columns"
   ]
  },
  {
   "cell_type": "markdown",
   "metadata": {},
   "source": [
    "### n partions plot again"
   ]
  },
  {
   "cell_type": "code",
   "execution_count": 41,
   "metadata": {},
   "outputs": [
    {
     "data": {
      "image/png": "[encoded data removed]",
      "text/plain": [
       "<Figure size 600x400 with 1 Axes>"
      ]
     },
     "metadata": {},
     "output_type": "display_data"
    }
   ],
   "source": [
    "import seaborn as sns\n",
    "\n",
    "plt.figure(figsize=(6, 4))\n",
    "sns.scatterplot(\n",
    "    data=df_results,\n",
    "    x=\"NPartitions\",\n",
    "    y=\"TimerBuildIndexMean\",\n",
    "    hue=\"BenchmarkingMean\",\n",
    "    style=\"Compression\",\n",
    "    palette=\"flare\",\n",
    "    s=70,\n",
    ")\n",
    "plt.title(\"Faiss IVF SQ8 - latency vs n partitions\")\n",
    "plt.xlabel(\"n partitions\")\n",
    "plt.ylabel(\"Index build speed (s)\")\n",
    "plt.show()"
   ]
  },
  {
   "cell_type": "code",
   "execution_count": 42,
   "metadata": {},
   "outputs": [
    {
     "data": {
      "text/plain": [
       "Index(['Unnamed: 0', 'Dataset', 'Index', 'IndexParameters', 'TimerMasterMean',\n",
       "       'TimerServerStartupMean', 'TimerBuildIndexMean', 'SearchSpeedAverage',\n",
       "       'SearchSpeedP95', 'RecallMean', 'RecallAt1Mean', 'RecallAt10Mean',\n",
       "       'RecallAt100Mean', 'RecallAt1000Mean', 'BaselineMax', 'BaselineMean',\n",
       "       'IngestingMax', 'IngestingMean', 'BenchmarkingMax', 'BenchmarkingMean',\n",
       "       'IndexProvider', 'IndexType', 'Compression', 'EfConstruction',\n",
       "       'EfSearch', 'M', 'Metric', 'NPartitions'],\n",
       "      dtype='object')"
      ]
     },
     "execution_count": 42,
     "metadata": {},
     "output_type": "execute_result"
    }
   ],
   "source": [
    "df_results.columns"
   ]
  },
  {
   "cell_type": "code",
   "execution_count": 43,
   "metadata": {},
   "outputs": [
    {
     "data": {
      "image/png": "[encoded data removed]",
      "text/plain": [
       "<Figure size 640x480 with 1 Axes>"
      ]
     },
     "metadata": {},
     "output_type": "display_data"
    }
   ],
   "source": [
    "import seaborn as sns\n",
    "\n",
    "# plt.figure(figsize=(6, 4))\n",
    "sns.scatterplot(\n",
    "    data=df_results,\n",
    "    x=\"SearchSpeedAverage\",\n",
    "    y=\"RecallMean\",\n",
    "    style=\"Dataset\",\n",
    "    hue=\"TimerBuildIndexMean\",\n",
    "    palette=\"flare\",\n",
    "    s=70,\n",
    ")\n",
    "plt.title(\"Faiss IVF SQ8 - latency vs n partitions\")\n",
    "plt.ylabel(\"Recall\")\n",
    "plt.xlabel(\"Search speed (ms)\")\n",
    "plt.show()"
   ]
  },
  {
   "cell_type": "code",
   "execution_count": 47,
   "metadata": {},
   "outputs": [
    {
     "data": {
      "image/png": "[encoded data removed]",
      "text/plain": [
       "<Figure size 640x480 with 1 Axes>"
      ]
     },
     "metadata": {},
     "output_type": "display_data"
    }
   ],
   "source": [
    "df_plot = df_results.query(\"Dataset == 'glove-25-angular'\")\n",
    "\n",
    "# plt.figure(figsize=(6, 4))\n",
    "sns.scatterplot(\n",
    "    data=df_plot,\n",
    "    x=\"SearchSpeedAverage\",\n",
    "    y=\"RecallMean\",\n",
    "    style=\"Metric\",\n",
    "    hue=\"TimerBuildIndexMean\",\n",
    "    # palette=\"flare\",\n",
    "    s=70,\n",
    ")\n",
    "plt.ylabel(\"Recall\")\n",
    "plt.xlabel(\"Search speed (ms)\")\n",
    "plt.show()"
   ]
  },
  {
   "cell_type": "code",
   "execution_count": 48,
   "metadata": {},
   "outputs": [
    {
     "data": {
      "text/html": [
       "<div>\n",
       "<style scoped>\n",
       "    .dataframe tbody tr th:only-of-type {\n",
       "        vertical-align: middle;\n",
       "    }\n",
       "\n",
       "    .dataframe tbody tr th {\n",
       "        vertical-align: top;\n",
       "    }\n",
       "\n",
       "    .dataframe thead th {\n",
       "        text-align: right;\n",
       "    }\n",
       "</style>\n",
       "<table border=\"1\" class=\"dataframe\">\n",
       "  <thead>\n",
       "    <tr style=\"text-align: right;\">\n",
       "      <th></th>\n",
       "      <th>Unnamed: 0</th>\n",
       "      <th>Dataset</th>\n",
       "      <th>Index</th>\n",
       "      <th>IndexParameters</th>\n",
       "      <th>TimerMasterMean</th>\n",
       "      <th>TimerServerStartupMean</th>\n",
       "      <th>TimerBuildIndexMean</th>\n",
       "      <th>SearchSpeedAverage</th>\n",
       "      <th>SearchSpeedP95</th>\n",
       "      <th>RecallMean</th>\n",
       "      <th>...</th>\n",
       "      <th>BenchmarkingMax</th>\n",
       "      <th>BenchmarkingMean</th>\n",
       "      <th>IndexProvider</th>\n",
       "      <th>IndexType</th>\n",
       "      <th>Compression</th>\n",
       "      <th>EfConstruction</th>\n",
       "      <th>EfSearch</th>\n",
       "      <th>M</th>\n",
       "      <th>Metric</th>\n",
       "      <th>NPartitions</th>\n",
       "    </tr>\n",
       "  </thead>\n",
       "  <tbody>\n",
       "  </tbody>\n",
       "</table>\n",
       "<p>0 rows × 28 columns</p>\n",
       "</div>"
      ],
      "text/plain": [
       "Empty DataFrame\n",
       "Columns: [Unnamed: 0, Dataset, Index, IndexParameters, TimerMasterMean, TimerServerStartupMean, TimerBuildIndexMean, SearchSpeedAverage, SearchSpeedP95, RecallMean, RecallAt1Mean, RecallAt10Mean, RecallAt100Mean, RecallAt1000Mean, BaselineMax, BaselineMean, IngestingMax, IngestingMean, BenchmarkingMax, BenchmarkingMean, IndexProvider, IndexType, Compression, EfConstruction, EfSearch, M, Metric, NPartitions]\n",
       "Index: []\n",
       "\n",
       "[0 rows x 28 columns]"
      ]
     },
     "execution_count": 48,
     "metadata": {},
     "output_type": "execute_result"
    }
   ],
   "source": [
    "df_results.query('Metric == \"IP\" and Dataset == \"glove-25-angular\"')"
   ]
  },
  {
   "cell_type": "code",
   "execution_count": 50,
   "metadata": {},
   "outputs": [
    {
     "ename": "ValueError",
     "evalue": "Could not interpret value `Recall avg` for parameter `x`",
     "output_type": "error",
     "traceback": [
      "\u001b[0;31m---------------------------------------------------------------------------\u001b[0m",
      "\u001b[0;31mValueError\u001b[0m                                Traceback (most recent call last)",
      "Cell \u001b[0;32mIn[50], line 4\u001b[0m\n\u001b[1;32m      1\u001b[0m df_plot \u001b[38;5;241m=\u001b[39m df_results\u001b[38;5;241m.\u001b[39mquery(\u001b[38;5;124m\"\u001b[39m\u001b[38;5;124mIndexType == \u001b[39m\u001b[38;5;124m'\u001b[39m\u001b[38;5;124mIVF\u001b[39m\u001b[38;5;124m'\u001b[39m\u001b[38;5;124m\"\u001b[39m)\n\u001b[1;32m      3\u001b[0m \u001b[38;5;66;03m# plt.figure(figsize=(6, 4))\u001b[39;00m\n\u001b[0;32m----> 4\u001b[0m \u001b[43msns\u001b[49m\u001b[38;5;241;43m.\u001b[39;49m\u001b[43mscatterplot\u001b[49m\u001b[43m(\u001b[49m\n\u001b[1;32m      5\u001b[0m \u001b[43m    \u001b[49m\u001b[43mdata\u001b[49m\u001b[38;5;241;43m=\u001b[39;49m\u001b[43mdf_plot\u001b[49m\u001b[43m,\u001b[49m\n\u001b[1;32m      6\u001b[0m \u001b[43m    \u001b[49m\u001b[43mx\u001b[49m\u001b[38;5;241;43m=\u001b[39;49m\u001b[38;5;124;43m\"\u001b[39;49m\u001b[38;5;124;43mRecall avg\u001b[39;49m\u001b[38;5;124;43m\"\u001b[39;49m\u001b[43m,\u001b[49m\n\u001b[1;32m      7\u001b[0m \u001b[43m    \u001b[49m\u001b[43my\u001b[49m\u001b[38;5;241;43m=\u001b[39;49m\u001b[38;5;124;43m\"\u001b[39;49m\u001b[38;5;124;43mSearch speed avg. (ms)\u001b[39;49m\u001b[38;5;124;43m\"\u001b[39;49m\u001b[43m,\u001b[49m\n\u001b[1;32m      8\u001b[0m \u001b[43m    \u001b[49m\u001b[43mstyle\u001b[49m\u001b[38;5;241;43m=\u001b[39;49m\u001b[38;5;124;43m\"\u001b[39;49m\u001b[38;5;124;43mMetric\u001b[39;49m\u001b[38;5;124;43m\"\u001b[39;49m\u001b[43m,\u001b[49m\n\u001b[1;32m      9\u001b[0m \u001b[43m    \u001b[49m\u001b[43mhue\u001b[49m\u001b[38;5;241;43m=\u001b[39;49m\u001b[38;5;124;43m\"\u001b[39;49m\u001b[38;5;124;43mIndexProvider\u001b[39;49m\u001b[38;5;124;43m\"\u001b[39;49m\u001b[43m,\u001b[49m\n\u001b[1;32m     10\u001b[0m \u001b[43m    \u001b[49m\u001b[43mpalette\u001b[49m\u001b[38;5;241;43m=\u001b[39;49m\u001b[38;5;124;43m\"\u001b[39;49m\u001b[38;5;124;43mflare\u001b[39;49m\u001b[38;5;124;43m\"\u001b[39;49m\u001b[43m,\u001b[49m\n\u001b[1;32m     11\u001b[0m \u001b[43m    \u001b[49m\u001b[43ms\u001b[49m\u001b[38;5;241;43m=\u001b[39;49m\u001b[38;5;241;43m70\u001b[39;49m\u001b[43m,\u001b[49m\n\u001b[1;32m     12\u001b[0m \u001b[43m)\u001b[49m\n\u001b[1;32m     13\u001b[0m plt\u001b[38;5;241m.\u001b[39mxlabel(\u001b[38;5;124m\"\u001b[39m\u001b[38;5;124mRecall\u001b[39m\u001b[38;5;124m\"\u001b[39m)\n\u001b[1;32m     14\u001b[0m plt\u001b[38;5;241m.\u001b[39mylabel(\u001b[38;5;124m\"\u001b[39m\u001b[38;5;124mSearch speed (ms)\u001b[39m\u001b[38;5;124m\"\u001b[39m)\n",
      "File \u001b[0;32m~/.pyenv/versions/3.11.2/lib/python3.11/site-packages/seaborn/relational.py:742\u001b[0m, in \u001b[0;36mscatterplot\u001b[0;34m(data, x, y, hue, size, style, palette, hue_order, hue_norm, sizes, size_order, size_norm, markers, style_order, legend, ax, **kwargs)\u001b[0m\n\u001b[1;32m    732\u001b[0m \u001b[38;5;28;01mdef\u001b[39;00m \u001b[38;5;21mscatterplot\u001b[39m(\n\u001b[1;32m    733\u001b[0m     data\u001b[38;5;241m=\u001b[39m\u001b[38;5;28;01mNone\u001b[39;00m, \u001b[38;5;241m*\u001b[39m,\n\u001b[1;32m    734\u001b[0m     x\u001b[38;5;241m=\u001b[39m\u001b[38;5;28;01mNone\u001b[39;00m, y\u001b[38;5;241m=\u001b[39m\u001b[38;5;28;01mNone\u001b[39;00m, hue\u001b[38;5;241m=\u001b[39m\u001b[38;5;28;01mNone\u001b[39;00m, size\u001b[38;5;241m=\u001b[39m\u001b[38;5;28;01mNone\u001b[39;00m, style\u001b[38;5;241m=\u001b[39m\u001b[38;5;28;01mNone\u001b[39;00m,\n\u001b[0;32m   (...)\u001b[0m\n\u001b[1;32m    738\u001b[0m     \u001b[38;5;241m*\u001b[39m\u001b[38;5;241m*\u001b[39mkwargs\n\u001b[1;32m    739\u001b[0m ):\n\u001b[1;32m    741\u001b[0m     variables \u001b[38;5;241m=\u001b[39m _ScatterPlotter\u001b[38;5;241m.\u001b[39mget_semantics(\u001b[38;5;28mlocals\u001b[39m())\n\u001b[0;32m--> 742\u001b[0m     p \u001b[38;5;241m=\u001b[39m \u001b[43m_ScatterPlotter\u001b[49m\u001b[43m(\u001b[49m\u001b[43mdata\u001b[49m\u001b[38;5;241;43m=\u001b[39;49m\u001b[43mdata\u001b[49m\u001b[43m,\u001b[49m\u001b[43m \u001b[49m\u001b[43mvariables\u001b[49m\u001b[38;5;241;43m=\u001b[39;49m\u001b[43mvariables\u001b[49m\u001b[43m,\u001b[49m\u001b[43m \u001b[49m\u001b[43mlegend\u001b[49m\u001b[38;5;241;43m=\u001b[39;49m\u001b[43mlegend\u001b[49m\u001b[43m)\u001b[49m\n\u001b[1;32m    744\u001b[0m     p\u001b[38;5;241m.\u001b[39mmap_hue(palette\u001b[38;5;241m=\u001b[39mpalette, order\u001b[38;5;241m=\u001b[39mhue_order, norm\u001b[38;5;241m=\u001b[39mhue_norm)\n\u001b[1;32m    745\u001b[0m     p\u001b[38;5;241m.\u001b[39mmap_size(sizes\u001b[38;5;241m=\u001b[39msizes, order\u001b[38;5;241m=\u001b[39msize_order, norm\u001b[38;5;241m=\u001b[39msize_norm)\n",
      "File \u001b[0;32m~/.pyenv/versions/3.11.2/lib/python3.11/site-packages/seaborn/relational.py:538\u001b[0m, in \u001b[0;36m_ScatterPlotter.__init__\u001b[0;34m(self, data, variables, legend)\u001b[0m\n\u001b[1;32m    529\u001b[0m \u001b[38;5;28;01mdef\u001b[39;00m \u001b[38;5;21m__init__\u001b[39m(\u001b[38;5;28mself\u001b[39m, \u001b[38;5;241m*\u001b[39m, data\u001b[38;5;241m=\u001b[39m\u001b[38;5;28;01mNone\u001b[39;00m, variables\u001b[38;5;241m=\u001b[39m{}, legend\u001b[38;5;241m=\u001b[39m\u001b[38;5;28;01mNone\u001b[39;00m):\n\u001b[1;32m    530\u001b[0m \n\u001b[1;32m    531\u001b[0m     \u001b[38;5;66;03m# TODO this is messy, we want the mapping to be agnostic about\u001b[39;00m\n\u001b[1;32m    532\u001b[0m     \u001b[38;5;66;03m# the kind of plot to draw, but for the time being we need to set\u001b[39;00m\n\u001b[1;32m    533\u001b[0m     \u001b[38;5;66;03m# this information so the SizeMapping can use it\u001b[39;00m\n\u001b[1;32m    534\u001b[0m     \u001b[38;5;28mself\u001b[39m\u001b[38;5;241m.\u001b[39m_default_size_range \u001b[38;5;241m=\u001b[39m (\n\u001b[1;32m    535\u001b[0m         np\u001b[38;5;241m.\u001b[39mr_[\u001b[38;5;241m.5\u001b[39m, \u001b[38;5;241m2\u001b[39m] \u001b[38;5;241m*\u001b[39m np\u001b[38;5;241m.\u001b[39msquare(mpl\u001b[38;5;241m.\u001b[39mrcParams[\u001b[38;5;124m\"\u001b[39m\u001b[38;5;124mlines.markersize\u001b[39m\u001b[38;5;124m\"\u001b[39m])\n\u001b[1;32m    536\u001b[0m     )\n\u001b[0;32m--> 538\u001b[0m     \u001b[38;5;28;43msuper\u001b[39;49m\u001b[43m(\u001b[49m\u001b[43m)\u001b[49m\u001b[38;5;241;43m.\u001b[39;49m\u001b[38;5;21;43m__init__\u001b[39;49m\u001b[43m(\u001b[49m\u001b[43mdata\u001b[49m\u001b[38;5;241;43m=\u001b[39;49m\u001b[43mdata\u001b[49m\u001b[43m,\u001b[49m\u001b[43m \u001b[49m\u001b[43mvariables\u001b[49m\u001b[38;5;241;43m=\u001b[39;49m\u001b[43mvariables\u001b[49m\u001b[43m)\u001b[49m\n\u001b[1;32m    540\u001b[0m     \u001b[38;5;28mself\u001b[39m\u001b[38;5;241m.\u001b[39mlegend \u001b[38;5;241m=\u001b[39m legend\n",
      "File \u001b[0;32m~/.pyenv/versions/3.11.2/lib/python3.11/site-packages/seaborn/_oldcore.py:640\u001b[0m, in \u001b[0;36mVectorPlotter.__init__\u001b[0;34m(self, data, variables)\u001b[0m\n\u001b[1;32m    635\u001b[0m \u001b[38;5;66;03m# var_ordered is relevant only for categorical axis variables, and may\u001b[39;00m\n\u001b[1;32m    636\u001b[0m \u001b[38;5;66;03m# be better handled by an internal axis information object that tracks\u001b[39;00m\n\u001b[1;32m    637\u001b[0m \u001b[38;5;66;03m# such information and is set up by the scale_* methods. The analogous\u001b[39;00m\n\u001b[1;32m    638\u001b[0m \u001b[38;5;66;03m# information for numeric axes would be information about log scales.\u001b[39;00m\n\u001b[1;32m    639\u001b[0m \u001b[38;5;28mself\u001b[39m\u001b[38;5;241m.\u001b[39m_var_ordered \u001b[38;5;241m=\u001b[39m {\u001b[38;5;124m\"\u001b[39m\u001b[38;5;124mx\u001b[39m\u001b[38;5;124m\"\u001b[39m: \u001b[38;5;28;01mFalse\u001b[39;00m, \u001b[38;5;124m\"\u001b[39m\u001b[38;5;124my\u001b[39m\u001b[38;5;124m\"\u001b[39m: \u001b[38;5;28;01mFalse\u001b[39;00m}  \u001b[38;5;66;03m# alt., used DefaultDict\u001b[39;00m\n\u001b[0;32m--> 640\u001b[0m \u001b[38;5;28;43mself\u001b[39;49m\u001b[38;5;241;43m.\u001b[39;49m\u001b[43massign_variables\u001b[49m\u001b[43m(\u001b[49m\u001b[43mdata\u001b[49m\u001b[43m,\u001b[49m\u001b[43m \u001b[49m\u001b[43mvariables\u001b[49m\u001b[43m)\u001b[49m\n\u001b[1;32m    642\u001b[0m \u001b[38;5;28;01mfor\u001b[39;00m var, \u001b[38;5;28mcls\u001b[39m \u001b[38;5;129;01min\u001b[39;00m \u001b[38;5;28mself\u001b[39m\u001b[38;5;241m.\u001b[39m_semantic_mappings\u001b[38;5;241m.\u001b[39mitems():\n\u001b[1;32m    643\u001b[0m \n\u001b[1;32m    644\u001b[0m     \u001b[38;5;66;03m# Create the mapping function\u001b[39;00m\n\u001b[1;32m    645\u001b[0m     map_func \u001b[38;5;241m=\u001b[39m partial(\u001b[38;5;28mcls\u001b[39m\u001b[38;5;241m.\u001b[39mmap, plotter\u001b[38;5;241m=\u001b[39m\u001b[38;5;28mself\u001b[39m)\n",
      "File \u001b[0;32m~/.pyenv/versions/3.11.2/lib/python3.11/site-packages/seaborn/_oldcore.py:701\u001b[0m, in \u001b[0;36mVectorPlotter.assign_variables\u001b[0;34m(self, data, variables)\u001b[0m\n\u001b[1;32m    699\u001b[0m \u001b[38;5;28;01melse\u001b[39;00m:\n\u001b[1;32m    700\u001b[0m     \u001b[38;5;28mself\u001b[39m\u001b[38;5;241m.\u001b[39minput_format \u001b[38;5;241m=\u001b[39m \u001b[38;5;124m\"\u001b[39m\u001b[38;5;124mlong\u001b[39m\u001b[38;5;124m\"\u001b[39m\n\u001b[0;32m--> 701\u001b[0m     plot_data, variables \u001b[38;5;241m=\u001b[39m \u001b[38;5;28;43mself\u001b[39;49m\u001b[38;5;241;43m.\u001b[39;49m\u001b[43m_assign_variables_longform\u001b[49m\u001b[43m(\u001b[49m\n\u001b[1;32m    702\u001b[0m \u001b[43m        \u001b[49m\u001b[43mdata\u001b[49m\u001b[43m,\u001b[49m\u001b[43m \u001b[49m\u001b[38;5;241;43m*\u001b[39;49m\u001b[38;5;241;43m*\u001b[39;49m\u001b[43mvariables\u001b[49m\u001b[43m,\u001b[49m\n\u001b[1;32m    703\u001b[0m \u001b[43m    \u001b[49m\u001b[43m)\u001b[49m\n\u001b[1;32m    705\u001b[0m \u001b[38;5;28mself\u001b[39m\u001b[38;5;241m.\u001b[39mplot_data \u001b[38;5;241m=\u001b[39m plot_data\n\u001b[1;32m    706\u001b[0m \u001b[38;5;28mself\u001b[39m\u001b[38;5;241m.\u001b[39mvariables \u001b[38;5;241m=\u001b[39m variables\n",
      "File \u001b[0;32m~/.pyenv/versions/3.11.2/lib/python3.11/site-packages/seaborn/_oldcore.py:938\u001b[0m, in \u001b[0;36mVectorPlotter._assign_variables_longform\u001b[0;34m(self, data, **kwargs)\u001b[0m\n\u001b[1;32m    933\u001b[0m \u001b[38;5;28;01melif\u001b[39;00m \u001b[38;5;28misinstance\u001b[39m(val, (\u001b[38;5;28mstr\u001b[39m, \u001b[38;5;28mbytes\u001b[39m)):\n\u001b[1;32m    934\u001b[0m \n\u001b[1;32m    935\u001b[0m     \u001b[38;5;66;03m# This looks like a column name but we don't know what it means!\u001b[39;00m\n\u001b[1;32m    937\u001b[0m     err \u001b[38;5;241m=\u001b[39m \u001b[38;5;124mf\u001b[39m\u001b[38;5;124m\"\u001b[39m\u001b[38;5;124mCould not interpret value `\u001b[39m\u001b[38;5;132;01m{\u001b[39;00mval\u001b[38;5;132;01m}\u001b[39;00m\u001b[38;5;124m` for parameter `\u001b[39m\u001b[38;5;132;01m{\u001b[39;00mkey\u001b[38;5;132;01m}\u001b[39;00m\u001b[38;5;124m`\u001b[39m\u001b[38;5;124m\"\u001b[39m\n\u001b[0;32m--> 938\u001b[0m     \u001b[38;5;28;01mraise\u001b[39;00m \u001b[38;5;167;01mValueError\u001b[39;00m(err)\n\u001b[1;32m    940\u001b[0m \u001b[38;5;28;01melse\u001b[39;00m:\n\u001b[1;32m    941\u001b[0m \n\u001b[1;32m    942\u001b[0m     \u001b[38;5;66;03m# Otherwise, assume the value is itself data\u001b[39;00m\n\u001b[1;32m    943\u001b[0m \n\u001b[1;32m    944\u001b[0m     \u001b[38;5;66;03m# Raise when data object is present and a vector can't matched\u001b[39;00m\n\u001b[1;32m    945\u001b[0m     \u001b[38;5;28;01mif\u001b[39;00m \u001b[38;5;28misinstance\u001b[39m(data, pd\u001b[38;5;241m.\u001b[39mDataFrame) \u001b[38;5;129;01mand\u001b[39;00m \u001b[38;5;129;01mnot\u001b[39;00m \u001b[38;5;28misinstance\u001b[39m(val, pd\u001b[38;5;241m.\u001b[39mSeries):\n",
      "\u001b[0;31mValueError\u001b[0m: Could not interpret value `Recall avg` for parameter `x`"
     ]
    }
   ],
   "source": [
    "df_plot = df_results.query(\"IndexType == 'IVF'\")\n",
    "\n",
    "# plt.figure(figsize=(6, 4))\n",
    "sns.scatterplot(\n",
    "    data=df_plot,\n",
    "    x=\"Recall avg\",\n",
    "    y=\"Search speed avg. (ms)\",\n",
    "    style=\"Metric\",\n",
    "    hue=\"IndexProvider\",\n",
    "    palette=\"flare\",\n",
    "    s=70,\n",
    ")\n",
    "plt.xlabel(\"Recall\")\n",
    "plt.ylabel(\"Search speed (ms)\")\n",
    "plt.show()"
   ]
  },
  {
   "cell_type": "code",
   "execution_count": 51,
   "metadata": {},
   "outputs": [
    {
     "data": {
      "text/html": [
       "<div>\n",
       "<style scoped>\n",
       "    .dataframe tbody tr th:only-of-type {\n",
       "        vertical-align: middle;\n",
       "    }\n",
       "\n",
       "    .dataframe tbody tr th {\n",
       "        vertical-align: top;\n",
       "    }\n",
       "\n",
       "    .dataframe thead th {\n",
       "        text-align: right;\n",
       "    }\n",
       "</style>\n",
       "<table border=\"1\" class=\"dataframe\">\n",
       "  <thead>\n",
       "    <tr style=\"text-align: right;\">\n",
       "      <th></th>\n",
       "      <th>Unnamed: 0</th>\n",
       "      <th>Dataset</th>\n",
       "      <th>Index</th>\n",
       "      <th>IndexParameters</th>\n",
       "      <th>TimerMasterMean</th>\n",
       "      <th>TimerServerStartupMean</th>\n",
       "      <th>TimerBuildIndexMean</th>\n",
       "      <th>SearchSpeedAverage</th>\n",
       "      <th>SearchSpeedP95</th>\n",
       "      <th>RecallMean</th>\n",
       "      <th>...</th>\n",
       "      <th>BenchmarkingMax</th>\n",
       "      <th>BenchmarkingMean</th>\n",
       "      <th>IndexProvider</th>\n",
       "      <th>IndexType</th>\n",
       "      <th>Compression</th>\n",
       "      <th>EfConstruction</th>\n",
       "      <th>EfSearch</th>\n",
       "      <th>M</th>\n",
       "      <th>Metric</th>\n",
       "      <th>NPartitions</th>\n",
       "    </tr>\n",
       "  </thead>\n",
       "  <tbody>\n",
       "    <tr>\n",
       "      <th>0</th>\n",
       "      <td>0</td>\n",
       "      <td>sift-128-euclidean</td>\n",
       "      <td>index: milvus IVF, n_partition=64, None, L2</td>\n",
       "      <td>IVF, n_partition=64, None, L2</td>\n",
       "      <td>161.984408</td>\n",
       "      <td>91.158141</td>\n",
       "      <td>65.742976</td>\n",
       "      <td>2.320321</td>\n",
       "      <td>2.548022</td>\n",
       "      <td>0.982151</td>\n",
       "      <td>...</td>\n",
       "      <td>1716.708</td>\n",
       "      <td>1203.750538</td>\n",
       "      <td>milvus</td>\n",
       "      <td>IVF</td>\n",
       "      <td>None</td>\n",
       "      <td>NaN</td>\n",
       "      <td>NaN</td>\n",
       "      <td>NaN</td>\n",
       "      <td>L2</td>\n",
       "      <td>64</td>\n",
       "    </tr>\n",
       "    <tr>\n",
       "      <th>1</th>\n",
       "      <td>1</td>\n",
       "      <td>sift-128-euclidean</td>\n",
       "      <td>index: milvus IVF, n_partition=128, None, L2</td>\n",
       "      <td>IVF, n_partition=128, None, L2</td>\n",
       "      <td>165.023545</td>\n",
       "      <td>91.434945</td>\n",
       "      <td>68.507926</td>\n",
       "      <td>2.218690</td>\n",
       "      <td>2.435784</td>\n",
       "      <td>0.991873</td>\n",
       "      <td>...</td>\n",
       "      <td>1727.580</td>\n",
       "      <td>1226.194077</td>\n",
       "      <td>milvus</td>\n",
       "      <td>IVF</td>\n",
       "      <td>None</td>\n",
       "      <td>NaN</td>\n",
       "      <td>NaN</td>\n",
       "      <td>NaN</td>\n",
       "      <td>L2</td>\n",
       "      <td>128</td>\n",
       "    </tr>\n",
       "    <tr>\n",
       "      <th>2</th>\n",
       "      <td>2</td>\n",
       "      <td>sift-128-euclidean</td>\n",
       "      <td>index: milvus IVF, n_partition=256, None, L2</td>\n",
       "      <td>IVF, n_partition=256, None, L2</td>\n",
       "      <td>165.876709</td>\n",
       "      <td>91.942128</td>\n",
       "      <td>68.853711</td>\n",
       "      <td>2.367089</td>\n",
       "      <td>2.621065</td>\n",
       "      <td>0.995921</td>\n",
       "      <td>...</td>\n",
       "      <td>1763.804</td>\n",
       "      <td>1249.281615</td>\n",
       "      <td>milvus</td>\n",
       "      <td>IVF</td>\n",
       "      <td>None</td>\n",
       "      <td>NaN</td>\n",
       "      <td>NaN</td>\n",
       "      <td>NaN</td>\n",
       "      <td>L2</td>\n",
       "      <td>256</td>\n",
       "    </tr>\n",
       "    <tr>\n",
       "      <th>3</th>\n",
       "      <td>3</td>\n",
       "      <td>sift-128-euclidean</td>\n",
       "      <td>index: milvus IVF, n_partition=512, None, L2</td>\n",
       "      <td>IVF, n_partition=512, None, L2</td>\n",
       "      <td>188.140312</td>\n",
       "      <td>101.273602</td>\n",
       "      <td>81.785626</td>\n",
       "      <td>2.617808</td>\n",
       "      <td>3.437749</td>\n",
       "      <td>0.998081</td>\n",
       "      <td>...</td>\n",
       "      <td>3522.008</td>\n",
       "      <td>1751.865933</td>\n",
       "      <td>milvus</td>\n",
       "      <td>IVF</td>\n",
       "      <td>None</td>\n",
       "      <td>NaN</td>\n",
       "      <td>NaN</td>\n",
       "      <td>NaN</td>\n",
       "      <td>L2</td>\n",
       "      <td>512</td>\n",
       "    </tr>\n",
       "    <tr>\n",
       "      <th>4</th>\n",
       "      <td>4</td>\n",
       "      <td>sift-128-euclidean</td>\n",
       "      <td>index: milvus IVF, n_partition=1024, None, L2</td>\n",
       "      <td>IVF, n_partition=1024, None, L2</td>\n",
       "      <td>210.754938</td>\n",
       "      <td>91.788467</td>\n",
       "      <td>113.886073</td>\n",
       "      <td>2.857559</td>\n",
       "      <td>3.806693</td>\n",
       "      <td>0.999030</td>\n",
       "      <td>...</td>\n",
       "      <td>3328.900</td>\n",
       "      <td>1823.883824</td>\n",
       "      <td>milvus</td>\n",
       "      <td>IVF</td>\n",
       "      <td>None</td>\n",
       "      <td>NaN</td>\n",
       "      <td>NaN</td>\n",
       "      <td>NaN</td>\n",
       "      <td>L2</td>\n",
       "      <td>1024</td>\n",
       "    </tr>\n",
       "    <tr>\n",
       "      <th>5</th>\n",
       "      <td>5</td>\n",
       "      <td>sift-128-euclidean</td>\n",
       "      <td>index: milvus IVF, n_partition=2048, None, L2</td>\n",
       "      <td>IVF, n_partition=2048, None, L2</td>\n",
       "      <td>268.749255</td>\n",
       "      <td>101.867774</td>\n",
       "      <td>161.801337</td>\n",
       "      <td>3.588178</td>\n",
       "      <td>4.486139</td>\n",
       "      <td>0.999511</td>\n",
       "      <td>...</td>\n",
       "      <td>2149.064</td>\n",
       "      <td>1920.769800</td>\n",
       "      <td>milvus</td>\n",
       "      <td>IVF</td>\n",
       "      <td>None</td>\n",
       "      <td>NaN</td>\n",
       "      <td>NaN</td>\n",
       "      <td>NaN</td>\n",
       "      <td>L2</td>\n",
       "      <td>2048</td>\n",
       "    </tr>\n",
       "    <tr>\n",
       "      <th>6</th>\n",
       "      <td>6</td>\n",
       "      <td>sift-128-euclidean</td>\n",
       "      <td>index: milvus IVF, n_partition=4096, None, L2</td>\n",
       "      <td>IVF, n_partition=4096, None, L2</td>\n",
       "      <td>394.264325</td>\n",
       "      <td>91.554489</td>\n",
       "      <td>297.609647</td>\n",
       "      <td>4.520539</td>\n",
       "      <td>4.998783</td>\n",
       "      <td>0.999775</td>\n",
       "      <td>...</td>\n",
       "      <td>1424.634</td>\n",
       "      <td>1386.330383</td>\n",
       "      <td>milvus</td>\n",
       "      <td>IVF</td>\n",
       "      <td>None</td>\n",
       "      <td>NaN</td>\n",
       "      <td>NaN</td>\n",
       "      <td>NaN</td>\n",
       "      <td>L2</td>\n",
       "      <td>4096</td>\n",
       "    </tr>\n",
       "    <tr>\n",
       "      <th>7</th>\n",
       "      <td>7</td>\n",
       "      <td>sift-128-euclidean</td>\n",
       "      <td>index: milvus IVF, n_partition=64, None, L2</td>\n",
       "      <td>IVF, n_partition=64, None, L2</td>\n",
       "      <td>238.794323</td>\n",
       "      <td>101.900144</td>\n",
       "      <td>131.772166</td>\n",
       "      <td>1.003152</td>\n",
       "      <td>1.279109</td>\n",
       "      <td>0.575082</td>\n",
       "      <td>...</td>\n",
       "      <td>1818.710</td>\n",
       "      <td>1268.213100</td>\n",
       "      <td>milvus</td>\n",
       "      <td>IVF</td>\n",
       "      <td>None</td>\n",
       "      <td>NaN</td>\n",
       "      <td>NaN</td>\n",
       "      <td>NaN</td>\n",
       "      <td>L2</td>\n",
       "      <td>64</td>\n",
       "    </tr>\n",
       "    <tr>\n",
       "      <th>8</th>\n",
       "      <td>8</td>\n",
       "      <td>sift-128-euclidean</td>\n",
       "      <td>index: milvus IVF, n_partition=128, None, L2</td>\n",
       "      <td>IVF, n_partition=128, None, L2</td>\n",
       "      <td>163.729941</td>\n",
       "      <td>91.079997</td>\n",
       "      <td>67.568300</td>\n",
       "      <td>0.960180</td>\n",
       "      <td>1.221338</td>\n",
       "      <td>0.497288</td>\n",
       "      <td>...</td>\n",
       "      <td>1146.950</td>\n",
       "      <td>1092.080000</td>\n",
       "      <td>milvus</td>\n",
       "      <td>IVF</td>\n",
       "      <td>None</td>\n",
       "      <td>NaN</td>\n",
       "      <td>NaN</td>\n",
       "      <td>NaN</td>\n",
       "      <td>L2</td>\n",
       "      <td>128</td>\n",
       "    </tr>\n",
       "    <tr>\n",
       "      <th>9</th>\n",
       "      <td>9</td>\n",
       "      <td>sift-128-euclidean</td>\n",
       "      <td>index: milvus IVF, n_partition=256, None, L2</td>\n",
       "      <td>IVF, n_partition=256, None, L2</td>\n",
       "      <td>167.164632</td>\n",
       "      <td>91.365211</td>\n",
       "      <td>70.713892</td>\n",
       "      <td>0.909274</td>\n",
       "      <td>1.199511</td>\n",
       "      <td>0.431680</td>\n",
       "      <td>...</td>\n",
       "      <td>1167.740</td>\n",
       "      <td>1094.865556</td>\n",
       "      <td>milvus</td>\n",
       "      <td>IVF</td>\n",
       "      <td>None</td>\n",
       "      <td>NaN</td>\n",
       "      <td>NaN</td>\n",
       "      <td>NaN</td>\n",
       "      <td>L2</td>\n",
       "      <td>256</td>\n",
       "    </tr>\n",
       "    <tr>\n",
       "      <th>10</th>\n",
       "      <td>10</td>\n",
       "      <td>sift-128-euclidean</td>\n",
       "      <td>index: milvus IVF, n_partition=512, None, L2</td>\n",
       "      <td>IVF, n_partition=512, None, L2</td>\n",
       "      <td>177.105939</td>\n",
       "      <td>91.160229</td>\n",
       "      <td>80.860819</td>\n",
       "      <td>0.842747</td>\n",
       "      <td>1.144575</td>\n",
       "      <td>0.367090</td>\n",
       "      <td>...</td>\n",
       "      <td>1704.300</td>\n",
       "      <td>1234.436000</td>\n",
       "      <td>milvus</td>\n",
       "      <td>IVF</td>\n",
       "      <td>None</td>\n",
       "      <td>NaN</td>\n",
       "      <td>NaN</td>\n",
       "      <td>NaN</td>\n",
       "      <td>L2</td>\n",
       "      <td>512</td>\n",
       "    </tr>\n",
       "    <tr>\n",
       "      <th>11</th>\n",
       "      <td>11</td>\n",
       "      <td>sift-128-euclidean</td>\n",
       "      <td>index: milvus IVF, n_partition=1024, None, L2</td>\n",
       "      <td>IVF, n_partition=1024, None, L2</td>\n",
       "      <td>209.727457</td>\n",
       "      <td>92.052205</td>\n",
       "      <td>112.589817</td>\n",
       "      <td>1.059387</td>\n",
       "      <td>1.654792</td>\n",
       "      <td>0.313820</td>\n",
       "      <td>...</td>\n",
       "      <td>2015.180</td>\n",
       "      <td>1762.430800</td>\n",
       "      <td>milvus</td>\n",
       "      <td>IVF</td>\n",
       "      <td>None</td>\n",
       "      <td>NaN</td>\n",
       "      <td>NaN</td>\n",
       "      <td>NaN</td>\n",
       "      <td>L2</td>\n",
       "      <td>1024</td>\n",
       "    </tr>\n",
       "    <tr>\n",
       "      <th>12</th>\n",
       "      <td>12</td>\n",
       "      <td>sift-128-euclidean</td>\n",
       "      <td>index: milvus IVF, n_partition=1024, None, L2</td>\n",
       "      <td>IVF, n_partition=1024, None, L2</td>\n",
       "      <td>223.534063</td>\n",
       "      <td>92.521058</td>\n",
       "      <td>125.907625</td>\n",
       "      <td>1.036100</td>\n",
       "      <td>1.398001</td>\n",
       "      <td>0.310420</td>\n",
       "      <td>...</td>\n",
       "      <td>3416.906</td>\n",
       "      <td>2154.162560</td>\n",
       "      <td>milvus</td>\n",
       "      <td>IVF</td>\n",
       "      <td>None</td>\n",
       "      <td>NaN</td>\n",
       "      <td>NaN</td>\n",
       "      <td>NaN</td>\n",
       "      <td>L2</td>\n",
       "      <td>1024</td>\n",
       "    </tr>\n",
       "    <tr>\n",
       "      <th>13</th>\n",
       "      <td>13</td>\n",
       "      <td>sift-128-euclidean</td>\n",
       "      <td>index: milvus IVF, n_partition=1024, None, L2</td>\n",
       "      <td>IVF, n_partition=1024, None, L2</td>\n",
       "      <td>211.237687</td>\n",
       "      <td>91.426309</td>\n",
       "      <td>114.729346</td>\n",
       "      <td>1.209096</td>\n",
       "      <td>1.636439</td>\n",
       "      <td>0.629661</td>\n",
       "      <td>...</td>\n",
       "      <td>3113.330</td>\n",
       "      <td>1707.304538</td>\n",
       "      <td>milvus</td>\n",
       "      <td>IVF</td>\n",
       "      <td>None</td>\n",
       "      <td>NaN</td>\n",
       "      <td>NaN</td>\n",
       "      <td>NaN</td>\n",
       "      <td>L2</td>\n",
       "      <td>1024</td>\n",
       "    </tr>\n",
       "    <tr>\n",
       "      <th>14</th>\n",
       "      <td>14</td>\n",
       "      <td>sift-128-euclidean</td>\n",
       "      <td>index: milvus IVF, n_partition=1024, None, L2</td>\n",
       "      <td>IVF, n_partition=1024, None, L2</td>\n",
       "      <td>215.790238</td>\n",
       "      <td>92.087610</td>\n",
       "      <td>118.619772</td>\n",
       "      <td>1.273961</td>\n",
       "      <td>1.799906</td>\n",
       "      <td>0.895293</td>\n",
       "      <td>...</td>\n",
       "      <td>3051.704</td>\n",
       "      <td>1803.265407</td>\n",
       "      <td>milvus</td>\n",
       "      <td>IVF</td>\n",
       "      <td>None</td>\n",
       "      <td>NaN</td>\n",
       "      <td>NaN</td>\n",
       "      <td>NaN</td>\n",
       "      <td>L2</td>\n",
       "      <td>1024</td>\n",
       "    </tr>\n",
       "    <tr>\n",
       "      <th>15</th>\n",
       "      <td>15</td>\n",
       "      <td>sift-128-euclidean</td>\n",
       "      <td>index: milvus IVF, n_partition=1024, None, L2</td>\n",
       "      <td>IVF, n_partition=1024, None, L2</td>\n",
       "      <td>218.397342</td>\n",
       "      <td>91.467297</td>\n",
       "      <td>121.846685</td>\n",
       "      <td>2.211025</td>\n",
       "      <td>2.831323</td>\n",
       "      <td>0.991313</td>\n",
       "      <td>...</td>\n",
       "      <td>2866.598</td>\n",
       "      <td>1845.210581</td>\n",
       "      <td>milvus</td>\n",
       "      <td>IVF</td>\n",
       "      <td>None</td>\n",
       "      <td>NaN</td>\n",
       "      <td>NaN</td>\n",
       "      <td>NaN</td>\n",
       "      <td>L2</td>\n",
       "      <td>1024</td>\n",
       "    </tr>\n",
       "    <tr>\n",
       "      <th>16</th>\n",
       "      <td>16</td>\n",
       "      <td>sift-128-euclidean</td>\n",
       "      <td>index: milvus IVF, n_partition=1024, None, L2</td>\n",
       "      <td>IVF, n_partition=1024, None, L2</td>\n",
       "      <td>216.521795</td>\n",
       "      <td>91.669374</td>\n",
       "      <td>119.768581</td>\n",
       "      <td>4.395519</td>\n",
       "      <td>6.046579</td>\n",
       "      <td>0.999888</td>\n",
       "      <td>...</td>\n",
       "      <td>3192.834</td>\n",
       "      <td>1659.607050</td>\n",
       "      <td>milvus</td>\n",
       "      <td>IVF</td>\n",
       "      <td>None</td>\n",
       "      <td>NaN</td>\n",
       "      <td>NaN</td>\n",
       "      <td>NaN</td>\n",
       "      <td>L2</td>\n",
       "      <td>1024</td>\n",
       "    </tr>\n",
       "  </tbody>\n",
       "</table>\n",
       "<p>17 rows × 28 columns</p>\n",
       "</div>"
      ],
      "text/plain": [
       "    Unnamed: 0             Dataset  \\\n",
       "0            0  sift-128-euclidean   \n",
       "1            1  sift-128-euclidean   \n",
       "2            2  sift-128-euclidean   \n",
       "3            3  sift-128-euclidean   \n",
       "4            4  sift-128-euclidean   \n",
       "5            5  sift-128-euclidean   \n",
       "6            6  sift-128-euclidean   \n",
       "7            7  sift-128-euclidean   \n",
       "8            8  sift-128-euclidean   \n",
       "9            9  sift-128-euclidean   \n",
       "10          10  sift-128-euclidean   \n",
       "11          11  sift-128-euclidean   \n",
       "12          12  sift-128-euclidean   \n",
       "13          13  sift-128-euclidean   \n",
       "14          14  sift-128-euclidean   \n",
       "15          15  sift-128-euclidean   \n",
       "16          16  sift-128-euclidean   \n",
       "\n",
       "                                            Index  \\\n",
       "0     index: milvus IVF, n_partition=64, None, L2   \n",
       "1    index: milvus IVF, n_partition=128, None, L2   \n",
       "2    index: milvus IVF, n_partition=256, None, L2   \n",
       "3    index: milvus IVF, n_partition=512, None, L2   \n",
       "4   index: milvus IVF, n_partition=1024, None, L2   \n",
       "5   index: milvus IVF, n_partition=2048, None, L2   \n",
       "6   index: milvus IVF, n_partition=4096, None, L2   \n",
       "7     index: milvus IVF, n_partition=64, None, L2   \n",
       "8    index: milvus IVF, n_partition=128, None, L2   \n",
       "9    index: milvus IVF, n_partition=256, None, L2   \n",
       "10   index: milvus IVF, n_partition=512, None, L2   \n",
       "11  index: milvus IVF, n_partition=1024, None, L2   \n",
       "12  index: milvus IVF, n_partition=1024, None, L2   \n",
       "13  index: milvus IVF, n_partition=1024, None, L2   \n",
       "14  index: milvus IVF, n_partition=1024, None, L2   \n",
       "15  index: milvus IVF, n_partition=1024, None, L2   \n",
       "16  index: milvus IVF, n_partition=1024, None, L2   \n",
       "\n",
       "                    IndexParameters  TimerMasterMean  TimerServerStartupMean  \\\n",
       "0     IVF, n_partition=64, None, L2       161.984408               91.158141   \n",
       "1    IVF, n_partition=128, None, L2       165.023545               91.434945   \n",
       "2    IVF, n_partition=256, None, L2       165.876709               91.942128   \n",
       "3    IVF, n_partition=512, None, L2       188.140312              101.273602   \n",
       "4   IVF, n_partition=1024, None, L2       210.754938               91.788467   \n",
       "5   IVF, n_partition=2048, None, L2       268.749255              101.867774   \n",
       "6   IVF, n_partition=4096, None, L2       394.264325               91.554489   \n",
       "7     IVF, n_partition=64, None, L2       238.794323              101.900144   \n",
       "8    IVF, n_partition=128, None, L2       163.729941               91.079997   \n",
       "9    IVF, n_partition=256, None, L2       167.164632               91.365211   \n",
       "10   IVF, n_partition=512, None, L2       177.105939               91.160229   \n",
       "11  IVF, n_partition=1024, None, L2       209.727457               92.052205   \n",
       "12  IVF, n_partition=1024, None, L2       223.534063               92.521058   \n",
       "13  IVF, n_partition=1024, None, L2       211.237687               91.426309   \n",
       "14  IVF, n_partition=1024, None, L2       215.790238               92.087610   \n",
       "15  IVF, n_partition=1024, None, L2       218.397342               91.467297   \n",
       "16  IVF, n_partition=1024, None, L2       216.521795               91.669374   \n",
       "\n",
       "    TimerBuildIndexMean  SearchSpeedAverage  SearchSpeedP95  RecallMean  ...  \\\n",
       "0             65.742976            2.320321        2.548022    0.982151  ...   \n",
       "1             68.507926            2.218690        2.435784    0.991873  ...   \n",
       "2             68.853711            2.367089        2.621065    0.995921  ...   \n",
       "3             81.785626            2.617808        3.437749    0.998081  ...   \n",
       "4            113.886073            2.857559        3.806693    0.999030  ...   \n",
       "5            161.801337            3.588178        4.486139    0.999511  ...   \n",
       "6            297.609647            4.520539        4.998783    0.999775  ...   \n",
       "7            131.772166            1.003152        1.279109    0.575082  ...   \n",
       "8             67.568300            0.960180        1.221338    0.497288  ...   \n",
       "9             70.713892            0.909274        1.199511    0.431680  ...   \n",
       "10            80.860819            0.842747        1.144575    0.367090  ...   \n",
       "11           112.589817            1.059387        1.654792    0.313820  ...   \n",
       "12           125.907625            1.036100        1.398001    0.310420  ...   \n",
       "13           114.729346            1.209096        1.636439    0.629661  ...   \n",
       "14           118.619772            1.273961        1.799906    0.895293  ...   \n",
       "15           121.846685            2.211025        2.831323    0.991313  ...   \n",
       "16           119.768581            4.395519        6.046579    0.999888  ...   \n",
       "\n",
       "    BenchmarkingMax  BenchmarkingMean  IndexProvider  IndexType  Compression  \\\n",
       "0          1716.708       1203.750538         milvus        IVF         None   \n",
       "1          1727.580       1226.194077         milvus        IVF         None   \n",
       "2          1763.804       1249.281615         milvus        IVF         None   \n",
       "3          3522.008       1751.865933         milvus        IVF         None   \n",
       "4          3328.900       1823.883824         milvus        IVF         None   \n",
       "5          2149.064       1920.769800         milvus        IVF         None   \n",
       "6          1424.634       1386.330383         milvus        IVF         None   \n",
       "7          1818.710       1268.213100         milvus        IVF         None   \n",
       "8          1146.950       1092.080000         milvus        IVF         None   \n",
       "9          1167.740       1094.865556         milvus        IVF         None   \n",
       "10         1704.300       1234.436000         milvus        IVF         None   \n",
       "11         2015.180       1762.430800         milvus        IVF         None   \n",
       "12         3416.906       2154.162560         milvus        IVF         None   \n",
       "13         3113.330       1707.304538         milvus        IVF         None   \n",
       "14         3051.704       1803.265407         milvus        IVF         None   \n",
       "15         2866.598       1845.210581         milvus        IVF         None   \n",
       "16         3192.834       1659.607050         milvus        IVF         None   \n",
       "\n",
       "    EfConstruction  EfSearch    M  Metric  NPartitions  \n",
       "0              NaN       NaN  NaN      L2           64  \n",
       "1              NaN       NaN  NaN      L2          128  \n",
       "2              NaN       NaN  NaN      L2          256  \n",
       "3              NaN       NaN  NaN      L2          512  \n",
       "4              NaN       NaN  NaN      L2         1024  \n",
       "5              NaN       NaN  NaN      L2         2048  \n",
       "6              NaN       NaN  NaN      L2         4096  \n",
       "7              NaN       NaN  NaN      L2           64  \n",
       "8              NaN       NaN  NaN      L2          128  \n",
       "9              NaN       NaN  NaN      L2          256  \n",
       "10             NaN       NaN  NaN      L2          512  \n",
       "11             NaN       NaN  NaN      L2         1024  \n",
       "12             NaN       NaN  NaN      L2         1024  \n",
       "13             NaN       NaN  NaN      L2         1024  \n",
       "14             NaN       NaN  NaN      L2         1024  \n",
       "15             NaN       NaN  NaN      L2         1024  \n",
       "16             NaN       NaN  NaN      L2         1024  \n",
       "\n",
       "[17 rows x 28 columns]"
      ]
     },
     "execution_count": 51,
     "metadata": {},
     "output_type": "execute_result"
    }
   ],
   "source": [
    "df_plot"
   ]
  },
  {
   "cell_type": "code",
   "execution_count": 52,
   "metadata": {},
   "outputs": [
    {
     "ename": "ValueError",
     "evalue": "Could not interpret value `Recall avg` for parameter `x`",
     "output_type": "error",
     "traceback": [
      "\u001b[0;31m---------------------------------------------------------------------------\u001b[0m",
      "\u001b[0;31mValueError\u001b[0m                                Traceback (most recent call last)",
      "Cell \u001b[0;32mIn[52], line 4\u001b[0m\n\u001b[1;32m      1\u001b[0m df_plot \u001b[38;5;241m=\u001b[39m df_results\u001b[38;5;241m.\u001b[39mquery(\u001b[38;5;124m\"\u001b[39m\u001b[38;5;124mIndexType == \u001b[39m\u001b[38;5;124m'\u001b[39m\u001b[38;5;124mIVF\u001b[39m\u001b[38;5;124m'\u001b[39m\u001b[38;5;124m\"\u001b[39m)\n\u001b[1;32m      3\u001b[0m \u001b[38;5;66;03m# plt.figure(figsize=(6, 4))\u001b[39;00m\n\u001b[0;32m----> 4\u001b[0m \u001b[43msns\u001b[49m\u001b[38;5;241;43m.\u001b[39;49m\u001b[43mscatterplot\u001b[49m\u001b[43m(\u001b[49m\n\u001b[1;32m      5\u001b[0m \u001b[43m    \u001b[49m\u001b[43mdata\u001b[49m\u001b[38;5;241;43m=\u001b[39;49m\u001b[43mdf_plot\u001b[49m\u001b[43m,\u001b[49m\n\u001b[1;32m      6\u001b[0m \u001b[43m    \u001b[49m\u001b[43mx\u001b[49m\u001b[38;5;241;43m=\u001b[39;49m\u001b[38;5;124;43m\"\u001b[39;49m\u001b[38;5;124;43mRecall avg\u001b[39;49m\u001b[38;5;124;43m\"\u001b[39;49m\u001b[43m,\u001b[49m\n\u001b[1;32m      7\u001b[0m \u001b[43m    \u001b[49m\u001b[43my\u001b[49m\u001b[38;5;241;43m=\u001b[39;49m\u001b[38;5;124;43m\"\u001b[39;49m\u001b[38;5;124;43mSearch speed avg. (ms)\u001b[39;49m\u001b[38;5;124;43m\"\u001b[39;49m\u001b[43m,\u001b[49m\n\u001b[1;32m      8\u001b[0m \u001b[43m    \u001b[49m\u001b[43mstyle\u001b[49m\u001b[38;5;241;43m=\u001b[39;49m\u001b[38;5;124;43m\"\u001b[39;49m\u001b[38;5;124;43mMetric\u001b[39;49m\u001b[38;5;124;43m\"\u001b[39;49m\u001b[43m,\u001b[49m\n\u001b[1;32m      9\u001b[0m \u001b[43m    \u001b[49m\u001b[43mhue\u001b[49m\u001b[38;5;241;43m=\u001b[39;49m\u001b[38;5;124;43m\"\u001b[39;49m\u001b[38;5;124;43mnPartitions\u001b[39;49m\u001b[38;5;124;43m\"\u001b[39;49m\u001b[43m,\u001b[49m\n\u001b[1;32m     10\u001b[0m \u001b[43m    \u001b[49m\u001b[43mpalette\u001b[49m\u001b[38;5;241;43m=\u001b[39;49m\u001b[38;5;124;43m\"\u001b[39;49m\u001b[38;5;124;43mflare\u001b[39;49m\u001b[38;5;124;43m\"\u001b[39;49m\u001b[43m,\u001b[49m\n\u001b[1;32m     11\u001b[0m \u001b[43m    \u001b[49m\u001b[43ms\u001b[49m\u001b[38;5;241;43m=\u001b[39;49m\u001b[38;5;241;43m70\u001b[39;49m\u001b[43m,\u001b[49m\n\u001b[1;32m     12\u001b[0m \u001b[43m)\u001b[49m\n\u001b[1;32m     13\u001b[0m plt\u001b[38;5;241m.\u001b[39mxlabel(\u001b[38;5;124m\"\u001b[39m\u001b[38;5;124mRecall\u001b[39m\u001b[38;5;124m\"\u001b[39m)\n\u001b[1;32m     14\u001b[0m plt\u001b[38;5;241m.\u001b[39mylabel(\u001b[38;5;124m\"\u001b[39m\u001b[38;5;124mSearch speed (ms)\u001b[39m\u001b[38;5;124m\"\u001b[39m)\n",
      "File \u001b[0;32m~/.pyenv/versions/3.11.2/lib/python3.11/site-packages/seaborn/relational.py:742\u001b[0m, in \u001b[0;36mscatterplot\u001b[0;34m(data, x, y, hue, size, style, palette, hue_order, hue_norm, sizes, size_order, size_norm, markers, style_order, legend, ax, **kwargs)\u001b[0m\n\u001b[1;32m    732\u001b[0m \u001b[38;5;28;01mdef\u001b[39;00m \u001b[38;5;21mscatterplot\u001b[39m(\n\u001b[1;32m    733\u001b[0m     data\u001b[38;5;241m=\u001b[39m\u001b[38;5;28;01mNone\u001b[39;00m, \u001b[38;5;241m*\u001b[39m,\n\u001b[1;32m    734\u001b[0m     x\u001b[38;5;241m=\u001b[39m\u001b[38;5;28;01mNone\u001b[39;00m, y\u001b[38;5;241m=\u001b[39m\u001b[38;5;28;01mNone\u001b[39;00m, hue\u001b[38;5;241m=\u001b[39m\u001b[38;5;28;01mNone\u001b[39;00m, size\u001b[38;5;241m=\u001b[39m\u001b[38;5;28;01mNone\u001b[39;00m, style\u001b[38;5;241m=\u001b[39m\u001b[38;5;28;01mNone\u001b[39;00m,\n\u001b[0;32m   (...)\u001b[0m\n\u001b[1;32m    738\u001b[0m     \u001b[38;5;241m*\u001b[39m\u001b[38;5;241m*\u001b[39mkwargs\n\u001b[1;32m    739\u001b[0m ):\n\u001b[1;32m    741\u001b[0m     variables \u001b[38;5;241m=\u001b[39m _ScatterPlotter\u001b[38;5;241m.\u001b[39mget_semantics(\u001b[38;5;28mlocals\u001b[39m())\n\u001b[0;32m--> 742\u001b[0m     p \u001b[38;5;241m=\u001b[39m \u001b[43m_ScatterPlotter\u001b[49m\u001b[43m(\u001b[49m\u001b[43mdata\u001b[49m\u001b[38;5;241;43m=\u001b[39;49m\u001b[43mdata\u001b[49m\u001b[43m,\u001b[49m\u001b[43m \u001b[49m\u001b[43mvariables\u001b[49m\u001b[38;5;241;43m=\u001b[39;49m\u001b[43mvariables\u001b[49m\u001b[43m,\u001b[49m\u001b[43m \u001b[49m\u001b[43mlegend\u001b[49m\u001b[38;5;241;43m=\u001b[39;49m\u001b[43mlegend\u001b[49m\u001b[43m)\u001b[49m\n\u001b[1;32m    744\u001b[0m     p\u001b[38;5;241m.\u001b[39mmap_hue(palette\u001b[38;5;241m=\u001b[39mpalette, order\u001b[38;5;241m=\u001b[39mhue_order, norm\u001b[38;5;241m=\u001b[39mhue_norm)\n\u001b[1;32m    745\u001b[0m     p\u001b[38;5;241m.\u001b[39mmap_size(sizes\u001b[38;5;241m=\u001b[39msizes, order\u001b[38;5;241m=\u001b[39msize_order, norm\u001b[38;5;241m=\u001b[39msize_norm)\n",
      "File \u001b[0;32m~/.pyenv/versions/3.11.2/lib/python3.11/site-packages/seaborn/relational.py:538\u001b[0m, in \u001b[0;36m_ScatterPlotter.__init__\u001b[0;34m(self, data, variables, legend)\u001b[0m\n\u001b[1;32m    529\u001b[0m \u001b[38;5;28;01mdef\u001b[39;00m \u001b[38;5;21m__init__\u001b[39m(\u001b[38;5;28mself\u001b[39m, \u001b[38;5;241m*\u001b[39m, data\u001b[38;5;241m=\u001b[39m\u001b[38;5;28;01mNone\u001b[39;00m, variables\u001b[38;5;241m=\u001b[39m{}, legend\u001b[38;5;241m=\u001b[39m\u001b[38;5;28;01mNone\u001b[39;00m):\n\u001b[1;32m    530\u001b[0m \n\u001b[1;32m    531\u001b[0m     \u001b[38;5;66;03m# TODO this is messy, we want the mapping to be agnostic about\u001b[39;00m\n\u001b[1;32m    532\u001b[0m     \u001b[38;5;66;03m# the kind of plot to draw, but for the time being we need to set\u001b[39;00m\n\u001b[1;32m    533\u001b[0m     \u001b[38;5;66;03m# this information so the SizeMapping can use it\u001b[39;00m\n\u001b[1;32m    534\u001b[0m     \u001b[38;5;28mself\u001b[39m\u001b[38;5;241m.\u001b[39m_default_size_range \u001b[38;5;241m=\u001b[39m (\n\u001b[1;32m    535\u001b[0m         np\u001b[38;5;241m.\u001b[39mr_[\u001b[38;5;241m.5\u001b[39m, \u001b[38;5;241m2\u001b[39m] \u001b[38;5;241m*\u001b[39m np\u001b[38;5;241m.\u001b[39msquare(mpl\u001b[38;5;241m.\u001b[39mrcParams[\u001b[38;5;124m\"\u001b[39m\u001b[38;5;124mlines.markersize\u001b[39m\u001b[38;5;124m\"\u001b[39m])\n\u001b[1;32m    536\u001b[0m     )\n\u001b[0;32m--> 538\u001b[0m     \u001b[38;5;28;43msuper\u001b[39;49m\u001b[43m(\u001b[49m\u001b[43m)\u001b[49m\u001b[38;5;241;43m.\u001b[39;49m\u001b[38;5;21;43m__init__\u001b[39;49m\u001b[43m(\u001b[49m\u001b[43mdata\u001b[49m\u001b[38;5;241;43m=\u001b[39;49m\u001b[43mdata\u001b[49m\u001b[43m,\u001b[49m\u001b[43m \u001b[49m\u001b[43mvariables\u001b[49m\u001b[38;5;241;43m=\u001b[39;49m\u001b[43mvariables\u001b[49m\u001b[43m)\u001b[49m\n\u001b[1;32m    540\u001b[0m     \u001b[38;5;28mself\u001b[39m\u001b[38;5;241m.\u001b[39mlegend \u001b[38;5;241m=\u001b[39m legend\n",
      "File \u001b[0;32m~/.pyenv/versions/3.11.2/lib/python3.11/site-packages/seaborn/_oldcore.py:640\u001b[0m, in \u001b[0;36mVectorPlotter.__init__\u001b[0;34m(self, data, variables)\u001b[0m\n\u001b[1;32m    635\u001b[0m \u001b[38;5;66;03m# var_ordered is relevant only for categorical axis variables, and may\u001b[39;00m\n\u001b[1;32m    636\u001b[0m \u001b[38;5;66;03m# be better handled by an internal axis information object that tracks\u001b[39;00m\n\u001b[1;32m    637\u001b[0m \u001b[38;5;66;03m# such information and is set up by the scale_* methods. The analogous\u001b[39;00m\n\u001b[1;32m    638\u001b[0m \u001b[38;5;66;03m# information for numeric axes would be information about log scales.\u001b[39;00m\n\u001b[1;32m    639\u001b[0m \u001b[38;5;28mself\u001b[39m\u001b[38;5;241m.\u001b[39m_var_ordered \u001b[38;5;241m=\u001b[39m {\u001b[38;5;124m\"\u001b[39m\u001b[38;5;124mx\u001b[39m\u001b[38;5;124m\"\u001b[39m: \u001b[38;5;28;01mFalse\u001b[39;00m, \u001b[38;5;124m\"\u001b[39m\u001b[38;5;124my\u001b[39m\u001b[38;5;124m\"\u001b[39m: \u001b[38;5;28;01mFalse\u001b[39;00m}  \u001b[38;5;66;03m# alt., used DefaultDict\u001b[39;00m\n\u001b[0;32m--> 640\u001b[0m \u001b[38;5;28;43mself\u001b[39;49m\u001b[38;5;241;43m.\u001b[39;49m\u001b[43massign_variables\u001b[49m\u001b[43m(\u001b[49m\u001b[43mdata\u001b[49m\u001b[43m,\u001b[49m\u001b[43m \u001b[49m\u001b[43mvariables\u001b[49m\u001b[43m)\u001b[49m\n\u001b[1;32m    642\u001b[0m \u001b[38;5;28;01mfor\u001b[39;00m var, \u001b[38;5;28mcls\u001b[39m \u001b[38;5;129;01min\u001b[39;00m \u001b[38;5;28mself\u001b[39m\u001b[38;5;241m.\u001b[39m_semantic_mappings\u001b[38;5;241m.\u001b[39mitems():\n\u001b[1;32m    643\u001b[0m \n\u001b[1;32m    644\u001b[0m     \u001b[38;5;66;03m# Create the mapping function\u001b[39;00m\n\u001b[1;32m    645\u001b[0m     map_func \u001b[38;5;241m=\u001b[39m partial(\u001b[38;5;28mcls\u001b[39m\u001b[38;5;241m.\u001b[39mmap, plotter\u001b[38;5;241m=\u001b[39m\u001b[38;5;28mself\u001b[39m)\n",
      "File \u001b[0;32m~/.pyenv/versions/3.11.2/lib/python3.11/site-packages/seaborn/_oldcore.py:701\u001b[0m, in \u001b[0;36mVectorPlotter.assign_variables\u001b[0;34m(self, data, variables)\u001b[0m\n\u001b[1;32m    699\u001b[0m \u001b[38;5;28;01melse\u001b[39;00m:\n\u001b[1;32m    700\u001b[0m     \u001b[38;5;28mself\u001b[39m\u001b[38;5;241m.\u001b[39minput_format \u001b[38;5;241m=\u001b[39m \u001b[38;5;124m\"\u001b[39m\u001b[38;5;124mlong\u001b[39m\u001b[38;5;124m\"\u001b[39m\n\u001b[0;32m--> 701\u001b[0m     plot_data, variables \u001b[38;5;241m=\u001b[39m \u001b[38;5;28;43mself\u001b[39;49m\u001b[38;5;241;43m.\u001b[39;49m\u001b[43m_assign_variables_longform\u001b[49m\u001b[43m(\u001b[49m\n\u001b[1;32m    702\u001b[0m \u001b[43m        \u001b[49m\u001b[43mdata\u001b[49m\u001b[43m,\u001b[49m\u001b[43m \u001b[49m\u001b[38;5;241;43m*\u001b[39;49m\u001b[38;5;241;43m*\u001b[39;49m\u001b[43mvariables\u001b[49m\u001b[43m,\u001b[49m\n\u001b[1;32m    703\u001b[0m \u001b[43m    \u001b[49m\u001b[43m)\u001b[49m\n\u001b[1;32m    705\u001b[0m \u001b[38;5;28mself\u001b[39m\u001b[38;5;241m.\u001b[39mplot_data \u001b[38;5;241m=\u001b[39m plot_data\n\u001b[1;32m    706\u001b[0m \u001b[38;5;28mself\u001b[39m\u001b[38;5;241m.\u001b[39mvariables \u001b[38;5;241m=\u001b[39m variables\n",
      "File \u001b[0;32m~/.pyenv/versions/3.11.2/lib/python3.11/site-packages/seaborn/_oldcore.py:938\u001b[0m, in \u001b[0;36mVectorPlotter._assign_variables_longform\u001b[0;34m(self, data, **kwargs)\u001b[0m\n\u001b[1;32m    933\u001b[0m \u001b[38;5;28;01melif\u001b[39;00m \u001b[38;5;28misinstance\u001b[39m(val, (\u001b[38;5;28mstr\u001b[39m, \u001b[38;5;28mbytes\u001b[39m)):\n\u001b[1;32m    934\u001b[0m \n\u001b[1;32m    935\u001b[0m     \u001b[38;5;66;03m# This looks like a column name but we don't know what it means!\u001b[39;00m\n\u001b[1;32m    937\u001b[0m     err \u001b[38;5;241m=\u001b[39m \u001b[38;5;124mf\u001b[39m\u001b[38;5;124m\"\u001b[39m\u001b[38;5;124mCould not interpret value `\u001b[39m\u001b[38;5;132;01m{\u001b[39;00mval\u001b[38;5;132;01m}\u001b[39;00m\u001b[38;5;124m` for parameter `\u001b[39m\u001b[38;5;132;01m{\u001b[39;00mkey\u001b[38;5;132;01m}\u001b[39;00m\u001b[38;5;124m`\u001b[39m\u001b[38;5;124m\"\u001b[39m\n\u001b[0;32m--> 938\u001b[0m     \u001b[38;5;28;01mraise\u001b[39;00m \u001b[38;5;167;01mValueError\u001b[39;00m(err)\n\u001b[1;32m    940\u001b[0m \u001b[38;5;28;01melse\u001b[39;00m:\n\u001b[1;32m    941\u001b[0m \n\u001b[1;32m    942\u001b[0m     \u001b[38;5;66;03m# Otherwise, assume the value is itself data\u001b[39;00m\n\u001b[1;32m    943\u001b[0m \n\u001b[1;32m    944\u001b[0m     \u001b[38;5;66;03m# Raise when data object is present and a vector can't matched\u001b[39;00m\n\u001b[1;32m    945\u001b[0m     \u001b[38;5;28;01mif\u001b[39;00m \u001b[38;5;28misinstance\u001b[39m(data, pd\u001b[38;5;241m.\u001b[39mDataFrame) \u001b[38;5;129;01mand\u001b[39;00m \u001b[38;5;129;01mnot\u001b[39;00m \u001b[38;5;28misinstance\u001b[39m(val, pd\u001b[38;5;241m.\u001b[39mSeries):\n",
      "\u001b[0;31mValueError\u001b[0m: Could not interpret value `Recall avg` for parameter `x`"
     ]
    }
   ],
   "source": [
    "df_plot = df_results.query(\"IndexType == 'IVF'\")\n",
    "\n",
    "# plt.figure(figsize=(6, 4))\n",
    "sns.scatterplot(\n",
    "    data=df_plot,\n",
    "    x=\"Recall avg\",\n",
    "    y=\"Search speed avg. (ms)\",\n",
    "    style=\"Metric\",\n",
    "    hue=\"nPartitions\",\n",
    "    palette=\"flare\",\n",
    "    s=70,\n",
    ")\n",
    "plt.xlabel(\"Recall\")\n",
    "plt.ylabel(\"Search speed (ms)\")\n",
    "plt.show()"
   ]
  },
  {
   "cell_type": "code",
   "execution_count": 53,
   "metadata": {},
   "outputs": [
    {
     "name": "stdout",
     "output_type": "stream",
     "text": [
      "hello\n"
     ]
    }
   ],
   "source": [
    "print(\"hello\")"
   ]
  },
  {
   "cell_type": "code",
   "execution_count": null,
   "metadata": {},
   "outputs": [],
   "source": []
  },
  {
   "cell_type": "code",
   "execution_count": null,
   "metadata": {},
   "outputs": [],
   "source": []
  }
 ],
 "metadata": {
  "kernelspec": {
   "display_name": "Python 3 (ipykernel)",
   "language": "python",
   "name": "python3"
  },
  "language_info": {
   "codemirror_mode": {
    "name": "ipython",
    "version": 3
   },
   "file_extension": ".py",
   "mimetype": "text/x-python",
   "name": "python",
   "nbconvert_exporter": "python",
   "pygments_lexer": "ipython3",
   "version": "3.11.2"
  }
 },
 "nbformat": 4,
 "nbformat_minor": 2
}
