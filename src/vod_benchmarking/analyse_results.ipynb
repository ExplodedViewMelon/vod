{
 "cells": [
  {
   "cell_type": "code",
   "execution_count": 67,
   "metadata": {},
   "outputs": [],
   "source": [
    "import pandas as pd\n",
    "import matplotlib.pyplot as plt\n",
    "import os"
   ]
  },
  {
   "cell_type": "code",
   "execution_count": 68,
   "metadata": {},
   "outputs": [
    {
     "name": "stdout",
     "output_type": "stream",
     "text": [
      "/Users/oas/Downloads/benchmarking_results/2024-02-19-16-08-09.csv\n"
     ]
    }
   ],
   "source": [
    "folder_path = \"/Users/oas/Downloads/benchmarking_results\"\n",
    "# folder_path = \"/Users/oas/Documents/VOD/vod/benchmarking_results\"\n",
    "files = [\n",
    "    os.path.join(folder_path, file)\n",
    "    for file in os.listdir(folder_path)\n",
    "    if os.path.isfile(os.path.join(folder_path, file))\n",
    "]\n",
    "files.sort()  # Sort the files by name\n",
    "newest_file = files[-1]  # Pick the newest\n",
    "print(newest_file)"
   ]
  },
  {
   "cell_type": "code",
   "execution_count": 69,
   "metadata": {},
   "outputs": [
    {
     "data": {
      "text/plain": [
       "(15, 16)"
      ]
     },
     "execution_count": 69,
     "metadata": {},
     "output_type": "execute_result"
    }
   ],
   "source": [
    "df_results = pd.read_csv(newest_file)\n",
    "df_results.shape"
   ]
  },
  {
   "cell_type": "code",
   "execution_count": 70,
   "metadata": {},
   "outputs": [
    {
     "data": {
      "text/html": [
       "<div>\n",
       "<style scoped>\n",
       "    .dataframe tbody tr th:only-of-type {\n",
       "        vertical-align: middle;\n",
       "    }\n",
       "\n",
       "    .dataframe tbody tr th {\n",
       "        vertical-align: top;\n",
       "    }\n",
       "\n",
       "    .dataframe thead th {\n",
       "        text-align: right;\n",
       "    }\n",
       "</style>\n",
       "<table border=\"1\" class=\"dataframe\">\n",
       "  <thead>\n",
       "    <tr style=\"text-align: right;\">\n",
       "      <th></th>\n",
       "      <th>Unnamed: 0</th>\n",
       "      <th>Dataset</th>\n",
       "      <th>Index</th>\n",
       "      <th>Index parameters.</th>\n",
       "      <th>Server startup speed (s)</th>\n",
       "      <th>Index build speed (s)</th>\n",
       "      <th>Search speed avg. (ms)</th>\n",
       "      <th>Search speed p95 (ms)</th>\n",
       "      <th>Recall avg</th>\n",
       "      <th>Recall@1</th>\n",
       "      <th>Recall@10</th>\n",
       "      <th>Recall@100</th>\n",
       "      <th>ingesting_max</th>\n",
       "      <th>ingesting_mean</th>\n",
       "      <th>benchmarking_max</th>\n",
       "      <th>benchmarking_mean</th>\n",
       "    </tr>\n",
       "  </thead>\n",
       "  <tbody>\n",
       "    <tr>\n",
       "      <th>0</th>\n",
       "      <td>0</td>\n",
       "      <td>gist-960-euclidean</td>\n",
       "      <td>index: faiss IVF, n_partition=100, None, DOT</td>\n",
       "      <td>IVF, n_partition=100, None, DOT</td>\n",
       "      <td>29.550785</td>\n",
       "      <td>12.196287</td>\n",
       "      <td>466.127652</td>\n",
       "      <td>503.796797</td>\n",
       "      <td>0.000287</td>\n",
       "      <td>0.0</td>\n",
       "      <td>0.000333</td>\n",
       "      <td>0.002000</td>\n",
       "      <td>983.900</td>\n",
       "      <td>493.225000</td>\n",
       "      <td>4151.296</td>\n",
       "      <td>4151.296000</td>\n",
       "    </tr>\n",
       "    <tr>\n",
       "      <th>1</th>\n",
       "      <td>1</td>\n",
       "      <td>gist-960-euclidean</td>\n",
       "      <td>index: faiss IVF, n_partition=200, None, DOT</td>\n",
       "      <td>IVF, n_partition=200, None, DOT</td>\n",
       "      <td>28.922641</td>\n",
       "      <td>14.341038</td>\n",
       "      <td>266.225075</td>\n",
       "      <td>301.910465</td>\n",
       "      <td>0.000343</td>\n",
       "      <td>0.0</td>\n",
       "      <td>0.000333</td>\n",
       "      <td>0.002667</td>\n",
       "      <td>1496.064</td>\n",
       "      <td>625.766000</td>\n",
       "      <td>4152.320</td>\n",
       "      <td>4152.101685</td>\n",
       "    </tr>\n",
       "    <tr>\n",
       "      <th>2</th>\n",
       "      <td>2</td>\n",
       "      <td>gist-960-euclidean</td>\n",
       "      <td>index: faiss IVF, n_partition=400, None, DOT</td>\n",
       "      <td>IVF, n_partition=400, None, DOT</td>\n",
       "      <td>29.018335</td>\n",
       "      <td>20.753354</td>\n",
       "      <td>148.021285</td>\n",
       "      <td>172.958851</td>\n",
       "      <td>0.000443</td>\n",
       "      <td>0.0</td>\n",
       "      <td>0.000333</td>\n",
       "      <td>0.004333</td>\n",
       "      <td>1271.808</td>\n",
       "      <td>567.402000</td>\n",
       "      <td>4152.320</td>\n",
       "      <td>4152.320000</td>\n",
       "    </tr>\n",
       "    <tr>\n",
       "      <th>3</th>\n",
       "      <td>3</td>\n",
       "      <td>gist-960-euclidean</td>\n",
       "      <td>index: faiss IVF, n_partition=800, None, DOT</td>\n",
       "      <td>IVF, n_partition=800, None, DOT</td>\n",
       "      <td>29.157651</td>\n",
       "      <td>35.677776</td>\n",
       "      <td>85.032358</td>\n",
       "      <td>101.179235</td>\n",
       "      <td>0.000610</td>\n",
       "      <td>0.0</td>\n",
       "      <td>0.000667</td>\n",
       "      <td>0.005667</td>\n",
       "      <td>1212.416</td>\n",
       "      <td>551.979000</td>\n",
       "      <td>4154.368</td>\n",
       "      <td>4154.368000</td>\n",
       "    </tr>\n",
       "    <tr>\n",
       "      <th>4</th>\n",
       "      <td>4</td>\n",
       "      <td>gist-960-euclidean</td>\n",
       "      <td>index: faiss IVF, n_partition=1600, None, DOT</td>\n",
       "      <td>IVF, n_partition=1600, None, DOT</td>\n",
       "      <td>28.945927</td>\n",
       "      <td>77.733385</td>\n",
       "      <td>46.192698</td>\n",
       "      <td>54.709877</td>\n",
       "      <td>0.000780</td>\n",
       "      <td>0.0</td>\n",
       "      <td>0.001333</td>\n",
       "      <td>0.007667</td>\n",
       "      <td>3171.328</td>\n",
       "      <td>888.065600</td>\n",
       "      <td>4157.440</td>\n",
       "      <td>4157.440000</td>\n",
       "    </tr>\n",
       "    <tr>\n",
       "      <th>5</th>\n",
       "      <td>5</td>\n",
       "      <td>gist-960-euclidean</td>\n",
       "      <td>faiss IVF, n_partition=100, PQ8, DOT</td>\n",
       "      <td>error: Traceback (most recent call last):\\n  F...</td>\n",
       "      <td>-1.000000</td>\n",
       "      <td>-1.000000</td>\n",
       "      <td>-1.000000</td>\n",
       "      <td>-1.000000</td>\n",
       "      <td>-1.000000</td>\n",
       "      <td>-1.0</td>\n",
       "      <td>-1.000000</td>\n",
       "      <td>-1.000000</td>\n",
       "      <td>-1.000</td>\n",
       "      <td>-1.000000</td>\n",
       "      <td>-1.000</td>\n",
       "      <td>-1.000000</td>\n",
       "    </tr>\n",
       "    <tr>\n",
       "      <th>6</th>\n",
       "      <td>6</td>\n",
       "      <td>gist-960-euclidean</td>\n",
       "      <td>faiss IVF, n_partition=200, PQ8, DOT</td>\n",
       "      <td>error: Traceback (most recent call last):\\n  F...</td>\n",
       "      <td>-1.000000</td>\n",
       "      <td>-1.000000</td>\n",
       "      <td>-1.000000</td>\n",
       "      <td>-1.000000</td>\n",
       "      <td>-1.000000</td>\n",
       "      <td>-1.0</td>\n",
       "      <td>-1.000000</td>\n",
       "      <td>-1.000000</td>\n",
       "      <td>-1.000</td>\n",
       "      <td>-1.000000</td>\n",
       "      <td>-1.000</td>\n",
       "      <td>-1.000000</td>\n",
       "    </tr>\n",
       "    <tr>\n",
       "      <th>7</th>\n",
       "      <td>7</td>\n",
       "      <td>gist-960-euclidean</td>\n",
       "      <td>index: faiss IVF, n_partition=400, PQ8, DOT</td>\n",
       "      <td>error: Traceback (most recent call last):\\n  F...</td>\n",
       "      <td>-1.000000</td>\n",
       "      <td>-1.000000</td>\n",
       "      <td>-1.000000</td>\n",
       "      <td>-1.000000</td>\n",
       "      <td>-1.000000</td>\n",
       "      <td>-1.0</td>\n",
       "      <td>-1.000000</td>\n",
       "      <td>-1.000000</td>\n",
       "      <td>-1.000</td>\n",
       "      <td>-1.000000</td>\n",
       "      <td>-1.000</td>\n",
       "      <td>-1.000000</td>\n",
       "    </tr>\n",
       "    <tr>\n",
       "      <th>8</th>\n",
       "      <td>8</td>\n",
       "      <td>gist-960-euclidean</td>\n",
       "      <td>index: faiss IVF, n_partition=800, PQ8, DOT</td>\n",
       "      <td>IVF, n_partition=800, PQ8, DOT</td>\n",
       "      <td>7.938129</td>\n",
       "      <td>520.221030</td>\n",
       "      <td>10.384226</td>\n",
       "      <td>13.416402</td>\n",
       "      <td>0.001517</td>\n",
       "      <td>0.0</td>\n",
       "      <td>0.000333</td>\n",
       "      <td>0.003667</td>\n",
       "      <td>416.900</td>\n",
       "      <td>333.666667</td>\n",
       "      <td>502.900</td>\n",
       "      <td>502.728571</td>\n",
       "    </tr>\n",
       "    <tr>\n",
       "      <th>9</th>\n",
       "      <td>9</td>\n",
       "      <td>gist-960-euclidean</td>\n",
       "      <td>index: faiss IVF, n_partition=1600, PQ8, DOT</td>\n",
       "      <td>IVF, n_partition=1600, PQ8, DOT</td>\n",
       "      <td>7.961683</td>\n",
       "      <td>464.687658</td>\n",
       "      <td>9.734543</td>\n",
       "      <td>12.800980</td>\n",
       "      <td>0.001897</td>\n",
       "      <td>0.0</td>\n",
       "      <td>0.000000</td>\n",
       "      <td>0.002667</td>\n",
       "      <td>416.300</td>\n",
       "      <td>332.666667</td>\n",
       "      <td>505.700</td>\n",
       "      <td>505.617460</td>\n",
       "    </tr>\n",
       "    <tr>\n",
       "      <th>10</th>\n",
       "      <td>10</td>\n",
       "      <td>gist-960-euclidean</td>\n",
       "      <td>index: faiss IVF, n_partition=100, SQ8, DOT</td>\n",
       "      <td>IVF, n_partition=100, SQ8, DOT</td>\n",
       "      <td>14.095102</td>\n",
       "      <td>11.450311</td>\n",
       "      <td>525.093402</td>\n",
       "      <td>567.221911</td>\n",
       "      <td>0.000297</td>\n",
       "      <td>0.0</td>\n",
       "      <td>0.000667</td>\n",
       "      <td>0.002000</td>\n",
       "      <td>459.000</td>\n",
       "      <td>321.075000</td>\n",
       "      <td>1406.976</td>\n",
       "      <td>1406.074530</td>\n",
       "    </tr>\n",
       "    <tr>\n",
       "      <th>11</th>\n",
       "      <td>11</td>\n",
       "      <td>gist-960-euclidean</td>\n",
       "      <td>index: faiss IVF, n_partition=200, SQ8, DOT</td>\n",
       "      <td>IVF, n_partition=200, SQ8, DOT</td>\n",
       "      <td>14.027710</td>\n",
       "      <td>16.684525</td>\n",
       "      <td>301.350463</td>\n",
       "      <td>339.590249</td>\n",
       "      <td>0.000377</td>\n",
       "      <td>0.0</td>\n",
       "      <td>0.000667</td>\n",
       "      <td>0.002667</td>\n",
       "      <td>416.500</td>\n",
       "      <td>333.233333</td>\n",
       "      <td>1406.976</td>\n",
       "      <td>1406.976000</td>\n",
       "    </tr>\n",
       "    <tr>\n",
       "      <th>12</th>\n",
       "      <td>12</td>\n",
       "      <td>gist-960-euclidean</td>\n",
       "      <td>index: faiss IVF, n_partition=400, SQ8, DOT</td>\n",
       "      <td>IVF, n_partition=400, SQ8, DOT</td>\n",
       "      <td>14.119459</td>\n",
       "      <td>29.563128</td>\n",
       "      <td>164.958119</td>\n",
       "      <td>189.176888</td>\n",
       "      <td>0.000487</td>\n",
       "      <td>0.0</td>\n",
       "      <td>0.000333</td>\n",
       "      <td>0.004000</td>\n",
       "      <td>397.900</td>\n",
       "      <td>276.233333</td>\n",
       "      <td>1408.000</td>\n",
       "      <td>1407.965867</td>\n",
       "    </tr>\n",
       "    <tr>\n",
       "      <th>13</th>\n",
       "      <td>13</td>\n",
       "      <td>gist-960-euclidean</td>\n",
       "      <td>index: faiss IVF, n_partition=800, SQ8, DOT</td>\n",
       "      <td>IVF, n_partition=800, SQ8, DOT</td>\n",
       "      <td>14.103253</td>\n",
       "      <td>55.045118</td>\n",
       "      <td>96.400748</td>\n",
       "      <td>114.876957</td>\n",
       "      <td>0.000687</td>\n",
       "      <td>0.0</td>\n",
       "      <td>0.000667</td>\n",
       "      <td>0.006000</td>\n",
       "      <td>416.100</td>\n",
       "      <td>332.133333</td>\n",
       "      <td>1409.024</td>\n",
       "      <td>1409.024000</td>\n",
       "    </tr>\n",
       "    <tr>\n",
       "      <th>14</th>\n",
       "      <td>14</td>\n",
       "      <td>gist-960-euclidean</td>\n",
       "      <td>index: faiss IVF, n_partition=1600, SQ8, DOT</td>\n",
       "      <td>IVF, n_partition=1600, SQ8, DOT</td>\n",
       "      <td>14.097321</td>\n",
       "      <td>117.089809</td>\n",
       "      <td>51.271446</td>\n",
       "      <td>60.781794</td>\n",
       "      <td>0.000827</td>\n",
       "      <td>0.0</td>\n",
       "      <td>0.001333</td>\n",
       "      <td>0.007333</td>\n",
       "      <td>416.600</td>\n",
       "      <td>333.133333</td>\n",
       "      <td>1412.096</td>\n",
       "      <td>1412.096000</td>\n",
       "    </tr>\n",
       "  </tbody>\n",
       "</table>\n",
       "</div>"
      ],
      "text/plain": [
       "    Unnamed: 0             Dataset  \\\n",
       "0            0  gist-960-euclidean   \n",
       "1            1  gist-960-euclidean   \n",
       "2            2  gist-960-euclidean   \n",
       "3            3  gist-960-euclidean   \n",
       "4            4  gist-960-euclidean   \n",
       "5            5  gist-960-euclidean   \n",
       "6            6  gist-960-euclidean   \n",
       "7            7  gist-960-euclidean   \n",
       "8            8  gist-960-euclidean   \n",
       "9            9  gist-960-euclidean   \n",
       "10          10  gist-960-euclidean   \n",
       "11          11  gist-960-euclidean   \n",
       "12          12  gist-960-euclidean   \n",
       "13          13  gist-960-euclidean   \n",
       "14          14  gist-960-euclidean   \n",
       "\n",
       "                                            Index  \\\n",
       "0    index: faiss IVF, n_partition=100, None, DOT   \n",
       "1    index: faiss IVF, n_partition=200, None, DOT   \n",
       "2    index: faiss IVF, n_partition=400, None, DOT   \n",
       "3    index: faiss IVF, n_partition=800, None, DOT   \n",
       "4   index: faiss IVF, n_partition=1600, None, DOT   \n",
       "5            faiss IVF, n_partition=100, PQ8, DOT   \n",
       "6            faiss IVF, n_partition=200, PQ8, DOT   \n",
       "7     index: faiss IVF, n_partition=400, PQ8, DOT   \n",
       "8     index: faiss IVF, n_partition=800, PQ8, DOT   \n",
       "9    index: faiss IVF, n_partition=1600, PQ8, DOT   \n",
       "10    index: faiss IVF, n_partition=100, SQ8, DOT   \n",
       "11    index: faiss IVF, n_partition=200, SQ8, DOT   \n",
       "12    index: faiss IVF, n_partition=400, SQ8, DOT   \n",
       "13    index: faiss IVF, n_partition=800, SQ8, DOT   \n",
       "14   index: faiss IVF, n_partition=1600, SQ8, DOT   \n",
       "\n",
       "                                    Index parameters.  \\\n",
       "0                     IVF, n_partition=100, None, DOT   \n",
       "1                     IVF, n_partition=200, None, DOT   \n",
       "2                     IVF, n_partition=400, None, DOT   \n",
       "3                     IVF, n_partition=800, None, DOT   \n",
       "4                    IVF, n_partition=1600, None, DOT   \n",
       "5   error: Traceback (most recent call last):\\n  F...   \n",
       "6   error: Traceback (most recent call last):\\n  F...   \n",
       "7   error: Traceback (most recent call last):\\n  F...   \n",
       "8                      IVF, n_partition=800, PQ8, DOT   \n",
       "9                     IVF, n_partition=1600, PQ8, DOT   \n",
       "10                     IVF, n_partition=100, SQ8, DOT   \n",
       "11                     IVF, n_partition=200, SQ8, DOT   \n",
       "12                     IVF, n_partition=400, SQ8, DOT   \n",
       "13                     IVF, n_partition=800, SQ8, DOT   \n",
       "14                    IVF, n_partition=1600, SQ8, DOT   \n",
       "\n",
       "    Server startup speed (s)  Index build speed (s)  Search speed avg. (ms)  \\\n",
       "0                  29.550785              12.196287              466.127652   \n",
       "1                  28.922641              14.341038              266.225075   \n",
       "2                  29.018335              20.753354              148.021285   \n",
       "3                  29.157651              35.677776               85.032358   \n",
       "4                  28.945927              77.733385               46.192698   \n",
       "5                  -1.000000              -1.000000               -1.000000   \n",
       "6                  -1.000000              -1.000000               -1.000000   \n",
       "7                  -1.000000              -1.000000               -1.000000   \n",
       "8                   7.938129             520.221030               10.384226   \n",
       "9                   7.961683             464.687658                9.734543   \n",
       "10                 14.095102              11.450311              525.093402   \n",
       "11                 14.027710              16.684525              301.350463   \n",
       "12                 14.119459              29.563128              164.958119   \n",
       "13                 14.103253              55.045118               96.400748   \n",
       "14                 14.097321             117.089809               51.271446   \n",
       "\n",
       "    Search speed p95 (ms)  Recall avg  Recall@1  Recall@10  Recall@100  \\\n",
       "0              503.796797    0.000287       0.0   0.000333    0.002000   \n",
       "1              301.910465    0.000343       0.0   0.000333    0.002667   \n",
       "2              172.958851    0.000443       0.0   0.000333    0.004333   \n",
       "3              101.179235    0.000610       0.0   0.000667    0.005667   \n",
       "4               54.709877    0.000780       0.0   0.001333    0.007667   \n",
       "5               -1.000000   -1.000000      -1.0  -1.000000   -1.000000   \n",
       "6               -1.000000   -1.000000      -1.0  -1.000000   -1.000000   \n",
       "7               -1.000000   -1.000000      -1.0  -1.000000   -1.000000   \n",
       "8               13.416402    0.001517       0.0   0.000333    0.003667   \n",
       "9               12.800980    0.001897       0.0   0.000000    0.002667   \n",
       "10             567.221911    0.000297       0.0   0.000667    0.002000   \n",
       "11             339.590249    0.000377       0.0   0.000667    0.002667   \n",
       "12             189.176888    0.000487       0.0   0.000333    0.004000   \n",
       "13             114.876957    0.000687       0.0   0.000667    0.006000   \n",
       "14              60.781794    0.000827       0.0   0.001333    0.007333   \n",
       "\n",
       "    ingesting_max  ingesting_mean  benchmarking_max  benchmarking_mean  \n",
       "0         983.900      493.225000          4151.296        4151.296000  \n",
       "1        1496.064      625.766000          4152.320        4152.101685  \n",
       "2        1271.808      567.402000          4152.320        4152.320000  \n",
       "3        1212.416      551.979000          4154.368        4154.368000  \n",
       "4        3171.328      888.065600          4157.440        4157.440000  \n",
       "5          -1.000       -1.000000            -1.000          -1.000000  \n",
       "6          -1.000       -1.000000            -1.000          -1.000000  \n",
       "7          -1.000       -1.000000            -1.000          -1.000000  \n",
       "8         416.900      333.666667           502.900         502.728571  \n",
       "9         416.300      332.666667           505.700         505.617460  \n",
       "10        459.000      321.075000          1406.976        1406.074530  \n",
       "11        416.500      333.233333          1406.976        1406.976000  \n",
       "12        397.900      276.233333          1408.000        1407.965867  \n",
       "13        416.100      332.133333          1409.024        1409.024000  \n",
       "14        416.600      333.133333          1412.096        1412.096000  "
      ]
     },
     "execution_count": 70,
     "metadata": {},
     "output_type": "execute_result"
    }
   ],
   "source": [
    "df_results"
   ]
  },
  {
   "cell_type": "code",
   "execution_count": 71,
   "metadata": {},
   "outputs": [],
   "source": [
    "df_results = df_results.query(\"Index != 'None'\")  # ignore failed runs\n",
    "df_results = df_results.query(\"benchmarking_mean != -1\")  # ignore failed runs"
   ]
  },
  {
   "cell_type": "code",
   "execution_count": 72,
   "metadata": {},
   "outputs": [],
   "source": [
    "df_results[\"index_prov\"] = df_results.Index.str.split(\" \").apply(lambda l: l[1])"
   ]
  },
  {
   "cell_type": "code",
   "execution_count": 73,
   "metadata": {},
   "outputs": [],
   "source": [
    "df_results = df_results.dropna()"
   ]
  },
  {
   "cell_type": "code",
   "execution_count": 74,
   "metadata": {},
   "outputs": [
    {
     "data": {
      "text/plain": [
       "Index(['Unnamed: 0', 'Dataset', 'Index', 'Index parameters.',\n",
       "       'Server startup speed (s)', 'Index build speed (s)',\n",
       "       'Search speed avg. (ms)', 'Search speed p95 (ms)', 'Recall avg',\n",
       "       'Recall@1', 'Recall@10', 'Recall@100', 'ingesting_max',\n",
       "       'ingesting_mean', 'benchmarking_max', 'benchmarking_mean',\n",
       "       'index_prov'],\n",
       "      dtype='object')"
      ]
     },
     "execution_count": 74,
     "metadata": {},
     "output_type": "execute_result"
    }
   ],
   "source": [
    "df_results.columns"
   ]
  },
  {
   "cell_type": "code",
   "execution_count": 75,
   "metadata": {},
   "outputs": [
    {
     "data": {
      "text/plain": [
       "(12, 17)"
      ]
     },
     "execution_count": 75,
     "metadata": {},
     "output_type": "execute_result"
    }
   ],
   "source": [
    "df_results.shape"
   ]
  },
  {
   "cell_type": "code",
   "execution_count": 76,
   "metadata": {},
   "outputs": [],
   "source": [
    "# df_results[df_results.isna()]"
   ]
  },
  {
   "cell_type": "code",
   "execution_count": 77,
   "metadata": {},
   "outputs": [
    {
     "data": {
      "application/vnd.plotly.v1+json": {
       "config": {
        "plotlyServerURL": "https://plot.ly"
       },
       "data": [
        {
         "customdata": [
          [
           "index: faiss IVF, n_partition=100, None, DOT",
           983.9,
           4151.296000000001
          ],
          [
           "index: faiss IVF, n_partition=200, None, DOT",
           1496.064,
           4152.101685279188
          ],
          [
           "index: faiss IVF, n_partition=400, None, DOT",
           1271.808,
           4152.32
          ],
          [
           "index: faiss IVF, n_partition=800, None, DOT",
           1212.416,
           4154.368000000001
          ],
          [
           "index: faiss IVF, n_partition=1600, None, DOT",
           3171.328,
           4157.4400000000005
          ],
          [
           "index: faiss IVF, n_partition=800, PQ8, DOT",
           416.9,
           502.7285714285715
          ],
          [
           "index: faiss IVF, n_partition=1600, PQ8, DOT",
           416.3,
           505.61746031746014
          ],
          [
           "index: faiss IVF, n_partition=100, SQ8, DOT",
           459,
           1406.0745299145296
          ],
          [
           "index: faiss IVF, n_partition=200, SQ8, DOT",
           416.5,
           1406.976
          ],
          [
           "index: faiss IVF, n_partition=400, SQ8, DOT",
           397.9,
           1407.965866666667
          ],
          [
           "index: faiss IVF, n_partition=800, SQ8, DOT",
           416.1,
           1409.0239999999997
          ],
          [
           "index: faiss IVF, n_partition=1600, SQ8, DOT",
           416.6,
           1412.0959999999998
          ]
         ],
         "hovertemplate": "index_prov=faiss<br>Recall avg=%{x}<br>Search speed avg. (ms)=%{y}<br>benchmarking_mean=%{customdata[2]}<br>Index=%{customdata[0]}<br>ingesting_max=%{customdata[1]}<extra></extra>",
         "legendgroup": "faiss",
         "marker": {
          "color": "#636efa",
          "size": [
           4151.296000000001,
           4152.101685279188,
           4152.32,
           4154.368000000001,
           4157.4400000000005,
           502.7285714285715,
           505.61746031746014,
           1406.0745299145296,
           1406.976,
           1407.965866666667,
           1409.0239999999997,
           1412.0959999999998
          ],
          "sizemode": "area",
          "sizeref": 10.393600000000001,
          "symbol": "circle"
         },
         "mode": "markers",
         "name": "faiss",
         "orientation": "v",
         "showlegend": true,
         "type": "scatter",
         "x": [
          0.0002866666666666,
          0.0003433333333333,
          0.0004433333333333,
          0.00061,
          0.00078,
          0.0015166666666666,
          0.0018966666666666,
          0.0002966666666666,
          0.0003766666666666,
          0.0004866666666666,
          0.0006866666666666,
          0.0008266666666666
         ],
         "xaxis": "x",
         "y": [
          466.1276523761141,
          266.2250751629472,
          148.02128547104076,
          85.03235769458115,
          46.19269753961513,
          10.384226142584035,
          9.73454328874747,
          525.0934015214443,
          301.3504630754081,
          164.95811850298196,
          96.40074837797631,
          51.27144604766121
         ],
         "yaxis": "y"
        },
        {
         "hoverinfo": "text",
         "marker": {
          "opacity": 0.1,
          "size": [
           39.356,
           59.842560000000006,
           50.87232,
           48.49664,
           126.85312,
           16.676,
           16.652,
           18.36,
           16.66,
           15.915999999999999,
           16.644000000000002,
           16.664
          ]
         },
         "mode": "markers",
         "name": "Ingesting max",
         "type": "scatter",
         "x": [
          0.0002866666666666,
          0.0003433333333333,
          0.0004433333333333,
          0.00061,
          0.00078,
          0.0015166666666666,
          0.0018966666666666,
          0.0002966666666666,
          0.0003766666666666,
          0.0004866666666666,
          0.0006866666666666,
          0.0008266666666666
         ],
         "y": [
          466.1276523761141,
          266.2250751629472,
          148.02128547104076,
          85.03235769458115,
          46.19269753961513,
          10.384226142584035,
          9.73454328874747,
          525.0934015214443,
          301.3504630754081,
          164.95811850298196,
          96.40074837797631,
          51.27144604766121
         ]
        }
       ],
       "layout": {
        "legend": {
         "itemsizing": "constant",
         "title": {
          "text": "index_prov"
         },
         "tracegroupgap": 0
        },
        "margin": {
         "t": 60
        },
        "template": {
         "data": {
          "bar": [
           {
            "error_x": {
             "color": "#2a3f5f"
            },
            "error_y": {
             "color": "#2a3f5f"
            },
            "marker": {
             "line": {
              "color": "#E5ECF6",
              "width": 0.5
             },
             "pattern": {
              "fillmode": "overlay",
              "size": 10,
              "solidity": 0.2
             }
            },
            "type": "bar"
           }
          ],
          "barpolar": [
           {
            "marker": {
             "line": {
              "color": "#E5ECF6",
              "width": 0.5
             },
             "pattern": {
              "fillmode": "overlay",
              "size": 10,
              "solidity": 0.2
             }
            },
            "type": "barpolar"
           }
          ],
          "carpet": [
           {
            "aaxis": {
             "endlinecolor": "#2a3f5f",
             "gridcolor": "white",
             "linecolor": "white",
             "minorgridcolor": "white",
             "startlinecolor": "#2a3f5f"
            },
            "baxis": {
             "endlinecolor": "#2a3f5f",
             "gridcolor": "white",
             "linecolor": "white",
             "minorgridcolor": "white",
             "startlinecolor": "#2a3f5f"
            },
            "type": "carpet"
           }
          ],
          "choropleth": [
           {
            "colorbar": {
             "outlinewidth": 0,
             "ticks": ""
            },
            "type": "choropleth"
           }
          ],
          "contour": [
           {
            "colorbar": {
             "outlinewidth": 0,
             "ticks": ""
            },
            "colorscale": [
             [
              0,
              "#0d0887"
             ],
             [
              0.1111111111111111,
              "#46039f"
             ],
             [
              0.2222222222222222,
              "#7201a8"
             ],
             [
              0.3333333333333333,
              "#9c179e"
             ],
             [
              0.4444444444444444,
              "#bd3786"
             ],
             [
              0.5555555555555556,
              "#d8576b"
             ],
             [
              0.6666666666666666,
              "#ed7953"
             ],
             [
              0.7777777777777778,
              "#fb9f3a"
             ],
             [
              0.8888888888888888,
              "#fdca26"
             ],
             [
              1,
              "#f0f921"
             ]
            ],
            "type": "contour"
           }
          ],
          "contourcarpet": [
           {
            "colorbar": {
             "outlinewidth": 0,
             "ticks": ""
            },
            "type": "contourcarpet"
           }
          ],
          "heatmap": [
           {
            "colorbar": {
             "outlinewidth": 0,
             "ticks": ""
            },
            "colorscale": [
             [
              0,
              "#0d0887"
             ],
             [
              0.1111111111111111,
              "#46039f"
             ],
             [
              0.2222222222222222,
              "#7201a8"
             ],
             [
              0.3333333333333333,
              "#9c179e"
             ],
             [
              0.4444444444444444,
              "#bd3786"
             ],
             [
              0.5555555555555556,
              "#d8576b"
             ],
             [
              0.6666666666666666,
              "#ed7953"
             ],
             [
              0.7777777777777778,
              "#fb9f3a"
             ],
             [
              0.8888888888888888,
              "#fdca26"
             ],
             [
              1,
              "#f0f921"
             ]
            ],
            "type": "heatmap"
           }
          ],
          "heatmapgl": [
           {
            "colorbar": {
             "outlinewidth": 0,
             "ticks": ""
            },
            "colorscale": [
             [
              0,
              "#0d0887"
             ],
             [
              0.1111111111111111,
              "#46039f"
             ],
             [
              0.2222222222222222,
              "#7201a8"
             ],
             [
              0.3333333333333333,
              "#9c179e"
             ],
             [
              0.4444444444444444,
              "#bd3786"
             ],
             [
              0.5555555555555556,
              "#d8576b"
             ],
             [
              0.6666666666666666,
              "#ed7953"
             ],
             [
              0.7777777777777778,
              "#fb9f3a"
             ],
             [
              0.8888888888888888,
              "#fdca26"
             ],
             [
              1,
              "#f0f921"
             ]
            ],
            "type": "heatmapgl"
           }
          ],
          "histogram": [
           {
            "marker": {
             "pattern": {
              "fillmode": "overlay",
              "size": 10,
              "solidity": 0.2
             }
            },
            "type": "histogram"
           }
          ],
          "histogram2d": [
           {
            "colorbar": {
             "outlinewidth": 0,
             "ticks": ""
            },
            "colorscale": [
             [
              0,
              "#0d0887"
             ],
             [
              0.1111111111111111,
              "#46039f"
             ],
             [
              0.2222222222222222,
              "#7201a8"
             ],
             [
              0.3333333333333333,
              "#9c179e"
             ],
             [
              0.4444444444444444,
              "#bd3786"
             ],
             [
              0.5555555555555556,
              "#d8576b"
             ],
             [
              0.6666666666666666,
              "#ed7953"
             ],
             [
              0.7777777777777778,
              "#fb9f3a"
             ],
             [
              0.8888888888888888,
              "#fdca26"
             ],
             [
              1,
              "#f0f921"
             ]
            ],
            "type": "histogram2d"
           }
          ],
          "histogram2dcontour": [
           {
            "colorbar": {
             "outlinewidth": 0,
             "ticks": ""
            },
            "colorscale": [
             [
              0,
              "#0d0887"
             ],
             [
              0.1111111111111111,
              "#46039f"
             ],
             [
              0.2222222222222222,
              "#7201a8"
             ],
             [
              0.3333333333333333,
              "#9c179e"
             ],
             [
              0.4444444444444444,
              "#bd3786"
             ],
             [
              0.5555555555555556,
              "#d8576b"
             ],
             [
              0.6666666666666666,
              "#ed7953"
             ],
             [
              0.7777777777777778,
              "#fb9f3a"
             ],
             [
              0.8888888888888888,
              "#fdca26"
             ],
             [
              1,
              "#f0f921"
             ]
            ],
            "type": "histogram2dcontour"
           }
          ],
          "mesh3d": [
           {
            "colorbar": {
             "outlinewidth": 0,
             "ticks": ""
            },
            "type": "mesh3d"
           }
          ],
          "parcoords": [
           {
            "line": {
             "colorbar": {
              "outlinewidth": 0,
              "ticks": ""
             }
            },
            "type": "parcoords"
           }
          ],
          "pie": [
           {
            "automargin": true,
            "type": "pie"
           }
          ],
          "scatter": [
           {
            "fillpattern": {
             "fillmode": "overlay",
             "size": 10,
             "solidity": 0.2
            },
            "type": "scatter"
           }
          ],
          "scatter3d": [
           {
            "line": {
             "colorbar": {
              "outlinewidth": 0,
              "ticks": ""
             }
            },
            "marker": {
             "colorbar": {
              "outlinewidth": 0,
              "ticks": ""
             }
            },
            "type": "scatter3d"
           }
          ],
          "scattercarpet": [
           {
            "marker": {
             "colorbar": {
              "outlinewidth": 0,
              "ticks": ""
             }
            },
            "type": "scattercarpet"
           }
          ],
          "scattergeo": [
           {
            "marker": {
             "colorbar": {
              "outlinewidth": 0,
              "ticks": ""
             }
            },
            "type": "scattergeo"
           }
          ],
          "scattergl": [
           {
            "marker": {
             "colorbar": {
              "outlinewidth": 0,
              "ticks": ""
             }
            },
            "type": "scattergl"
           }
          ],
          "scattermapbox": [
           {
            "marker": {
             "colorbar": {
              "outlinewidth": 0,
              "ticks": ""
             }
            },
            "type": "scattermapbox"
           }
          ],
          "scatterpolar": [
           {
            "marker": {
             "colorbar": {
              "outlinewidth": 0,
              "ticks": ""
             }
            },
            "type": "scatterpolar"
           }
          ],
          "scatterpolargl": [
           {
            "marker": {
             "colorbar": {
              "outlinewidth": 0,
              "ticks": ""
             }
            },
            "type": "scatterpolargl"
           }
          ],
          "scatterternary": [
           {
            "marker": {
             "colorbar": {
              "outlinewidth": 0,
              "ticks": ""
             }
            },
            "type": "scatterternary"
           }
          ],
          "surface": [
           {
            "colorbar": {
             "outlinewidth": 0,
             "ticks": ""
            },
            "colorscale": [
             [
              0,
              "#0d0887"
             ],
             [
              0.1111111111111111,
              "#46039f"
             ],
             [
              0.2222222222222222,
              "#7201a8"
             ],
             [
              0.3333333333333333,
              "#9c179e"
             ],
             [
              0.4444444444444444,
              "#bd3786"
             ],
             [
              0.5555555555555556,
              "#d8576b"
             ],
             [
              0.6666666666666666,
              "#ed7953"
             ],
             [
              0.7777777777777778,
              "#fb9f3a"
             ],
             [
              0.8888888888888888,
              "#fdca26"
             ],
             [
              1,
              "#f0f921"
             ]
            ],
            "type": "surface"
           }
          ],
          "table": [
           {
            "cells": {
             "fill": {
              "color": "#EBF0F8"
             },
             "line": {
              "color": "white"
             }
            },
            "header": {
             "fill": {
              "color": "#C8D4E3"
             },
             "line": {
              "color": "white"
             }
            },
            "type": "table"
           }
          ]
         },
         "layout": {
          "annotationdefaults": {
           "arrowcolor": "#2a3f5f",
           "arrowhead": 0,
           "arrowwidth": 1
          },
          "autotypenumbers": "strict",
          "coloraxis": {
           "colorbar": {
            "outlinewidth": 0,
            "ticks": ""
           }
          },
          "colorscale": {
           "diverging": [
            [
             0,
             "#8e0152"
            ],
            [
             0.1,
             "#c51b7d"
            ],
            [
             0.2,
             "#de77ae"
            ],
            [
             0.3,
             "#f1b6da"
            ],
            [
             0.4,
             "#fde0ef"
            ],
            [
             0.5,
             "#f7f7f7"
            ],
            [
             0.6,
             "#e6f5d0"
            ],
            [
             0.7,
             "#b8e186"
            ],
            [
             0.8,
             "#7fbc41"
            ],
            [
             0.9,
             "#4d9221"
            ],
            [
             1,
             "#276419"
            ]
           ],
           "sequential": [
            [
             0,
             "#0d0887"
            ],
            [
             0.1111111111111111,
             "#46039f"
            ],
            [
             0.2222222222222222,
             "#7201a8"
            ],
            [
             0.3333333333333333,
             "#9c179e"
            ],
            [
             0.4444444444444444,
             "#bd3786"
            ],
            [
             0.5555555555555556,
             "#d8576b"
            ],
            [
             0.6666666666666666,
             "#ed7953"
            ],
            [
             0.7777777777777778,
             "#fb9f3a"
            ],
            [
             0.8888888888888888,
             "#fdca26"
            ],
            [
             1,
             "#f0f921"
            ]
           ],
           "sequentialminus": [
            [
             0,
             "#0d0887"
            ],
            [
             0.1111111111111111,
             "#46039f"
            ],
            [
             0.2222222222222222,
             "#7201a8"
            ],
            [
             0.3333333333333333,
             "#9c179e"
            ],
            [
             0.4444444444444444,
             "#bd3786"
            ],
            [
             0.5555555555555556,
             "#d8576b"
            ],
            [
             0.6666666666666666,
             "#ed7953"
            ],
            [
             0.7777777777777778,
             "#fb9f3a"
            ],
            [
             0.8888888888888888,
             "#fdca26"
            ],
            [
             1,
             "#f0f921"
            ]
           ]
          },
          "colorway": [
           "#636efa",
           "#EF553B",
           "#00cc96",
           "#ab63fa",
           "#FFA15A",
           "#19d3f3",
           "#FF6692",
           "#B6E880",
           "#FF97FF",
           "#FECB52"
          ],
          "font": {
           "color": "#2a3f5f"
          },
          "geo": {
           "bgcolor": "white",
           "lakecolor": "white",
           "landcolor": "#E5ECF6",
           "showlakes": true,
           "showland": true,
           "subunitcolor": "white"
          },
          "hoverlabel": {
           "align": "left"
          },
          "hovermode": "closest",
          "mapbox": {
           "style": "light"
          },
          "paper_bgcolor": "white",
          "plot_bgcolor": "#E5ECF6",
          "polar": {
           "angularaxis": {
            "gridcolor": "white",
            "linecolor": "white",
            "ticks": ""
           },
           "bgcolor": "#E5ECF6",
           "radialaxis": {
            "gridcolor": "white",
            "linecolor": "white",
            "ticks": ""
           }
          },
          "scene": {
           "xaxis": {
            "backgroundcolor": "#E5ECF6",
            "gridcolor": "white",
            "gridwidth": 2,
            "linecolor": "white",
            "showbackground": true,
            "ticks": "",
            "zerolinecolor": "white"
           },
           "yaxis": {
            "backgroundcolor": "#E5ECF6",
            "gridcolor": "white",
            "gridwidth": 2,
            "linecolor": "white",
            "showbackground": true,
            "ticks": "",
            "zerolinecolor": "white"
           },
           "zaxis": {
            "backgroundcolor": "#E5ECF6",
            "gridcolor": "white",
            "gridwidth": 2,
            "linecolor": "white",
            "showbackground": true,
            "ticks": "",
            "zerolinecolor": "white"
           }
          },
          "shapedefaults": {
           "line": {
            "color": "#2a3f5f"
           }
          },
          "ternary": {
           "aaxis": {
            "gridcolor": "white",
            "linecolor": "white",
            "ticks": ""
           },
           "baxis": {
            "gridcolor": "white",
            "linecolor": "white",
            "ticks": ""
           },
           "bgcolor": "#E5ECF6",
           "caxis": {
            "gridcolor": "white",
            "linecolor": "white",
            "ticks": ""
           }
          },
          "title": {
           "x": 0.05
          },
          "xaxis": {
           "automargin": true,
           "gridcolor": "white",
           "linecolor": "white",
           "ticks": "",
           "title": {
            "standoff": 15
           },
           "zerolinecolor": "white",
           "zerolinewidth": 2
          },
          "yaxis": {
           "automargin": true,
           "gridcolor": "white",
           "linecolor": "white",
           "ticks": "",
           "title": {
            "standoff": 15
           },
           "zerolinecolor": "white",
           "zerolinewidth": 2
          }
         }
        },
        "xaxis": {
         "anchor": "y",
         "domain": [
          0,
          1
         ],
         "title": {
          "text": "Recall avg"
         }
        },
        "yaxis": {
         "anchor": "x",
         "domain": [
          0,
          1
         ],
         "title": {
          "text": "Search speed avg. (ms)"
         }
        }
       }
      }
     },
     "metadata": {},
     "output_type": "display_data"
    }
   ],
   "source": [
    "import plotly.express as px\n",
    "import plotly.graph_objects as go\n",
    "\n",
    "# Your existing DataFrame and plot\n",
    "fig = px.scatter(\n",
    "    df_results,\n",
    "    x=\"Recall avg\",\n",
    "    y=\"Search speed avg. (ms)\",\n",
    "    hover_data=[\"Index\",\"ingesting_max\",\"benchmarking_mean\"],\n",
    "    color=\"index_prov\",\n",
    "    size=df_results[\"benchmarking_mean\"],\n",
    ")\n",
    "\n",
    "# Adding a similar scatter plot but with semi-transparency and different size mapping\n",
    "fig.add_trace(\n",
    "    go.Scatter(\n",
    "        x=df_results[\"Recall avg\"],\n",
    "        y=df_results[\"Search speed avg. (ms)\"],\n",
    "        mode=\"markers\",\n",
    "        marker=dict(\n",
    "            size=df_results[\"ingesting_max\"] / 25,  # Size based on 'ingesting_max' column\n",
    "            opacity=0.1,  # Semi-transparent markers\n",
    "            # color=fig.data[0].marker.color,  # Use the same color as the first plot\n",
    "            # line=dict(color=\"MediumPurple\", width=2),\n",
    "        ),\n",
    "        hoverinfo=\"text\",  # You can customize hover info as needed\n",
    "        name=\"Ingesting max\",\n",
    "    )\n",
    ")\n",
    "\n",
    "fig.show()"
   ]
  },
  {
   "cell_type": "code",
   "execution_count": 78,
   "metadata": {},
   "outputs": [],
   "source": [
    "df_results[[\"IndexProvider\", \"IndexType\", \"nPartitions\", \"Compression\", \"Metric\"]] = df_results.Index.str.replace(\",\", \"\").str.replace(\"=\", \" \").str.split(\" \", expand=True)[[1, 2, 4, 5, 6]]"
   ]
  },
  {
   "cell_type": "code",
   "execution_count": 79,
   "metadata": {},
   "outputs": [
    {
     "data": {
      "text/plain": [
       "Index(['Unnamed: 0', 'Dataset', 'Index', 'Index parameters.',\n",
       "       'Server startup speed (s)', 'Index build speed (s)',\n",
       "       'Search speed avg. (ms)', 'Search speed p95 (ms)', 'Recall avg',\n",
       "       'Recall@1', 'Recall@10', 'Recall@100', 'ingesting_max',\n",
       "       'ingesting_mean', 'benchmarking_max', 'benchmarking_mean', 'index_prov',\n",
       "       'IndexProvider', 'IndexType', 'nPartitions', 'Compression', 'Metric'],\n",
       "      dtype='object')"
      ]
     },
     "execution_count": 79,
     "metadata": {},
     "output_type": "execute_result"
    }
   ],
   "source": [
    "df_results.columns"
   ]
  },
  {
   "cell_type": "code",
   "execution_count": 80,
   "metadata": {},
   "outputs": [
    {
     "data": {
      "image/png": "[encoded data removed]",
      "text/plain": [
       "<Figure size 640x480 with 1 Axes>"
      ]
     },
     "metadata": {},
     "output_type": "display_data"
    }
   ],
   "source": [
    "df_plot = df_results.query(\"Compression == 'SQ8'\")\n",
    "plt.scatter(df_plot.nPartitions, df_plot[\"Search speed avg. (ms)\"]/10, label=\"SQ8\", c=\"red\")\n",
    "df_plot = df_results.query(\"Compression == 'PQ8'\")\n",
    "plt.scatter(df_plot.nPartitions, df_plot[\"Search speed avg. (ms)\"]/10, label=\"PQ8\")\n",
    "plt.title(\"Faiss IVF SQ8 - latency vs n partitions\")\n",
    "plt.xlabel(\"n partitions\")\n",
    "plt.ylabel(\"Mean search latency (ms)\")\n",
    "plt.legend()\n",
    "plt.show()"
   ]
  },
  {
   "cell_type": "code",
   "execution_count": 94,
   "metadata": {},
   "outputs": [
    {
     "data": {
      "image/png": "[encoded data removed]",
      "text/plain": [
       "<Figure size 600x400 with 1 Axes>"
      ]
     },
     "metadata": {},
     "output_type": "display_data"
    }
   ],
   "source": [
    "import seaborn as sns\n",
    "\n",
    "plt.figure(figsize=(6,4))\n",
    "sns.scatterplot(data=df_results, x=\"nPartitions\", y=\"Search speed avg. (ms)\", hue=\"benchmarking_mean\", style=\"Compression\", palette=\"flare\", s=70)\n",
    "plt.title(\"Faiss IVF SQ8 - latency vs n partitions\")\n",
    "plt.xlabel(\"n partitions\")\n",
    "plt.ylabel(\"Mean search latency (ms)\")\n",
    "plt.show()"
   ]
  }
 ],
 "metadata": {
  "kernelspec": {
   "display_name": "vod-EhoGd8y6-py3.11",
   "language": "python",
   "name": "python3"
  },
  "language_info": {
   "codemirror_mode": {
    "name": "ipython",
    "version": 3
   },
   "file_extension": ".py",
   "mimetype": "text/x-python",
   "name": "python",
   "nbconvert_exporter": "python",
   "pygments_lexer": "ipython3",
   "version": "3.11.2"
  }
 },
 "nbformat": 4,
 "nbformat_minor": 2
}
