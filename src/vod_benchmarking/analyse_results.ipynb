{
 "cells": [
  {
   "cell_type": "code",
   "execution_count": 570,
   "metadata": {},
   "outputs": [],
   "source": [
    "import pandas as pd\n",
    "import matplotlib.pyplot as plt\n",
    "import os"
   ]
  },
  {
   "cell_type": "code",
   "execution_count": 571,
   "metadata": {},
   "outputs": [
    {
     "name": "stdout",
     "output_type": "stream",
     "text": [
      "/Users/oas/Downloads/benchmarking_results/2024-02-22-00-19-00.csv\n"
     ]
    }
   ],
   "source": [
    "folder_path = \"/Users/oas/Downloads/benchmarking_results\"\n",
    "# folder_path = \"/Users/oas/Documents/VOD/vod/benchmarking_results\"\n",
    "files = [\n",
    "    os.path.join(folder_path, file)\n",
    "    for file in os.listdir(folder_path)\n",
    "    if os.path.isfile(os.path.join(folder_path, file))\n",
    "]\n",
    "files.sort()  # Sort the files by name\n",
    "newest_file = files[-1]  # Pick the newest\n",
    "print(newest_file)"
   ]
  },
  {
   "cell_type": "code",
   "execution_count": 572,
   "metadata": {},
   "outputs": [
    {
     "data": {
      "text/plain": [
       "(108, 16)"
      ]
     },
     "execution_count": 572,
     "metadata": {},
     "output_type": "execute_result"
    }
   ],
   "source": [
    "df_results = pd.read_csv(newest_file)\n",
    "df_results.shape"
   ]
  },
  {
   "cell_type": "code",
   "execution_count": 573,
   "metadata": {},
   "outputs": [
    {
     "data": {
      "text/html": [
       "<div>\n",
       "<style scoped>\n",
       "    .dataframe tbody tr th:only-of-type {\n",
       "        vertical-align: middle;\n",
       "    }\n",
       "\n",
       "    .dataframe tbody tr th {\n",
       "        vertical-align: top;\n",
       "    }\n",
       "\n",
       "    .dataframe thead th {\n",
       "        text-align: right;\n",
       "    }\n",
       "</style>\n",
       "<table border=\"1\" class=\"dataframe\">\n",
       "  <thead>\n",
       "    <tr style=\"text-align: right;\">\n",
       "      <th></th>\n",
       "      <th>Unnamed: 0</th>\n",
       "      <th>Dataset</th>\n",
       "      <th>Index</th>\n",
       "      <th>Index parameters.</th>\n",
       "      <th>Server startup speed (s)</th>\n",
       "      <th>Index build speed (s)</th>\n",
       "      <th>Search speed avg. (ms)</th>\n",
       "      <th>Search speed p95 (ms)</th>\n",
       "      <th>Recall avg</th>\n",
       "      <th>Recall@1</th>\n",
       "      <th>Recall@10</th>\n",
       "      <th>Recall@100</th>\n",
       "      <th>ingesting_max</th>\n",
       "      <th>ingesting_mean</th>\n",
       "      <th>benchmarking_max</th>\n",
       "      <th>benchmarking_mean</th>\n",
       "    </tr>\n",
       "  </thead>\n",
       "  <tbody>\n",
       "    <tr>\n",
       "      <th>54</th>\n",
       "      <td>54</td>\n",
       "      <td>gist-960-euclidean</td>\n",
       "      <td>index: faiss HNSW, M=16, ef_construction=128, ...</td>\n",
       "      <td>HNSW, M=16, ef_construction=128, ef_search=128...</td>\n",
       "      <td>31.089218</td>\n",
       "      <td>175.654355</td>\n",
       "      <td>194.317290</td>\n",
       "      <td>202.675008</td>\n",
       "      <td>0.000113</td>\n",
       "      <td>0.0000</td>\n",
       "      <td>0.0001</td>\n",
       "      <td>0.0010</td>\n",
       "      <td>2533.376</td>\n",
       "      <td>812.915200</td>\n",
       "      <td>4292.608</td>\n",
       "      <td>4281.736533</td>\n",
       "    </tr>\n",
       "    <tr>\n",
       "      <th>55</th>\n",
       "      <td>55</td>\n",
       "      <td>gist-960-euclidean</td>\n",
       "      <td>index: faiss HNSW, M=32, ef_construction=128, ...</td>\n",
       "      <td>HNSW, M=32, ef_construction=128, ef_search=128...</td>\n",
       "      <td>30.409679</td>\n",
       "      <td>378.494433</td>\n",
       "      <td>267.847093</td>\n",
       "      <td>282.663590</td>\n",
       "      <td>0.000126</td>\n",
       "      <td>0.0000</td>\n",
       "      <td>0.0001</td>\n",
       "      <td>0.0010</td>\n",
       "      <td>4087.808</td>\n",
       "      <td>1161.921600</td>\n",
       "      <td>4411.392</td>\n",
       "      <td>4400.295869</td>\n",
       "    </tr>\n",
       "    <tr>\n",
       "      <th>57</th>\n",
       "      <td>57</td>\n",
       "      <td>gist-960-euclidean</td>\n",
       "      <td>index: faiss HNSW, M=16, ef_construction=256, ...</td>\n",
       "      <td>HNSW, M=16, ef_construction=256, ef_search=128...</td>\n",
       "      <td>29.611155</td>\n",
       "      <td>249.330119</td>\n",
       "      <td>199.281282</td>\n",
       "      <td>203.410447</td>\n",
       "      <td>0.000105</td>\n",
       "      <td>0.0000</td>\n",
       "      <td>0.0002</td>\n",
       "      <td>0.0011</td>\n",
       "      <td>629.400</td>\n",
       "      <td>410.100000</td>\n",
       "      <td>4287.488</td>\n",
       "      <td>4275.926710</td>\n",
       "    </tr>\n",
       "    <tr>\n",
       "      <th>58</th>\n",
       "      <td>58</td>\n",
       "      <td>gist-960-euclidean</td>\n",
       "      <td>index: faiss HNSW, M=32, ef_construction=256, ...</td>\n",
       "      <td>HNSW, M=32, ef_construction=256, ef_search=128...</td>\n",
       "      <td>28.630100</td>\n",
       "      <td>436.757662</td>\n",
       "      <td>268.759941</td>\n",
       "      <td>292.169331</td>\n",
       "      <td>0.000129</td>\n",
       "      <td>0.0000</td>\n",
       "      <td>0.0002</td>\n",
       "      <td>0.0010</td>\n",
       "      <td>4045.824</td>\n",
       "      <td>1143.604800</td>\n",
       "      <td>4408.320</td>\n",
       "      <td>4396.925968</td>\n",
       "    </tr>\n",
       "    <tr>\n",
       "      <th>66</th>\n",
       "      <td>66</td>\n",
       "      <td>gist-960-euclidean</td>\n",
       "      <td>index: faiss HNSW, M=16, ef_construction=128, ...</td>\n",
       "      <td>HNSW, M=16, ef_construction=128, ef_search=128...</td>\n",
       "      <td>15.450955</td>\n",
       "      <td>328.333254</td>\n",
       "      <td>224.728841</td>\n",
       "      <td>228.195732</td>\n",
       "      <td>0.000130</td>\n",
       "      <td>0.0000</td>\n",
       "      <td>0.0000</td>\n",
       "      <td>0.0003</td>\n",
       "      <td>462.100</td>\n",
       "      <td>322.275000</td>\n",
       "      <td>1569.792</td>\n",
       "      <td>1546.206968</td>\n",
       "    </tr>\n",
       "    <tr>\n",
       "      <th>69</th>\n",
       "      <td>69</td>\n",
       "      <td>gist-960-euclidean</td>\n",
       "      <td>index: faiss HNSW, M=16, ef_construction=256, ...</td>\n",
       "      <td>HNSW, M=16, ef_construction=256, ef_search=128...</td>\n",
       "      <td>15.432074</td>\n",
       "      <td>396.452885</td>\n",
       "      <td>228.036092</td>\n",
       "      <td>234.834733</td>\n",
       "      <td>0.000152</td>\n",
       "      <td>0.0000</td>\n",
       "      <td>0.0000</td>\n",
       "      <td>0.0004</td>\n",
       "      <td>463.200</td>\n",
       "      <td>323.150000</td>\n",
       "      <td>1565.696</td>\n",
       "      <td>1555.654194</td>\n",
       "    </tr>\n",
       "    <tr>\n",
       "      <th>90</th>\n",
       "      <td>90</td>\n",
       "      <td>gist-960-euclidean</td>\n",
       "      <td>index: milvus HNSW, M=16, ef_construction=128,...</td>\n",
       "      <td>HNSW, M=16, ef_construction=128, ef_search=128...</td>\n",
       "      <td>102.207064</td>\n",
       "      <td>653.902147</td>\n",
       "      <td>9858.027952</td>\n",
       "      <td>12038.590039</td>\n",
       "      <td>0.971829</td>\n",
       "      <td>0.9724</td>\n",
       "      <td>0.9810</td>\n",
       "      <td>0.9815</td>\n",
       "      <td>3050.576</td>\n",
       "      <td>1089.952159</td>\n",
       "      <td>NaN</td>\n",
       "      <td>NaN</td>\n",
       "    </tr>\n",
       "    <tr>\n",
       "      <th>91</th>\n",
       "      <td>91</td>\n",
       "      <td>gist-960-euclidean</td>\n",
       "      <td>index: milvus HNSW, M=32, ef_construction=128,...</td>\n",
       "      <td>HNSW, M=32, ef_construction=128, ef_search=128...</td>\n",
       "      <td>101.395028</td>\n",
       "      <td>595.447718</td>\n",
       "      <td>11025.306249</td>\n",
       "      <td>12996.271735</td>\n",
       "      <td>0.982410</td>\n",
       "      <td>0.9803</td>\n",
       "      <td>0.9895</td>\n",
       "      <td>0.9899</td>\n",
       "      <td>2670.328</td>\n",
       "      <td>1013.404304</td>\n",
       "      <td>NaN</td>\n",
       "      <td>NaN</td>\n",
       "    </tr>\n",
       "    <tr>\n",
       "      <th>92</th>\n",
       "      <td>92</td>\n",
       "      <td>gist-960-euclidean</td>\n",
       "      <td>index: milvus HNSW, M=64, ef_construction=128,...</td>\n",
       "      <td>HNSW, M=64, ef_construction=128, ef_search=128...</td>\n",
       "      <td>101.902125</td>\n",
       "      <td>616.643238</td>\n",
       "      <td>12479.849368</td>\n",
       "      <td>15000.471222</td>\n",
       "      <td>0.985749</td>\n",
       "      <td>0.9824</td>\n",
       "      <td>0.9911</td>\n",
       "      <td>0.9918</td>\n",
       "      <td>3120.812</td>\n",
       "      <td>1203.647382</td>\n",
       "      <td>NaN</td>\n",
       "      <td>NaN</td>\n",
       "    </tr>\n",
       "  </tbody>\n",
       "</table>\n",
       "</div>"
      ],
      "text/plain": [
       "    Unnamed: 0             Dataset  \\\n",
       "54          54  gist-960-euclidean   \n",
       "55          55  gist-960-euclidean   \n",
       "57          57  gist-960-euclidean   \n",
       "58          58  gist-960-euclidean   \n",
       "66          66  gist-960-euclidean   \n",
       "69          69  gist-960-euclidean   \n",
       "90          90  gist-960-euclidean   \n",
       "91          91  gist-960-euclidean   \n",
       "92          92  gist-960-euclidean   \n",
       "\n",
       "                                                Index  \\\n",
       "54  index: faiss HNSW, M=16, ef_construction=128, ...   \n",
       "55  index: faiss HNSW, M=32, ef_construction=128, ...   \n",
       "57  index: faiss HNSW, M=16, ef_construction=256, ...   \n",
       "58  index: faiss HNSW, M=32, ef_construction=256, ...   \n",
       "66  index: faiss HNSW, M=16, ef_construction=128, ...   \n",
       "69  index: faiss HNSW, M=16, ef_construction=256, ...   \n",
       "90  index: milvus HNSW, M=16, ef_construction=128,...   \n",
       "91  index: milvus HNSW, M=32, ef_construction=128,...   \n",
       "92  index: milvus HNSW, M=64, ef_construction=128,...   \n",
       "\n",
       "                                    Index parameters.  \\\n",
       "54  HNSW, M=16, ef_construction=128, ef_search=128...   \n",
       "55  HNSW, M=32, ef_construction=128, ef_search=128...   \n",
       "57  HNSW, M=16, ef_construction=256, ef_search=128...   \n",
       "58  HNSW, M=32, ef_construction=256, ef_search=128...   \n",
       "66  HNSW, M=16, ef_construction=128, ef_search=128...   \n",
       "69  HNSW, M=16, ef_construction=256, ef_search=128...   \n",
       "90  HNSW, M=16, ef_construction=128, ef_search=128...   \n",
       "91  HNSW, M=32, ef_construction=128, ef_search=128...   \n",
       "92  HNSW, M=64, ef_construction=128, ef_search=128...   \n",
       "\n",
       "    Server startup speed (s)  Index build speed (s)  Search speed avg. (ms)  \\\n",
       "54                 31.089218             175.654355              194.317290   \n",
       "55                 30.409679             378.494433              267.847093   \n",
       "57                 29.611155             249.330119              199.281282   \n",
       "58                 28.630100             436.757662              268.759941   \n",
       "66                 15.450955             328.333254              224.728841   \n",
       "69                 15.432074             396.452885              228.036092   \n",
       "90                102.207064             653.902147             9858.027952   \n",
       "91                101.395028             595.447718            11025.306249   \n",
       "92                101.902125             616.643238            12479.849368   \n",
       "\n",
       "    Search speed p95 (ms)  Recall avg  Recall@1  Recall@10  Recall@100  \\\n",
       "54             202.675008    0.000113    0.0000     0.0001      0.0010   \n",
       "55             282.663590    0.000126    0.0000     0.0001      0.0010   \n",
       "57             203.410447    0.000105    0.0000     0.0002      0.0011   \n",
       "58             292.169331    0.000129    0.0000     0.0002      0.0010   \n",
       "66             228.195732    0.000130    0.0000     0.0000      0.0003   \n",
       "69             234.834733    0.000152    0.0000     0.0000      0.0004   \n",
       "90           12038.590039    0.971829    0.9724     0.9810      0.9815   \n",
       "91           12996.271735    0.982410    0.9803     0.9895      0.9899   \n",
       "92           15000.471222    0.985749    0.9824     0.9911      0.9918   \n",
       "\n",
       "    ingesting_max  ingesting_mean  benchmarking_max  benchmarking_mean  \n",
       "54       2533.376      812.915200          4292.608        4281.736533  \n",
       "55       4087.808     1161.921600          4411.392        4400.295869  \n",
       "57        629.400      410.100000          4287.488        4275.926710  \n",
       "58       4045.824     1143.604800          4408.320        4396.925968  \n",
       "66        462.100      322.275000          1569.792        1546.206968  \n",
       "69        463.200      323.150000          1565.696        1555.654194  \n",
       "90       3050.576     1089.952159               NaN                NaN  \n",
       "91       2670.328     1013.404304               NaN                NaN  \n",
       "92       3120.812     1203.647382               NaN                NaN  "
      ]
     },
     "execution_count": 573,
     "metadata": {},
     "output_type": "execute_result"
    }
   ],
   "source": [
    "df_results.query(\"Dataset == 'gist-960-euclidean' and ingesting_max != -1\")  # [\"Index parameters.\"].str[-40:]"
   ]
  },
  {
   "cell_type": "code",
   "execution_count": 574,
   "metadata": {},
   "outputs": [],
   "source": [
    "df_results = df_results.query(\"Index != 'None'\")  # ignore failed runs\n",
    "df_results = df_results.query(\"benchmarking_mean != -1\")  # ignore failed runs"
   ]
  },
  {
   "cell_type": "code",
   "execution_count": 575,
   "metadata": {},
   "outputs": [],
   "source": [
    "# extract index information\n",
    "df_results[\"IndexProvider\"] = df_results.Index.str[7:].str.split(\",\").str[0].str.split(\" \").str[0]\n",
    "df_results[\"IndexType\"] = df_results.Index.str[7:].str.split(\",\").str[0].str.split(\" \").str[1]"
   ]
  },
  {
   "cell_type": "code",
   "execution_count": 576,
   "metadata": {},
   "outputs": [
    {
     "data": {
      "text/plain": [
       "''"
      ]
     },
     "execution_count": 576,
     "metadata": {},
     "output_type": "execute_result"
    }
   ],
   "source": [
    "# extract search parameters from parameter string\n",
    "\n",
    "df_hnsw_parameters = (df_results.query(\"IndexType == 'HNSW'\")[\"Index parameters.\"]\n",
    "    .str.replace(\"=\", \", \")\n",
    "    .str.split(\", \", expand=True)[[2, 4, 6, 7, 8]]\n",
    ")\n",
    "df_hnsw_parameters.columns = [\"M\", \"ef_construction\", \"ef_search\", \"Compression\", \"Metric\"]\n",
    "\n",
    "df_ivf_parameters = pd.DataFrame()\n",
    "# TODO fix that this makes errors when no IVF are in benchmark\n",
    "# df_ivf_parameters = (df_results.query(\"IndexType == 'IVF'\")[\"Index parameters.\"]\n",
    "#     .str.replace(\",\", \"\")\n",
    "#     .str.replace(\"=\", \" \")\n",
    "#     .str.split(\" \", expand=True)[[2, 3, 4]]\n",
    "# )\n",
    "# df_ivf_parameters.columns = [\"nPartitions\", \"Compression\", \"Metric\"]\n",
    "\"\""
   ]
  },
  {
   "cell_type": "code",
   "execution_count": 577,
   "metadata": {},
   "outputs": [],
   "source": [
    "# add search parameters to df_results\n",
    "df_parameters = df_hnsw_parameters.combine_first(df_ivf_parameters)\n",
    "df_results = pd.concat((df_results, df_parameters), axis=1)"
   ]
  },
  {
   "cell_type": "code",
   "execution_count": 578,
   "metadata": {},
   "outputs": [
    {
     "data": {
      "text/plain": [
       "(45, 23)"
      ]
     },
     "execution_count": 578,
     "metadata": {},
     "output_type": "execute_result"
    }
   ],
   "source": [
    "df_results.shape"
   ]
  },
  {
   "cell_type": "code",
   "execution_count": 579,
   "metadata": {},
   "outputs": [],
   "source": [
    "# df_results = df_results.dropna()"
   ]
  },
  {
   "cell_type": "code",
   "execution_count": 580,
   "metadata": {},
   "outputs": [
    {
     "data": {
      "text/plain": [
       "Index(['Unnamed: 0', 'Dataset', 'Index', 'Index parameters.',\n",
       "       'Server startup speed (s)', 'Index build speed (s)',\n",
       "       'Search speed avg. (ms)', 'Search speed p95 (ms)', 'Recall avg',\n",
       "       'Recall@1', 'Recall@10', 'Recall@100', 'ingesting_max',\n",
       "       'ingesting_mean', 'benchmarking_max', 'benchmarking_mean',\n",
       "       'IndexProvider', 'IndexType', 'M', 'ef_construction', 'ef_search',\n",
       "       'Compression', 'Metric'],\n",
       "      dtype='object')"
      ]
     },
     "execution_count": 580,
     "metadata": {},
     "output_type": "execute_result"
    }
   ],
   "source": [
    "df_results.columns"
   ]
  },
  {
   "cell_type": "code",
   "execution_count": 581,
   "metadata": {},
   "outputs": [
    {
     "data": {
      "application/vnd.plotly.v1+json": {
       "config": {
        "plotlyServerURL": "https://plot.ly"
       },
       "data": [
        {
         "customdata": [
          [
           "index: faiss HNSW, M=16, ef_construction=128, ef_search=128, None, L2",
           690.3,
           1139.9483076923077,
           "sift-128-euclidean"
          ],
          [
           "index: faiss HNSW, M=32, ef_construction=128, ef_search=128, None, L2",
           426.4,
           1251.249230769231,
           "sift-128-euclidean"
          ],
          [
           "index: faiss HNSW, M=64, ef_construction=128, ef_search=128, None, L2",
           645.2,
           1495.0399999999995,
           "sift-128-euclidean"
          ],
          [
           "index: faiss HNSW, M=16, ef_construction=256, ef_search=128, None, L2",
           430.7,
           1130.4959999999996,
           "sift-128-euclidean"
          ],
          [
           "index: faiss HNSW, M=32, ef_construction=256, ef_search=128, None, L2",
           427.7,
           1249.595076923077,
           "sift-128-euclidean"
          ],
          [
           "index: faiss HNSW, M=64, ef_construction=256, ef_search=128, None, L2",
           797.1,
           1496.2834285714289,
           "sift-128-euclidean"
          ],
          [
           "index: faiss HNSW, M=16, ef_construction=128, ef_search=128, SQ8, L2",
           408.9,
           763.2307692307694,
           "sift-128-euclidean"
          ],
          [
           "index: faiss HNSW, M=32, ef_construction=128, ef_search=128, SQ8, L2",
           427.4,
           883.8153846153848,
           "sift-128-euclidean"
          ],
          [
           "index: faiss HNSW, M=64, ef_construction=128, ef_search=128, SQ8, L2",
           427.7,
           1129.0331428571426,
           "sift-128-euclidean"
          ],
          [
           "index: faiss HNSW, M=16, ef_construction=256, ef_search=128, SQ8, L2",
           409.9,
           762.7384615384615,
           "sift-128-euclidean"
          ],
          [
           "index: faiss HNSW, M=32, ef_construction=256, ef_search=128, SQ8, L2",
           427.9,
           885.9000000000002,
           "sift-128-euclidean"
          ],
          [
           "index: faiss HNSW, M=64, ef_construction=256, ef_search=128, SQ8, L2",
           425.8,
           1127.643428571428,
           "sift-128-euclidean"
          ]
         ],
         "hovertemplate": "IndexProvider=faiss<br>Dataset=%{customdata[3]}<br>Recall avg=%{x}<br>Search speed avg. (ms)=%{y}<br>ingesting_max=%{customdata[1]}<br>Index=%{customdata[0]}<br>benchmarking_mean=%{customdata[2]}<extra></extra>",
         "legendgroup": "faiss, sift-128-euclidean",
         "marker": {
          "color": "#636efa",
          "size": [
           690.3,
           426.4,
           645.2,
           430.7,
           427.7,
           797.1,
           408.9,
           427.4,
           427.7,
           409.9,
           427.9,
           425.8
          ],
          "sizemode": "area",
          "sizeref": 10.21952,
          "symbol": "circle"
         },
         "mode": "markers",
         "name": "faiss, sift-128-euclidean",
         "orientation": "v",
         "showlegend": true,
         "type": "scatter",
         "x": [
          0.92393,
          0.933814,
          0.935673,
          0.930633,
          0.941138,
          0.943165,
          0.290784,
          0.30526,
          0.312751,
          0.29688,
          0.3097679999999999,
          0.3159459999999999
         ],
         "xaxis": "x",
         "y": [
          144.67340860010154,
          168.78502660019876,
          180.77635359986743,
          154.18858620014362,
          185.41077589998167,
          202.81625739989977,
          138.72800339922833,
          179.64549669995904,
          219.2831186006515,
          141.31861699934234,
          188.98123289982323,
          237.12745579978215
         ],
         "yaxis": "y"
        },
        {
         "customdata": [
          [
           "index: faiss HNSW, M=16, ef_construction=128, ef_search=128, None, L2",
           2533.376,
           4281.736533333333,
           "gist-960-euclidean"
          ],
          [
           "index: faiss HNSW, M=32, ef_construction=128, ef_search=128, None, L2",
           4087.808,
           4400.29586885246,
           "gist-960-euclidean"
          ],
          [
           "index: faiss HNSW, M=16, ef_construction=256, ef_search=128, None, L2",
           629.4,
           4275.926709677418,
           "gist-960-euclidean"
          ],
          [
           "index: faiss HNSW, M=32, ef_construction=256, ef_search=128, None, L2",
           4045.824,
           4396.92596825397,
           "gist-960-euclidean"
          ],
          [
           "index: faiss HNSW, M=16, ef_construction=128, ef_search=128, SQ8, L2",
           462.1,
           1546.2069677419358,
           "gist-960-euclidean"
          ],
          [
           "index: faiss HNSW, M=16, ef_construction=256, ef_search=128, SQ8, L2",
           463.2,
           1555.6541935483876,
           "gist-960-euclidean"
          ]
         ],
         "hovertemplate": "IndexProvider=faiss<br>Dataset=%{customdata[3]}<br>Recall avg=%{x}<br>Search speed avg. (ms)=%{y}<br>ingesting_max=%{customdata[1]}<br>Index=%{customdata[0]}<br>benchmarking_mean=%{customdata[2]}<extra></extra>",
         "legendgroup": "faiss, gist-960-euclidean",
         "marker": {
          "color": "#636efa",
          "size": [
           2533.376,
           4087.808,
           629.4,
           4045.824,
           462.1,
           463.2
          ],
          "sizemode": "area",
          "sizeref": 10.21952,
          "symbol": "diamond"
         },
         "mode": "markers",
         "name": "faiss, gist-960-euclidean",
         "orientation": "v",
         "showlegend": true,
         "type": "scatter",
         "x": [
          0.000113,
          0.000126,
          0.0001049999999999,
          0.000129,
          0.00013,
          0.0001519999999999
         ],
         "xaxis": "x",
         "y": [
          194.31729040043135,
          267.8470925005968,
          199.28128249994188,
          268.759940500604,
          224.72884119852097,
          228.03609230031725
         ],
         "yaxis": "y"
        },
        {
         "customdata": [
          [
           "index: qdrant HNSW, M=16, ef_construction=128, ef_search=128, None, L2",
           654.4,
           1278.656,
           "sift-128-euclidean"
          ],
          [
           "index: qdrant HNSW, M=32, ef_construction=128, ef_search=128, None, L2",
           636.8,
           1349.5026526315792,
           "sift-128-euclidean"
          ],
          [
           "index: qdrant HNSW, M=64, ef_construction=128, ef_search=128, None, L2",
           646.4,
           1383.445557894737,
           "sift-128-euclidean"
          ],
          [
           "index: qdrant HNSW, M=16, ef_construction=256, ef_search=128, None, L2",
           640.3,
           1208.8513207547169,
           "sift-128-euclidean"
          ],
          [
           "index: qdrant HNSW, M=32, ef_construction=256, ef_search=128, None, L2",
           631.8,
           1219.3585321100916,
           "sift-128-euclidean"
          ],
          [
           "index: qdrant HNSW, M=64, ef_construction=256, ef_search=128, None, L2",
           632,
           1297.541981308411,
           "sift-128-euclidean"
          ],
          [
           "index: qdrant HNSW, M=16, ef_construction=128, ef_search=128, PQ8, L2",
           691.5,
           1153.592133333333,
           "sift-128-euclidean"
          ],
          [
           "index: qdrant HNSW, M=32, ef_construction=128, ef_search=128, PQ8, L2",
           649.1,
           1196.5724666666667,
           "sift-128-euclidean"
          ],
          [
           "index: qdrant HNSW, M=64, ef_construction=128, ef_search=128, PQ8, L2",
           662.5,
           1129.176068376068,
           "sift-128-euclidean"
          ],
          [
           "index: qdrant HNSW, M=16, ef_construction=256, ef_search=128, PQ8, L2",
           626.2,
           1088.684029850746,
           "sift-128-euclidean"
          ],
          [
           "index: qdrant HNSW, M=32, ef_construction=256, ef_search=128, PQ8, L2",
           635.7,
           1149.3029696969695,
           "sift-128-euclidean"
          ],
          [
           "index: qdrant HNSW, M=64, ef_construction=256, ef_search=128, PQ8, L2",
           665,
           1143.8951515151514,
           "sift-128-euclidean"
          ],
          [
           "index: qdrant HNSW, M=16, ef_construction=128, ef_search=128, SQ8, L2",
           667.5,
           1382.1860298507463,
           "sift-128-euclidean"
          ],
          [
           "index: qdrant HNSW, M=32, ef_construction=128, ef_search=128, SQ8, L2",
           641.4,
           1406.0589850746271,
           "sift-128-euclidean"
          ],
          [
           "index: qdrant HNSW, M=64, ef_construction=128, ef_search=128, SQ8, L2",
           655.1,
           1399.6612602739726,
           "sift-128-euclidean"
          ],
          [
           "index: qdrant HNSW, M=16, ef_construction=256, ef_search=128, SQ8, L2",
           653.6,
           1290.885565217391,
           "sift-128-euclidean"
          ],
          [
           "index: qdrant HNSW, M=32, ef_construction=256, ef_search=128, SQ8, L2",
           634.9,
           1360.6207311827957,
           "sift-128-euclidean"
          ],
          [
           "index: qdrant HNSW, M=64, ef_construction=256, ef_search=128, SQ8, L2",
           677,
           1383.9033191489364,
           "sift-128-euclidean"
          ]
         ],
         "hovertemplate": "IndexProvider=qdrant<br>Dataset=%{customdata[3]}<br>Recall avg=%{x}<br>Search speed avg. (ms)=%{y}<br>ingesting_max=%{customdata[1]}<br>Index=%{customdata[0]}<br>benchmarking_mean=%{customdata[2]}<extra></extra>",
         "legendgroup": "qdrant, sift-128-euclidean",
         "marker": {
          "color": "#EF553B",
          "size": [
           654.4,
           636.8,
           646.4,
           640.3,
           631.8,
           632,
           691.5,
           649.1,
           662.5,
           626.2,
           635.7,
           665,
           667.5,
           641.4,
           655.1,
           653.6,
           634.9,
           677
          ],
          "sizemode": "area",
          "sizeref": 10.21952,
          "symbol": "circle"
         },
         "mode": "markers",
         "name": "qdrant, sift-128-euclidean",
         "orientation": "v",
         "showlegend": true,
         "type": "scatter",
         "x": [
          0.995464,
          0.997823,
          0.998091,
          0.998624,
          0.999321,
          0.999354,
          0.999276,
          0.999191,
          0.999374,
          0.999884,
          0.9999,
          0.99981,
          0.97404,
          0.976028,
          0.978288,
          0.981622,
          0.9815400000000002,
          0.984263
         ],
         "xaxis": "x",
         "y": [
          12141.897580599834,
          15025.211913899691,
          14856.202551000388,
          16939.80412560013,
          17337.550448299953,
          17222.486167299576,
          19976.58764269945,
          19766.6328704996,
          19345.99157359953,
          22553.61644989971,
          22382.70527290042,
          22320.385296300446,
          9982.84357710072,
          10191.640795399871,
          11174.43161400006,
          14383.182563099765,
          14663.730977999512,
          14926.234432400088
         ],
         "yaxis": "y"
        },
        {
         "customdata": [
          [
           "index: milvus HNSW, M=16, ef_construction=128, ef_search=128, None, L2",
           2201.574,
           1512.2441,
           "sift-128-euclidean"
          ],
          [
           "index: milvus HNSW, M=32, ef_construction=128, ef_search=128, None, L2",
           2025.77,
           2141.185117647058,
           "sift-128-euclidean"
          ],
          [
           "index: milvus HNSW, M=64, ef_construction=128, ef_search=128, None, L2",
           2478.768,
           2387.1698461538463,
           "sift-128-euclidean"
          ],
          [
           "index: milvus HNSW, M=16, ef_construction=256, ef_search=128, None, L2",
           3414.988,
           1918.4000000000003,
           "sift-128-euclidean"
          ],
          [
           "index: milvus HNSW, M=32, ef_construction=256, ef_search=128, None, L2",
           2216.664,
           1944.2249142857145,
           "sift-128-euclidean"
          ],
          [
           "index: milvus HNSW, M=64, ef_construction=256, ef_search=128, None, L2",
           2447.616,
           2337.2511875,
           "sift-128-euclidean"
          ]
         ],
         "hovertemplate": "IndexProvider=milvus<br>Dataset=%{customdata[3]}<br>Recall avg=%{x}<br>Search speed avg. (ms)=%{y}<br>ingesting_max=%{customdata[1]}<br>Index=%{customdata[0]}<br>benchmarking_mean=%{customdata[2]}<extra></extra>",
         "legendgroup": "milvus, sift-128-euclidean",
         "marker": {
          "color": "#00cc96",
          "size": [
           2201.574,
           2025.77,
           2478.768,
           3414.988,
           2216.664,
           2447.616
          ],
          "sizemode": "area",
          "sizeref": 10.21952,
          "symbol": "circle"
         },
         "mode": "markers",
         "name": "milvus, sift-128-euclidean",
         "orientation": "v",
         "showlegend": true,
         "type": "scatter",
         "x": [
          0.992331,
          0.9951960000000002,
          0.995889,
          0.993803,
          0.9973580000000002,
          0.997954
         ],
         "xaxis": "x",
         "y": [
          1097.486101900722,
          1815.4199330005213,
          1489.6784882999782,
          1701.4513612000885,
          2159.6911906999594,
          2024.119642300138
         ],
         "yaxis": "y"
        },
        {
         "customdata": [
          [
           "index: milvus HNSW, M=16, ef_construction=128, ef_search=128, None, L2",
           3050.576,
           null,
           "gist-960-euclidean"
          ],
          [
           "index: milvus HNSW, M=32, ef_construction=128, ef_search=128, None, L2",
           2670.328,
           null,
           "gist-960-euclidean"
          ],
          [
           "index: milvus HNSW, M=64, ef_construction=128, ef_search=128, None, L2",
           3120.812,
           null,
           "gist-960-euclidean"
          ]
         ],
         "hovertemplate": "IndexProvider=milvus<br>Dataset=%{customdata[3]}<br>Recall avg=%{x}<br>Search speed avg. (ms)=%{y}<br>ingesting_max=%{customdata[1]}<br>Index=%{customdata[0]}<br>benchmarking_mean=%{customdata[2]}<extra></extra>",
         "legendgroup": "milvus, gist-960-euclidean",
         "marker": {
          "color": "#00cc96",
          "size": [
           3050.576,
           2670.328,
           3120.812
          ],
          "sizemode": "area",
          "sizeref": 10.21952,
          "symbol": "diamond"
         },
         "mode": "markers",
         "name": "milvus, gist-960-euclidean",
         "orientation": "v",
         "showlegend": true,
         "type": "scatter",
         "x": [
          0.971829,
          0.98241,
          0.985749
         ],
         "xaxis": "x",
         "y": [
          9858.027952400153,
          11025.306249399728,
          12479.849367698624
         ],
         "yaxis": "y"
        }
       ],
       "layout": {
        "legend": {
         "itemsizing": "constant",
         "title": {
          "text": "IndexProvider, Dataset"
         },
         "tracegroupgap": 0
        },
        "margin": {
         "t": 60
        },
        "template": {
         "data": {
          "bar": [
           {
            "error_x": {
             "color": "#2a3f5f"
            },
            "error_y": {
             "color": "#2a3f5f"
            },
            "marker": {
             "line": {
              "color": "#E5ECF6",
              "width": 0.5
             },
             "pattern": {
              "fillmode": "overlay",
              "size": 10,
              "solidity": 0.2
             }
            },
            "type": "bar"
           }
          ],
          "barpolar": [
           {
            "marker": {
             "line": {
              "color": "#E5ECF6",
              "width": 0.5
             },
             "pattern": {
              "fillmode": "overlay",
              "size": 10,
              "solidity": 0.2
             }
            },
            "type": "barpolar"
           }
          ],
          "carpet": [
           {
            "aaxis": {
             "endlinecolor": "#2a3f5f",
             "gridcolor": "white",
             "linecolor": "white",
             "minorgridcolor": "white",
             "startlinecolor": "#2a3f5f"
            },
            "baxis": {
             "endlinecolor": "#2a3f5f",
             "gridcolor": "white",
             "linecolor": "white",
             "minorgridcolor": "white",
             "startlinecolor": "#2a3f5f"
            },
            "type": "carpet"
           }
          ],
          "choropleth": [
           {
            "colorbar": {
             "outlinewidth": 0,
             "ticks": ""
            },
            "type": "choropleth"
           }
          ],
          "contour": [
           {
            "colorbar": {
             "outlinewidth": 0,
             "ticks": ""
            },
            "colorscale": [
             [
              0,
              "#0d0887"
             ],
             [
              0.1111111111111111,
              "#46039f"
             ],
             [
              0.2222222222222222,
              "#7201a8"
             ],
             [
              0.3333333333333333,
              "#9c179e"
             ],
             [
              0.4444444444444444,
              "#bd3786"
             ],
             [
              0.5555555555555556,
              "#d8576b"
             ],
             [
              0.6666666666666666,
              "#ed7953"
             ],
             [
              0.7777777777777778,
              "#fb9f3a"
             ],
             [
              0.8888888888888888,
              "#fdca26"
             ],
             [
              1,
              "#f0f921"
             ]
            ],
            "type": "contour"
           }
          ],
          "contourcarpet": [
           {
            "colorbar": {
             "outlinewidth": 0,
             "ticks": ""
            },
            "type": "contourcarpet"
           }
          ],
          "heatmap": [
           {
            "colorbar": {
             "outlinewidth": 0,
             "ticks": ""
            },
            "colorscale": [
             [
              0,
              "#0d0887"
             ],
             [
              0.1111111111111111,
              "#46039f"
             ],
             [
              0.2222222222222222,
              "#7201a8"
             ],
             [
              0.3333333333333333,
              "#9c179e"
             ],
             [
              0.4444444444444444,
              "#bd3786"
             ],
             [
              0.5555555555555556,
              "#d8576b"
             ],
             [
              0.6666666666666666,
              "#ed7953"
             ],
             [
              0.7777777777777778,
              "#fb9f3a"
             ],
             [
              0.8888888888888888,
              "#fdca26"
             ],
             [
              1,
              "#f0f921"
             ]
            ],
            "type": "heatmap"
           }
          ],
          "heatmapgl": [
           {
            "colorbar": {
             "outlinewidth": 0,
             "ticks": ""
            },
            "colorscale": [
             [
              0,
              "#0d0887"
             ],
             [
              0.1111111111111111,
              "#46039f"
             ],
             [
              0.2222222222222222,
              "#7201a8"
             ],
             [
              0.3333333333333333,
              "#9c179e"
             ],
             [
              0.4444444444444444,
              "#bd3786"
             ],
             [
              0.5555555555555556,
              "#d8576b"
             ],
             [
              0.6666666666666666,
              "#ed7953"
             ],
             [
              0.7777777777777778,
              "#fb9f3a"
             ],
             [
              0.8888888888888888,
              "#fdca26"
             ],
             [
              1,
              "#f0f921"
             ]
            ],
            "type": "heatmapgl"
           }
          ],
          "histogram": [
           {
            "marker": {
             "pattern": {
              "fillmode": "overlay",
              "size": 10,
              "solidity": 0.2
             }
            },
            "type": "histogram"
           }
          ],
          "histogram2d": [
           {
            "colorbar": {
             "outlinewidth": 0,
             "ticks": ""
            },
            "colorscale": [
             [
              0,
              "#0d0887"
             ],
             [
              0.1111111111111111,
              "#46039f"
             ],
             [
              0.2222222222222222,
              "#7201a8"
             ],
             [
              0.3333333333333333,
              "#9c179e"
             ],
             [
              0.4444444444444444,
              "#bd3786"
             ],
             [
              0.5555555555555556,
              "#d8576b"
             ],
             [
              0.6666666666666666,
              "#ed7953"
             ],
             [
              0.7777777777777778,
              "#fb9f3a"
             ],
             [
              0.8888888888888888,
              "#fdca26"
             ],
             [
              1,
              "#f0f921"
             ]
            ],
            "type": "histogram2d"
           }
          ],
          "histogram2dcontour": [
           {
            "colorbar": {
             "outlinewidth": 0,
             "ticks": ""
            },
            "colorscale": [
             [
              0,
              "#0d0887"
             ],
             [
              0.1111111111111111,
              "#46039f"
             ],
             [
              0.2222222222222222,
              "#7201a8"
             ],
             [
              0.3333333333333333,
              "#9c179e"
             ],
             [
              0.4444444444444444,
              "#bd3786"
             ],
             [
              0.5555555555555556,
              "#d8576b"
             ],
             [
              0.6666666666666666,
              "#ed7953"
             ],
             [
              0.7777777777777778,
              "#fb9f3a"
             ],
             [
              0.8888888888888888,
              "#fdca26"
             ],
             [
              1,
              "#f0f921"
             ]
            ],
            "type": "histogram2dcontour"
           }
          ],
          "mesh3d": [
           {
            "colorbar": {
             "outlinewidth": 0,
             "ticks": ""
            },
            "type": "mesh3d"
           }
          ],
          "parcoords": [
           {
            "line": {
             "colorbar": {
              "outlinewidth": 0,
              "ticks": ""
             }
            },
            "type": "parcoords"
           }
          ],
          "pie": [
           {
            "automargin": true,
            "type": "pie"
           }
          ],
          "scatter": [
           {
            "fillpattern": {
             "fillmode": "overlay",
             "size": 10,
             "solidity": 0.2
            },
            "type": "scatter"
           }
          ],
          "scatter3d": [
           {
            "line": {
             "colorbar": {
              "outlinewidth": 0,
              "ticks": ""
             }
            },
            "marker": {
             "colorbar": {
              "outlinewidth": 0,
              "ticks": ""
             }
            },
            "type": "scatter3d"
           }
          ],
          "scattercarpet": [
           {
            "marker": {
             "colorbar": {
              "outlinewidth": 0,
              "ticks": ""
             }
            },
            "type": "scattercarpet"
           }
          ],
          "scattergeo": [
           {
            "marker": {
             "colorbar": {
              "outlinewidth": 0,
              "ticks": ""
             }
            },
            "type": "scattergeo"
           }
          ],
          "scattergl": [
           {
            "marker": {
             "colorbar": {
              "outlinewidth": 0,
              "ticks": ""
             }
            },
            "type": "scattergl"
           }
          ],
          "scattermapbox": [
           {
            "marker": {
             "colorbar": {
              "outlinewidth": 0,
              "ticks": ""
             }
            },
            "type": "scattermapbox"
           }
          ],
          "scatterpolar": [
           {
            "marker": {
             "colorbar": {
              "outlinewidth": 0,
              "ticks": ""
             }
            },
            "type": "scatterpolar"
           }
          ],
          "scatterpolargl": [
           {
            "marker": {
             "colorbar": {
              "outlinewidth": 0,
              "ticks": ""
             }
            },
            "type": "scatterpolargl"
           }
          ],
          "scatterternary": [
           {
            "marker": {
             "colorbar": {
              "outlinewidth": 0,
              "ticks": ""
             }
            },
            "type": "scatterternary"
           }
          ],
          "surface": [
           {
            "colorbar": {
             "outlinewidth": 0,
             "ticks": ""
            },
            "colorscale": [
             [
              0,
              "#0d0887"
             ],
             [
              0.1111111111111111,
              "#46039f"
             ],
             [
              0.2222222222222222,
              "#7201a8"
             ],
             [
              0.3333333333333333,
              "#9c179e"
             ],
             [
              0.4444444444444444,
              "#bd3786"
             ],
             [
              0.5555555555555556,
              "#d8576b"
             ],
             [
              0.6666666666666666,
              "#ed7953"
             ],
             [
              0.7777777777777778,
              "#fb9f3a"
             ],
             [
              0.8888888888888888,
              "#fdca26"
             ],
             [
              1,
              "#f0f921"
             ]
            ],
            "type": "surface"
           }
          ],
          "table": [
           {
            "cells": {
             "fill": {
              "color": "#EBF0F8"
             },
             "line": {
              "color": "white"
             }
            },
            "header": {
             "fill": {
              "color": "#C8D4E3"
             },
             "line": {
              "color": "white"
             }
            },
            "type": "table"
           }
          ]
         },
         "layout": {
          "annotationdefaults": {
           "arrowcolor": "#2a3f5f",
           "arrowhead": 0,
           "arrowwidth": 1
          },
          "autotypenumbers": "strict",
          "coloraxis": {
           "colorbar": {
            "outlinewidth": 0,
            "ticks": ""
           }
          },
          "colorscale": {
           "diverging": [
            [
             0,
             "#8e0152"
            ],
            [
             0.1,
             "#c51b7d"
            ],
            [
             0.2,
             "#de77ae"
            ],
            [
             0.3,
             "#f1b6da"
            ],
            [
             0.4,
             "#fde0ef"
            ],
            [
             0.5,
             "#f7f7f7"
            ],
            [
             0.6,
             "#e6f5d0"
            ],
            [
             0.7,
             "#b8e186"
            ],
            [
             0.8,
             "#7fbc41"
            ],
            [
             0.9,
             "#4d9221"
            ],
            [
             1,
             "#276419"
            ]
           ],
           "sequential": [
            [
             0,
             "#0d0887"
            ],
            [
             0.1111111111111111,
             "#46039f"
            ],
            [
             0.2222222222222222,
             "#7201a8"
            ],
            [
             0.3333333333333333,
             "#9c179e"
            ],
            [
             0.4444444444444444,
             "#bd3786"
            ],
            [
             0.5555555555555556,
             "#d8576b"
            ],
            [
             0.6666666666666666,
             "#ed7953"
            ],
            [
             0.7777777777777778,
             "#fb9f3a"
            ],
            [
             0.8888888888888888,
             "#fdca26"
            ],
            [
             1,
             "#f0f921"
            ]
           ],
           "sequentialminus": [
            [
             0,
             "#0d0887"
            ],
            [
             0.1111111111111111,
             "#46039f"
            ],
            [
             0.2222222222222222,
             "#7201a8"
            ],
            [
             0.3333333333333333,
             "#9c179e"
            ],
            [
             0.4444444444444444,
             "#bd3786"
            ],
            [
             0.5555555555555556,
             "#d8576b"
            ],
            [
             0.6666666666666666,
             "#ed7953"
            ],
            [
             0.7777777777777778,
             "#fb9f3a"
            ],
            [
             0.8888888888888888,
             "#fdca26"
            ],
            [
             1,
             "#f0f921"
            ]
           ]
          },
          "colorway": [
           "#636efa",
           "#EF553B",
           "#00cc96",
           "#ab63fa",
           "#FFA15A",
           "#19d3f3",
           "#FF6692",
           "#B6E880",
           "#FF97FF",
           "#FECB52"
          ],
          "font": {
           "color": "#2a3f5f"
          },
          "geo": {
           "bgcolor": "white",
           "lakecolor": "white",
           "landcolor": "#E5ECF6",
           "showlakes": true,
           "showland": true,
           "subunitcolor": "white"
          },
          "hoverlabel": {
           "align": "left"
          },
          "hovermode": "closest",
          "mapbox": {
           "style": "light"
          },
          "paper_bgcolor": "white",
          "plot_bgcolor": "#E5ECF6",
          "polar": {
           "angularaxis": {
            "gridcolor": "white",
            "linecolor": "white",
            "ticks": ""
           },
           "bgcolor": "#E5ECF6",
           "radialaxis": {
            "gridcolor": "white",
            "linecolor": "white",
            "ticks": ""
           }
          },
          "scene": {
           "xaxis": {
            "backgroundcolor": "#E5ECF6",
            "gridcolor": "white",
            "gridwidth": 2,
            "linecolor": "white",
            "showbackground": true,
            "ticks": "",
            "zerolinecolor": "white"
           },
           "yaxis": {
            "backgroundcolor": "#E5ECF6",
            "gridcolor": "white",
            "gridwidth": 2,
            "linecolor": "white",
            "showbackground": true,
            "ticks": "",
            "zerolinecolor": "white"
           },
           "zaxis": {
            "backgroundcolor": "#E5ECF6",
            "gridcolor": "white",
            "gridwidth": 2,
            "linecolor": "white",
            "showbackground": true,
            "ticks": "",
            "zerolinecolor": "white"
           }
          },
          "shapedefaults": {
           "line": {
            "color": "#2a3f5f"
           }
          },
          "ternary": {
           "aaxis": {
            "gridcolor": "white",
            "linecolor": "white",
            "ticks": ""
           },
           "baxis": {
            "gridcolor": "white",
            "linecolor": "white",
            "ticks": ""
           },
           "bgcolor": "#E5ECF6",
           "caxis": {
            "gridcolor": "white",
            "linecolor": "white",
            "ticks": ""
           }
          },
          "title": {
           "x": 0.05
          },
          "xaxis": {
           "automargin": true,
           "gridcolor": "white",
           "linecolor": "white",
           "ticks": "",
           "title": {
            "standoff": 15
           },
           "zerolinecolor": "white",
           "zerolinewidth": 2
          },
          "yaxis": {
           "automargin": true,
           "gridcolor": "white",
           "linecolor": "white",
           "ticks": "",
           "title": {
            "standoff": 15
           },
           "zerolinecolor": "white",
           "zerolinewidth": 2
          }
         }
        },
        "xaxis": {
         "anchor": "y",
         "domain": [
          0,
          1
         ],
         "title": {
          "text": "Recall avg"
         }
        },
        "yaxis": {
         "anchor": "x",
         "domain": [
          0,
          1
         ],
         "title": {
          "text": "Search speed avg. (ms)"
         }
        }
       }
      }
     },
     "metadata": {},
     "output_type": "display_data"
    }
   ],
   "source": [
    "import plotly.express as px\n",
    "import plotly.graph_objects as go\n",
    "\n",
    "# Your existing DataFrame and plot\n",
    "fig = px.scatter(\n",
    "    df_results,\n",
    "    x=\"Recall avg\",\n",
    "    y=\"Search speed avg. (ms)\",\n",
    "    hover_data=[\"Index\",\"ingesting_max\",\"benchmarking_mean\",\"Dataset\"],\n",
    "    color=\"IndexProvider\",\n",
    "    size=df_results[\"ingesting_max\"],\n",
    "    symbol=\"Dataset\"\n",
    ")\n",
    "\n",
    "# # Adding a similar scatter plot but with semi-transparency and different size mapping\n",
    "# fig.add_trace(\n",
    "#     go.Scatter(\n",
    "#         x=df_results[\"Recall avg\"],\n",
    "#         y=df_results[\"Search speed avg. (ms)\"],\n",
    "#         mode=\"markers\",\n",
    "#         marker=dict(\n",
    "#             size=df_results[\"ingesting_max\"] / 25,  # Size based on 'ingesting_max' column\n",
    "#             opacity=0.1,  # Semi-transparent markers\n",
    "#             # color=fig.data[0].marker.color,  # Use the same color as the first plot\n",
    "#             # line=dict(color=\"MediumPurple\", width=2),\n",
    "#         ),\n",
    "#         hoverinfo=\"text\",  # You can customize hover info as needed\n",
    "#         name=\"Ingesting max\",\n",
    "#     )\n",
    "# )\n",
    "\n",
    "fig.show()"
   ]
  },
  {
   "cell_type": "code",
   "execution_count": 582,
   "metadata": {},
   "outputs": [
    {
     "data": {
      "text/html": [
       "<div>\n",
       "<style scoped>\n",
       "    .dataframe tbody tr th:only-of-type {\n",
       "        vertical-align: middle;\n",
       "    }\n",
       "\n",
       "    .dataframe tbody tr th {\n",
       "        vertical-align: top;\n",
       "    }\n",
       "\n",
       "    .dataframe thead th {\n",
       "        text-align: right;\n",
       "    }\n",
       "</style>\n",
       "<table border=\"1\" class=\"dataframe\">\n",
       "  <thead>\n",
       "    <tr style=\"text-align: right;\">\n",
       "      <th></th>\n",
       "      <th>Unnamed: 0</th>\n",
       "      <th>Dataset</th>\n",
       "      <th>Index</th>\n",
       "      <th>Index parameters.</th>\n",
       "      <th>Server startup speed (s)</th>\n",
       "      <th>Index build speed (s)</th>\n",
       "      <th>Search speed avg. (ms)</th>\n",
       "      <th>Search speed p95 (ms)</th>\n",
       "      <th>Recall avg</th>\n",
       "      <th>Recall@1</th>\n",
       "      <th>...</th>\n",
       "      <th>ingesting_mean</th>\n",
       "      <th>benchmarking_max</th>\n",
       "      <th>benchmarking_mean</th>\n",
       "      <th>IndexProvider</th>\n",
       "      <th>IndexType</th>\n",
       "      <th>M</th>\n",
       "      <th>ef_construction</th>\n",
       "      <th>ef_search</th>\n",
       "      <th>Compression</th>\n",
       "      <th>Metric</th>\n",
       "    </tr>\n",
       "  </thead>\n",
       "  <tbody>\n",
       "    <tr>\n",
       "      <th>54</th>\n",
       "      <td>54</td>\n",
       "      <td>gist-960-euclidean</td>\n",
       "      <td>index: faiss HNSW, M=16, ef_construction=128, ...</td>\n",
       "      <td>HNSW, M=16, ef_construction=128, ef_search=128...</td>\n",
       "      <td>31.089218</td>\n",
       "      <td>175.654355</td>\n",
       "      <td>194.317290</td>\n",
       "      <td>202.675008</td>\n",
       "      <td>0.000113</td>\n",
       "      <td>0.0000</td>\n",
       "      <td>...</td>\n",
       "      <td>812.915200</td>\n",
       "      <td>4292.608</td>\n",
       "      <td>4281.736533</td>\n",
       "      <td>faiss</td>\n",
       "      <td>HNSW</td>\n",
       "      <td>16</td>\n",
       "      <td>128</td>\n",
       "      <td>128</td>\n",
       "      <td>None</td>\n",
       "      <td>L2</td>\n",
       "    </tr>\n",
       "    <tr>\n",
       "      <th>55</th>\n",
       "      <td>55</td>\n",
       "      <td>gist-960-euclidean</td>\n",
       "      <td>index: faiss HNSW, M=32, ef_construction=128, ...</td>\n",
       "      <td>HNSW, M=32, ef_construction=128, ef_search=128...</td>\n",
       "      <td>30.409679</td>\n",
       "      <td>378.494433</td>\n",
       "      <td>267.847093</td>\n",
       "      <td>282.663590</td>\n",
       "      <td>0.000126</td>\n",
       "      <td>0.0000</td>\n",
       "      <td>...</td>\n",
       "      <td>1161.921600</td>\n",
       "      <td>4411.392</td>\n",
       "      <td>4400.295869</td>\n",
       "      <td>faiss</td>\n",
       "      <td>HNSW</td>\n",
       "      <td>32</td>\n",
       "      <td>128</td>\n",
       "      <td>128</td>\n",
       "      <td>None</td>\n",
       "      <td>L2</td>\n",
       "    </tr>\n",
       "    <tr>\n",
       "      <th>57</th>\n",
       "      <td>57</td>\n",
       "      <td>gist-960-euclidean</td>\n",
       "      <td>index: faiss HNSW, M=16, ef_construction=256, ...</td>\n",
       "      <td>HNSW, M=16, ef_construction=256, ef_search=128...</td>\n",
       "      <td>29.611155</td>\n",
       "      <td>249.330119</td>\n",
       "      <td>199.281282</td>\n",
       "      <td>203.410447</td>\n",
       "      <td>0.000105</td>\n",
       "      <td>0.0000</td>\n",
       "      <td>...</td>\n",
       "      <td>410.100000</td>\n",
       "      <td>4287.488</td>\n",
       "      <td>4275.926710</td>\n",
       "      <td>faiss</td>\n",
       "      <td>HNSW</td>\n",
       "      <td>16</td>\n",
       "      <td>256</td>\n",
       "      <td>128</td>\n",
       "      <td>None</td>\n",
       "      <td>L2</td>\n",
       "    </tr>\n",
       "    <tr>\n",
       "      <th>58</th>\n",
       "      <td>58</td>\n",
       "      <td>gist-960-euclidean</td>\n",
       "      <td>index: faiss HNSW, M=32, ef_construction=256, ...</td>\n",
       "      <td>HNSW, M=32, ef_construction=256, ef_search=128...</td>\n",
       "      <td>28.630100</td>\n",
       "      <td>436.757662</td>\n",
       "      <td>268.759941</td>\n",
       "      <td>292.169331</td>\n",
       "      <td>0.000129</td>\n",
       "      <td>0.0000</td>\n",
       "      <td>...</td>\n",
       "      <td>1143.604800</td>\n",
       "      <td>4408.320</td>\n",
       "      <td>4396.925968</td>\n",
       "      <td>faiss</td>\n",
       "      <td>HNSW</td>\n",
       "      <td>32</td>\n",
       "      <td>256</td>\n",
       "      <td>128</td>\n",
       "      <td>None</td>\n",
       "      <td>L2</td>\n",
       "    </tr>\n",
       "    <tr>\n",
       "      <th>66</th>\n",
       "      <td>66</td>\n",
       "      <td>gist-960-euclidean</td>\n",
       "      <td>index: faiss HNSW, M=16, ef_construction=128, ...</td>\n",
       "      <td>HNSW, M=16, ef_construction=128, ef_search=128...</td>\n",
       "      <td>15.450955</td>\n",
       "      <td>328.333254</td>\n",
       "      <td>224.728841</td>\n",
       "      <td>228.195732</td>\n",
       "      <td>0.000130</td>\n",
       "      <td>0.0000</td>\n",
       "      <td>...</td>\n",
       "      <td>322.275000</td>\n",
       "      <td>1569.792</td>\n",
       "      <td>1546.206968</td>\n",
       "      <td>faiss</td>\n",
       "      <td>HNSW</td>\n",
       "      <td>16</td>\n",
       "      <td>128</td>\n",
       "      <td>128</td>\n",
       "      <td>SQ8</td>\n",
       "      <td>L2</td>\n",
       "    </tr>\n",
       "    <tr>\n",
       "      <th>69</th>\n",
       "      <td>69</td>\n",
       "      <td>gist-960-euclidean</td>\n",
       "      <td>index: faiss HNSW, M=16, ef_construction=256, ...</td>\n",
       "      <td>HNSW, M=16, ef_construction=256, ef_search=128...</td>\n",
       "      <td>15.432074</td>\n",
       "      <td>396.452885</td>\n",
       "      <td>228.036092</td>\n",
       "      <td>234.834733</td>\n",
       "      <td>0.000152</td>\n",
       "      <td>0.0000</td>\n",
       "      <td>...</td>\n",
       "      <td>323.150000</td>\n",
       "      <td>1565.696</td>\n",
       "      <td>1555.654194</td>\n",
       "      <td>faiss</td>\n",
       "      <td>HNSW</td>\n",
       "      <td>16</td>\n",
       "      <td>256</td>\n",
       "      <td>128</td>\n",
       "      <td>SQ8</td>\n",
       "      <td>L2</td>\n",
       "    </tr>\n",
       "    <tr>\n",
       "      <th>90</th>\n",
       "      <td>90</td>\n",
       "      <td>gist-960-euclidean</td>\n",
       "      <td>index: milvus HNSW, M=16, ef_construction=128,...</td>\n",
       "      <td>HNSW, M=16, ef_construction=128, ef_search=128...</td>\n",
       "      <td>102.207064</td>\n",
       "      <td>653.902147</td>\n",
       "      <td>9858.027952</td>\n",
       "      <td>12038.590039</td>\n",
       "      <td>0.971829</td>\n",
       "      <td>0.9724</td>\n",
       "      <td>...</td>\n",
       "      <td>1089.952159</td>\n",
       "      <td>NaN</td>\n",
       "      <td>NaN</td>\n",
       "      <td>milvus</td>\n",
       "      <td>HNSW</td>\n",
       "      <td>16</td>\n",
       "      <td>128</td>\n",
       "      <td>128</td>\n",
       "      <td>None</td>\n",
       "      <td>L2</td>\n",
       "    </tr>\n",
       "    <tr>\n",
       "      <th>91</th>\n",
       "      <td>91</td>\n",
       "      <td>gist-960-euclidean</td>\n",
       "      <td>index: milvus HNSW, M=32, ef_construction=128,...</td>\n",
       "      <td>HNSW, M=32, ef_construction=128, ef_search=128...</td>\n",
       "      <td>101.395028</td>\n",
       "      <td>595.447718</td>\n",
       "      <td>11025.306249</td>\n",
       "      <td>12996.271735</td>\n",
       "      <td>0.982410</td>\n",
       "      <td>0.9803</td>\n",
       "      <td>...</td>\n",
       "      <td>1013.404304</td>\n",
       "      <td>NaN</td>\n",
       "      <td>NaN</td>\n",
       "      <td>milvus</td>\n",
       "      <td>HNSW</td>\n",
       "      <td>32</td>\n",
       "      <td>128</td>\n",
       "      <td>128</td>\n",
       "      <td>None</td>\n",
       "      <td>L2</td>\n",
       "    </tr>\n",
       "    <tr>\n",
       "      <th>92</th>\n",
       "      <td>92</td>\n",
       "      <td>gist-960-euclidean</td>\n",
       "      <td>index: milvus HNSW, M=64, ef_construction=128,...</td>\n",
       "      <td>HNSW, M=64, ef_construction=128, ef_search=128...</td>\n",
       "      <td>101.902125</td>\n",
       "      <td>616.643238</td>\n",
       "      <td>12479.849368</td>\n",
       "      <td>15000.471222</td>\n",
       "      <td>0.985749</td>\n",
       "      <td>0.9824</td>\n",
       "      <td>...</td>\n",
       "      <td>1203.647382</td>\n",
       "      <td>NaN</td>\n",
       "      <td>NaN</td>\n",
       "      <td>milvus</td>\n",
       "      <td>HNSW</td>\n",
       "      <td>64</td>\n",
       "      <td>128</td>\n",
       "      <td>128</td>\n",
       "      <td>None</td>\n",
       "      <td>L2</td>\n",
       "    </tr>\n",
       "  </tbody>\n",
       "</table>\n",
       "<p>9 rows × 23 columns</p>\n",
       "</div>"
      ],
      "text/plain": [
       "    Unnamed: 0             Dataset  \\\n",
       "54          54  gist-960-euclidean   \n",
       "55          55  gist-960-euclidean   \n",
       "57          57  gist-960-euclidean   \n",
       "58          58  gist-960-euclidean   \n",
       "66          66  gist-960-euclidean   \n",
       "69          69  gist-960-euclidean   \n",
       "90          90  gist-960-euclidean   \n",
       "91          91  gist-960-euclidean   \n",
       "92          92  gist-960-euclidean   \n",
       "\n",
       "                                                Index  \\\n",
       "54  index: faiss HNSW, M=16, ef_construction=128, ...   \n",
       "55  index: faiss HNSW, M=32, ef_construction=128, ...   \n",
       "57  index: faiss HNSW, M=16, ef_construction=256, ...   \n",
       "58  index: faiss HNSW, M=32, ef_construction=256, ...   \n",
       "66  index: faiss HNSW, M=16, ef_construction=128, ...   \n",
       "69  index: faiss HNSW, M=16, ef_construction=256, ...   \n",
       "90  index: milvus HNSW, M=16, ef_construction=128,...   \n",
       "91  index: milvus HNSW, M=32, ef_construction=128,...   \n",
       "92  index: milvus HNSW, M=64, ef_construction=128,...   \n",
       "\n",
       "                                    Index parameters.  \\\n",
       "54  HNSW, M=16, ef_construction=128, ef_search=128...   \n",
       "55  HNSW, M=32, ef_construction=128, ef_search=128...   \n",
       "57  HNSW, M=16, ef_construction=256, ef_search=128...   \n",
       "58  HNSW, M=32, ef_construction=256, ef_search=128...   \n",
       "66  HNSW, M=16, ef_construction=128, ef_search=128...   \n",
       "69  HNSW, M=16, ef_construction=256, ef_search=128...   \n",
       "90  HNSW, M=16, ef_construction=128, ef_search=128...   \n",
       "91  HNSW, M=32, ef_construction=128, ef_search=128...   \n",
       "92  HNSW, M=64, ef_construction=128, ef_search=128...   \n",
       "\n",
       "    Server startup speed (s)  Index build speed (s)  Search speed avg. (ms)  \\\n",
       "54                 31.089218             175.654355              194.317290   \n",
       "55                 30.409679             378.494433              267.847093   \n",
       "57                 29.611155             249.330119              199.281282   \n",
       "58                 28.630100             436.757662              268.759941   \n",
       "66                 15.450955             328.333254              224.728841   \n",
       "69                 15.432074             396.452885              228.036092   \n",
       "90                102.207064             653.902147             9858.027952   \n",
       "91                101.395028             595.447718            11025.306249   \n",
       "92                101.902125             616.643238            12479.849368   \n",
       "\n",
       "    Search speed p95 (ms)  Recall avg  Recall@1  ...  ingesting_mean  \\\n",
       "54             202.675008    0.000113    0.0000  ...      812.915200   \n",
       "55             282.663590    0.000126    0.0000  ...     1161.921600   \n",
       "57             203.410447    0.000105    0.0000  ...      410.100000   \n",
       "58             292.169331    0.000129    0.0000  ...     1143.604800   \n",
       "66             228.195732    0.000130    0.0000  ...      322.275000   \n",
       "69             234.834733    0.000152    0.0000  ...      323.150000   \n",
       "90           12038.590039    0.971829    0.9724  ...     1089.952159   \n",
       "91           12996.271735    0.982410    0.9803  ...     1013.404304   \n",
       "92           15000.471222    0.985749    0.9824  ...     1203.647382   \n",
       "\n",
       "    benchmarking_max  benchmarking_mean  IndexProvider  IndexType   M  \\\n",
       "54          4292.608        4281.736533          faiss       HNSW  16   \n",
       "55          4411.392        4400.295869          faiss       HNSW  32   \n",
       "57          4287.488        4275.926710          faiss       HNSW  16   \n",
       "58          4408.320        4396.925968          faiss       HNSW  32   \n",
       "66          1569.792        1546.206968          faiss       HNSW  16   \n",
       "69          1565.696        1555.654194          faiss       HNSW  16   \n",
       "90               NaN                NaN         milvus       HNSW  16   \n",
       "91               NaN                NaN         milvus       HNSW  32   \n",
       "92               NaN                NaN         milvus       HNSW  64   \n",
       "\n",
       "   ef_construction ef_search Compression Metric  \n",
       "54             128       128        None     L2  \n",
       "55             128       128        None     L2  \n",
       "57             256       128        None     L2  \n",
       "58             256       128        None     L2  \n",
       "66             128       128         SQ8     L2  \n",
       "69             256       128         SQ8     L2  \n",
       "90             128       128        None     L2  \n",
       "91             128       128        None     L2  \n",
       "92             128       128        None     L2  \n",
       "\n",
       "[9 rows x 23 columns]"
      ]
     },
     "execution_count": 582,
     "metadata": {},
     "output_type": "execute_result"
    }
   ],
   "source": [
    "df_results.query(\"Dataset == 'gist-960-euclidean'\")"
   ]
  },
  {
   "cell_type": "code",
   "execution_count": 583,
   "metadata": {},
   "outputs": [
    {
     "ename": "AttributeError",
     "evalue": "'DataFrame' object has no attribute 'nPartitions'",
     "output_type": "error",
     "traceback": [
      "\u001b[0;31m---------------------------------------------------------------------------\u001b[0m",
      "\u001b[0;31mAttributeError\u001b[0m                            Traceback (most recent call last)",
      "Cell \u001b[0;32mIn[583], line 2\u001b[0m\n\u001b[1;32m      1\u001b[0m df_plot \u001b[38;5;241m=\u001b[39m df_results\u001b[38;5;241m.\u001b[39mquery(\u001b[38;5;124m\"\u001b[39m\u001b[38;5;124mCompression == \u001b[39m\u001b[38;5;124m'\u001b[39m\u001b[38;5;124mSQ8\u001b[39m\u001b[38;5;124m'\u001b[39m\u001b[38;5;124m\"\u001b[39m)\n\u001b[0;32m----> 2\u001b[0m plt\u001b[38;5;241m.\u001b[39mscatter(\u001b[43mdf_plot\u001b[49m\u001b[38;5;241;43m.\u001b[39;49m\u001b[43mnPartitions\u001b[49m, df_plot[\u001b[38;5;124m\"\u001b[39m\u001b[38;5;124mSearch speed avg. (ms)\u001b[39m\u001b[38;5;124m\"\u001b[39m]\u001b[38;5;241m/\u001b[39m\u001b[38;5;241m10\u001b[39m, label\u001b[38;5;241m=\u001b[39m\u001b[38;5;124m\"\u001b[39m\u001b[38;5;124mSQ8\u001b[39m\u001b[38;5;124m\"\u001b[39m, c\u001b[38;5;241m=\u001b[39m\u001b[38;5;124m\"\u001b[39m\u001b[38;5;124mred\u001b[39m\u001b[38;5;124m\"\u001b[39m)\n\u001b[1;32m      3\u001b[0m df_plot \u001b[38;5;241m=\u001b[39m df_results\u001b[38;5;241m.\u001b[39mquery(\u001b[38;5;124m\"\u001b[39m\u001b[38;5;124mCompression == \u001b[39m\u001b[38;5;124m'\u001b[39m\u001b[38;5;124mPQ8\u001b[39m\u001b[38;5;124m'\u001b[39m\u001b[38;5;124m\"\u001b[39m)\n\u001b[1;32m      4\u001b[0m plt\u001b[38;5;241m.\u001b[39mscatter(df_plot\u001b[38;5;241m.\u001b[39mnPartitions, df_plot[\u001b[38;5;124m\"\u001b[39m\u001b[38;5;124mSearch speed avg. (ms)\u001b[39m\u001b[38;5;124m\"\u001b[39m]\u001b[38;5;241m/\u001b[39m\u001b[38;5;241m10\u001b[39m, label\u001b[38;5;241m=\u001b[39m\u001b[38;5;124m\"\u001b[39m\u001b[38;5;124mPQ8\u001b[39m\u001b[38;5;124m\"\u001b[39m)\n",
      "File \u001b[0;32m~/.pyenv/versions/3.11.2/lib/python3.11/site-packages/pandas/core/generic.py:5902\u001b[0m, in \u001b[0;36mNDFrame.__getattr__\u001b[0;34m(self, name)\u001b[0m\n\u001b[1;32m   5895\u001b[0m \u001b[38;5;28;01mif\u001b[39;00m (\n\u001b[1;32m   5896\u001b[0m     name \u001b[38;5;129;01mnot\u001b[39;00m \u001b[38;5;129;01min\u001b[39;00m \u001b[38;5;28mself\u001b[39m\u001b[38;5;241m.\u001b[39m_internal_names_set\n\u001b[1;32m   5897\u001b[0m     \u001b[38;5;129;01mand\u001b[39;00m name \u001b[38;5;129;01mnot\u001b[39;00m \u001b[38;5;129;01min\u001b[39;00m \u001b[38;5;28mself\u001b[39m\u001b[38;5;241m.\u001b[39m_metadata\n\u001b[1;32m   5898\u001b[0m     \u001b[38;5;129;01mand\u001b[39;00m name \u001b[38;5;129;01mnot\u001b[39;00m \u001b[38;5;129;01min\u001b[39;00m \u001b[38;5;28mself\u001b[39m\u001b[38;5;241m.\u001b[39m_accessors\n\u001b[1;32m   5899\u001b[0m     \u001b[38;5;129;01mand\u001b[39;00m \u001b[38;5;28mself\u001b[39m\u001b[38;5;241m.\u001b[39m_info_axis\u001b[38;5;241m.\u001b[39m_can_hold_identifiers_and_holds_name(name)\n\u001b[1;32m   5900\u001b[0m ):\n\u001b[1;32m   5901\u001b[0m     \u001b[38;5;28;01mreturn\u001b[39;00m \u001b[38;5;28mself\u001b[39m[name]\n\u001b[0;32m-> 5902\u001b[0m \u001b[38;5;28;01mreturn\u001b[39;00m \u001b[38;5;28;43mobject\u001b[39;49m\u001b[38;5;241;43m.\u001b[39;49m\u001b[38;5;21;43m__getattribute__\u001b[39;49m\u001b[43m(\u001b[49m\u001b[38;5;28;43mself\u001b[39;49m\u001b[43m,\u001b[49m\u001b[43m \u001b[49m\u001b[43mname\u001b[49m\u001b[43m)\u001b[49m\n",
      "\u001b[0;31mAttributeError\u001b[0m: 'DataFrame' object has no attribute 'nPartitions'"
     ]
    }
   ],
   "source": [
    "df_plot = df_results.query(\"Compression == 'SQ8'\")\n",
    "plt.scatter(df_plot.nPartitions, df_plot[\"Search speed avg. (ms)\"]/10, label=\"SQ8\", c=\"red\")\n",
    "df_plot = df_results.query(\"Compression == 'PQ8'\")\n",
    "plt.scatter(df_plot.nPartitions, df_plot[\"Search speed avg. (ms)\"]/10, label=\"PQ8\")\n",
    "plt.title(\"Faiss IVF SQ8 - latency vs n partitions\")\n",
    "plt.xlabel(\"n partitions\")\n",
    "plt.ylabel(\"Mean search latency (ms)\")\n",
    "plt.legend()\n",
    "plt.show()"
   ]
  },
  {
   "cell_type": "code",
   "execution_count": null,
   "metadata": {},
   "outputs": [
    {
     "data": {
      "image/png": "[encoded data removed]",
      "text/plain": [
       "<Figure size 600x400 with 1 Axes>"
      ]
     },
     "metadata": {},
     "output_type": "display_data"
    }
   ],
   "source": [
    "import seaborn as sns\n",
    "\n",
    "plt.figure(figsize=(6,4))\n",
    "sns.scatterplot(data=df_results, x=\"nPartitions\", y=\"Search speed avg. (ms)\", hue=\"benchmarking_mean\", style=\"Compression\", palette=\"flare\", s=70)\n",
    "plt.title(\"Faiss IVF SQ8 - latency vs n partitions\")\n",
    "plt.xlabel(\"n partitions\")\n",
    "plt.ylabel(\"Mean search latency (ms)\")\n",
    "plt.show()"
   ]
  },
  {
   "cell_type": "code",
   "execution_count": null,
   "metadata": {},
   "outputs": [
    {
     "data": {
      "image/png": "[encoded data removed]",
      "text/plain": [
       "<Figure size 600x400 with 1 Axes>"
      ]
     },
     "metadata": {},
     "output_type": "display_data"
    }
   ],
   "source": [
    "import seaborn as sns\n",
    "\n",
    "plt.figure(figsize=(6, 4))\n",
    "sns.scatterplot(\n",
    "    data=df_results,\n",
    "    x=\"nPartitions\",\n",
    "    y=\"Index build speed (s)\",\n",
    "    hue=\"benchmarking_mean\",\n",
    "    style=\"Compression\",\n",
    "    palette=\"flare\",\n",
    "    s=70,\n",
    ")\n",
    "plt.title(\"Faiss IVF SQ8 - latency vs n partitions\")\n",
    "plt.xlabel(\"n partitions\")\n",
    "plt.ylabel(\"Index build speed (s)\")\n",
    "plt.show()"
   ]
  },
  {
   "cell_type": "code",
   "execution_count": null,
   "metadata": {},
   "outputs": [
    {
     "data": {
      "text/plain": [
       "Index(['Unnamed: 0', 'Dataset', 'Index', 'Index parameters.',\n",
       "       'Server startup speed (s)', 'Index build speed (s)',\n",
       "       'Search speed avg. (ms)', 'Search speed p95 (ms)', 'Recall avg',\n",
       "       'Recall@1', 'Recall@10', 'Recall@100', 'ingesting_max',\n",
       "       'ingesting_mean', 'benchmarking_max', 'benchmarking_mean',\n",
       "       'IndexProvider', 'IndexType', 'Compression', 'M', 'Metric',\n",
       "       'ef_construction', 'ef_search', 'nPartitions'],\n",
       "      dtype='object')"
      ]
     },
     "execution_count": 459,
     "metadata": {},
     "output_type": "execute_result"
    }
   ],
   "source": [
    "df_results.columns"
   ]
  },
  {
   "cell_type": "code",
   "execution_count": null,
   "metadata": {},
   "outputs": [
    {
     "data": {
      "image/png": "[encoded data removed]",
      "text/plain": [
       "<Figure size 640x480 with 1 Axes>"
      ]
     },
     "metadata": {},
     "output_type": "display_data"
    }
   ],
   "source": [
    "import seaborn as sns\n",
    "\n",
    "# plt.figure(figsize=(6, 4))\n",
    "sns.scatterplot(\n",
    "    data=df_results,\n",
    "    x=\"Search speed avg. (ms)\",\n",
    "    y=\"Recall avg\",\n",
    "    style=\"Dataset\",\n",
    "    hue=\"Index build speed (s)\",\n",
    "    palette=\"flare\",\n",
    "    s=70,\n",
    ")\n",
    "plt.title(\"Faiss IVF SQ8 - latency vs n partitions\")\n",
    "plt.ylabel(\"Recall\")\n",
    "plt.xlabel(\"Search speed (ms)\")\n",
    "plt.show()"
   ]
  },
  {
   "cell_type": "code",
   "execution_count": null,
   "metadata": {},
   "outputs": [
    {
     "data": {
      "image/png": "[encoded data removed]",
      "text/plain": [
       "<Figure size 640x480 with 1 Axes>"
      ]
     },
     "metadata": {},
     "output_type": "display_data"
    }
   ],
   "source": [
    "df_plot = df_results.query(\"Dataset == 'glove-25-angular'\")\n",
    "\n",
    "# plt.figure(figsize=(6, 4))\n",
    "sns.scatterplot(\n",
    "    data=df_plot,\n",
    "    x=\"Search speed avg. (ms)\",\n",
    "    y=\"Recall avg\",\n",
    "    style=\"Metric\",\n",
    "    hue=\"Index build speed (s)\",\n",
    "    palette=\"flare\",\n",
    "    s=70,\n",
    ")\n",
    "plt.ylabel(\"Recall\")\n",
    "plt.xlabel(\"Search speed (ms)\")\n",
    "plt.show()"
   ]
  },
  {
   "cell_type": "code",
   "execution_count": null,
   "metadata": {},
   "outputs": [
    {
     "data": {
      "text/html": [
       "<div>\n",
       "<style scoped>\n",
       "    .dataframe tbody tr th:only-of-type {\n",
       "        vertical-align: middle;\n",
       "    }\n",
       "\n",
       "    .dataframe tbody tr th {\n",
       "        vertical-align: top;\n",
       "    }\n",
       "\n",
       "    .dataframe thead th {\n",
       "        text-align: right;\n",
       "    }\n",
       "</style>\n",
       "<table border=\"1\" class=\"dataframe\">\n",
       "  <thead>\n",
       "    <tr style=\"text-align: right;\">\n",
       "      <th></th>\n",
       "      <th>Unnamed: 0</th>\n",
       "      <th>Dataset</th>\n",
       "      <th>Index</th>\n",
       "      <th>Index parameters.</th>\n",
       "      <th>Server startup speed (s)</th>\n",
       "      <th>Index build speed (s)</th>\n",
       "      <th>Search speed avg. (ms)</th>\n",
       "      <th>Search speed p95 (ms)</th>\n",
       "      <th>Recall avg</th>\n",
       "      <th>Recall@1</th>\n",
       "      <th>...</th>\n",
       "      <th>benchmarking_max</th>\n",
       "      <th>benchmarking_mean</th>\n",
       "      <th>IndexProvider</th>\n",
       "      <th>IndexType</th>\n",
       "      <th>Compression</th>\n",
       "      <th>M</th>\n",
       "      <th>Metric</th>\n",
       "      <th>ef_construction</th>\n",
       "      <th>ef_search</th>\n",
       "      <th>nPartitions</th>\n",
       "    </tr>\n",
       "  </thead>\n",
       "  <tbody>\n",
       "    <tr>\n",
       "      <th>29</th>\n",
       "      <td>29</td>\n",
       "      <td>glove-25-angular</td>\n",
       "      <td>index: qdrant HNSW, M=16, ef_construction=128,...</td>\n",
       "      <td>HNSW, M=16, ef_construction=128, ef_search=128...</td>\n",
       "      <td>4.048579</td>\n",
       "      <td>25.393094</td>\n",
       "      <td>89.398506</td>\n",
       "      <td>95.645932</td>\n",
       "      <td>1.000000</td>\n",
       "      <td>1.000000</td>\n",
       "      <td>...</td>\n",
       "      <td>256.00</td>\n",
       "      <td>247.485714</td>\n",
       "      <td>qdrant</td>\n",
       "      <td>HNSW</td>\n",
       "      <td>None</td>\n",
       "      <td>16</td>\n",
       "      <td>IP</td>\n",
       "      <td>128</td>\n",
       "      <td>128</td>\n",
       "      <td>NaN</td>\n",
       "    </tr>\n",
       "    <tr>\n",
       "      <th>31</th>\n",
       "      <td>31</td>\n",
       "      <td>glove-25-angular</td>\n",
       "      <td>index: qdrant HNSW, M=32, ef_construction=128,...</td>\n",
       "      <td>HNSW, M=32, ef_construction=128, ef_search=128...</td>\n",
       "      <td>4.552370</td>\n",
       "      <td>24.999408</td>\n",
       "      <td>89.348547</td>\n",
       "      <td>95.133604</td>\n",
       "      <td>1.000000</td>\n",
       "      <td>1.000000</td>\n",
       "      <td>...</td>\n",
       "      <td>301.90</td>\n",
       "      <td>295.261905</td>\n",
       "      <td>qdrant</td>\n",
       "      <td>HNSW</td>\n",
       "      <td>None</td>\n",
       "      <td>32</td>\n",
       "      <td>IP</td>\n",
       "      <td>128</td>\n",
       "      <td>128</td>\n",
       "      <td>NaN</td>\n",
       "    </tr>\n",
       "    <tr>\n",
       "      <th>33</th>\n",
       "      <td>33</td>\n",
       "      <td>glove-25-angular</td>\n",
       "      <td>index: milvus IVF, n_partition=100, None, IP</td>\n",
       "      <td>IVF, n_partition=100, None, IP</td>\n",
       "      <td>96.210198</td>\n",
       "      <td>72.518448</td>\n",
       "      <td>344.703333</td>\n",
       "      <td>354.398582</td>\n",
       "      <td>0.008627</td>\n",
       "      <td>0.000667</td>\n",
       "      <td>...</td>\n",
       "      <td>631.11</td>\n",
       "      <td>620.596500</td>\n",
       "      <td>milvus</td>\n",
       "      <td>IVF</td>\n",
       "      <td>None</td>\n",
       "      <td>NaN</td>\n",
       "      <td>IP</td>\n",
       "      <td>NaN</td>\n",
       "      <td>NaN</td>\n",
       "      <td>100</td>\n",
       "    </tr>\n",
       "    <tr>\n",
       "      <th>35</th>\n",
       "      <td>35</td>\n",
       "      <td>glove-25-angular</td>\n",
       "      <td>index: milvus IVF, n_partition=800, None, IP</td>\n",
       "      <td>IVF, n_partition=800, None, IP</td>\n",
       "      <td>101.332964</td>\n",
       "      <td>46.633013</td>\n",
       "      <td>445.020150</td>\n",
       "      <td>549.840387</td>\n",
       "      <td>0.013513</td>\n",
       "      <td>0.001000</td>\n",
       "      <td>...</td>\n",
       "      <td>627.80</td>\n",
       "      <td>614.492133</td>\n",
       "      <td>milvus</td>\n",
       "      <td>IVF</td>\n",
       "      <td>None</td>\n",
       "      <td>NaN</td>\n",
       "      <td>IP</td>\n",
       "      <td>NaN</td>\n",
       "      <td>NaN</td>\n",
       "      <td>800</td>\n",
       "    </tr>\n",
       "    <tr>\n",
       "      <th>37</th>\n",
       "      <td>37</td>\n",
       "      <td>glove-25-angular</td>\n",
       "      <td>index: milvus HNSW, M=16, ef_construction=128,...</td>\n",
       "      <td>HNSW, M=16, ef_construction=128, ef_search=128...</td>\n",
       "      <td>94.374747</td>\n",
       "      <td>85.687652</td>\n",
       "      <td>245.568961</td>\n",
       "      <td>349.796278</td>\n",
       "      <td>0.006617</td>\n",
       "      <td>0.000667</td>\n",
       "      <td>...</td>\n",
       "      <td>837.44</td>\n",
       "      <td>822.682000</td>\n",
       "      <td>milvus</td>\n",
       "      <td>HNSW</td>\n",
       "      <td>None</td>\n",
       "      <td>16</td>\n",
       "      <td>IP</td>\n",
       "      <td>128</td>\n",
       "      <td>128</td>\n",
       "      <td>NaN</td>\n",
       "    </tr>\n",
       "    <tr>\n",
       "      <th>39</th>\n",
       "      <td>39</td>\n",
       "      <td>glove-25-angular</td>\n",
       "      <td>index: milvus HNSW, M=32, ef_construction=128,...</td>\n",
       "      <td>HNSW, M=32, ef_construction=128, ef_search=128...</td>\n",
       "      <td>101.712679</td>\n",
       "      <td>142.796307</td>\n",
       "      <td>421.930727</td>\n",
       "      <td>549.538160</td>\n",
       "      <td>0.007387</td>\n",
       "      <td>0.000667</td>\n",
       "      <td>...</td>\n",
       "      <td>1026.74</td>\n",
       "      <td>1016.978169</td>\n",
       "      <td>milvus</td>\n",
       "      <td>HNSW</td>\n",
       "      <td>None</td>\n",
       "      <td>32</td>\n",
       "      <td>IP</td>\n",
       "      <td>128</td>\n",
       "      <td>128</td>\n",
       "      <td>NaN</td>\n",
       "    </tr>\n",
       "    <tr>\n",
       "      <th>41</th>\n",
       "      <td>41</td>\n",
       "      <td>glove-25-angular</td>\n",
       "      <td>index: faiss IVF, n_partition=100, None, IP</td>\n",
       "      <td>IVF, n_partition=100, None, IP</td>\n",
       "      <td>8.550369</td>\n",
       "      <td>0.567488</td>\n",
       "      <td>19.679301</td>\n",
       "      <td>21.517548</td>\n",
       "      <td>0.009527</td>\n",
       "      <td>0.001000</td>\n",
       "      <td>...</td>\n",
       "      <td>605.80</td>\n",
       "      <td>605.727273</td>\n",
       "      <td>faiss</td>\n",
       "      <td>IVF</td>\n",
       "      <td>None</td>\n",
       "      <td>NaN</td>\n",
       "      <td>IP</td>\n",
       "      <td>NaN</td>\n",
       "      <td>NaN</td>\n",
       "      <td>100</td>\n",
       "    </tr>\n",
       "    <tr>\n",
       "      <th>43</th>\n",
       "      <td>43</td>\n",
       "      <td>glove-25-angular</td>\n",
       "      <td>index: faiss IVF, n_partition=800, None, IP</td>\n",
       "      <td>IVF, n_partition=800, None, IP</td>\n",
       "      <td>8.471999</td>\n",
       "      <td>4.220731</td>\n",
       "      <td>8.282261</td>\n",
       "      <td>11.272514</td>\n",
       "      <td>0.014417</td>\n",
       "      <td>0.001000</td>\n",
       "      <td>...</td>\n",
       "      <td>606.00</td>\n",
       "      <td>605.930000</td>\n",
       "      <td>faiss</td>\n",
       "      <td>IVF</td>\n",
       "      <td>None</td>\n",
       "      <td>NaN</td>\n",
       "      <td>IP</td>\n",
       "      <td>NaN</td>\n",
       "      <td>NaN</td>\n",
       "      <td>800</td>\n",
       "    </tr>\n",
       "    <tr>\n",
       "      <th>45</th>\n",
       "      <td>45</td>\n",
       "      <td>glove-25-angular</td>\n",
       "      <td>index: faiss HNSW, M=16, ef_construction=128, ...</td>\n",
       "      <td>HNSW, M=16, ef_construction=128, ef_search=128...</td>\n",
       "      <td>9.587130</td>\n",
       "      <td>93.143105</td>\n",
       "      <td>7.751224</td>\n",
       "      <td>10.523232</td>\n",
       "      <td>0.005663</td>\n",
       "      <td>0.000667</td>\n",
       "      <td>...</td>\n",
       "      <td>770.30</td>\n",
       "      <td>770.233333</td>\n",
       "      <td>faiss</td>\n",
       "      <td>HNSW</td>\n",
       "      <td>None</td>\n",
       "      <td>16</td>\n",
       "      <td>IP</td>\n",
       "      <td>128</td>\n",
       "      <td>128</td>\n",
       "      <td>NaN</td>\n",
       "    </tr>\n",
       "    <tr>\n",
       "      <th>47</th>\n",
       "      <td>47</td>\n",
       "      <td>glove-25-angular</td>\n",
       "      <td>index: faiss HNSW, M=32, ef_construction=128, ...</td>\n",
       "      <td>HNSW, M=32, ef_construction=128, ef_search=128...</td>\n",
       "      <td>10.621434</td>\n",
       "      <td>163.998723</td>\n",
       "      <td>8.659674</td>\n",
       "      <td>11.754838</td>\n",
       "      <td>0.006907</td>\n",
       "      <td>0.000667</td>\n",
       "      <td>...</td>\n",
       "      <td>915.50</td>\n",
       "      <td>915.433333</td>\n",
       "      <td>faiss</td>\n",
       "      <td>HNSW</td>\n",
       "      <td>None</td>\n",
       "      <td>32</td>\n",
       "      <td>IP</td>\n",
       "      <td>128</td>\n",
       "      <td>128</td>\n",
       "      <td>NaN</td>\n",
       "    </tr>\n",
       "  </tbody>\n",
       "</table>\n",
       "<p>10 rows × 24 columns</p>\n",
       "</div>"
      ],
      "text/plain": [
       "    Unnamed: 0           Dataset  \\\n",
       "29          29  glove-25-angular   \n",
       "31          31  glove-25-angular   \n",
       "33          33  glove-25-angular   \n",
       "35          35  glove-25-angular   \n",
       "37          37  glove-25-angular   \n",
       "39          39  glove-25-angular   \n",
       "41          41  glove-25-angular   \n",
       "43          43  glove-25-angular   \n",
       "45          45  glove-25-angular   \n",
       "47          47  glove-25-angular   \n",
       "\n",
       "                                                Index  \\\n",
       "29  index: qdrant HNSW, M=16, ef_construction=128,...   \n",
       "31  index: qdrant HNSW, M=32, ef_construction=128,...   \n",
       "33       index: milvus IVF, n_partition=100, None, IP   \n",
       "35       index: milvus IVF, n_partition=800, None, IP   \n",
       "37  index: milvus HNSW, M=16, ef_construction=128,...   \n",
       "39  index: milvus HNSW, M=32, ef_construction=128,...   \n",
       "41        index: faiss IVF, n_partition=100, None, IP   \n",
       "43        index: faiss IVF, n_partition=800, None, IP   \n",
       "45  index: faiss HNSW, M=16, ef_construction=128, ...   \n",
       "47  index: faiss HNSW, M=32, ef_construction=128, ...   \n",
       "\n",
       "                                    Index parameters.  \\\n",
       "29  HNSW, M=16, ef_construction=128, ef_search=128...   \n",
       "31  HNSW, M=32, ef_construction=128, ef_search=128...   \n",
       "33                     IVF, n_partition=100, None, IP   \n",
       "35                     IVF, n_partition=800, None, IP   \n",
       "37  HNSW, M=16, ef_construction=128, ef_search=128...   \n",
       "39  HNSW, M=32, ef_construction=128, ef_search=128...   \n",
       "41                     IVF, n_partition=100, None, IP   \n",
       "43                     IVF, n_partition=800, None, IP   \n",
       "45  HNSW, M=16, ef_construction=128, ef_search=128...   \n",
       "47  HNSW, M=32, ef_construction=128, ef_search=128...   \n",
       "\n",
       "    Server startup speed (s)  Index build speed (s)  Search speed avg. (ms)  \\\n",
       "29                  4.048579              25.393094               89.398506   \n",
       "31                  4.552370              24.999408               89.348547   \n",
       "33                 96.210198              72.518448              344.703333   \n",
       "35                101.332964              46.633013              445.020150   \n",
       "37                 94.374747              85.687652              245.568961   \n",
       "39                101.712679             142.796307              421.930727   \n",
       "41                  8.550369               0.567488               19.679301   \n",
       "43                  8.471999               4.220731                8.282261   \n",
       "45                  9.587130              93.143105                7.751224   \n",
       "47                 10.621434             163.998723                8.659674   \n",
       "\n",
       "    Search speed p95 (ms)  Recall avg  Recall@1  ...  benchmarking_max  \\\n",
       "29              95.645932    1.000000  1.000000  ...            256.00   \n",
       "31              95.133604    1.000000  1.000000  ...            301.90   \n",
       "33             354.398582    0.008627  0.000667  ...            631.11   \n",
       "35             549.840387    0.013513  0.001000  ...            627.80   \n",
       "37             349.796278    0.006617  0.000667  ...            837.44   \n",
       "39             549.538160    0.007387  0.000667  ...           1026.74   \n",
       "41              21.517548    0.009527  0.001000  ...            605.80   \n",
       "43              11.272514    0.014417  0.001000  ...            606.00   \n",
       "45              10.523232    0.005663  0.000667  ...            770.30   \n",
       "47              11.754838    0.006907  0.000667  ...            915.50   \n",
       "\n",
       "    benchmarking_mean  IndexProvider  IndexType  Compression    M Metric  \\\n",
       "29         247.485714         qdrant       HNSW         None   16     IP   \n",
       "31         295.261905         qdrant       HNSW         None   32     IP   \n",
       "33         620.596500         milvus        IVF         None  NaN     IP   \n",
       "35         614.492133         milvus        IVF         None  NaN     IP   \n",
       "37         822.682000         milvus       HNSW         None   16     IP   \n",
       "39        1016.978169         milvus       HNSW         None   32     IP   \n",
       "41         605.727273          faiss        IVF         None  NaN     IP   \n",
       "43         605.930000          faiss        IVF         None  NaN     IP   \n",
       "45         770.233333          faiss       HNSW         None   16     IP   \n",
       "47         915.433333          faiss       HNSW         None   32     IP   \n",
       "\n",
       "   ef_construction ef_search nPartitions  \n",
       "29             128       128         NaN  \n",
       "31             128       128         NaN  \n",
       "33             NaN       NaN         100  \n",
       "35             NaN       NaN         800  \n",
       "37             128       128         NaN  \n",
       "39             128       128         NaN  \n",
       "41             NaN       NaN         100  \n",
       "43             NaN       NaN         800  \n",
       "45             128       128         NaN  \n",
       "47             128       128         NaN  \n",
       "\n",
       "[10 rows x 24 columns]"
      ]
     },
     "execution_count": 465,
     "metadata": {},
     "output_type": "execute_result"
    }
   ],
   "source": [
    "df_results.query('Metric == \"IP\" and Dataset == \"glove-25-angular\"')"
   ]
  },
  {
   "cell_type": "code",
   "execution_count": null,
   "metadata": {},
   "outputs": [],
   "source": [
    "df_results.n"
   ]
  },
  {
   "cell_type": "code",
   "execution_count": null,
   "metadata": {},
   "outputs": [
    {
     "data": {
      "image/png": "[encoded data removed]",
      "text/plain": [
       "<Figure size 640x480 with 1 Axes>"
      ]
     },
     "metadata": {},
     "output_type": "display_data"
    }
   ],
   "source": [
    "df_plot = df_results.query(\"IndexType == 'IVF'\")\n",
    "\n",
    "# plt.figure(figsize=(6, 4))\n",
    "sns.scatterplot(\n",
    "    data=df_plot,\n",
    "    x=\"Recall avg\",\n",
    "    y=\"Search speed avg. (ms)\",\n",
    "    style=\"Metric\",\n",
    "    hue=\"IndexProvider\",\n",
    "    palette=\"flare\",\n",
    "    s=70,\n",
    ")\n",
    "plt.xlabel(\"Recall\")\n",
    "plt.ylabel(\"Search speed (ms)\")\n",
    "plt.show()"
   ]
  },
  {
   "cell_type": "code",
   "execution_count": null,
   "metadata": {},
   "outputs": [
    {
     "data": {
      "text/html": [
       "<div>\n",
       "<style scoped>\n",
       "    .dataframe tbody tr th:only-of-type {\n",
       "        vertical-align: middle;\n",
       "    }\n",
       "\n",
       "    .dataframe tbody tr th {\n",
       "        vertical-align: top;\n",
       "    }\n",
       "\n",
       "    .dataframe thead th {\n",
       "        text-align: right;\n",
       "    }\n",
       "</style>\n",
       "<table border=\"1\" class=\"dataframe\">\n",
       "  <thead>\n",
       "    <tr style=\"text-align: right;\">\n",
       "      <th></th>\n",
       "      <th>Unnamed: 0</th>\n",
       "      <th>Dataset</th>\n",
       "      <th>Index</th>\n",
       "      <th>Index parameters.</th>\n",
       "      <th>Server startup speed (s)</th>\n",
       "      <th>Index build speed (s)</th>\n",
       "      <th>Search speed avg. (ms)</th>\n",
       "      <th>Search speed p95 (ms)</th>\n",
       "      <th>Recall avg</th>\n",
       "      <th>Recall@1</th>\n",
       "      <th>...</th>\n",
       "      <th>benchmarking_max</th>\n",
       "      <th>benchmarking_mean</th>\n",
       "      <th>IndexProvider</th>\n",
       "      <th>IndexType</th>\n",
       "      <th>Compression</th>\n",
       "      <th>M</th>\n",
       "      <th>Metric</th>\n",
       "      <th>ef_construction</th>\n",
       "      <th>ef_search</th>\n",
       "      <th>nPartitions</th>\n",
       "    </tr>\n",
       "  </thead>\n",
       "  <tbody>\n",
       "    <tr>\n",
       "      <th>8</th>\n",
       "      <td>8</td>\n",
       "      <td>sift-128-euclidean</td>\n",
       "      <td>index: milvus IVF, n_partition=100, None, L2</td>\n",
       "      <td>IVF, n_partition=100, None, L2</td>\n",
       "      <td>101.787549</td>\n",
       "      <td>67.694298</td>\n",
       "      <td>535.323174</td>\n",
       "      <td>652.183297</td>\n",
       "      <td>0.999900</td>\n",
       "      <td>0.998667</td>\n",
       "      <td>...</td>\n",
       "      <td>3479.866</td>\n",
       "      <td>1333.863717</td>\n",
       "      <td>milvus</td>\n",
       "      <td>IVF</td>\n",
       "      <td>None</td>\n",
       "      <td>NaN</td>\n",
       "      <td>L2</td>\n",
       "      <td>NaN</td>\n",
       "      <td>NaN</td>\n",
       "      <td>100</td>\n",
       "    </tr>\n",
       "    <tr>\n",
       "      <th>9</th>\n",
       "      <td>9</td>\n",
       "      <td>sift-128-euclidean</td>\n",
       "      <td>index: milvus IVF, n_partition=100, None, IP</td>\n",
       "      <td>IVF, n_partition=100, None, IP</td>\n",
       "      <td>91.420860</td>\n",
       "      <td>67.650501</td>\n",
       "      <td>336.758641</td>\n",
       "      <td>452.926573</td>\n",
       "      <td>0.952370</td>\n",
       "      <td>0.942667</td>\n",
       "      <td>...</td>\n",
       "      <td>3675.376</td>\n",
       "      <td>1414.444104</td>\n",
       "      <td>milvus</td>\n",
       "      <td>IVF</td>\n",
       "      <td>None</td>\n",
       "      <td>NaN</td>\n",
       "      <td>IP</td>\n",
       "      <td>NaN</td>\n",
       "      <td>NaN</td>\n",
       "      <td>100</td>\n",
       "    </tr>\n",
       "    <tr>\n",
       "      <th>10</th>\n",
       "      <td>10</td>\n",
       "      <td>sift-128-euclidean</td>\n",
       "      <td>index: milvus IVF, n_partition=800, None, L2</td>\n",
       "      <td>IVF, n_partition=800, None, L2</td>\n",
       "      <td>94.706829</td>\n",
       "      <td>97.900542</td>\n",
       "      <td>342.548977</td>\n",
       "      <td>450.795160</td>\n",
       "      <td>0.980920</td>\n",
       "      <td>0.994667</td>\n",
       "      <td>...</td>\n",
       "      <td>3164.188</td>\n",
       "      <td>1403.239169</td>\n",
       "      <td>milvus</td>\n",
       "      <td>IVF</td>\n",
       "      <td>None</td>\n",
       "      <td>NaN</td>\n",
       "      <td>L2</td>\n",
       "      <td>NaN</td>\n",
       "      <td>NaN</td>\n",
       "      <td>800</td>\n",
       "    </tr>\n",
       "    <tr>\n",
       "      <th>11</th>\n",
       "      <td>11</td>\n",
       "      <td>sift-128-euclidean</td>\n",
       "      <td>index: milvus IVF, n_partition=800, None, IP</td>\n",
       "      <td>IVF, n_partition=800, None, IP</td>\n",
       "      <td>91.689105</td>\n",
       "      <td>116.726733</td>\n",
       "      <td>334.049765</td>\n",
       "      <td>450.846251</td>\n",
       "      <td>0.941887</td>\n",
       "      <td>0.938667</td>\n",
       "      <td>...</td>\n",
       "      <td>3226.744</td>\n",
       "      <td>1328.597447</td>\n",
       "      <td>milvus</td>\n",
       "      <td>IVF</td>\n",
       "      <td>None</td>\n",
       "      <td>NaN</td>\n",
       "      <td>IP</td>\n",
       "      <td>NaN</td>\n",
       "      <td>NaN</td>\n",
       "      <td>800</td>\n",
       "    </tr>\n",
       "    <tr>\n",
       "      <th>16</th>\n",
       "      <td>16</td>\n",
       "      <td>sift-128-euclidean</td>\n",
       "      <td>index: faiss IVF, n_partition=100, None, L2</td>\n",
       "      <td>IVF, n_partition=100, None, L2</td>\n",
       "      <td>11.161616</td>\n",
       "      <td>1.657944</td>\n",
       "      <td>51.397209</td>\n",
       "      <td>58.086118</td>\n",
       "      <td>0.952310</td>\n",
       "      <td>0.940667</td>\n",
       "      <td>...</td>\n",
       "      <td>983.500</td>\n",
       "      <td>983.233333</td>\n",
       "      <td>faiss</td>\n",
       "      <td>IVF</td>\n",
       "      <td>None</td>\n",
       "      <td>NaN</td>\n",
       "      <td>L2</td>\n",
       "      <td>NaN</td>\n",
       "      <td>NaN</td>\n",
       "      <td>100</td>\n",
       "    </tr>\n",
       "    <tr>\n",
       "      <th>17</th>\n",
       "      <td>17</td>\n",
       "      <td>sift-128-euclidean</td>\n",
       "      <td>index: faiss IVF, n_partition=100, None, IP</td>\n",
       "      <td>IVF, n_partition=100, None, IP</td>\n",
       "      <td>11.258433</td>\n",
       "      <td>1.707111</td>\n",
       "      <td>51.537080</td>\n",
       "      <td>58.806592</td>\n",
       "      <td>0.952310</td>\n",
       "      <td>0.940667</td>\n",
       "      <td>...</td>\n",
       "      <td>983.300</td>\n",
       "      <td>983.213333</td>\n",
       "      <td>faiss</td>\n",
       "      <td>IVF</td>\n",
       "      <td>None</td>\n",
       "      <td>NaN</td>\n",
       "      <td>IP</td>\n",
       "      <td>NaN</td>\n",
       "      <td>NaN</td>\n",
       "      <td>100</td>\n",
       "    </tr>\n",
       "    <tr>\n",
       "      <th>18</th>\n",
       "      <td>18</td>\n",
       "      <td>sift-128-euclidean</td>\n",
       "      <td>index: faiss IVF, n_partition=800, None, L2</td>\n",
       "      <td>IVF, n_partition=800, None, L2</td>\n",
       "      <td>11.135456</td>\n",
       "      <td>11.343164</td>\n",
       "      <td>12.544496</td>\n",
       "      <td>14.577151</td>\n",
       "      <td>0.933587</td>\n",
       "      <td>0.935000</td>\n",
       "      <td>...</td>\n",
       "      <td>983.500</td>\n",
       "      <td>983.368000</td>\n",
       "      <td>faiss</td>\n",
       "      <td>IVF</td>\n",
       "      <td>None</td>\n",
       "      <td>NaN</td>\n",
       "      <td>L2</td>\n",
       "      <td>NaN</td>\n",
       "      <td>NaN</td>\n",
       "      <td>800</td>\n",
       "    </tr>\n",
       "    <tr>\n",
       "      <th>19</th>\n",
       "      <td>19</td>\n",
       "      <td>sift-128-euclidean</td>\n",
       "      <td>index: faiss IVF, n_partition=800, None, IP</td>\n",
       "      <td>IVF, n_partition=800, None, IP</td>\n",
       "      <td>11.141454</td>\n",
       "      <td>11.405267</td>\n",
       "      <td>12.479163</td>\n",
       "      <td>14.724154</td>\n",
       "      <td>0.933587</td>\n",
       "      <td>0.935000</td>\n",
       "      <td>...</td>\n",
       "      <td>983.600</td>\n",
       "      <td>983.429630</td>\n",
       "      <td>faiss</td>\n",
       "      <td>IVF</td>\n",
       "      <td>None</td>\n",
       "      <td>NaN</td>\n",
       "      <td>IP</td>\n",
       "      <td>NaN</td>\n",
       "      <td>NaN</td>\n",
       "      <td>800</td>\n",
       "    </tr>\n",
       "    <tr>\n",
       "      <th>32</th>\n",
       "      <td>32</td>\n",
       "      <td>glove-25-angular</td>\n",
       "      <td>index: milvus IVF, n_partition=100, None, L2</td>\n",
       "      <td>IVF, n_partition=100, None, L2</td>\n",
       "      <td>94.486438</td>\n",
       "      <td>112.496317</td>\n",
       "      <td>340.963626</td>\n",
       "      <td>352.704370</td>\n",
       "      <td>1.000000</td>\n",
       "      <td>1.000000</td>\n",
       "      <td>...</td>\n",
       "      <td>689.920</td>\n",
       "      <td>678.531186</td>\n",
       "      <td>milvus</td>\n",
       "      <td>IVF</td>\n",
       "      <td>None</td>\n",
       "      <td>NaN</td>\n",
       "      <td>L2</td>\n",
       "      <td>NaN</td>\n",
       "      <td>NaN</td>\n",
       "      <td>100</td>\n",
       "    </tr>\n",
       "    <tr>\n",
       "      <th>33</th>\n",
       "      <td>33</td>\n",
       "      <td>glove-25-angular</td>\n",
       "      <td>index: milvus IVF, n_partition=100, None, IP</td>\n",
       "      <td>IVF, n_partition=100, None, IP</td>\n",
       "      <td>96.210198</td>\n",
       "      <td>72.518448</td>\n",
       "      <td>344.703333</td>\n",
       "      <td>354.398582</td>\n",
       "      <td>0.008627</td>\n",
       "      <td>0.000667</td>\n",
       "      <td>...</td>\n",
       "      <td>631.110</td>\n",
       "      <td>620.596500</td>\n",
       "      <td>milvus</td>\n",
       "      <td>IVF</td>\n",
       "      <td>None</td>\n",
       "      <td>NaN</td>\n",
       "      <td>IP</td>\n",
       "      <td>NaN</td>\n",
       "      <td>NaN</td>\n",
       "      <td>100</td>\n",
       "    </tr>\n",
       "    <tr>\n",
       "      <th>34</th>\n",
       "      <td>34</td>\n",
       "      <td>glove-25-angular</td>\n",
       "      <td>index: milvus IVF, n_partition=800, None, L2</td>\n",
       "      <td>IVF, n_partition=800, None, L2</td>\n",
       "      <td>101.649179</td>\n",
       "      <td>42.922241</td>\n",
       "      <td>357.615964</td>\n",
       "      <td>540.887694</td>\n",
       "      <td>0.972527</td>\n",
       "      <td>0.991333</td>\n",
       "      <td>...</td>\n",
       "      <td>628.640</td>\n",
       "      <td>617.736066</td>\n",
       "      <td>milvus</td>\n",
       "      <td>IVF</td>\n",
       "      <td>None</td>\n",
       "      <td>NaN</td>\n",
       "      <td>L2</td>\n",
       "      <td>NaN</td>\n",
       "      <td>NaN</td>\n",
       "      <td>800</td>\n",
       "    </tr>\n",
       "    <tr>\n",
       "      <th>35</th>\n",
       "      <td>35</td>\n",
       "      <td>glove-25-angular</td>\n",
       "      <td>index: milvus IVF, n_partition=800, None, IP</td>\n",
       "      <td>IVF, n_partition=800, None, IP</td>\n",
       "      <td>101.332964</td>\n",
       "      <td>46.633013</td>\n",
       "      <td>445.020150</td>\n",
       "      <td>549.840387</td>\n",
       "      <td>0.013513</td>\n",
       "      <td>0.001000</td>\n",
       "      <td>...</td>\n",
       "      <td>627.800</td>\n",
       "      <td>614.492133</td>\n",
       "      <td>milvus</td>\n",
       "      <td>IVF</td>\n",
       "      <td>None</td>\n",
       "      <td>NaN</td>\n",
       "      <td>IP</td>\n",
       "      <td>NaN</td>\n",
       "      <td>NaN</td>\n",
       "      <td>800</td>\n",
       "    </tr>\n",
       "    <tr>\n",
       "      <th>40</th>\n",
       "      <td>40</td>\n",
       "      <td>glove-25-angular</td>\n",
       "      <td>index: faiss IVF, n_partition=100, None, L2</td>\n",
       "      <td>IVF, n_partition=100, None, L2</td>\n",
       "      <td>8.558153</td>\n",
       "      <td>0.577569</td>\n",
       "      <td>19.689709</td>\n",
       "      <td>22.094062</td>\n",
       "      <td>0.009527</td>\n",
       "      <td>0.001000</td>\n",
       "      <td>...</td>\n",
       "      <td>606.000</td>\n",
       "      <td>605.753846</td>\n",
       "      <td>faiss</td>\n",
       "      <td>IVF</td>\n",
       "      <td>None</td>\n",
       "      <td>NaN</td>\n",
       "      <td>L2</td>\n",
       "      <td>NaN</td>\n",
       "      <td>NaN</td>\n",
       "      <td>100</td>\n",
       "    </tr>\n",
       "    <tr>\n",
       "      <th>41</th>\n",
       "      <td>41</td>\n",
       "      <td>glove-25-angular</td>\n",
       "      <td>index: faiss IVF, n_partition=100, None, IP</td>\n",
       "      <td>IVF, n_partition=100, None, IP</td>\n",
       "      <td>8.550369</td>\n",
       "      <td>0.567488</td>\n",
       "      <td>19.679301</td>\n",
       "      <td>21.517548</td>\n",
       "      <td>0.009527</td>\n",
       "      <td>0.001000</td>\n",
       "      <td>...</td>\n",
       "      <td>605.800</td>\n",
       "      <td>605.727273</td>\n",
       "      <td>faiss</td>\n",
       "      <td>IVF</td>\n",
       "      <td>None</td>\n",
       "      <td>NaN</td>\n",
       "      <td>IP</td>\n",
       "      <td>NaN</td>\n",
       "      <td>NaN</td>\n",
       "      <td>100</td>\n",
       "    </tr>\n",
       "    <tr>\n",
       "      <th>42</th>\n",
       "      <td>42</td>\n",
       "      <td>glove-25-angular</td>\n",
       "      <td>index: faiss IVF, n_partition=800, None, L2</td>\n",
       "      <td>IVF, n_partition=800, None, L2</td>\n",
       "      <td>8.552092</td>\n",
       "      <td>4.328969</td>\n",
       "      <td>8.342150</td>\n",
       "      <td>11.509121</td>\n",
       "      <td>0.014417</td>\n",
       "      <td>0.001000</td>\n",
       "      <td>...</td>\n",
       "      <td>606.000</td>\n",
       "      <td>605.855556</td>\n",
       "      <td>faiss</td>\n",
       "      <td>IVF</td>\n",
       "      <td>None</td>\n",
       "      <td>NaN</td>\n",
       "      <td>L2</td>\n",
       "      <td>NaN</td>\n",
       "      <td>NaN</td>\n",
       "      <td>800</td>\n",
       "    </tr>\n",
       "    <tr>\n",
       "      <th>43</th>\n",
       "      <td>43</td>\n",
       "      <td>glove-25-angular</td>\n",
       "      <td>index: faiss IVF, n_partition=800, None, IP</td>\n",
       "      <td>IVF, n_partition=800, None, IP</td>\n",
       "      <td>8.471999</td>\n",
       "      <td>4.220731</td>\n",
       "      <td>8.282261</td>\n",
       "      <td>11.272514</td>\n",
       "      <td>0.014417</td>\n",
       "      <td>0.001000</td>\n",
       "      <td>...</td>\n",
       "      <td>606.000</td>\n",
       "      <td>605.930000</td>\n",
       "      <td>faiss</td>\n",
       "      <td>IVF</td>\n",
       "      <td>None</td>\n",
       "      <td>NaN</td>\n",
       "      <td>IP</td>\n",
       "      <td>NaN</td>\n",
       "      <td>NaN</td>\n",
       "      <td>800</td>\n",
       "    </tr>\n",
       "    <tr>\n",
       "      <th>56</th>\n",
       "      <td>56</td>\n",
       "      <td>lastfm-64-dot</td>\n",
       "      <td>index: milvus IVF, n_partition=100, None, L2</td>\n",
       "      <td>IVF, n_partition=100, None, L2</td>\n",
       "      <td>101.236463</td>\n",
       "      <td>18.585823</td>\n",
       "      <td>345.328974</td>\n",
       "      <td>558.593493</td>\n",
       "      <td>1.000000</td>\n",
       "      <td>1.000000</td>\n",
       "      <td>...</td>\n",
       "      <td>512.310</td>\n",
       "      <td>507.792632</td>\n",
       "      <td>milvus</td>\n",
       "      <td>IVF</td>\n",
       "      <td>None</td>\n",
       "      <td>NaN</td>\n",
       "      <td>L2</td>\n",
       "      <td>NaN</td>\n",
       "      <td>NaN</td>\n",
       "      <td>100</td>\n",
       "    </tr>\n",
       "    <tr>\n",
       "      <th>57</th>\n",
       "      <td>57</td>\n",
       "      <td>lastfm-64-dot</td>\n",
       "      <td>index: milvus IVF, n_partition=100, None, IP</td>\n",
       "      <td>IVF, n_partition=100, None, IP</td>\n",
       "      <td>101.467234</td>\n",
       "      <td>20.604712</td>\n",
       "      <td>269.909717</td>\n",
       "      <td>366.441605</td>\n",
       "      <td>0.728853</td>\n",
       "      <td>0.610333</td>\n",
       "      <td>...</td>\n",
       "      <td>570.930</td>\n",
       "      <td>566.155217</td>\n",
       "      <td>milvus</td>\n",
       "      <td>IVF</td>\n",
       "      <td>None</td>\n",
       "      <td>NaN</td>\n",
       "      <td>IP</td>\n",
       "      <td>NaN</td>\n",
       "      <td>NaN</td>\n",
       "      <td>100</td>\n",
       "    </tr>\n",
       "    <tr>\n",
       "      <th>58</th>\n",
       "      <td>58</td>\n",
       "      <td>lastfm-64-dot</td>\n",
       "      <td>index: milvus IVF, n_partition=800, None, L2</td>\n",
       "      <td>IVF, n_partition=800, None, L2</td>\n",
       "      <td>101.698389</td>\n",
       "      <td>24.799503</td>\n",
       "      <td>276.924674</td>\n",
       "      <td>364.052391</td>\n",
       "      <td>0.978070</td>\n",
       "      <td>0.991667</td>\n",
       "      <td>...</td>\n",
       "      <td>499.670</td>\n",
       "      <td>494.213191</td>\n",
       "      <td>milvus</td>\n",
       "      <td>IVF</td>\n",
       "      <td>None</td>\n",
       "      <td>NaN</td>\n",
       "      <td>L2</td>\n",
       "      <td>NaN</td>\n",
       "      <td>NaN</td>\n",
       "      <td>800</td>\n",
       "    </tr>\n",
       "    <tr>\n",
       "      <th>59</th>\n",
       "      <td>59</td>\n",
       "      <td>lastfm-64-dot</td>\n",
       "      <td>index: milvus IVF, n_partition=800, None, IP</td>\n",
       "      <td>IVF, n_partition=800, None, IP</td>\n",
       "      <td>101.826739</td>\n",
       "      <td>30.787757</td>\n",
       "      <td>260.992778</td>\n",
       "      <td>363.923966</td>\n",
       "      <td>0.849783</td>\n",
       "      <td>0.813333</td>\n",
       "      <td>...</td>\n",
       "      <td>543.200</td>\n",
       "      <td>533.303864</td>\n",
       "      <td>milvus</td>\n",
       "      <td>IVF</td>\n",
       "      <td>None</td>\n",
       "      <td>NaN</td>\n",
       "      <td>IP</td>\n",
       "      <td>NaN</td>\n",
       "      <td>NaN</td>\n",
       "      <td>800</td>\n",
       "    </tr>\n",
       "    <tr>\n",
       "      <th>64</th>\n",
       "      <td>64</td>\n",
       "      <td>lastfm-64-dot</td>\n",
       "      <td>index: faiss IVF, n_partition=100, None, L2</td>\n",
       "      <td>IVF, n_partition=100, None, L2</td>\n",
       "      <td>8.349862</td>\n",
       "      <td>0.418363</td>\n",
       "      <td>19.173714</td>\n",
       "      <td>22.159058</td>\n",
       "      <td>0.862583</td>\n",
       "      <td>0.815333</td>\n",
       "      <td>...</td>\n",
       "      <td>569.800</td>\n",
       "      <td>569.750000</td>\n",
       "      <td>faiss</td>\n",
       "      <td>IVF</td>\n",
       "      <td>None</td>\n",
       "      <td>NaN</td>\n",
       "      <td>L2</td>\n",
       "      <td>NaN</td>\n",
       "      <td>NaN</td>\n",
       "      <td>100</td>\n",
       "    </tr>\n",
       "    <tr>\n",
       "      <th>65</th>\n",
       "      <td>65</td>\n",
       "      <td>lastfm-64-dot</td>\n",
       "      <td>index: faiss IVF, n_partition=100, None, IP</td>\n",
       "      <td>IVF, n_partition=100, None, IP</td>\n",
       "      <td>8.380500</td>\n",
       "      <td>0.384909</td>\n",
       "      <td>19.183944</td>\n",
       "      <td>22.560702</td>\n",
       "      <td>0.862583</td>\n",
       "      <td>0.815333</td>\n",
       "      <td>...</td>\n",
       "      <td>569.800</td>\n",
       "      <td>569.750000</td>\n",
       "      <td>faiss</td>\n",
       "      <td>IVF</td>\n",
       "      <td>None</td>\n",
       "      <td>NaN</td>\n",
       "      <td>IP</td>\n",
       "      <td>NaN</td>\n",
       "      <td>NaN</td>\n",
       "      <td>100</td>\n",
       "    </tr>\n",
       "    <tr>\n",
       "      <th>66</th>\n",
       "      <td>66</td>\n",
       "      <td>lastfm-64-dot</td>\n",
       "      <td>index: faiss IVF, n_partition=800, None, L2</td>\n",
       "      <td>IVF, n_partition=800, None, L2</td>\n",
       "      <td>8.375172</td>\n",
       "      <td>5.172858</td>\n",
       "      <td>8.778540</td>\n",
       "      <td>11.077404</td>\n",
       "      <td>0.848790</td>\n",
       "      <td>0.814333</td>\n",
       "      <td>...</td>\n",
       "      <td>570.100</td>\n",
       "      <td>569.985714</td>\n",
       "      <td>faiss</td>\n",
       "      <td>IVF</td>\n",
       "      <td>None</td>\n",
       "      <td>NaN</td>\n",
       "      <td>L2</td>\n",
       "      <td>NaN</td>\n",
       "      <td>NaN</td>\n",
       "      <td>800</td>\n",
       "    </tr>\n",
       "    <tr>\n",
       "      <th>67</th>\n",
       "      <td>67</td>\n",
       "      <td>lastfm-64-dot</td>\n",
       "      <td>index: faiss IVF, n_partition=800, None, IP</td>\n",
       "      <td>IVF, n_partition=800, None, IP</td>\n",
       "      <td>8.273816</td>\n",
       "      <td>5.320171</td>\n",
       "      <td>8.699316</td>\n",
       "      <td>11.357355</td>\n",
       "      <td>0.848790</td>\n",
       "      <td>0.814333</td>\n",
       "      <td>...</td>\n",
       "      <td>570.200</td>\n",
       "      <td>570.085714</td>\n",
       "      <td>faiss</td>\n",
       "      <td>IVF</td>\n",
       "      <td>None</td>\n",
       "      <td>NaN</td>\n",
       "      <td>IP</td>\n",
       "      <td>NaN</td>\n",
       "      <td>NaN</td>\n",
       "      <td>800</td>\n",
       "    </tr>\n",
       "  </tbody>\n",
       "</table>\n",
       "<p>24 rows × 24 columns</p>\n",
       "</div>"
      ],
      "text/plain": [
       "    Unnamed: 0             Dataset  \\\n",
       "8            8  sift-128-euclidean   \n",
       "9            9  sift-128-euclidean   \n",
       "10          10  sift-128-euclidean   \n",
       "11          11  sift-128-euclidean   \n",
       "16          16  sift-128-euclidean   \n",
       "17          17  sift-128-euclidean   \n",
       "18          18  sift-128-euclidean   \n",
       "19          19  sift-128-euclidean   \n",
       "32          32    glove-25-angular   \n",
       "33          33    glove-25-angular   \n",
       "34          34    glove-25-angular   \n",
       "35          35    glove-25-angular   \n",
       "40          40    glove-25-angular   \n",
       "41          41    glove-25-angular   \n",
       "42          42    glove-25-angular   \n",
       "43          43    glove-25-angular   \n",
       "56          56       lastfm-64-dot   \n",
       "57          57       lastfm-64-dot   \n",
       "58          58       lastfm-64-dot   \n",
       "59          59       lastfm-64-dot   \n",
       "64          64       lastfm-64-dot   \n",
       "65          65       lastfm-64-dot   \n",
       "66          66       lastfm-64-dot   \n",
       "67          67       lastfm-64-dot   \n",
       "\n",
       "                                           Index  \\\n",
       "8   index: milvus IVF, n_partition=100, None, L2   \n",
       "9   index: milvus IVF, n_partition=100, None, IP   \n",
       "10  index: milvus IVF, n_partition=800, None, L2   \n",
       "11  index: milvus IVF, n_partition=800, None, IP   \n",
       "16   index: faiss IVF, n_partition=100, None, L2   \n",
       "17   index: faiss IVF, n_partition=100, None, IP   \n",
       "18   index: faiss IVF, n_partition=800, None, L2   \n",
       "19   index: faiss IVF, n_partition=800, None, IP   \n",
       "32  index: milvus IVF, n_partition=100, None, L2   \n",
       "33  index: milvus IVF, n_partition=100, None, IP   \n",
       "34  index: milvus IVF, n_partition=800, None, L2   \n",
       "35  index: milvus IVF, n_partition=800, None, IP   \n",
       "40   index: faiss IVF, n_partition=100, None, L2   \n",
       "41   index: faiss IVF, n_partition=100, None, IP   \n",
       "42   index: faiss IVF, n_partition=800, None, L2   \n",
       "43   index: faiss IVF, n_partition=800, None, IP   \n",
       "56  index: milvus IVF, n_partition=100, None, L2   \n",
       "57  index: milvus IVF, n_partition=100, None, IP   \n",
       "58  index: milvus IVF, n_partition=800, None, L2   \n",
       "59  index: milvus IVF, n_partition=800, None, IP   \n",
       "64   index: faiss IVF, n_partition=100, None, L2   \n",
       "65   index: faiss IVF, n_partition=100, None, IP   \n",
       "66   index: faiss IVF, n_partition=800, None, L2   \n",
       "67   index: faiss IVF, n_partition=800, None, IP   \n",
       "\n",
       "                 Index parameters.  Server startup speed (s)  \\\n",
       "8   IVF, n_partition=100, None, L2                101.787549   \n",
       "9   IVF, n_partition=100, None, IP                 91.420860   \n",
       "10  IVF, n_partition=800, None, L2                 94.706829   \n",
       "11  IVF, n_partition=800, None, IP                 91.689105   \n",
       "16  IVF, n_partition=100, None, L2                 11.161616   \n",
       "17  IVF, n_partition=100, None, IP                 11.258433   \n",
       "18  IVF, n_partition=800, None, L2                 11.135456   \n",
       "19  IVF, n_partition=800, None, IP                 11.141454   \n",
       "32  IVF, n_partition=100, None, L2                 94.486438   \n",
       "33  IVF, n_partition=100, None, IP                 96.210198   \n",
       "34  IVF, n_partition=800, None, L2                101.649179   \n",
       "35  IVF, n_partition=800, None, IP                101.332964   \n",
       "40  IVF, n_partition=100, None, L2                  8.558153   \n",
       "41  IVF, n_partition=100, None, IP                  8.550369   \n",
       "42  IVF, n_partition=800, None, L2                  8.552092   \n",
       "43  IVF, n_partition=800, None, IP                  8.471999   \n",
       "56  IVF, n_partition=100, None, L2                101.236463   \n",
       "57  IVF, n_partition=100, None, IP                101.467234   \n",
       "58  IVF, n_partition=800, None, L2                101.698389   \n",
       "59  IVF, n_partition=800, None, IP                101.826739   \n",
       "64  IVF, n_partition=100, None, L2                  8.349862   \n",
       "65  IVF, n_partition=100, None, IP                  8.380500   \n",
       "66  IVF, n_partition=800, None, L2                  8.375172   \n",
       "67  IVF, n_partition=800, None, IP                  8.273816   \n",
       "\n",
       "    Index build speed (s)  Search speed avg. (ms)  Search speed p95 (ms)  \\\n",
       "8               67.694298              535.323174             652.183297   \n",
       "9               67.650501              336.758641             452.926573   \n",
       "10              97.900542              342.548977             450.795160   \n",
       "11             116.726733              334.049765             450.846251   \n",
       "16               1.657944               51.397209              58.086118   \n",
       "17               1.707111               51.537080              58.806592   \n",
       "18              11.343164               12.544496              14.577151   \n",
       "19              11.405267               12.479163              14.724154   \n",
       "32             112.496317              340.963626             352.704370   \n",
       "33              72.518448              344.703333             354.398582   \n",
       "34              42.922241              357.615964             540.887694   \n",
       "35              46.633013              445.020150             549.840387   \n",
       "40               0.577569               19.689709              22.094062   \n",
       "41               0.567488               19.679301              21.517548   \n",
       "42               4.328969                8.342150              11.509121   \n",
       "43               4.220731                8.282261              11.272514   \n",
       "56              18.585823              345.328974             558.593493   \n",
       "57              20.604712              269.909717             366.441605   \n",
       "58              24.799503              276.924674             364.052391   \n",
       "59              30.787757              260.992778             363.923966   \n",
       "64               0.418363               19.173714              22.159058   \n",
       "65               0.384909               19.183944              22.560702   \n",
       "66               5.172858                8.778540              11.077404   \n",
       "67               5.320171                8.699316              11.357355   \n",
       "\n",
       "    Recall avg  Recall@1  ...  benchmarking_max  benchmarking_mean  \\\n",
       "8     0.999900  0.998667  ...          3479.866        1333.863717   \n",
       "9     0.952370  0.942667  ...          3675.376        1414.444104   \n",
       "10    0.980920  0.994667  ...          3164.188        1403.239169   \n",
       "11    0.941887  0.938667  ...          3226.744        1328.597447   \n",
       "16    0.952310  0.940667  ...           983.500         983.233333   \n",
       "17    0.952310  0.940667  ...           983.300         983.213333   \n",
       "18    0.933587  0.935000  ...           983.500         983.368000   \n",
       "19    0.933587  0.935000  ...           983.600         983.429630   \n",
       "32    1.000000  1.000000  ...           689.920         678.531186   \n",
       "33    0.008627  0.000667  ...           631.110         620.596500   \n",
       "34    0.972527  0.991333  ...           628.640         617.736066   \n",
       "35    0.013513  0.001000  ...           627.800         614.492133   \n",
       "40    0.009527  0.001000  ...           606.000         605.753846   \n",
       "41    0.009527  0.001000  ...           605.800         605.727273   \n",
       "42    0.014417  0.001000  ...           606.000         605.855556   \n",
       "43    0.014417  0.001000  ...           606.000         605.930000   \n",
       "56    1.000000  1.000000  ...           512.310         507.792632   \n",
       "57    0.728853  0.610333  ...           570.930         566.155217   \n",
       "58    0.978070  0.991667  ...           499.670         494.213191   \n",
       "59    0.849783  0.813333  ...           543.200         533.303864   \n",
       "64    0.862583  0.815333  ...           569.800         569.750000   \n",
       "65    0.862583  0.815333  ...           569.800         569.750000   \n",
       "66    0.848790  0.814333  ...           570.100         569.985714   \n",
       "67    0.848790  0.814333  ...           570.200         570.085714   \n",
       "\n",
       "    IndexProvider  IndexType  Compression    M Metric ef_construction  \\\n",
       "8          milvus        IVF         None  NaN     L2             NaN   \n",
       "9          milvus        IVF         None  NaN     IP             NaN   \n",
       "10         milvus        IVF         None  NaN     L2             NaN   \n",
       "11         milvus        IVF         None  NaN     IP             NaN   \n",
       "16          faiss        IVF         None  NaN     L2             NaN   \n",
       "17          faiss        IVF         None  NaN     IP             NaN   \n",
       "18          faiss        IVF         None  NaN     L2             NaN   \n",
       "19          faiss        IVF         None  NaN     IP             NaN   \n",
       "32         milvus        IVF         None  NaN     L2             NaN   \n",
       "33         milvus        IVF         None  NaN     IP             NaN   \n",
       "34         milvus        IVF         None  NaN     L2             NaN   \n",
       "35         milvus        IVF         None  NaN     IP             NaN   \n",
       "40          faiss        IVF         None  NaN     L2             NaN   \n",
       "41          faiss        IVF         None  NaN     IP             NaN   \n",
       "42          faiss        IVF         None  NaN     L2             NaN   \n",
       "43          faiss        IVF         None  NaN     IP             NaN   \n",
       "56         milvus        IVF         None  NaN     L2             NaN   \n",
       "57         milvus        IVF         None  NaN     IP             NaN   \n",
       "58         milvus        IVF         None  NaN     L2             NaN   \n",
       "59         milvus        IVF         None  NaN     IP             NaN   \n",
       "64          faiss        IVF         None  NaN     L2             NaN   \n",
       "65          faiss        IVF         None  NaN     IP             NaN   \n",
       "66          faiss        IVF         None  NaN     L2             NaN   \n",
       "67          faiss        IVF         None  NaN     IP             NaN   \n",
       "\n",
       "   ef_search nPartitions  \n",
       "8        NaN         100  \n",
       "9        NaN         100  \n",
       "10       NaN         800  \n",
       "11       NaN         800  \n",
       "16       NaN         100  \n",
       "17       NaN         100  \n",
       "18       NaN         800  \n",
       "19       NaN         800  \n",
       "32       NaN         100  \n",
       "33       NaN         100  \n",
       "34       NaN         800  \n",
       "35       NaN         800  \n",
       "40       NaN         100  \n",
       "41       NaN         100  \n",
       "42       NaN         800  \n",
       "43       NaN         800  \n",
       "56       NaN         100  \n",
       "57       NaN         100  \n",
       "58       NaN         800  \n",
       "59       NaN         800  \n",
       "64       NaN         100  \n",
       "65       NaN         100  \n",
       "66       NaN         800  \n",
       "67       NaN         800  \n",
       "\n",
       "[24 rows x 24 columns]"
      ]
     },
     "execution_count": 475,
     "metadata": {},
     "output_type": "execute_result"
    }
   ],
   "source": [
    "df_plot"
   ]
  },
  {
   "cell_type": "code",
   "execution_count": null,
   "metadata": {},
   "outputs": [],
   "source": [
    "df_plot = df_results.query(\"IndexType == 'IVF'\")\n",
    "\n",
    "# plt.figure(figsize=(6, 4))\n",
    "sns.scatterplot(\n",
    "    data=df_plot,\n",
    "    x=\"Recall avg\",\n",
    "    y=\"Search speed avg. (ms)\",\n",
    "    style=\"Metric\",\n",
    "    hue=\"nPartitions\",\n",
    "    palette=\"flare\",\n",
    "    s=70,\n",
    ")\n",
    "plt.xlabel(\"Recall\")\n",
    "plt.ylabel(\"Search speed (ms)\")\n",
    "plt.show()"
   ]
  },
  {
   "cell_type": "code",
   "execution_count": null,
   "metadata": {},
   "outputs": [],
   "source": [
    "df_results.query(\"Dataset == \")"
   ]
  }
 ],
 "metadata": {
  "kernelspec": {
   "display_name": "vod-EhoGd8y6-py3.11",
   "language": "python",
   "name": "python3"
  },
  "language_info": {
   "codemirror_mode": {
    "name": "ipython",
    "version": 3
   },
   "file_extension": ".py",
   "mimetype": "text/x-python",
   "name": "python",
   "nbconvert_exporter": "python",
   "pygments_lexer": "ipython3",
   "version": "3.11.2"
  }
 },
 "nbformat": 4,
 "nbformat_minor": 2
}
