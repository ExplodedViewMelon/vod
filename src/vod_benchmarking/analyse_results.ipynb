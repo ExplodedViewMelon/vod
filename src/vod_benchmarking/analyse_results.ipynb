{
 "cells": [
  {
   "cell_type": "code",
   "execution_count": 28,
   "metadata": {},
   "outputs": [],
   "source": [
    "import pandas as pd\n",
    "import matplotlib.pyplot as plt\n",
    "import os"
   ]
  },
  {
   "cell_type": "code",
   "execution_count": 29,
   "metadata": {},
   "outputs": [
    {
     "name": "stdout",
     "output_type": "stream",
     "text": [
      "/Users/oas/Downloads/benchmarking_results/2024-02-13-01-16-35.csv\n"
     ]
    }
   ],
   "source": [
    "folder_path = \"/Users/oas/Downloads/benchmarking_results\"\n",
    "# folder_path = \"/Users/oas/Documents/VOD/vod/benchmarking_results\"\n",
    "files = [\n",
    "    os.path.join(folder_path, file)\n",
    "    for file in os.listdir(folder_path)\n",
    "    if os.path.isfile(os.path.join(folder_path, file))\n",
    "]\n",
    "files.sort()  # Sort the files by name\n",
    "newest_file = files[-1]  # Pick the newest\n",
    "print(newest_file)"
   ]
  },
  {
   "cell_type": "code",
   "execution_count": 30,
   "metadata": {},
   "outputs": [
    {
     "data": {
      "text/plain": [
       "(324, 16)"
      ]
     },
     "execution_count": 30,
     "metadata": {},
     "output_type": "execute_result"
    }
   ],
   "source": [
    "df_results = pd.read_csv(newest_file)\n",
    "df_results.shape"
   ]
  },
  {
   "cell_type": "code",
   "execution_count": 31,
   "metadata": {},
   "outputs": [
    {
     "data": {
      "text/html": [
       "<div>\n",
       "<style scoped>\n",
       "    .dataframe tbody tr th:only-of-type {\n",
       "        vertical-align: middle;\n",
       "    }\n",
       "\n",
       "    .dataframe tbody tr th {\n",
       "        vertical-align: top;\n",
       "    }\n",
       "\n",
       "    .dataframe thead th {\n",
       "        text-align: right;\n",
       "    }\n",
       "</style>\n",
       "<table border=\"1\" class=\"dataframe\">\n",
       "  <thead>\n",
       "    <tr style=\"text-align: right;\">\n",
       "      <th></th>\n",
       "      <th>Unnamed: 0</th>\n",
       "      <th>Dataset</th>\n",
       "      <th>Index</th>\n",
       "      <th>Index parameters.</th>\n",
       "      <th>Server startup speed (s)</th>\n",
       "      <th>Index build speed (s)</th>\n",
       "      <th>Search speed avg. (ms)</th>\n",
       "      <th>Search speed p95 (ms)</th>\n",
       "      <th>Recall avg</th>\n",
       "      <th>Recall@1</th>\n",
       "      <th>Recall@10</th>\n",
       "      <th>Recall@100</th>\n",
       "      <th>ingesting_max</th>\n",
       "      <th>ingesting_mean</th>\n",
       "      <th>benchmarking_max</th>\n",
       "      <th>benchmarking_mean</th>\n",
       "    </tr>\n",
       "  </thead>\n",
       "  <tbody>\n",
       "    <tr>\n",
       "      <th>0</th>\n",
       "      <td>0</td>\n",
       "      <td>sift-128-euclidean</td>\n",
       "      <td>Qdrant IVF, n_partition=100, None, L2</td>\n",
       "      <td>error: Traceback (most recent call last):\\n  F...</td>\n",
       "      <td>-1.0</td>\n",
       "      <td>-1.0</td>\n",
       "      <td>-1.0</td>\n",
       "      <td>-1.0</td>\n",
       "      <td>-1.0</td>\n",
       "      <td>-1.0</td>\n",
       "      <td>-1.0</td>\n",
       "      <td>-1.0</td>\n",
       "      <td>-1.0</td>\n",
       "      <td>-1.0</td>\n",
       "      <td>-1.0</td>\n",
       "      <td>-1.0</td>\n",
       "    </tr>\n",
       "    <tr>\n",
       "      <th>1</th>\n",
       "      <td>1</td>\n",
       "      <td>sift-128-euclidean</td>\n",
       "      <td>Qdrant IVF, n_partition=100, None, DOT</td>\n",
       "      <td>error: Traceback (most recent call last):\\n  F...</td>\n",
       "      <td>-1.0</td>\n",
       "      <td>-1.0</td>\n",
       "      <td>-1.0</td>\n",
       "      <td>-1.0</td>\n",
       "      <td>-1.0</td>\n",
       "      <td>-1.0</td>\n",
       "      <td>-1.0</td>\n",
       "      <td>-1.0</td>\n",
       "      <td>-1.0</td>\n",
       "      <td>-1.0</td>\n",
       "      <td>-1.0</td>\n",
       "      <td>-1.0</td>\n",
       "    </tr>\n",
       "    <tr>\n",
       "      <th>2</th>\n",
       "      <td>2</td>\n",
       "      <td>sift-128-euclidean</td>\n",
       "      <td>Qdrant IVF, n_partition=1000, None, L2</td>\n",
       "      <td>error: Traceback (most recent call last):\\n  F...</td>\n",
       "      <td>-1.0</td>\n",
       "      <td>-1.0</td>\n",
       "      <td>-1.0</td>\n",
       "      <td>-1.0</td>\n",
       "      <td>-1.0</td>\n",
       "      <td>-1.0</td>\n",
       "      <td>-1.0</td>\n",
       "      <td>-1.0</td>\n",
       "      <td>-1.0</td>\n",
       "      <td>-1.0</td>\n",
       "      <td>-1.0</td>\n",
       "      <td>-1.0</td>\n",
       "    </tr>\n",
       "    <tr>\n",
       "      <th>3</th>\n",
       "      <td>3</td>\n",
       "      <td>sift-128-euclidean</td>\n",
       "      <td>Qdrant IVF, n_partition=1000, None, DOT</td>\n",
       "      <td>error: Traceback (most recent call last):\\n  F...</td>\n",
       "      <td>-1.0</td>\n",
       "      <td>-1.0</td>\n",
       "      <td>-1.0</td>\n",
       "      <td>-1.0</td>\n",
       "      <td>-1.0</td>\n",
       "      <td>-1.0</td>\n",
       "      <td>-1.0</td>\n",
       "      <td>-1.0</td>\n",
       "      <td>-1.0</td>\n",
       "      <td>-1.0</td>\n",
       "      <td>-1.0</td>\n",
       "      <td>-1.0</td>\n",
       "    </tr>\n",
       "    <tr>\n",
       "      <th>4</th>\n",
       "      <td>4</td>\n",
       "      <td>sift-128-euclidean</td>\n",
       "      <td>Qdrant IVF, n_partition=10000, None, L2</td>\n",
       "      <td>error: Traceback (most recent call last):\\n  F...</td>\n",
       "      <td>-1.0</td>\n",
       "      <td>-1.0</td>\n",
       "      <td>-1.0</td>\n",
       "      <td>-1.0</td>\n",
       "      <td>-1.0</td>\n",
       "      <td>-1.0</td>\n",
       "      <td>-1.0</td>\n",
       "      <td>-1.0</td>\n",
       "      <td>-1.0</td>\n",
       "      <td>-1.0</td>\n",
       "      <td>-1.0</td>\n",
       "      <td>-1.0</td>\n",
       "    </tr>\n",
       "  </tbody>\n",
       "</table>\n",
       "</div>"
      ],
      "text/plain": [
       "   Unnamed: 0             Dataset                                    Index  \\\n",
       "0           0  sift-128-euclidean    Qdrant IVF, n_partition=100, None, L2   \n",
       "1           1  sift-128-euclidean   Qdrant IVF, n_partition=100, None, DOT   \n",
       "2           2  sift-128-euclidean   Qdrant IVF, n_partition=1000, None, L2   \n",
       "3           3  sift-128-euclidean  Qdrant IVF, n_partition=1000, None, DOT   \n",
       "4           4  sift-128-euclidean  Qdrant IVF, n_partition=10000, None, L2   \n",
       "\n",
       "                                   Index parameters.  \\\n",
       "0  error: Traceback (most recent call last):\\n  F...   \n",
       "1  error: Traceback (most recent call last):\\n  F...   \n",
       "2  error: Traceback (most recent call last):\\n  F...   \n",
       "3  error: Traceback (most recent call last):\\n  F...   \n",
       "4  error: Traceback (most recent call last):\\n  F...   \n",
       "\n",
       "   Server startup speed (s)  Index build speed (s)  Search speed avg. (ms)  \\\n",
       "0                      -1.0                   -1.0                    -1.0   \n",
       "1                      -1.0                   -1.0                    -1.0   \n",
       "2                      -1.0                   -1.0                    -1.0   \n",
       "3                      -1.0                   -1.0                    -1.0   \n",
       "4                      -1.0                   -1.0                    -1.0   \n",
       "\n",
       "   Search speed p95 (ms)  Recall avg  Recall@1  Recall@10  Recall@100  \\\n",
       "0                   -1.0        -1.0      -1.0       -1.0        -1.0   \n",
       "1                   -1.0        -1.0      -1.0       -1.0        -1.0   \n",
       "2                   -1.0        -1.0      -1.0       -1.0        -1.0   \n",
       "3                   -1.0        -1.0      -1.0       -1.0        -1.0   \n",
       "4                   -1.0        -1.0      -1.0       -1.0        -1.0   \n",
       "\n",
       "   ingesting_max  ingesting_mean  benchmarking_max  benchmarking_mean  \n",
       "0           -1.0            -1.0              -1.0               -1.0  \n",
       "1           -1.0            -1.0              -1.0               -1.0  \n",
       "2           -1.0            -1.0              -1.0               -1.0  \n",
       "3           -1.0            -1.0              -1.0               -1.0  \n",
       "4           -1.0            -1.0              -1.0               -1.0  "
      ]
     },
     "execution_count": 31,
     "metadata": {},
     "output_type": "execute_result"
    }
   ],
   "source": [
    "df_results.head()"
   ]
  },
  {
   "cell_type": "code",
   "execution_count": 32,
   "metadata": {},
   "outputs": [],
   "source": [
    "df_results = df_results.query(\"Index != 'None'\")  # ignore failed runs\n",
    "df_results = df_results.query(\"benchmarking_mean != -1\")  # ignore failed runs"
   ]
  },
  {
   "cell_type": "code",
   "execution_count": 33,
   "metadata": {},
   "outputs": [],
   "source": [
    "df_results[\"index_prov\"] = df_results.Index.str.split(\" \").apply(lambda l: l[1])"
   ]
  },
  {
   "cell_type": "code",
   "execution_count": 34,
   "metadata": {},
   "outputs": [],
   "source": [
    "df_results = df_results.dropna()"
   ]
  },
  {
   "cell_type": "code",
   "execution_count": 35,
   "metadata": {},
   "outputs": [
    {
     "data": {
      "text/plain": [
       "Index(['Unnamed: 0', 'Dataset', 'Index', 'Index parameters.',\n",
       "       'Server startup speed (s)', 'Index build speed (s)',\n",
       "       'Search speed avg. (ms)', 'Search speed p95 (ms)', 'Recall avg',\n",
       "       'Recall@1', 'Recall@10', 'Recall@100', 'ingesting_max',\n",
       "       'ingesting_mean', 'benchmarking_max', 'benchmarking_mean',\n",
       "       'index_prov'],\n",
       "      dtype='object')"
      ]
     },
     "execution_count": 35,
     "metadata": {},
     "output_type": "execute_result"
    }
   ],
   "source": [
    "df_results.columns"
   ]
  },
  {
   "cell_type": "code",
   "execution_count": 36,
   "metadata": {},
   "outputs": [
    {
     "data": {
      "text/plain": [
       "(162, 17)"
      ]
     },
     "execution_count": 36,
     "metadata": {},
     "output_type": "execute_result"
    }
   ],
   "source": [
    "df_results.shape"
   ]
  },
  {
   "cell_type": "code",
   "execution_count": 37,
   "metadata": {},
   "outputs": [],
   "source": [
    "# df_results[df_results.isna()]"
   ]
  },
  {
   "cell_type": "code",
   "execution_count": 42,
   "metadata": {},
   "outputs": [
    {
     "data": {
      "application/vnd.plotly.v1+json": {
       "config": {
        "plotlyServerURL": "https://plot.ly"
       },
       "data": [
        {
         "customdata": [
          [
           "index: qdrant HNSW, M=16, ef_construction=128, ef_search=128, None, L2",
           647.2,
           1014.1486666666668
          ],
          [
           "index: qdrant HNSW, M=16, ef_construction=128, ef_search=128, None, DOT",
           666.2,
           1003.3100952380952
          ],
          [
           "index: qdrant HNSW, M=32, ef_construction=128, ef_search=128, None, L2",
           664.8,
           1058.971104477612
          ],
          [
           "index: qdrant HNSW, M=32, ef_construction=128, ef_search=128, None, DOT",
           679.3,
           1073.6835555555554
          ],
          [
           "index: qdrant HNSW, M=64, ef_construction=128, ef_search=128, None, L2",
           638.8,
           1091.8274545454544
          ],
          [
           "index: qdrant HNSW, M=64, ef_construction=128, ef_search=128, None, DOT",
           685.4,
           1112.2581249999998
          ],
          [
           "index: qdrant HNSW, M=16, ef_construction=128, ef_search=128, PQ8, L2",
           674.8,
           897.3866666666667
          ],
          [
           "index: qdrant HNSW, M=16, ef_construction=128, ef_search=128, PQ8, DOT",
           633.4,
           915.3930555555556
          ],
          [
           "index: qdrant HNSW, M=32, ef_construction=128, ef_search=128, PQ8, L2",
           684.3,
           923.7753424657532
          ],
          [
           "index: qdrant HNSW, M=32, ef_construction=128, ef_search=128, PQ8, DOT",
           684.8,
           927.6342857142856
          ],
          [
           "index: qdrant HNSW, M=64, ef_construction=128, ef_search=128, PQ8, L2",
           646.3,
           922.9385
          ],
          [
           "index: qdrant HNSW, M=64, ef_construction=128, ef_search=128, PQ8, DOT",
           701.1,
           943.4776111111112
          ],
          [
           "index: qdrant HNSW, M=16, ef_construction=128, ef_search=128, SQ8, L2",
           665.6,
           1097.8428474576272
          ],
          [
           "index: qdrant HNSW, M=16, ef_construction=128, ef_search=128, SQ8, DOT",
           710.3,
           1147.8376271186444
          ],
          [
           "index: qdrant HNSW, M=32, ef_construction=128, ef_search=128, SQ8, L2",
           631,
           1122.586033898305
          ],
          [
           "index: qdrant HNSW, M=32, ef_construction=128, ef_search=128, SQ8, DOT",
           704,
           1148.0094237288135
          ],
          [
           "index: qdrant HNSW, M=64, ef_construction=128, ef_search=128, SQ8, L2",
           670.7,
           1188.8084666666664
          ],
          [
           "index: qdrant HNSW, M=64, ef_construction=128, ef_search=128, SQ8, DOT",
           674.8,
           1193.509966101695
          ],
          [
           "index: qdrant HNSW, M=16, ef_construction=128, ef_search=128, None, L2",
           839.9300000000001,
           765.8463636363635
          ],
          [
           "index: qdrant HNSW, M=16, ef_construction=128, ef_search=128, None, DOT",
           825.43,
           753.2981818181819
          ],
          [
           "index: qdrant HNSW, M=32, ef_construction=128, ef_search=128, None, L2",
           857.93,
           750.0618181818182
          ],
          [
           "index: qdrant HNSW, M=32, ef_construction=128, ef_search=128, None, DOT",
           791.63,
           770.7114285714285
          ],
          [
           "index: qdrant HNSW, M=64, ef_construction=128, ef_search=128, None, L2",
           834.3299999999999,
           779.0668181818182
          ],
          [
           "index: qdrant HNSW, M=64, ef_construction=128, ef_search=128, None, DOT",
           851.03,
           777.4857142857143
          ],
          [
           "index: qdrant HNSW, M=16, ef_construction=128, ef_search=128, PQ8, L2",
           826.03,
           715.7881818181819
          ],
          [
           "index: qdrant HNSW, M=16, ef_construction=128, ef_search=128, PQ8, DOT",
           819.73,
           749.1654999999998
          ],
          [
           "index: qdrant HNSW, M=32, ef_construction=128, ef_search=128, PQ8, L2",
           833.53,
           774.7038095238097
          ],
          [
           "index: qdrant HNSW, M=32, ef_construction=128, ef_search=128, PQ8, DOT",
           822.33,
           752.9766666666667
          ],
          [
           "index: qdrant HNSW, M=64, ef_construction=128, ef_search=128, PQ8, L2",
           874.9300000000001,
           774.5340909090909
          ],
          [
           "index: qdrant HNSW, M=64, ef_construction=128, ef_search=128, PQ8, DOT",
           864.4300000000001,
           795.9954545454544
          ],
          [
           "index: qdrant HNSW, M=16, ef_construction=128, ef_search=128, SQ8, L2",
           863.74,
           729.6777272727272
          ],
          [
           "index: qdrant HNSW, M=16, ef_construction=128, ef_search=128, SQ8, DOT",
           855.44,
           793.854761904762
          ],
          [
           "index: qdrant HNSW, M=32, ef_construction=128, ef_search=128, SQ8, L2",
           820.84,
           770.3319047619048
          ],
          [
           "index: qdrant HNSW, M=32, ef_construction=128, ef_search=128, SQ8, DOT",
           882.64,
           775.1909090909091
          ],
          [
           "index: qdrant HNSW, M=64, ef_construction=128, ef_search=128, SQ8, L2",
           882.0400000000001,
           805.2238095238097
          ],
          [
           "index: qdrant HNSW, M=64, ef_construction=128, ef_search=128, SQ8, DOT",
           864.65,
           804.7947619047618
          ],
          [
           "index: qdrant HNSW, M=16, ef_construction=128, ef_search=128, None, L2",
           671.38,
           636.4030769230769
          ],
          [
           "index: qdrant HNSW, M=16, ef_construction=128, ef_search=128, None, DOT",
           670.78,
           625.0716666666666
          ],
          [
           "index: qdrant HNSW, M=32, ef_construction=128, ef_search=128, None, L2",
           672.4799999999999,
           638.3961538461538
          ],
          [
           "index: qdrant HNSW, M=32, ef_construction=128, ef_search=128, None, DOT",
           642.38,
           646.7758333333335
          ],
          [
           "index: qdrant HNSW, M=64, ef_construction=128, ef_search=128, None, L2",
           657.2900000000001,
           623.8414285714287
          ],
          [
           "index: qdrant HNSW, M=64, ef_construction=128, ef_search=128, None, DOT",
           656.59,
           660.8033333333335
          ],
          [
           "index: qdrant HNSW, M=16, ef_construction=128, ef_search=128, PQ8, L2",
           650.4,
           644.2161538461538
          ],
          [
           "index: qdrant HNSW, M=16, ef_construction=128, ef_search=128, PQ8, DOT",
           672.7,
           628.11
          ],
          [
           "index: qdrant HNSW, M=32, ef_construction=128, ef_search=128, PQ8, L2",
           660.5999999999999,
           636.993076923077
          ],
          [
           "index: qdrant HNSW, M=32, ef_construction=128, ef_search=128, PQ8, DOT",
           679.5,
           662.8933333333333
          ],
          [
           "index: qdrant HNSW, M=64, ef_construction=128, ef_search=128, PQ8, L2",
           698.51,
           630.8433333333334
          ],
          [
           "index: qdrant HNSW, M=64, ef_construction=128, ef_search=128, PQ8, DOT",
           670.91,
           625.14
          ],
          [
           "index: qdrant HNSW, M=16, ef_construction=128, ef_search=128, SQ8, L2",
           668.5,
           631.0453846153846
          ],
          [
           "index: qdrant HNSW, M=16, ef_construction=128, ef_search=128, SQ8, DOT",
           652.23,
           640.4166666666666
          ],
          [
           "index: qdrant HNSW, M=32, ef_construction=128, ef_search=128, SQ8, L2",
           706.7900000000001,
           641.6966666666668
          ],
          [
           "index: qdrant HNSW, M=32, ef_construction=128, ef_search=128, SQ8, DOT",
           694.94,
           670.5083333333333
          ],
          [
           "index: qdrant HNSW, M=64, ef_construction=128, ef_search=128, SQ8, L2",
           672.03,
           645.4461538461538
          ],
          [
           "index: qdrant HNSW, M=64, ef_construction=128, ef_search=128, SQ8, DOT",
           689.24,
           651.8466666666667
          ]
         ],
         "hovertemplate": "index_prov=qdrant<br>Recall avg=%{x}<br>Search speed avg. (ms)=%{y}<br>benchmarking_mean=%{customdata[2]}<br>Index=%{customdata[0]}<br>ingesting_max=%{customdata[1]}<extra></extra>",
         "legendgroup": "qdrant",
         "marker": {
          "color": "#636efa",
          "size": [
           1014.1486666666668,
           1003.3100952380952,
           1058.971104477612,
           1073.6835555555554,
           1091.8274545454544,
           1112.2581249999998,
           897.3866666666667,
           915.3930555555556,
           923.7753424657532,
           927.6342857142856,
           922.9385,
           943.4776111111112,
           1097.8428474576272,
           1147.8376271186444,
           1122.586033898305,
           1148.0094237288135,
           1188.8084666666664,
           1193.509966101695,
           765.8463636363635,
           753.2981818181819,
           750.0618181818182,
           770.7114285714285,
           779.0668181818182,
           777.4857142857143,
           715.7881818181819,
           749.1654999999998,
           774.7038095238097,
           752.9766666666667,
           774.5340909090909,
           795.9954545454544,
           729.6777272727272,
           793.854761904762,
           770.3319047619048,
           775.1909090909091,
           805.2238095238097,
           804.7947619047618,
           636.4030769230769,
           625.0716666666666,
           638.3961538461538,
           646.7758333333335,
           623.8414285714287,
           660.8033333333335,
           644.2161538461538,
           628.11,
           636.993076923077,
           662.8933333333333,
           630.8433333333334,
           625.14,
           631.0453846153846,
           640.4166666666666,
           641.6966666666668,
           670.5083333333333,
           645.4461538461538,
           651.8466666666667
          ],
          "sizemode": "area",
          "sizeref": 5.720318630136986,
          "symbol": "circle"
         },
         "mode": "markers",
         "name": "qdrant",
         "orientation": "v",
         "showlegend": true,
         "type": "scatter",
         "x": [
          0.99771,
          0.9508466666666668,
          0.99873,
          0.9513433333333334,
          0.9989633333333332,
          0.9513,
          0.9999033333333334,
          0.9518466666666666,
          0.9999033333333334,
          0.9518433333333334,
          0.9998966666666668,
          0.9518533333333334,
          0.9817533333333331,
          0.7507566666666666,
          0.9852299999999998,
          0.7575033333333333,
          0.9841,
          0.7569366666666667,
          1,
          0.0095633333333333,
          1,
          0.0095633333333333,
          1,
          0.0095633333333333,
          1,
          0.0095633333333333,
          0.9999966666666668,
          0.0095633333333333,
          0.9999966666666668,
          0.0095633333333333,
          1,
          0.0095633333333333,
          1,
          0.0095633333333333,
          0.9999966666666668,
          0.0095633333333333,
          1,
          0.7123233333333333,
          1,
          0.71222,
          1,
          0.7122733333333333,
          1,
          0.7121866666666666,
          1,
          0.71234,
          1,
          0.71234,
          1,
          0.7123133333333334,
          1,
          0.71246,
          1,
          0.7121766666666667
         ],
         "xaxis": "x",
         "y": [
          188.5770079609938,
          183.8913727497372,
          188.37616766906447,
          186.58389986900147,
          187.545041622594,
          186.91804717786405,
          195.2819579167824,
          199.7001797036501,
          203.8457726669946,
          205.44326450784385,
          208.49872778628415,
          210.83584663419364,
          207.81201407002905,
          204.54848849114828,
          202.18124522217036,
          199.81319909114973,
          198.17327104983667,
          196.2241458338341,
          108.66213295446263,
          108.3855141389351,
          108.17082970630086,
          107.85561369277944,
          107.66841892163296,
          107.40183851465692,
          107.19016581015394,
          106.87585005902864,
          106.66314013250586,
          106.38480783877128,
          106.16863466735283,
          105.95289529792758,
          105.7942519514421,
          105.5513970695186,
          105.34570545899386,
          105.15422760809572,
          104.97523750633506,
          104.79157291452395,
          99.13697276515803,
          98.6781836018764,
          98.25139797115834,
          97.798597671121,
          97.41619969032934,
          96.99812649100056,
          96.607811037348,
          96.18521974938146,
          95.82172751416437,
          95.43913048320536,
          95.04778444624397,
          94.67278240024493,
          94.31463027197869,
          93.95686167132148,
          93.5902937471236,
          93.21637911622624,
          92.86958159560588,
          92.50182134034232
         ],
         "yaxis": "y"
        },
        {
         "customdata": [
          [
           "index: milvus IVF, n_partition=100, None, L2",
           1432.728,
           1255.3873488372092
          ],
          [
           "index: milvus IVF, n_partition=1000, None, L2",
           1920.19,
           1466.342235294118
          ],
          [
           "index: milvus HNSW, M=16, ef_construction=128, ef_search=128, None, L2",
           1663.29,
           2153.36842
          ],
          [
           "index: milvus HNSW, M=32, ef_construction=128, ef_search=128, None, L2",
           2760.438,
           2288.1274520547945
          ],
          [
           "index: milvus HNSW, M=64, ef_construction=128, ef_search=128, None, L2",
           2205.368,
           2258.209322580645
          ],
          [
           "index: milvus IVF, n_partition=100, PQ8, L2",
           1985.598,
           1018.0680571428572
          ],
          [
           "index: milvus IVF, n_partition=1000, PQ8, L2",
           970.58,
           974.35276
          ],
          [
           "index: milvus IVF, n_partition=100, SQ8, L2",
           979.73,
           876.781052631579
          ],
          [
           "index: milvus IVF, n_partition=1000, SQ8, L2",
           1392.298,
           969.6454166666668
          ],
          [
           "index: milvus IVF, n_partition=100, None, L2",
           1516.264,
           684.940338983051
          ],
          [
           "index: milvus IVF, n_partition=1000, None, L2",
           1093.93,
           602.2353333333333
          ],
          [
           "index: milvus HNSW, M=16, ef_construction=128, ef_search=128, None, L2",
           1776.176,
           847.3470731707317
          ],
          [
           "index: milvus HNSW, M=32, ef_construction=128, ef_search=128, None, L2",
           1940.738,
           990.3858904109592
          ],
          [
           "index: milvus HNSW, M=64, ef_construction=128, ef_search=128, None, L2",
           2651.954,
           1288.9262894736842
          ],
          [
           "index: milvus IVF, n_partition=100, SQ8, L2",
           903.32,
           540.2046052631578
          ],
          [
           "index: milvus IVF, n_partition=1000, SQ8, L2",
           752.3000000000001,
           528.9432352941176
          ],
          [
           "index: milvus IVF, n_partition=100, None, L2",
           1110.32,
           488.7494871794871
          ],
          [
           "index: milvus IVF, n_partition=1000, None, L2",
           1023.75,
           467.6918181818182
          ],
          [
           "index: milvus IVF, n_partition=10000, None, L2",
           899.48,
           456.3
          ],
          [
           "index: milvus HNSW, M=16, ef_construction=128, ef_search=128, None, L2",
           1007.81,
           508.3911363636364
          ],
          [
           "index: milvus HNSW, M=32, ef_construction=128, ef_search=128, None, L2",
           1197.158,
           589.6209756097561
          ],
          [
           "index: milvus HNSW, M=64, ef_construction=128, ef_search=128, None, L2",
           1614.026,
           665.2318181818182
          ],
          [
           "index: milvus IVF, n_partition=100, SQ8, L2",
           755.5300000000001,
           441.67753424657536
          ],
          [
           "index: milvus IVF, n_partition=1000, SQ8, L2",
           722.0699999999999,
           413.9889473684211
          ],
          [
           "index: milvus IVF, n_partition=10000, SQ8, L2",
           596.41,
           428.1102739726027
          ]
         ],
         "hovertemplate": "index_prov=milvus<br>Recall avg=%{x}<br>Search speed avg. (ms)=%{y}<br>benchmarking_mean=%{customdata[2]}<br>Index=%{customdata[0]}<br>ingesting_max=%{customdata[1]}<extra></extra>",
         "legendgroup": "milvus",
         "marker": {
          "color": "#EF553B",
          "size": [
           1255.3873488372092,
           1466.342235294118,
           2153.36842,
           2288.1274520547945,
           2258.209322580645,
           1018.0680571428572,
           974.35276,
           876.781052631579,
           969.6454166666668,
           684.940338983051,
           602.2353333333333,
           847.3470731707317,
           990.3858904109592,
           1288.9262894736842,
           540.2046052631578,
           528.9432352941176,
           488.7494871794871,
           467.6918181818182,
           456.3,
           508.3911363636364,
           589.6209756097561,
           665.2318181818182,
           441.67753424657536,
           413.9889473684211,
           428.1102739726027
          ],
          "sizemode": "area",
          "sizeref": 5.720318630136986,
          "symbol": "circle"
         },
         "mode": "markers",
         "name": "milvus",
         "orientation": "v",
         "showlegend": true,
         "type": "scatter",
         "x": [
          0.99993,
          0.9974966666666666,
          0.9775033333333332,
          0.9898766666666668,
          0.9930233333333336,
          0.4533233333333333,
          0.4829733333333333,
          0.9897833333333332,
          0.9883933333333336,
          1,
          0.99269,
          0.92089,
          0.93947,
          0.94509,
          0.9674533333333332,
          0.96575,
          1,
          0.9862733333333332,
          0.9686966666666668,
          0.9217366666666664,
          0.9261366666666668,
          0.9265233333333334,
          0.2000566666666667,
          0.1791,
          0.2320833333333333
         ],
         "xaxis": "x",
         "y": [
          207.4180995641489,
          211.4269817803676,
          219.37165474293693,
          220.5669586036961,
          222.6068198576948,
          224.6251042229576,
          225.5743120740478,
          230.26265832956716,
          234.43686049555168,
          107.706712514959,
          109.37490582074334,
          110.77691911831536,
          114.6184987406356,
          118.62787241671168,
          122.5007640857114,
          123.09179654467506,
          93.46335908698994,
          94.7106102718372,
          97.4021472117133,
          98.58071875211722,
          99.61536705207055,
          100.79487951717216,
          103.35966541907705,
          104.2170234228842,
          106.72331035162304
         ],
         "yaxis": "y"
        },
        {
         "customdata": [
          [
           "index: faiss IVF, n_partition=100, None, L2",
           998.94,
           1445.0143333333333
          ],
          [
           "index: faiss IVF, n_partition=100, None, DOT",
           854.6,
           1403.903870967742
          ],
          [
           "index: faiss IVF, n_partition=1000, None, L2",
           830.79,
           1400.5648
          ],
          [
           "index: faiss IVF, n_partition=1000, None, DOT",
           1083.08,
           1399.8495999999996
          ],
          [
           "index: faiss IVF, n_partition=10000, None, L2",
           1096.46,
           1417.2272
          ],
          [
           "index: faiss IVF, n_partition=10000, None, DOT",
           998.61,
           1394.9755999999998
          ],
          [
           "index: faiss HNSW, M=16, ef_construction=128, ef_search=128, None, L2",
           1056.53,
           1510.8252
          ],
          [
           "index: faiss HNSW, M=16, ef_construction=128, ef_search=128, None, DOT",
           1067.33,
           1522.0481600000005
          ],
          [
           "index: faiss HNSW, M=32, ef_construction=128, ef_search=128, None, L2",
           1058.06,
           1582.498846153846
          ],
          [
           "index: faiss HNSW, M=32, ef_construction=128, ef_search=128, None, DOT",
           1074.59,
           1652.0868
          ],
          [
           "index: faiss HNSW, M=64, ef_construction=128, ef_search=128, None, L2",
           829.19,
           1905.243
          ],
          [
           "index: faiss HNSW, M=64, ef_construction=128, ef_search=128, None, DOT",
           1088.1,
           1911.3967692307688
          ],
          [
           "index: faiss IVF, n_partition=100, PQ8, L2",
           1072.59,
           915.5396551724136
          ],
          [
           "index: faiss IVF, n_partition=100, PQ8, DOT",
           1084.4,
           888.1039393939394
          ],
          [
           "index: faiss IVF, n_partition=1000, PQ8, L2",
           822.4,
           918.93
          ],
          [
           "index: faiss IVF, n_partition=1000, PQ8, DOT",
           836.81,
           920.6852
          ],
          [
           "index: faiss IVF, n_partition=10000, PQ8, L2",
           837.87,
           928.2120833333332
          ],
          [
           "index: faiss IVF, n_partition=10000, PQ8, DOT",
           842.48,
           935.3199999999998
          ],
          [
           "index: faiss HNSW, M=16, ef_construction=128, ef_search=128, PQ8, L2",
           951.58,
           1075.8375999999998
          ],
          [
           "index: faiss HNSW, M=16, ef_construction=128, ef_search=128, PQ8, DOT",
           856.08,
           1080.3983333333333
          ],
          [
           "index: faiss HNSW, M=32, ef_construction=128, ef_search=128, PQ8, L2",
           839.09,
           1199.39
          ],
          [
           "index: faiss HNSW, M=32, ef_construction=128, ef_search=128, PQ8, DOT",
           1106.2,
           1201.4608
          ],
          [
           "index: faiss HNSW, M=64, ef_construction=128, ef_search=128, PQ8, L2",
           837.3100000000001,
           1451.1404
          ],
          [
           "index: faiss HNSW, M=64, ef_construction=128, ef_search=128, PQ8, DOT",
           913.61,
           1454.4429629629626
          ],
          [
           "index: faiss IVF, n_partition=100, SQ8, L2",
           1114.11,
           1060.5190322580645
          ],
          [
           "index: faiss IVF, n_partition=100, SQ8, DOT",
           1114.81,
           1061.6296874999998
          ],
          [
           "index: faiss IVF, n_partition=1000, SQ8, L2",
           995.01,
           1063.425
          ],
          [
           "index: faiss IVF, n_partition=1000, SQ8, DOT",
           1118.11,
           1065.1772
          ],
          [
           "index: faiss IVF, n_partition=10000, SQ8, L2",
           1126.92,
           1078.794
          ],
          [
           "index: faiss IVF, n_partition=10000, SQ8, DOT",
           875.1999999999999,
           1087.1032
          ],
          [
           "index: faiss HNSW, M=16, ef_construction=128, ef_search=128, SQ8, L2",
           872.0999999999999,
           1222.5208
          ],
          [
           "index: faiss HNSW, M=16, ef_construction=128, ef_search=128, SQ8, DOT",
           1144.39,
           1228.7744
          ],
          [
           "index: faiss HNSW, M=32, ef_construction=128, ef_search=128, SQ8, L2",
           998.72,
           1312.1076923076923
          ],
          [
           "index: faiss HNSW, M=32, ef_construction=128, ef_search=128, SQ8, DOT",
           1088.52,
           1357.7951999999998
          ],
          [
           "index: faiss HNSW, M=64, ef_construction=128, ef_search=128, SQ8, L2",
           938.83,
           1607.62
          ],
          [
           "index: faiss HNSW, M=64, ef_construction=128, ef_search=128, SQ8, DOT",
           950.73,
           1553.5686923076923
          ],
          [
           "index: faiss IVF, n_partition=100, None, L2",
           866.36,
           1015.9090909090908
          ],
          [
           "index: faiss IVF, n_partition=100, None, DOT",
           1056.49,
           994.489090909091
          ],
          [
           "index: faiss IVF, n_partition=1000, None, L2",
           1059.4,
           997.5466666666666
          ],
          [
           "index: faiss IVF, n_partition=1000, None, DOT",
           1060.01,
           899.4959999999999
          ],
          [
           "index: faiss IVF, n_partition=10000, None, L2",
           783.34,
           974.9733333333334
          ],
          [
           "index: faiss IVF, n_partition=10000, None, DOT",
           1035.72,
           975.69
          ],
          [
           "index: faiss HNSW, M=16, ef_construction=128, ef_search=128, None, L2",
           963.79,
           1143.4655555555555
          ],
          [
           "index: faiss HNSW, M=16, ef_construction=128, ef_search=128, None, DOT",
           1044.6,
           1147.0355555555554
          ],
          [
           "index: faiss HNSW, M=32, ef_construction=128, ef_search=128, None, L2",
           796.71,
           1296.5711111111111
          ],
          [
           "index: faiss HNSW, M=32, ef_construction=128, ef_search=128, None, DOT",
           793.66,
           1301.3349999999998
          ],
          [
           "index: faiss HNSW, M=64, ef_construction=128, ef_search=128, None, L2",
           808.43,
           1597.172
          ],
          [
           "index: faiss HNSW, M=64, ef_construction=128, ef_search=128, None, DOT",
           813.25,
           1606.8970000000002
          ],
          [
           "index: faiss IVF, n_partition=100, SQ8, L2",
           794.19,
           920.140625
          ],
          [
           "index: faiss IVF, n_partition=100, SQ8, DOT",
           795.28,
           864.00125
          ],
          [
           "index: faiss IVF, n_partition=1000, SQ8, L2",
           1069.83,
           922.773
          ],
          [
           "index: faiss IVF, n_partition=1000, SQ8, DOT",
           1071.43,
           924.116
          ],
          [
           "index: faiss IVF, n_partition=10000, SQ8, L2",
           1075.28,
           929.7577777777776
          ],
          [
           "index: faiss IVF, n_partition=10000, SQ8, DOT",
           1080.29,
           934.5477777777778
          ],
          [
           "index: faiss HNSW, M=16, ef_construction=128, ef_search=128, SQ8, L2",
           1083.21,
           1100.143333333333
          ],
          [
           "index: faiss HNSW, M=16, ef_construction=128, ef_search=128, SQ8, DOT",
           1085.72,
           1103.5644444444445
          ],
          [
           "index: faiss HNSW, M=32, ef_construction=128, ef_search=128, SQ8, L2",
           1091.83,
           1254.2066666666667
          ],
          [
           "index: faiss HNSW, M=32, ef_construction=128, ef_search=128, SQ8, DOT",
           1155.9,
           1318.501
          ],
          [
           "index: faiss HNSW, M=64, ef_construction=128, ef_search=128, SQ8, DOT",
           900.28,
           1563.6840000000002
          ],
          [
           "index: faiss IVF, n_partition=100, None, L2",
           1114.15,
           959.7977777777778
          ],
          [
           "index: faiss IVF, n_partition=100, None, DOT",
           841.27,
           949.3171428571428
          ],
          [
           "index: faiss IVF, n_partition=1000, None, L2",
           793.88,
           950.2133333333333
          ],
          [
           "index: faiss IVF, n_partition=1000, None, DOT",
           863.78,
           946.1228571428572
          ],
          [
           "index: faiss IVF, n_partition=10000, None, L2",
           1033.26,
           938.0314285714286
          ],
          [
           "index: faiss IVF, n_partition=10000, None, DOT",
           787.36,
           940.6500000000002
          ],
          [
           "index: faiss HNSW, M=16, ef_construction=128, ef_search=128, None, L2",
           782.77,
           985.6366666666668
          ],
          [
           "index: faiss HNSW, M=16, ef_construction=128, ef_search=128, None, DOT",
           785.57,
           987.6142857142858
          ],
          [
           "index: faiss HNSW, M=32, ef_construction=128, ef_search=128, None, L2",
           974.81,
           1027.71
          ],
          [
           "index: faiss HNSW, M=32, ef_construction=128, ef_search=128, None, DOT",
           788,
           1029.9814285714288
          ],
          [
           "index: faiss HNSW, M=64, ef_construction=128, ef_search=128, None, L2",
           849.8100000000001,
           1113.5599999999995
          ],
          [
           "index: faiss HNSW, M=64, ef_construction=128, ef_search=128, None, DOT",
           793.52,
           1120.003333333333
          ],
          [
           "index: faiss IVF, n_partition=100, SQ8, L2",
           923.05,
           887.3313333333333
          ],
          [
           "index: faiss IVF, n_partition=100, SQ8, DOT",
           992.16,
           888.794
          ],
          [
           "index: faiss IVF, n_partition=1000, SQ8, L2",
           1050.77,
           890.2325000000001
          ],
          [
           "index: faiss IVF, n_partition=1000, SQ8, DOT",
           799.8,
           891.2342857142856
          ],
          [
           "index: faiss IVF, n_partition=10000, SQ8, L2",
           905.78,
           898.9514285714286
          ],
          [
           "index: faiss IVF, n_partition=10000, SQ8, DOT",
           811.66,
           905.0033333333332
          ],
          [
           "index: faiss HNSW, M=16, ef_construction=128, ef_search=128, SQ8, L2",
           804.1700000000001,
           947.8199999999998
          ],
          [
           "index: faiss HNSW, M=16, ef_construction=128, ef_search=128, SQ8, DOT",
           947.48,
           948.88
          ],
          [
           "index: faiss HNSW, M=32, ef_construction=128, ef_search=128, SQ8, L2",
           859.29,
           991.4185714285712
          ],
          [
           "index: faiss HNSW, M=32, ef_construction=128, ef_search=128, SQ8, DOT",
           1064.89,
           992.0657142857144
          ],
          [
           "index: faiss HNSW, M=64, ef_construction=128, ef_search=128, SQ8, L2",
           817.7,
           1076.0171428571427
          ],
          [
           "index: faiss HNSW, M=64, ef_construction=128, ef_search=128, SQ8, DOT",
           1066.7,
           1076.9
          ]
         ],
         "hovertemplate": "index_prov=faiss<br>Recall avg=%{x}<br>Search speed avg. (ms)=%{y}<br>benchmarking_mean=%{customdata[2]}<br>Index=%{customdata[0]}<br>ingesting_max=%{customdata[1]}<extra></extra>",
         "legendgroup": "faiss",
         "marker": {
          "color": "#00cc96",
          "size": [
           1445.0143333333333,
           1403.903870967742,
           1400.5648,
           1399.8495999999996,
           1417.2272,
           1394.9755999999998,
           1510.8252,
           1522.0481600000005,
           1582.498846153846,
           1652.0868,
           1905.243,
           1911.3967692307688,
           915.5396551724136,
           888.1039393939394,
           918.93,
           920.6852,
           928.2120833333332,
           935.3199999999998,
           1075.8375999999998,
           1080.3983333333333,
           1199.39,
           1201.4608,
           1451.1404,
           1454.4429629629626,
           1060.5190322580645,
           1061.6296874999998,
           1063.425,
           1065.1772,
           1078.794,
           1087.1032,
           1222.5208,
           1228.7744,
           1312.1076923076923,
           1357.7951999999998,
           1607.62,
           1553.5686923076923,
           1015.9090909090908,
           994.489090909091,
           997.5466666666666,
           899.4959999999999,
           974.9733333333334,
           975.69,
           1143.4655555555555,
           1147.0355555555554,
           1296.5711111111111,
           1301.3349999999998,
           1597.172,
           1606.8970000000002,
           920.140625,
           864.00125,
           922.773,
           924.116,
           929.7577777777776,
           934.5477777777778,
           1100.143333333333,
           1103.5644444444445,
           1254.2066666666667,
           1318.501,
           1563.6840000000002,
           959.7977777777778,
           949.3171428571428,
           950.2133333333333,
           946.1228571428572,
           938.0314285714286,
           940.6500000000002,
           985.6366666666668,
           987.6142857142858,
           1027.71,
           1029.9814285714288,
           1113.5599999999995,
           1120.003333333333,
           887.3313333333333,
           888.794,
           890.2325000000001,
           891.2342857142856,
           898.9514285714286,
           905.0033333333332,
           947.8199999999998,
           948.88,
           991.4185714285712,
           992.0657142857144,
           1076.0171428571427,
           1076.9
          ],
          "sizemode": "area",
          "sizeref": 5.720318630136986,
          "symbol": "circle"
         },
         "mode": "markers",
         "name": "faiss",
         "orientation": "v",
         "showlegend": true,
         "type": "scatter",
         "x": [
          0.9517833333333332,
          0.9517833333333332,
          0.92598,
          0.92598,
          0.7746266666666667,
          0.7746266666666667,
          0.9232566666666666,
          0.9231333333333334,
          0.9340266666666666,
          0.9339966666666664,
          0.9365,
          0.9364966666666664,
          0.1952433333333333,
          0.1952433333333333,
          0.2027666666666666,
          0.2027666666666666,
          0.2339766666666667,
          0.2339766666666667,
          0.4357066666666666,
          0.4361233333333333,
          0.4397266666666667,
          0.4396133333333333,
          0.4393766666666666,
          0.4394466666666666,
          0.9486866666666668,
          0.9486866666666668,
          0.92348,
          0.92348,
          0.77345,
          0.77345,
          0.9192666666666668,
          0.9194466666666666,
          0.9302766666666664,
          0.9303066666666666,
          0.9323566666666666,
          0.9323,
          0.0104666666666666,
          0.0104666666666666,
          0.01718,
          0.01718,
          0.0510266666666666,
          0.0510266666666666,
          0.00668,
          0.0066966666666666,
          0.00788,
          0.00792,
          0.0086866666666666,
          0.00867,
          0.0105399999999999,
          0.0105399999999999,
          0.0173033333333333,
          0.0173033333333333,
          0.0510899999999999,
          0.0510899999999999,
          0.0066633333333333,
          0.00664,
          0.00797,
          0.0079933333333333,
          0.0087533333333333,
          0.84628,
          0.84628,
          0.82982,
          0.82982,
          0.7752133333333333,
          0.7752133333333333,
          0.65942,
          0.6597433333333333,
          0.6640933333333333,
          0.6625300000000001,
          0.6623899999999999,
          0.6624899999999999,
          0.0476766666666666,
          0.0476766666666666,
          0.0854666666666666,
          0.0854666666666666,
          0.1597033333333333,
          0.1597033333333333,
          0.02523,
          0.0248466666666666,
          0.0264633333333333,
          0.02619,
          0.0259866666666666,
          0.0264666666666666
         ],
         "xaxis": "x",
         "y": [
          227.98188493573215,
          221.8734412066285,
          214.8705254076825,
          208.3146293360179,
          202.05111009359825,
          196.17472927471755,
          190.6681647900876,
          185.47592935713365,
          180.5898073169239,
          175.96377134396533,
          171.5958387993088,
          167.45230379283555,
          163.67005898155426,
          160.06810712311946,
          156.4447989614333,
          152.98717344871022,
          149.68334792753345,
          146.52819248325088,
          143.51187978893103,
          140.6235660399733,
          137.8534708539923,
          135.19868546719886,
          132.64754573195242,
          130.19481232296982,
          128.87498694730218,
          127.6038181258559,
          125.48375078905258,
          123.43975973909608,
          121.38627051576762,
          119.40407900420176,
          117.49949742807075,
          115.65816250370584,
          113.8828510552412,
          112.16528974407316,
          110.50430706887435,
          108.89665326303135,
          121.93942299968134,
          120.80469043757248,
          119.5642511242994,
          118.3517168185326,
          117.1513341289718,
          115.97724438046356,
          114.8381103412003,
          113.72410200419836,
          112.64416257016316,
          111.58506784761532,
          110.56093748582852,
          109.5587567021915,
          108.98656334191648,
          108.41953792464706,
          107.48538251444818,
          106.56690717291964,
          105.62193109724848,
          104.69326769490873,
          103.79030926008724,
          102.90413300794934,
          102.04137106752168,
          101.19518419496264,
          99.56735414349602,
          106.1034229182738,
          105.48235916299744,
          104.79826897541784,
          104.12459848532755,
          103.44992435949584,
          102.7839320981875,
          102.12743607863196,
          101.4817380537902,
          100.84501135220168,
          100.21717958651293,
          99.59882694301194,
          98.98847397821328,
          98.74349662029744,
          98.50253890672788,
          97.96836345174322,
          97.4397831851847,
          96.86445297377828,
          96.2964498292113,
          95.73762296567344,
          95.18400384944452,
          94.6410185471274,
          94.10633792184336,
          93.57250805313262,
          93.04425781544636
         ],
         "yaxis": "y"
        },
        {
         "hoverinfo": "text",
         "marker": {
          "opacity": 0.1,
          "size": [
           25.888,
           26.648000000000003,
           26.592,
           27.171999999999997,
           25.552,
           27.416,
           26.991999999999997,
           25.336,
           27.372,
           27.392,
           25.851999999999997,
           28.044,
           26.624000000000002,
           28.412,
           25.24,
           28.16,
           26.828000000000003,
           26.991999999999997,
           57.30912,
           76.80760000000001,
           66.5316,
           110.41752000000001,
           88.21472,
           79.42392,
           38.8232,
           39.1892,
           55.69192,
           39.9576,
           34.184,
           33.2316,
           43.3232,
           43.8584,
           39.9444,
           42.2612,
           42.6932,
           42.322399999999995,
           42.983599999999996,
           33.1676,
           43.523999999999994,
           42.9036,
           43.376000000000005,
           32.896,
           33.4724,
           33.5148,
           33.6992,
           38.0632,
           34.2432,
           33.5636,
           44.248000000000005,
           33.4924,
           36.5444,
           44.5644,
           44.5924,
           39.800399999999996,
           44.724399999999996,
           45.076800000000006,
           35.007999999999996,
           34.88399999999999,
           45.775600000000004,
           39.9488,
           43.5408,
           37.553200000000004,
           38.0292,
           33.5972,
           33.017199999999995,
           34.3172,
           31.6652,
           33.3732,
           34.041199999999996,
           33.041199999999996,
           32.7892,
           33.3412,
           32.8932,
           34.9972,
           34.577200000000005,
           34.5496,
           34.217600000000004,
           32.833600000000004,
           35.3056,
           35.281600000000005,
           34.586,
           60.65056,
           43.757200000000005,
           71.04704,
           77.62952,
           106.07816000000001,
           36.1328,
           30.092000000000002,
           34.6544,
           42.2596,
           42.376000000000005,
           42.4004,
           31.3336,
           41.4288,
           38.5516,
           41.784,
           31.8684,
           31.746399999999998,
           32.337199999999996,
           32.53,
           31.7676,
           31.8112,
           42.7932,
           42.857200000000006,
           43.0112,
           43.2116,
           43.3284,
           43.4288,
           43.673199999999994,
           46.236000000000004,
           36.0112,
           26.8552,
           26.8312,
           26.899199999999997,
           25.6952,
           26.291600000000003,
           26.2636,
           26.016,
           26.908,
           26.423999999999996,
           27.18,
           27.9404,
           26.836399999999998,
           26.74,
           26.0892,
           28.271600000000003,
           27.797600000000003,
           26.8812,
           27.5696,
           44.4128,
           40.95,
           35.9792,
           40.3124,
           47.88632,
           64.56104,
           30.221200000000003,
           28.882799999999996,
           23.856399999999997,
           44.566,
           33.6508,
           31.7552,
           34.5512,
           41.3304,
           31.4944,
           31.3108,
           31.422800000000002,
           38.992399999999996,
           31.52,
           33.9924,
           31.7408,
           36.922,
           39.6864,
           42.0308,
           31.991999999999997,
           36.2312,
           32.4664,
           32.1668,
           37.8992,
           34.3716,
           42.595600000000005,
           32.708,
           42.668
          ]
         },
         "mode": "markers",
         "name": "Ingesting max",
         "type": "scatter",
         "x": [
          0.99771,
          0.9508466666666668,
          0.99873,
          0.9513433333333334,
          0.9989633333333332,
          0.9513,
          0.9999033333333334,
          0.9518466666666666,
          0.9999033333333334,
          0.9518433333333334,
          0.9998966666666668,
          0.9518533333333334,
          0.9817533333333331,
          0.7507566666666666,
          0.9852299999999998,
          0.7575033333333333,
          0.9841,
          0.7569366666666667,
          0.99993,
          0.9974966666666666,
          0.9775033333333332,
          0.9898766666666668,
          0.9930233333333336,
          0.4533233333333333,
          0.4829733333333333,
          0.9897833333333332,
          0.9883933333333336,
          0.9517833333333332,
          0.9517833333333332,
          0.92598,
          0.92598,
          0.7746266666666667,
          0.7746266666666667,
          0.9232566666666666,
          0.9231333333333334,
          0.9340266666666666,
          0.9339966666666664,
          0.9365,
          0.9364966666666664,
          0.1952433333333333,
          0.1952433333333333,
          0.2027666666666666,
          0.2027666666666666,
          0.2339766666666667,
          0.2339766666666667,
          0.4357066666666666,
          0.4361233333333333,
          0.4397266666666667,
          0.4396133333333333,
          0.4393766666666666,
          0.4394466666666666,
          0.9486866666666668,
          0.9486866666666668,
          0.92348,
          0.92348,
          0.77345,
          0.77345,
          0.9192666666666668,
          0.9194466666666666,
          0.9302766666666664,
          0.9303066666666666,
          0.9323566666666666,
          0.9323,
          1,
          0.0095633333333333,
          1,
          0.0095633333333333,
          1,
          0.0095633333333333,
          1,
          0.0095633333333333,
          0.9999966666666668,
          0.0095633333333333,
          0.9999966666666668,
          0.0095633333333333,
          1,
          0.0095633333333333,
          1,
          0.0095633333333333,
          0.9999966666666668,
          0.0095633333333333,
          1,
          0.99269,
          0.92089,
          0.93947,
          0.94509,
          0.9674533333333332,
          0.96575,
          0.0104666666666666,
          0.0104666666666666,
          0.01718,
          0.01718,
          0.0510266666666666,
          0.0510266666666666,
          0.00668,
          0.0066966666666666,
          0.00788,
          0.00792,
          0.0086866666666666,
          0.00867,
          0.0105399999999999,
          0.0105399999999999,
          0.0173033333333333,
          0.0173033333333333,
          0.0510899999999999,
          0.0510899999999999,
          0.0066633333333333,
          0.00664,
          0.00797,
          0.0079933333333333,
          0.0087533333333333,
          1,
          0.7123233333333333,
          1,
          0.71222,
          1,
          0.7122733333333333,
          1,
          0.7121866666666666,
          1,
          0.71234,
          1,
          0.71234,
          1,
          0.7123133333333334,
          1,
          0.71246,
          1,
          0.7121766666666667,
          1,
          0.9862733333333332,
          0.9686966666666668,
          0.9217366666666664,
          0.9261366666666668,
          0.9265233333333334,
          0.2000566666666667,
          0.1791,
          0.2320833333333333,
          0.84628,
          0.84628,
          0.82982,
          0.82982,
          0.7752133333333333,
          0.7752133333333333,
          0.65942,
          0.6597433333333333,
          0.6640933333333333,
          0.6625300000000001,
          0.6623899999999999,
          0.6624899999999999,
          0.0476766666666666,
          0.0476766666666666,
          0.0854666666666666,
          0.0854666666666666,
          0.1597033333333333,
          0.1597033333333333,
          0.02523,
          0.0248466666666666,
          0.0264633333333333,
          0.02619,
          0.0259866666666666,
          0.0264666666666666
         ],
         "y": [
          188.5770079609938,
          183.8913727497372,
          188.37616766906447,
          186.58389986900147,
          187.545041622594,
          186.91804717786405,
          195.2819579167824,
          199.7001797036501,
          203.8457726669946,
          205.44326450784385,
          208.49872778628415,
          210.83584663419364,
          207.81201407002905,
          204.54848849114828,
          202.18124522217036,
          199.81319909114973,
          198.17327104983667,
          196.2241458338341,
          207.4180995641489,
          211.4269817803676,
          219.37165474293693,
          220.5669586036961,
          222.6068198576948,
          224.6251042229576,
          225.5743120740478,
          230.26265832956716,
          234.43686049555168,
          227.98188493573215,
          221.8734412066285,
          214.8705254076825,
          208.3146293360179,
          202.05111009359825,
          196.17472927471755,
          190.6681647900876,
          185.47592935713365,
          180.5898073169239,
          175.96377134396533,
          171.5958387993088,
          167.45230379283555,
          163.67005898155426,
          160.06810712311946,
          156.4447989614333,
          152.98717344871022,
          149.68334792753345,
          146.52819248325088,
          143.51187978893103,
          140.6235660399733,
          137.8534708539923,
          135.19868546719886,
          132.64754573195242,
          130.19481232296982,
          128.87498694730218,
          127.6038181258559,
          125.48375078905258,
          123.43975973909608,
          121.38627051576762,
          119.40407900420176,
          117.49949742807075,
          115.65816250370584,
          113.8828510552412,
          112.16528974407316,
          110.50430706887435,
          108.89665326303135,
          108.66213295446263,
          108.3855141389351,
          108.17082970630086,
          107.85561369277944,
          107.66841892163296,
          107.40183851465692,
          107.19016581015394,
          106.87585005902864,
          106.66314013250586,
          106.38480783877128,
          106.16863466735283,
          105.95289529792758,
          105.7942519514421,
          105.5513970695186,
          105.34570545899386,
          105.15422760809572,
          104.97523750633506,
          104.79157291452395,
          107.706712514959,
          109.37490582074334,
          110.77691911831536,
          114.6184987406356,
          118.62787241671168,
          122.5007640857114,
          123.09179654467506,
          121.93942299968134,
          120.80469043757248,
          119.5642511242994,
          118.3517168185326,
          117.1513341289718,
          115.97724438046356,
          114.8381103412003,
          113.72410200419836,
          112.64416257016316,
          111.58506784761532,
          110.56093748582852,
          109.5587567021915,
          108.98656334191648,
          108.41953792464706,
          107.48538251444818,
          106.56690717291964,
          105.62193109724848,
          104.69326769490873,
          103.79030926008724,
          102.90413300794934,
          102.04137106752168,
          101.19518419496264,
          99.56735414349602,
          99.13697276515803,
          98.6781836018764,
          98.25139797115834,
          97.798597671121,
          97.41619969032934,
          96.99812649100056,
          96.607811037348,
          96.18521974938146,
          95.82172751416437,
          95.43913048320536,
          95.04778444624397,
          94.67278240024493,
          94.31463027197869,
          93.95686167132148,
          93.5902937471236,
          93.21637911622624,
          92.86958159560588,
          92.50182134034232,
          93.46335908698994,
          94.7106102718372,
          97.4021472117133,
          98.58071875211722,
          99.61536705207055,
          100.79487951717216,
          103.35966541907705,
          104.2170234228842,
          106.72331035162304,
          106.1034229182738,
          105.48235916299744,
          104.79826897541784,
          104.12459848532755,
          103.44992435949584,
          102.7839320981875,
          102.12743607863196,
          101.4817380537902,
          100.84501135220168,
          100.21717958651293,
          99.59882694301194,
          98.98847397821328,
          98.74349662029744,
          98.50253890672788,
          97.96836345174322,
          97.4397831851847,
          96.86445297377828,
          96.2964498292113,
          95.73762296567344,
          95.18400384944452,
          94.6410185471274,
          94.10633792184336,
          93.57250805313262,
          93.04425781544636
         ]
        }
       ],
       "layout": {
        "legend": {
         "itemsizing": "constant",
         "title": {
          "text": "index_prov"
         },
         "tracegroupgap": 0
        },
        "margin": {
         "t": 60
        },
        "template": {
         "data": {
          "bar": [
           {
            "error_x": {
             "color": "#2a3f5f"
            },
            "error_y": {
             "color": "#2a3f5f"
            },
            "marker": {
             "line": {
              "color": "#E5ECF6",
              "width": 0.5
             },
             "pattern": {
              "fillmode": "overlay",
              "size": 10,
              "solidity": 0.2
             }
            },
            "type": "bar"
           }
          ],
          "barpolar": [
           {
            "marker": {
             "line": {
              "color": "#E5ECF6",
              "width": 0.5
             },
             "pattern": {
              "fillmode": "overlay",
              "size": 10,
              "solidity": 0.2
             }
            },
            "type": "barpolar"
           }
          ],
          "carpet": [
           {
            "aaxis": {
             "endlinecolor": "#2a3f5f",
             "gridcolor": "white",
             "linecolor": "white",
             "minorgridcolor": "white",
             "startlinecolor": "#2a3f5f"
            },
            "baxis": {
             "endlinecolor": "#2a3f5f",
             "gridcolor": "white",
             "linecolor": "white",
             "minorgridcolor": "white",
             "startlinecolor": "#2a3f5f"
            },
            "type": "carpet"
           }
          ],
          "choropleth": [
           {
            "colorbar": {
             "outlinewidth": 0,
             "ticks": ""
            },
            "type": "choropleth"
           }
          ],
          "contour": [
           {
            "colorbar": {
             "outlinewidth": 0,
             "ticks": ""
            },
            "colorscale": [
             [
              0,
              "#0d0887"
             ],
             [
              0.1111111111111111,
              "#46039f"
             ],
             [
              0.2222222222222222,
              "#7201a8"
             ],
             [
              0.3333333333333333,
              "#9c179e"
             ],
             [
              0.4444444444444444,
              "#bd3786"
             ],
             [
              0.5555555555555556,
              "#d8576b"
             ],
             [
              0.6666666666666666,
              "#ed7953"
             ],
             [
              0.7777777777777778,
              "#fb9f3a"
             ],
             [
              0.8888888888888888,
              "#fdca26"
             ],
             [
              1,
              "#f0f921"
             ]
            ],
            "type": "contour"
           }
          ],
          "contourcarpet": [
           {
            "colorbar": {
             "outlinewidth": 0,
             "ticks": ""
            },
            "type": "contourcarpet"
           }
          ],
          "heatmap": [
           {
            "colorbar": {
             "outlinewidth": 0,
             "ticks": ""
            },
            "colorscale": [
             [
              0,
              "#0d0887"
             ],
             [
              0.1111111111111111,
              "#46039f"
             ],
             [
              0.2222222222222222,
              "#7201a8"
             ],
             [
              0.3333333333333333,
              "#9c179e"
             ],
             [
              0.4444444444444444,
              "#bd3786"
             ],
             [
              0.5555555555555556,
              "#d8576b"
             ],
             [
              0.6666666666666666,
              "#ed7953"
             ],
             [
              0.7777777777777778,
              "#fb9f3a"
             ],
             [
              0.8888888888888888,
              "#fdca26"
             ],
             [
              1,
              "#f0f921"
             ]
            ],
            "type": "heatmap"
           }
          ],
          "heatmapgl": [
           {
            "colorbar": {
             "outlinewidth": 0,
             "ticks": ""
            },
            "colorscale": [
             [
              0,
              "#0d0887"
             ],
             [
              0.1111111111111111,
              "#46039f"
             ],
             [
              0.2222222222222222,
              "#7201a8"
             ],
             [
              0.3333333333333333,
              "#9c179e"
             ],
             [
              0.4444444444444444,
              "#bd3786"
             ],
             [
              0.5555555555555556,
              "#d8576b"
             ],
             [
              0.6666666666666666,
              "#ed7953"
             ],
             [
              0.7777777777777778,
              "#fb9f3a"
             ],
             [
              0.8888888888888888,
              "#fdca26"
             ],
             [
              1,
              "#f0f921"
             ]
            ],
            "type": "heatmapgl"
           }
          ],
          "histogram": [
           {
            "marker": {
             "pattern": {
              "fillmode": "overlay",
              "size": 10,
              "solidity": 0.2
             }
            },
            "type": "histogram"
           }
          ],
          "histogram2d": [
           {
            "colorbar": {
             "outlinewidth": 0,
             "ticks": ""
            },
            "colorscale": [
             [
              0,
              "#0d0887"
             ],
             [
              0.1111111111111111,
              "#46039f"
             ],
             [
              0.2222222222222222,
              "#7201a8"
             ],
             [
              0.3333333333333333,
              "#9c179e"
             ],
             [
              0.4444444444444444,
              "#bd3786"
             ],
             [
              0.5555555555555556,
              "#d8576b"
             ],
             [
              0.6666666666666666,
              "#ed7953"
             ],
             [
              0.7777777777777778,
              "#fb9f3a"
             ],
             [
              0.8888888888888888,
              "#fdca26"
             ],
             [
              1,
              "#f0f921"
             ]
            ],
            "type": "histogram2d"
           }
          ],
          "histogram2dcontour": [
           {
            "colorbar": {
             "outlinewidth": 0,
             "ticks": ""
            },
            "colorscale": [
             [
              0,
              "#0d0887"
             ],
             [
              0.1111111111111111,
              "#46039f"
             ],
             [
              0.2222222222222222,
              "#7201a8"
             ],
             [
              0.3333333333333333,
              "#9c179e"
             ],
             [
              0.4444444444444444,
              "#bd3786"
             ],
             [
              0.5555555555555556,
              "#d8576b"
             ],
             [
              0.6666666666666666,
              "#ed7953"
             ],
             [
              0.7777777777777778,
              "#fb9f3a"
             ],
             [
              0.8888888888888888,
              "#fdca26"
             ],
             [
              1,
              "#f0f921"
             ]
            ],
            "type": "histogram2dcontour"
           }
          ],
          "mesh3d": [
           {
            "colorbar": {
             "outlinewidth": 0,
             "ticks": ""
            },
            "type": "mesh3d"
           }
          ],
          "parcoords": [
           {
            "line": {
             "colorbar": {
              "outlinewidth": 0,
              "ticks": ""
             }
            },
            "type": "parcoords"
           }
          ],
          "pie": [
           {
            "automargin": true,
            "type": "pie"
           }
          ],
          "scatter": [
           {
            "fillpattern": {
             "fillmode": "overlay",
             "size": 10,
             "solidity": 0.2
            },
            "type": "scatter"
           }
          ],
          "scatter3d": [
           {
            "line": {
             "colorbar": {
              "outlinewidth": 0,
              "ticks": ""
             }
            },
            "marker": {
             "colorbar": {
              "outlinewidth": 0,
              "ticks": ""
             }
            },
            "type": "scatter3d"
           }
          ],
          "scattercarpet": [
           {
            "marker": {
             "colorbar": {
              "outlinewidth": 0,
              "ticks": ""
             }
            },
            "type": "scattercarpet"
           }
          ],
          "scattergeo": [
           {
            "marker": {
             "colorbar": {
              "outlinewidth": 0,
              "ticks": ""
             }
            },
            "type": "scattergeo"
           }
          ],
          "scattergl": [
           {
            "marker": {
             "colorbar": {
              "outlinewidth": 0,
              "ticks": ""
             }
            },
            "type": "scattergl"
           }
          ],
          "scattermapbox": [
           {
            "marker": {
             "colorbar": {
              "outlinewidth": 0,
              "ticks": ""
             }
            },
            "type": "scattermapbox"
           }
          ],
          "scatterpolar": [
           {
            "marker": {
             "colorbar": {
              "outlinewidth": 0,
              "ticks": ""
             }
            },
            "type": "scatterpolar"
           }
          ],
          "scatterpolargl": [
           {
            "marker": {
             "colorbar": {
              "outlinewidth": 0,
              "ticks": ""
             }
            },
            "type": "scatterpolargl"
           }
          ],
          "scatterternary": [
           {
            "marker": {
             "colorbar": {
              "outlinewidth": 0,
              "ticks": ""
             }
            },
            "type": "scatterternary"
           }
          ],
          "surface": [
           {
            "colorbar": {
             "outlinewidth": 0,
             "ticks": ""
            },
            "colorscale": [
             [
              0,
              "#0d0887"
             ],
             [
              0.1111111111111111,
              "#46039f"
             ],
             [
              0.2222222222222222,
              "#7201a8"
             ],
             [
              0.3333333333333333,
              "#9c179e"
             ],
             [
              0.4444444444444444,
              "#bd3786"
             ],
             [
              0.5555555555555556,
              "#d8576b"
             ],
             [
              0.6666666666666666,
              "#ed7953"
             ],
             [
              0.7777777777777778,
              "#fb9f3a"
             ],
             [
              0.8888888888888888,
              "#fdca26"
             ],
             [
              1,
              "#f0f921"
             ]
            ],
            "type": "surface"
           }
          ],
          "table": [
           {
            "cells": {
             "fill": {
              "color": "#EBF0F8"
             },
             "line": {
              "color": "white"
             }
            },
            "header": {
             "fill": {
              "color": "#C8D4E3"
             },
             "line": {
              "color": "white"
             }
            },
            "type": "table"
           }
          ]
         },
         "layout": {
          "annotationdefaults": {
           "arrowcolor": "#2a3f5f",
           "arrowhead": 0,
           "arrowwidth": 1
          },
          "autotypenumbers": "strict",
          "coloraxis": {
           "colorbar": {
            "outlinewidth": 0,
            "ticks": ""
           }
          },
          "colorscale": {
           "diverging": [
            [
             0,
             "#8e0152"
            ],
            [
             0.1,
             "#c51b7d"
            ],
            [
             0.2,
             "#de77ae"
            ],
            [
             0.3,
             "#f1b6da"
            ],
            [
             0.4,
             "#fde0ef"
            ],
            [
             0.5,
             "#f7f7f7"
            ],
            [
             0.6,
             "#e6f5d0"
            ],
            [
             0.7,
             "#b8e186"
            ],
            [
             0.8,
             "#7fbc41"
            ],
            [
             0.9,
             "#4d9221"
            ],
            [
             1,
             "#276419"
            ]
           ],
           "sequential": [
            [
             0,
             "#0d0887"
            ],
            [
             0.1111111111111111,
             "#46039f"
            ],
            [
             0.2222222222222222,
             "#7201a8"
            ],
            [
             0.3333333333333333,
             "#9c179e"
            ],
            [
             0.4444444444444444,
             "#bd3786"
            ],
            [
             0.5555555555555556,
             "#d8576b"
            ],
            [
             0.6666666666666666,
             "#ed7953"
            ],
            [
             0.7777777777777778,
             "#fb9f3a"
            ],
            [
             0.8888888888888888,
             "#fdca26"
            ],
            [
             1,
             "#f0f921"
            ]
           ],
           "sequentialminus": [
            [
             0,
             "#0d0887"
            ],
            [
             0.1111111111111111,
             "#46039f"
            ],
            [
             0.2222222222222222,
             "#7201a8"
            ],
            [
             0.3333333333333333,
             "#9c179e"
            ],
            [
             0.4444444444444444,
             "#bd3786"
            ],
            [
             0.5555555555555556,
             "#d8576b"
            ],
            [
             0.6666666666666666,
             "#ed7953"
            ],
            [
             0.7777777777777778,
             "#fb9f3a"
            ],
            [
             0.8888888888888888,
             "#fdca26"
            ],
            [
             1,
             "#f0f921"
            ]
           ]
          },
          "colorway": [
           "#636efa",
           "#EF553B",
           "#00cc96",
           "#ab63fa",
           "#FFA15A",
           "#19d3f3",
           "#FF6692",
           "#B6E880",
           "#FF97FF",
           "#FECB52"
          ],
          "font": {
           "color": "#2a3f5f"
          },
          "geo": {
           "bgcolor": "white",
           "lakecolor": "white",
           "landcolor": "#E5ECF6",
           "showlakes": true,
           "showland": true,
           "subunitcolor": "white"
          },
          "hoverlabel": {
           "align": "left"
          },
          "hovermode": "closest",
          "mapbox": {
           "style": "light"
          },
          "paper_bgcolor": "white",
          "plot_bgcolor": "#E5ECF6",
          "polar": {
           "angularaxis": {
            "gridcolor": "white",
            "linecolor": "white",
            "ticks": ""
           },
           "bgcolor": "#E5ECF6",
           "radialaxis": {
            "gridcolor": "white",
            "linecolor": "white",
            "ticks": ""
           }
          },
          "scene": {
           "xaxis": {
            "backgroundcolor": "#E5ECF6",
            "gridcolor": "white",
            "gridwidth": 2,
            "linecolor": "white",
            "showbackground": true,
            "ticks": "",
            "zerolinecolor": "white"
           },
           "yaxis": {
            "backgroundcolor": "#E5ECF6",
            "gridcolor": "white",
            "gridwidth": 2,
            "linecolor": "white",
            "showbackground": true,
            "ticks": "",
            "zerolinecolor": "white"
           },
           "zaxis": {
            "backgroundcolor": "#E5ECF6",
            "gridcolor": "white",
            "gridwidth": 2,
            "linecolor": "white",
            "showbackground": true,
            "ticks": "",
            "zerolinecolor": "white"
           }
          },
          "shapedefaults": {
           "line": {
            "color": "#2a3f5f"
           }
          },
          "ternary": {
           "aaxis": {
            "gridcolor": "white",
            "linecolor": "white",
            "ticks": ""
           },
           "baxis": {
            "gridcolor": "white",
            "linecolor": "white",
            "ticks": ""
           },
           "bgcolor": "#E5ECF6",
           "caxis": {
            "gridcolor": "white",
            "linecolor": "white",
            "ticks": ""
           }
          },
          "title": {
           "x": 0.05
          },
          "xaxis": {
           "automargin": true,
           "gridcolor": "white",
           "linecolor": "white",
           "ticks": "",
           "title": {
            "standoff": 15
           },
           "zerolinecolor": "white",
           "zerolinewidth": 2
          },
          "yaxis": {
           "automargin": true,
           "gridcolor": "white",
           "linecolor": "white",
           "ticks": "",
           "title": {
            "standoff": 15
           },
           "zerolinecolor": "white",
           "zerolinewidth": 2
          }
         }
        },
        "xaxis": {
         "anchor": "y",
         "domain": [
          0,
          1
         ],
         "title": {
          "text": "Recall avg"
         }
        },
        "yaxis": {
         "anchor": "x",
         "domain": [
          0,
          1
         ],
         "title": {
          "text": "Search speed avg. (ms)"
         }
        }
       }
      }
     },
     "metadata": {},
     "output_type": "display_data"
    }
   ],
   "source": [
    "import plotly.express as px\n",
    "import plotly.graph_objects as go\n",
    "\n",
    "# Your existing DataFrame and plot\n",
    "fig = px.scatter(\n",
    "    df_results,\n",
    "    x=\"Recall avg\",\n",
    "    y=\"Search speed avg. (ms)\",\n",
    "    hover_data=[\"Index\",\"ingesting_max\",\"benchmarking_mean\"],\n",
    "    color=\"index_prov\",\n",
    "    size=df_results[\"benchmarking_mean\"],\n",
    ")\n",
    "\n",
    "# Adding a similar scatter plot but with semi-transparency and different size mapping\n",
    "fig.add_trace(\n",
    "    go.Scatter(\n",
    "        x=df_results[\"Recall avg\"],\n",
    "        y=df_results[\"Search speed avg. (ms)\"],\n",
    "        mode=\"markers\",\n",
    "        marker=dict(\n",
    "            size=df_results[\"ingesting_max\"] / 25,  # Size based on 'ingesting_max' column\n",
    "            opacity=0.1,  # Semi-transparent markers\n",
    "            # color=fig.data[0].marker.color,  # Use the same color as the first plot\n",
    "            # line=dict(color=\"MediumPurple\", width=2),\n",
    "        ),\n",
    "        hoverinfo=\"text\",  # You can customize hover info as needed\n",
    "        name=\"Ingesting max\",\n",
    "    )\n",
    ")\n",
    "\n",
    "fig.show()"
   ]
  },
  {
   "cell_type": "code",
   "execution_count": null,
   "metadata": {},
   "outputs": [],
   "source": []
  }
 ],
 "metadata": {
  "kernelspec": {
   "display_name": "vod-EhoGd8y6-py3.11",
   "language": "python",
   "name": "python3"
  },
  "language_info": {
   "codemirror_mode": {
    "name": "ipython",
    "version": 3
   },
   "file_extension": ".py",
   "mimetype": "text/x-python",
   "name": "python",
   "nbconvert_exporter": "python",
   "pygments_lexer": "ipython3",
   "version": "3.11.2"
  }
 },
 "nbformat": 4,
 "nbformat_minor": 2
}
