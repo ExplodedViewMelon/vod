{
 "cells": [
  {
   "cell_type": "code",
   "execution_count": 41,
   "metadata": {},
   "outputs": [],
   "source": [
    "import pandas as pd\n",
    "import matplotlib.pyplot as plt"
   ]
  },
  {
   "cell_type": "code",
   "execution_count": 42,
   "metadata": {},
   "outputs": [
    {
     "name": "stdout",
     "output_type": "stream",
     "text": [
      "/Users/oas/Documents/VOD/vod/benchmarking_results/Faiss_HNSW_ef_test_2024-01-19_14:47:29.csv\n"
     ]
    }
   ],
   "source": [
    "import os\n",
    "\n",
    "folder_path = \"/Users/oas/Documents/VOD/vod/benchmarking_results\"\n",
    "files = [\n",
    "    os.path.join(folder_path, file)\n",
    "    for file in os.listdir(folder_path)\n",
    "    if os.path.isfile(os.path.join(folder_path, file))\n",
    "]\n",
    "newest_file = max(files, key=os.path.getmtime)\n",
    "\n",
    "print(newest_file)"
   ]
  },
  {
   "cell_type": "code",
   "execution_count": 43,
   "metadata": {},
   "outputs": [],
   "source": [
    "df_results = pd.read_csv(newest_file)"
   ]
  },
  {
   "cell_type": "code",
   "execution_count": 44,
   "metadata": {},
   "outputs": [],
   "source": [
    "# analyse the runs\n",
    "# recall vs speed vs memory\n",
    "df_results = df_results.query(\"Index != '-1'\")"
   ]
  },
  {
   "cell_type": "code",
   "execution_count": 45,
   "metadata": {},
   "outputs": [
    {
     "data": {
      "text/plain": [
       "'HNSW, M=32, ef_construction=32, ef_search=65, None, L2'"
      ]
     },
     "execution_count": 45,
     "metadata": {},
     "output_type": "execute_result"
    }
   ],
   "source": [
    "df_results[\"Index parameters.\"].iloc[2]"
   ]
  },
  {
   "cell_type": "code",
   "execution_count": 46,
   "metadata": {},
   "outputs": [
    {
     "data": {
      "text/html": [
       "<div>\n",
       "<style scoped>\n",
       "    .dataframe tbody tr th:only-of-type {\n",
       "        vertical-align: middle;\n",
       "    }\n",
       "\n",
       "    .dataframe tbody tr th {\n",
       "        vertical-align: top;\n",
       "    }\n",
       "\n",
       "    .dataframe thead th {\n",
       "        text-align: right;\n",
       "    }\n",
       "</style>\n",
       "<table border=\"1\" class=\"dataframe\">\n",
       "  <thead>\n",
       "    <tr style=\"text-align: right;\">\n",
       "      <th></th>\n",
       "      <th>Unnamed: 0</th>\n",
       "      <th>Index</th>\n",
       "      <th>Index parameters.</th>\n",
       "      <th>Build speed (s)</th>\n",
       "      <th>Search speed avg. (ms)</th>\n",
       "      <th>Search speed p95 (ms)</th>\n",
       "      <th>Recall avg</th>\n",
       "      <th>Recall@1</th>\n",
       "      <th>Recall@10</th>\n",
       "      <th>Recall@100</th>\n",
       "      <th>Est. memory usage (GB)</th>\n",
       "    </tr>\n",
       "  </thead>\n",
       "  <tbody>\n",
       "    <tr>\n",
       "      <th>0</th>\n",
       "      <td>0</td>\n",
       "      <td>index: faiss HNSW, M=32, ef_construction=2, ef...</td>\n",
       "      <td>HNSW, M=32, ef_construction=2, ef_search=65, N...</td>\n",
       "      <td>20.784420</td>\n",
       "      <td>8.499129</td>\n",
       "      <td>10.089126</td>\n",
       "      <td>0.54055</td>\n",
       "      <td>0.576</td>\n",
       "      <td>0.639</td>\n",
       "      <td>0.721</td>\n",
       "      <td>0.248524</td>\n",
       "    </tr>\n",
       "    <tr>\n",
       "      <th>1</th>\n",
       "      <td>1</td>\n",
       "      <td>index: faiss HNSW, M=32, ef_construction=16, e...</td>\n",
       "      <td>HNSW, M=32, ef_construction=16, ef_search=65, ...</td>\n",
       "      <td>20.919881</td>\n",
       "      <td>8.434812</td>\n",
       "      <td>10.079506</td>\n",
       "      <td>0.53790</td>\n",
       "      <td>0.573</td>\n",
       "      <td>0.634</td>\n",
       "      <td>0.721</td>\n",
       "      <td>0.377922</td>\n",
       "    </tr>\n",
       "    <tr>\n",
       "      <th>2</th>\n",
       "      <td>2</td>\n",
       "      <td>index: faiss HNSW, M=32, ef_construction=32, e...</td>\n",
       "      <td>HNSW, M=32, ef_construction=32, ef_search=65, ...</td>\n",
       "      <td>20.998306</td>\n",
       "      <td>8.421223</td>\n",
       "      <td>9.958277</td>\n",
       "      <td>0.53957</td>\n",
       "      <td>0.586</td>\n",
       "      <td>0.650</td>\n",
       "      <td>0.732</td>\n",
       "      <td>0.389088</td>\n",
       "    </tr>\n",
       "    <tr>\n",
       "      <th>3</th>\n",
       "      <td>3</td>\n",
       "      <td>index: faiss HNSW, M=32, ef_construction=64, e...</td>\n",
       "      <td>HNSW, M=32, ef_construction=64, ef_search=65, ...</td>\n",
       "      <td>21.213509</td>\n",
       "      <td>8.435641</td>\n",
       "      <td>10.064669</td>\n",
       "      <td>0.53734</td>\n",
       "      <td>0.572</td>\n",
       "      <td>0.635</td>\n",
       "      <td>0.721</td>\n",
       "      <td>0.394489</td>\n",
       "    </tr>\n",
       "    <tr>\n",
       "      <th>4</th>\n",
       "      <td>4</td>\n",
       "      <td>index: faiss HNSW, M=32, ef_construction=128, ...</td>\n",
       "      <td>HNSW, M=32, ef_construction=128, ef_search=65,...</td>\n",
       "      <td>21.330812</td>\n",
       "      <td>8.446331</td>\n",
       "      <td>9.982763</td>\n",
       "      <td>0.53892</td>\n",
       "      <td>0.584</td>\n",
       "      <td>0.647</td>\n",
       "      <td>0.730</td>\n",
       "      <td>0.389217</td>\n",
       "    </tr>\n",
       "    <tr>\n",
       "      <th>5</th>\n",
       "      <td>5</td>\n",
       "      <td>index: faiss HNSW, M=32, ef_construction=256, ...</td>\n",
       "      <td>HNSW, M=32, ef_construction=256, ef_search=65,...</td>\n",
       "      <td>21.484274</td>\n",
       "      <td>8.465950</td>\n",
       "      <td>9.953984</td>\n",
       "      <td>0.54348</td>\n",
       "      <td>0.586</td>\n",
       "      <td>0.649</td>\n",
       "      <td>0.729</td>\n",
       "      <td>0.387451</td>\n",
       "    </tr>\n",
       "  </tbody>\n",
       "</table>\n",
       "</div>"
      ],
      "text/plain": [
       "   Unnamed: 0                                              Index  \\\n",
       "0           0  index: faiss HNSW, M=32, ef_construction=2, ef...   \n",
       "1           1  index: faiss HNSW, M=32, ef_construction=16, e...   \n",
       "2           2  index: faiss HNSW, M=32, ef_construction=32, e...   \n",
       "3           3  index: faiss HNSW, M=32, ef_construction=64, e...   \n",
       "4           4  index: faiss HNSW, M=32, ef_construction=128, ...   \n",
       "5           5  index: faiss HNSW, M=32, ef_construction=256, ...   \n",
       "\n",
       "                                   Index parameters.  Build speed (s)  \\\n",
       "0  HNSW, M=32, ef_construction=2, ef_search=65, N...        20.784420   \n",
       "1  HNSW, M=32, ef_construction=16, ef_search=65, ...        20.919881   \n",
       "2  HNSW, M=32, ef_construction=32, ef_search=65, ...        20.998306   \n",
       "3  HNSW, M=32, ef_construction=64, ef_search=65, ...        21.213509   \n",
       "4  HNSW, M=32, ef_construction=128, ef_search=65,...        21.330812   \n",
       "5  HNSW, M=32, ef_construction=256, ef_search=65,...        21.484274   \n",
       "\n",
       "   Search speed avg. (ms)  Search speed p95 (ms)  Recall avg  Recall@1  \\\n",
       "0                8.499129              10.089126     0.54055     0.576   \n",
       "1                8.434812              10.079506     0.53790     0.573   \n",
       "2                8.421223               9.958277     0.53957     0.586   \n",
       "3                8.435641              10.064669     0.53734     0.572   \n",
       "4                8.446331               9.982763     0.53892     0.584   \n",
       "5                8.465950               9.953984     0.54348     0.586   \n",
       "\n",
       "   Recall@10  Recall@100  Est. memory usage (GB)  \n",
       "0      0.639       0.721                0.248524  \n",
       "1      0.634       0.721                0.377922  \n",
       "2      0.650       0.732                0.389088  \n",
       "3      0.635       0.721                0.394489  \n",
       "4      0.647       0.730                0.389217  \n",
       "5      0.649       0.729                0.387451  "
      ]
     },
     "execution_count": 46,
     "metadata": {},
     "output_type": "execute_result"
    }
   ],
   "source": [
    "df_results"
   ]
  },
  {
   "cell_type": "code",
   "execution_count": 55,
   "metadata": {},
   "outputs": [
    {
     "name": "stderr",
     "output_type": "stream",
     "text": [
      "No artists with labels found to put in legend.  Note that artists whose label start with an underscore are ignored when legend() is called with no argument.\n"
     ]
    },
    {
     "data": {
      "image/png": "[encoded data removed]",
      "text/plain": [
       "<Figure size 640x480 with 1 Axes>"
      ]
     },
     "metadata": {},
     "output_type": "display_data"
    }
   ],
   "source": [
    "# 'Index', 'Index parameters.', 'Build speed (s)', 'Search speed avg. (ms)', 'Search speed p95 (ms)', 'Recall avg', 'Recall@1', 'Recall@10', 'Recall@100', 'Est. memory usage (GB)'\n",
    "x_param = \"Build speed (s)\"\n",
    "y_param = \"Recall avg\"\n",
    "plt.plot(df_results[x_param], df_results[y_param])\n",
    "plt.xlabel(x_param)\n",
    "plt.ylabel(y_param)\n",
    "plt.legend()\n",
    "plt.show()"
   ]
  },
  {
   "cell_type": "code",
   "execution_count": null,
   "metadata": {},
   "outputs": [],
   "source": []
  }
 ],
 "metadata": {
  "kernelspec": {
   "display_name": "vod-EhoGd8y6-py3.11",
   "language": "python",
   "name": "python3"
  },
  "language_info": {
   "codemirror_mode": {
    "name": "ipython",
    "version": 3
   },
   "file_extension": ".py",
   "mimetype": "text/x-python",
   "name": "python",
   "nbconvert_exporter": "python",
   "pygments_lexer": "ipython3",
   "version": "3.11.2"
  }
 },
 "nbformat": 4,
 "nbformat_minor": 2
}
