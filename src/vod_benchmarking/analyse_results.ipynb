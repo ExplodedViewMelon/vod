{
 "cells": [
  {
   "cell_type": "code",
   "execution_count": 240,
   "metadata": {},
   "outputs": [],
   "source": [
    "import pandas as pd\n",
    "import matplotlib.pyplot as plt\n",
    "import os"
   ]
  },
  {
   "cell_type": "markdown",
   "metadata": {},
   "source": [
    "## Preprocessing"
   ]
  },
  {
   "cell_type": "code",
   "execution_count": 241,
   "metadata": {},
   "outputs": [
    {
     "name": "stdout",
     "output_type": "stream",
     "text": [
      "/Users/oas/Downloads/benchmarking_results/2024-03-05-10-20-13.csv\n"
     ]
    }
   ],
   "source": [
    "folder_path = \"/Users/oas/Downloads/benchmarking_results\"\n",
    "# folder_path = \"/Users/oas/Documents/VOD/vod/benchmarking_results\"\n",
    "files = [\n",
    "    os.path.join(folder_path, file)\n",
    "    for file in os.listdir(folder_path)\n",
    "    if os.path.isfile(os.path.join(folder_path, file))\n",
    "]\n",
    "files.sort()  # Sort the files by name\n",
    "newest_file = files[-1]  # Pick the newest\n",
    "print(newest_file)"
   ]
  },
  {
   "cell_type": "code",
   "execution_count": 242,
   "metadata": {},
   "outputs": [
    {
     "data": {
      "text/plain": [
       "(90, 20)"
      ]
     },
     "execution_count": 242,
     "metadata": {},
     "output_type": "execute_result"
    }
   ],
   "source": [
    "df_results = pd.read_csv(newest_file)\n",
    "df_results.shape"
   ]
  },
  {
   "cell_type": "code",
   "execution_count": 243,
   "metadata": {},
   "outputs": [
    {
     "data": {
      "text/html": [
       "<div>\n",
       "<style scoped>\n",
       "    .dataframe tbody tr th:only-of-type {\n",
       "        vertical-align: middle;\n",
       "    }\n",
       "\n",
       "    .dataframe tbody tr th {\n",
       "        vertical-align: top;\n",
       "    }\n",
       "\n",
       "    .dataframe thead th {\n",
       "        text-align: right;\n",
       "    }\n",
       "</style>\n",
       "<table border=\"1\" class=\"dataframe\">\n",
       "  <thead>\n",
       "    <tr style=\"text-align: right;\">\n",
       "      <th></th>\n",
       "      <th>Unnamed: 0</th>\n",
       "      <th>Dataset</th>\n",
       "      <th>Index</th>\n",
       "      <th>IndexParameters</th>\n",
       "      <th>timerMasterMean</th>\n",
       "      <th>timerServerStartupMean</th>\n",
       "      <th>timerBuildIndexMean</th>\n",
       "      <th>SearchSpeedAverage</th>\n",
       "      <th>SearchSpeedP95</th>\n",
       "      <th>RecallMean</th>\n",
       "      <th>RecallAt1Mean</th>\n",
       "      <th>RecallAt10Mean</th>\n",
       "      <th>RecallAt100Mean</th>\n",
       "      <th>RecallAt1000Mean</th>\n",
       "      <th>baselineMax</th>\n",
       "      <th>baselineMean</th>\n",
       "      <th>ingestingMax</th>\n",
       "      <th>ingestingMean</th>\n",
       "      <th>benchmarkingMax</th>\n",
       "      <th>benchmarkingMean</th>\n",
       "    </tr>\n",
       "  </thead>\n",
       "  <tbody>\n",
       "    <tr>\n",
       "      <th>0</th>\n",
       "      <td>0</td>\n",
       "      <td>sift-128-euclidean</td>\n",
       "      <td>index: faiss IVF, n_partition=64, None, L2</td>\n",
       "      <td>IVF, n_partition=64, None, L2</td>\n",
       "      <td>15.444423</td>\n",
       "      <td>8.572305</td>\n",
       "      <td>1.379493</td>\n",
       "      <td>5.551177</td>\n",
       "      <td>5.638892</td>\n",
       "      <td>0.999891</td>\n",
       "      <td>0.9984</td>\n",
       "      <td>1.0000</td>\n",
       "      <td>1.0000</td>\n",
       "      <td>1.0000</td>\n",
       "      <td>493.50</td>\n",
       "      <td>493.50</td>\n",
       "      <td>NaN</td>\n",
       "      <td>NaN</td>\n",
       "      <td>1000.000</td>\n",
       "      <td>999.812195</td>\n",
       "    </tr>\n",
       "    <tr>\n",
       "      <th>1</th>\n",
       "      <td>1</td>\n",
       "      <td>sift-128-euclidean</td>\n",
       "      <td>index: faiss IVF, n_partition=128, None, L2</td>\n",
       "      <td>IVF, n_partition=128, None, L2</td>\n",
       "      <td>15.685309</td>\n",
       "      <td>8.574573</td>\n",
       "      <td>1.613909</td>\n",
       "      <td>2.867646</td>\n",
       "      <td>2.884004</td>\n",
       "      <td>0.998701</td>\n",
       "      <td>0.9982</td>\n",
       "      <td>0.9998</td>\n",
       "      <td>0.9998</td>\n",
       "      <td>0.9998</td>\n",
       "      <td>493.40</td>\n",
       "      <td>493.40</td>\n",
       "      <td>NaN</td>\n",
       "      <td>NaN</td>\n",
       "      <td>1000.000</td>\n",
       "      <td>1000.000000</td>\n",
       "    </tr>\n",
       "    <tr>\n",
       "      <th>2</th>\n",
       "      <td>2</td>\n",
       "      <td>sift-128-euclidean</td>\n",
       "      <td>index: faiss IVF, n_partition=256, None, L2</td>\n",
       "      <td>IVF, n_partition=256, None, L2</td>\n",
       "      <td>16.286192</td>\n",
       "      <td>8.582118</td>\n",
       "      <td>2.198738</td>\n",
       "      <td>1.676559</td>\n",
       "      <td>1.693282</td>\n",
       "      <td>0.995056</td>\n",
       "      <td>0.9977</td>\n",
       "      <td>0.9993</td>\n",
       "      <td>0.9993</td>\n",
       "      <td>0.9993</td>\n",
       "      <td>493.30</td>\n",
       "      <td>493.30</td>\n",
       "      <td>NaN</td>\n",
       "      <td>NaN</td>\n",
       "      <td>1001.000</td>\n",
       "      <td>1001.000000</td>\n",
       "    </tr>\n",
       "    <tr>\n",
       "      <th>3</th>\n",
       "      <td>3</td>\n",
       "      <td>sift-128-euclidean</td>\n",
       "      <td>index: faiss IVF, n_partition=512, None, L2</td>\n",
       "      <td>IVF, n_partition=512, None, L2</td>\n",
       "      <td>17.760620</td>\n",
       "      <td>8.699001</td>\n",
       "      <td>3.556263</td>\n",
       "      <td>0.882292</td>\n",
       "      <td>0.898318</td>\n",
       "      <td>0.979676</td>\n",
       "      <td>0.9941</td>\n",
       "      <td>0.9956</td>\n",
       "      <td>0.9956</td>\n",
       "      <td>0.9956</td>\n",
       "      <td>493.50</td>\n",
       "      <td>493.50</td>\n",
       "      <td>NaN</td>\n",
       "      <td>NaN</td>\n",
       "      <td>1004.000</td>\n",
       "      <td>1003.058824</td>\n",
       "    </tr>\n",
       "    <tr>\n",
       "      <th>4</th>\n",
       "      <td>4</td>\n",
       "      <td>sift-128-euclidean</td>\n",
       "      <td>index: faiss IVF, n_partition=1024, None, L2</td>\n",
       "      <td>IVF, n_partition=1024, None, L2</td>\n",
       "      <td>21.122000</td>\n",
       "      <td>8.560129</td>\n",
       "      <td>7.057724</td>\n",
       "      <td>0.495436</td>\n",
       "      <td>0.502291</td>\n",
       "      <td>0.954674</td>\n",
       "      <td>0.9888</td>\n",
       "      <td>0.9903</td>\n",
       "      <td>0.9903</td>\n",
       "      <td>0.9903</td>\n",
       "      <td>493.30</td>\n",
       "      <td>493.30</td>\n",
       "      <td>NaN</td>\n",
       "      <td>NaN</td>\n",
       "      <td>1006.000</td>\n",
       "      <td>1006.000000</td>\n",
       "    </tr>\n",
       "    <tr>\n",
       "      <th>...</th>\n",
       "      <td>...</td>\n",
       "      <td>...</td>\n",
       "      <td>...</td>\n",
       "      <td>...</td>\n",
       "      <td>...</td>\n",
       "      <td>...</td>\n",
       "      <td>...</td>\n",
       "      <td>...</td>\n",
       "      <td>...</td>\n",
       "      <td>...</td>\n",
       "      <td>...</td>\n",
       "      <td>...</td>\n",
       "      <td>...</td>\n",
       "      <td>...</td>\n",
       "      <td>...</td>\n",
       "      <td>...</td>\n",
       "      <td>...</td>\n",
       "      <td>...</td>\n",
       "      <td>...</td>\n",
       "      <td>...</td>\n",
       "    </tr>\n",
       "    <tr>\n",
       "      <th>77</th>\n",
       "      <td>77</td>\n",
       "      <td>sift-128-euclidean</td>\n",
       "      <td>index: milvus HNSW, M=4, ef_construction=32, e...</td>\n",
       "      <td>HNSW, M=4, ef_construction=32, ef_search=128, ...</td>\n",
       "      <td>175.487902</td>\n",
       "      <td>90.592472</td>\n",
       "      <td>79.810640</td>\n",
       "      <td>0.923670</td>\n",
       "      <td>1.306474</td>\n",
       "      <td>0.789474</td>\n",
       "      <td>0.8471</td>\n",
       "      <td>0.8481</td>\n",
       "      <td>0.8481</td>\n",
       "      <td>0.8481</td>\n",
       "      <td>202.78</td>\n",
       "      <td>202.78</td>\n",
       "      <td>1409.630</td>\n",
       "      <td>687.433333</td>\n",
       "      <td>1816.598</td>\n",
       "      <td>1343.205158</td>\n",
       "    </tr>\n",
       "    <tr>\n",
       "      <th>78</th>\n",
       "      <td>78</td>\n",
       "      <td>sift-128-euclidean</td>\n",
       "      <td>index: milvus HNSW, M=8, ef_construction=32, e...</td>\n",
       "      <td>HNSW, M=8, ef_construction=32, ef_search=128, ...</td>\n",
       "      <td>188.595449</td>\n",
       "      <td>101.816263</td>\n",
       "      <td>81.696179</td>\n",
       "      <td>1.022615</td>\n",
       "      <td>1.373695</td>\n",
       "      <td>0.938529</td>\n",
       "      <td>0.9743</td>\n",
       "      <td>0.9757</td>\n",
       "      <td>0.9757</td>\n",
       "      <td>0.9757</td>\n",
       "      <td>172.42</td>\n",
       "      <td>172.42</td>\n",
       "      <td>1405.248</td>\n",
       "      <td>672.139385</td>\n",
       "      <td>1914.848</td>\n",
       "      <td>1569.382100</td>\n",
       "    </tr>\n",
       "    <tr>\n",
       "      <th>79</th>\n",
       "      <td>79</td>\n",
       "      <td>sift-128-euclidean</td>\n",
       "      <td>index: milvus HNSW, M=16, ef_construction=32, ...</td>\n",
       "      <td>HNSW, M=16, ef_construction=32, ef_search=128,...</td>\n",
       "      <td>185.018279</td>\n",
       "      <td>91.419886</td>\n",
       "      <td>88.515254</td>\n",
       "      <td>1.022268</td>\n",
       "      <td>1.323690</td>\n",
       "      <td>0.963838</td>\n",
       "      <td>0.9879</td>\n",
       "      <td>0.9893</td>\n",
       "      <td>0.9893</td>\n",
       "      <td>0.9893</td>\n",
       "      <td>190.23</td>\n",
       "      <td>190.23</td>\n",
       "      <td>1431.846</td>\n",
       "      <td>687.373955</td>\n",
       "      <td>1957.856</td>\n",
       "      <td>1597.418800</td>\n",
       "    </tr>\n",
       "    <tr>\n",
       "      <th>80</th>\n",
       "      <td>80</td>\n",
       "      <td>sift-128-euclidean</td>\n",
       "      <td>index: milvus HNSW, M=32, ef_construction=32, ...</td>\n",
       "      <td>HNSW, M=32, ef_construction=32, ef_search=128,...</td>\n",
       "      <td>184.374852</td>\n",
       "      <td>91.502572</td>\n",
       "      <td>87.787748</td>\n",
       "      <td>1.046810</td>\n",
       "      <td>1.369574</td>\n",
       "      <td>0.967160</td>\n",
       "      <td>0.9900</td>\n",
       "      <td>0.9916</td>\n",
       "      <td>0.9916</td>\n",
       "      <td>0.9916</td>\n",
       "      <td>189.39</td>\n",
       "      <td>189.39</td>\n",
       "      <td>1413.632</td>\n",
       "      <td>663.274227</td>\n",
       "      <td>2089.726</td>\n",
       "      <td>1668.744400</td>\n",
       "    </tr>\n",
       "    <tr>\n",
       "      <th>81</th>\n",
       "      <td>81</td>\n",
       "      <td>sift-128-euclidean</td>\n",
       "      <td>index: milvus HNSW, M=64, ef_construction=32, ...</td>\n",
       "      <td>HNSW, M=64, ef_construction=32, ef_search=128,...</td>\n",
       "      <td>204.255687</td>\n",
       "      <td>90.724932</td>\n",
       "      <td>108.446134</td>\n",
       "      <td>1.450116</td>\n",
       "      <td>2.233286</td>\n",
       "      <td>0.989532</td>\n",
       "      <td>0.9970</td>\n",
       "      <td>0.9985</td>\n",
       "      <td>0.9985</td>\n",
       "      <td>0.9985</td>\n",
       "      <td>194.39</td>\n",
       "      <td>194.39</td>\n",
       "      <td>1691.960</td>\n",
       "      <td>759.196528</td>\n",
       "      <td>3037.876</td>\n",
       "      <td>2533.120231</td>\n",
       "    </tr>\n",
       "  </tbody>\n",
       "</table>\n",
       "<p>65 rows × 20 columns</p>\n",
       "</div>"
      ],
      "text/plain": [
       "    Unnamed: 0             Dataset  \\\n",
       "0            0  sift-128-euclidean   \n",
       "1            1  sift-128-euclidean   \n",
       "2            2  sift-128-euclidean   \n",
       "3            3  sift-128-euclidean   \n",
       "4            4  sift-128-euclidean   \n",
       "..         ...                 ...   \n",
       "77          77  sift-128-euclidean   \n",
       "78          78  sift-128-euclidean   \n",
       "79          79  sift-128-euclidean   \n",
       "80          80  sift-128-euclidean   \n",
       "81          81  sift-128-euclidean   \n",
       "\n",
       "                                                Index  \\\n",
       "0          index: faiss IVF, n_partition=64, None, L2   \n",
       "1         index: faiss IVF, n_partition=128, None, L2   \n",
       "2         index: faiss IVF, n_partition=256, None, L2   \n",
       "3         index: faiss IVF, n_partition=512, None, L2   \n",
       "4        index: faiss IVF, n_partition=1024, None, L2   \n",
       "..                                                ...   \n",
       "77  index: milvus HNSW, M=4, ef_construction=32, e...   \n",
       "78  index: milvus HNSW, M=8, ef_construction=32, e...   \n",
       "79  index: milvus HNSW, M=16, ef_construction=32, ...   \n",
       "80  index: milvus HNSW, M=32, ef_construction=32, ...   \n",
       "81  index: milvus HNSW, M=64, ef_construction=32, ...   \n",
       "\n",
       "                                      IndexParameters  timerMasterMean  \\\n",
       "0                       IVF, n_partition=64, None, L2        15.444423   \n",
       "1                      IVF, n_partition=128, None, L2        15.685309   \n",
       "2                      IVF, n_partition=256, None, L2        16.286192   \n",
       "3                      IVF, n_partition=512, None, L2        17.760620   \n",
       "4                     IVF, n_partition=1024, None, L2        21.122000   \n",
       "..                                                ...              ...   \n",
       "77  HNSW, M=4, ef_construction=32, ef_search=128, ...       175.487902   \n",
       "78  HNSW, M=8, ef_construction=32, ef_search=128, ...       188.595449   \n",
       "79  HNSW, M=16, ef_construction=32, ef_search=128,...       185.018279   \n",
       "80  HNSW, M=32, ef_construction=32, ef_search=128,...       184.374852   \n",
       "81  HNSW, M=64, ef_construction=32, ef_search=128,...       204.255687   \n",
       "\n",
       "    timerServerStartupMean  timerBuildIndexMean  SearchSpeedAverage  \\\n",
       "0                 8.572305             1.379493            5.551177   \n",
       "1                 8.574573             1.613909            2.867646   \n",
       "2                 8.582118             2.198738            1.676559   \n",
       "3                 8.699001             3.556263            0.882292   \n",
       "4                 8.560129             7.057724            0.495436   \n",
       "..                     ...                  ...                 ...   \n",
       "77               90.592472            79.810640            0.923670   \n",
       "78              101.816263            81.696179            1.022615   \n",
       "79               91.419886            88.515254            1.022268   \n",
       "80               91.502572            87.787748            1.046810   \n",
       "81               90.724932           108.446134            1.450116   \n",
       "\n",
       "    SearchSpeedP95  RecallMean  RecallAt1Mean  RecallAt10Mean  \\\n",
       "0         5.638892    0.999891         0.9984          1.0000   \n",
       "1         2.884004    0.998701         0.9982          0.9998   \n",
       "2         1.693282    0.995056         0.9977          0.9993   \n",
       "3         0.898318    0.979676         0.9941          0.9956   \n",
       "4         0.502291    0.954674         0.9888          0.9903   \n",
       "..             ...         ...            ...             ...   \n",
       "77        1.306474    0.789474         0.8471          0.8481   \n",
       "78        1.373695    0.938529         0.9743          0.9757   \n",
       "79        1.323690    0.963838         0.9879          0.9893   \n",
       "80        1.369574    0.967160         0.9900          0.9916   \n",
       "81        2.233286    0.989532         0.9970          0.9985   \n",
       "\n",
       "    RecallAt100Mean  RecallAt1000Mean  baselineMax  baselineMean  \\\n",
       "0            1.0000            1.0000       493.50        493.50   \n",
       "1            0.9998            0.9998       493.40        493.40   \n",
       "2            0.9993            0.9993       493.30        493.30   \n",
       "3            0.9956            0.9956       493.50        493.50   \n",
       "4            0.9903            0.9903       493.30        493.30   \n",
       "..              ...               ...          ...           ...   \n",
       "77           0.8481            0.8481       202.78        202.78   \n",
       "78           0.9757            0.9757       172.42        172.42   \n",
       "79           0.9893            0.9893       190.23        190.23   \n",
       "80           0.9916            0.9916       189.39        189.39   \n",
       "81           0.9985            0.9985       194.39        194.39   \n",
       "\n",
       "    ingestingMax  ingestingMean  benchmarkingMax  benchmarkingMean  \n",
       "0            NaN            NaN         1000.000        999.812195  \n",
       "1            NaN            NaN         1000.000       1000.000000  \n",
       "2            NaN            NaN         1001.000       1001.000000  \n",
       "3            NaN            NaN         1004.000       1003.058824  \n",
       "4            NaN            NaN         1006.000       1006.000000  \n",
       "..           ...            ...              ...               ...  \n",
       "77      1409.630     687.433333         1816.598       1343.205158  \n",
       "78      1405.248     672.139385         1914.848       1569.382100  \n",
       "79      1431.846     687.373955         1957.856       1597.418800  \n",
       "80      1413.632     663.274227         2089.726       1668.744400  \n",
       "81      1691.960     759.196528         3037.876       2533.120231  \n",
       "\n",
       "[65 rows x 20 columns]"
      ]
     },
     "execution_count": 243,
     "metadata": {},
     "output_type": "execute_result"
    }
   ],
   "source": [
    "df_results.query(\"RecallMean != -1\")  # [\"Index parameters.\"].str[-40:]"
   ]
  },
  {
   "cell_type": "code",
   "execution_count": 244,
   "metadata": {},
   "outputs": [],
   "source": [
    "df_results = df_results.query(\"Index != 'None'\")  # ignore failed runs\n",
    "df_results = df_results.query(\"RecallMean != -1.0\")  # ignore failed runs"
   ]
  },
  {
   "cell_type": "code",
   "execution_count": 245,
   "metadata": {},
   "outputs": [
    {
     "data": {
      "text/html": [
       "<div>\n",
       "<style scoped>\n",
       "    .dataframe tbody tr th:only-of-type {\n",
       "        vertical-align: middle;\n",
       "    }\n",
       "\n",
       "    .dataframe tbody tr th {\n",
       "        vertical-align: top;\n",
       "    }\n",
       "\n",
       "    .dataframe thead th {\n",
       "        text-align: right;\n",
       "    }\n",
       "</style>\n",
       "<table border=\"1\" class=\"dataframe\">\n",
       "  <thead>\n",
       "    <tr style=\"text-align: right;\">\n",
       "      <th></th>\n",
       "      <th>Unnamed: 0</th>\n",
       "      <th>Dataset</th>\n",
       "      <th>Index</th>\n",
       "      <th>IndexParameters</th>\n",
       "      <th>timerMasterMean</th>\n",
       "      <th>timerServerStartupMean</th>\n",
       "      <th>timerBuildIndexMean</th>\n",
       "      <th>SearchSpeedAverage</th>\n",
       "      <th>SearchSpeedP95</th>\n",
       "      <th>RecallMean</th>\n",
       "      <th>RecallAt1Mean</th>\n",
       "      <th>RecallAt10Mean</th>\n",
       "      <th>RecallAt100Mean</th>\n",
       "      <th>RecallAt1000Mean</th>\n",
       "      <th>baselineMax</th>\n",
       "      <th>baselineMean</th>\n",
       "      <th>ingestingMax</th>\n",
       "      <th>ingestingMean</th>\n",
       "      <th>benchmarkingMax</th>\n",
       "      <th>benchmarkingMean</th>\n",
       "    </tr>\n",
       "  </thead>\n",
       "  <tbody>\n",
       "  </tbody>\n",
       "</table>\n",
       "</div>"
      ],
      "text/plain": [
       "Empty DataFrame\n",
       "Columns: [Unnamed: 0, Dataset, Index, IndexParameters, timerMasterMean, timerServerStartupMean, timerBuildIndexMean, SearchSpeedAverage, SearchSpeedP95, RecallMean, RecallAt1Mean, RecallAt10Mean, RecallAt100Mean, RecallAt1000Mean, baselineMax, baselineMean, ingestingMax, ingestingMean, benchmarkingMax, benchmarkingMean]\n",
       "Index: []"
      ]
     },
     "execution_count": 245,
     "metadata": {},
     "output_type": "execute_result"
    }
   ],
   "source": [
    "# this should be empty\n",
    "df_results[df_results.benchmarkingMean.isna()]"
   ]
  },
  {
   "cell_type": "code",
   "execution_count": 246,
   "metadata": {},
   "outputs": [],
   "source": [
    "# extract index information\n",
    "df_results[\"IndexProvider\"] = df_results.Index.str[7:].str.split(\",\").str[0].str.split(\" \").str[0]\n",
    "df_results[\"IndexType\"] = df_results.Index.str[7:].str.split(\",\").str[0].str.split(\" \").str[1]"
   ]
  },
  {
   "cell_type": "code",
   "execution_count": 247,
   "metadata": {},
   "outputs": [
    {
     "data": {
      "text/plain": [
       "''"
      ]
     },
     "execution_count": 247,
     "metadata": {},
     "output_type": "execute_result"
    }
   ],
   "source": [
    "# extract search parameters from parameter string\n",
    "\n",
    "df_hnsw_parameters = (df_results.query(\"IndexType == 'HNSW'\")[\"IndexParameters\"]\n",
    "    .str.replace(\"=\", \", \")\n",
    "    .str.split(\", \", expand=True)[[2, 4, 6, 7, 8]]\n",
    ")\n",
    "df_hnsw_parameters.columns = [\"M\", \"EfConstruction\", \"EfSearch\", \"Compression\", \"Metric\"]\n",
    "\n",
    "df_ivf_parameters = pd.DataFrame()\n",
    "# TODO fix that this makes errors when no IVF are in benchmark\n",
    "df_ivf_parameters = (df_results.query(\"IndexType == 'IVF'\")[\"IndexParameters\"]\n",
    "    .str.replace(\",\", \"\")\n",
    "    .str.replace(\"=\", \" \")\n",
    "    .str.split(\" \", expand=True)[[2, 3, 4]]\n",
    ")\n",
    "df_ivf_parameters.columns = [\"NPartitions\", \"Compression\", \"Metric\"]\n",
    "\"\""
   ]
  },
  {
   "cell_type": "code",
   "execution_count": 248,
   "metadata": {},
   "outputs": [],
   "source": [
    "# add search parameters to df_results\n",
    "df_parameters = df_hnsw_parameters.combine_first(df_ivf_parameters)\n",
    "df_results = pd.concat((df_results, df_parameters), axis=1)"
   ]
  },
  {
   "cell_type": "code",
   "execution_count": 249,
   "metadata": {},
   "outputs": [
    {
     "data": {
      "text/plain": [
       "Index(['Unnamed: 0', 'Dataset', 'Index', 'IndexParameters', 'TimerMasterMean',\n",
       "       'TimerServerStartupMean', 'TimerBuildIndexMean', 'SearchSpeedAverage',\n",
       "       'SearchSpeedP95', 'RecallMean', 'RecallAt1Mean', 'RecallAt10Mean',\n",
       "       'RecallAt100Mean', 'RecallAt1000Mean', 'BaselineMax', 'BaselineMean',\n",
       "       'IngestingMax', 'IngestingMean', 'BenchmarkingMax', 'BenchmarkingMean',\n",
       "       'IndexProvider', 'IndexType', 'Compression', 'EfConstruction',\n",
       "       'EfSearch', 'M', 'Metric', 'NPartitions'],\n",
       "      dtype='object')"
      ]
     },
     "execution_count": 249,
     "metadata": {},
     "output_type": "execute_result"
    }
   ],
   "source": [
    "df_results.columns = [col[0].upper() + col[1:] for col in df_results.columns]\n",
    "df_results.columns"
   ]
  },
  {
   "cell_type": "markdown",
   "metadata": {},
   "source": [
    "## Plotting"
   ]
  },
  {
   "cell_type": "code",
   "execution_count": 250,
   "metadata": {},
   "outputs": [
    {
     "data": {
      "text/plain": [
       "(65, 28)"
      ]
     },
     "execution_count": 250,
     "metadata": {},
     "output_type": "execute_result"
    }
   ],
   "source": [
    "df_results.shape"
   ]
  },
  {
   "cell_type": "markdown",
   "metadata": {},
   "source": [
    "### Large plotly plot"
   ]
  },
  {
   "cell_type": "code",
   "execution_count": 251,
   "metadata": {},
   "outputs": [
    {
     "data": {
      "application/vnd.plotly.v1+json": {
       "config": {
        "plotlyServerURL": "https://plot.ly"
       },
       "data": [
        {
         "customdata": [
          [
           "index: faiss IVF, n_partition=64, None, L2",
           null,
           999.8121951219512,
           "sift-128-euclidean"
          ],
          [
           "index: faiss IVF, n_partition=128, None, L2",
           null,
           1000,
           "sift-128-euclidean"
          ],
          [
           "index: faiss IVF, n_partition=256, None, L2",
           null,
           1001,
           "sift-128-euclidean"
          ],
          [
           "index: faiss IVF, n_partition=512, None, L2",
           null,
           1003.0588235294116,
           "sift-128-euclidean"
          ],
          [
           "index: faiss IVF, n_partition=1024, None, L2",
           null,
           1006,
           "sift-128-euclidean"
          ],
          [
           "index: faiss IVF, n_partition=2048, None, L2",
           null,
           1006,
           "sift-128-euclidean"
          ],
          [
           "index: faiss IVF, n_partition=4096, None, L2",
           null,
           1007,
           "sift-128-euclidean"
          ],
          [
           "index: faiss IVF, n_partition=64, None, L2",
           null,
           999.9075,
           "sift-128-euclidean"
          ],
          [
           "index: faiss IVF, n_partition=128, None, L2",
           null,
           1000,
           "sift-128-euclidean"
          ],
          [
           "index: faiss IVF, n_partition=256, None, L2",
           null,
           1001,
           "sift-128-euclidean"
          ],
          [
           "index: faiss IVF, n_partition=512, None, L2",
           null,
           1003,
           "sift-128-euclidean"
          ],
          [
           "index: faiss IVF, n_partition=1024, None, L2",
           null,
           1006,
           "sift-128-euclidean"
          ],
          [
           "index: faiss IVF, n_partition=1024, None, L2",
           null,
           1006.0666666666668,
           "sift-128-euclidean"
          ],
          [
           "index: faiss IVF, n_partition=1024, None, L2",
           null,
           1006,
           "sift-128-euclidean"
          ],
          [
           "index: faiss IVF, n_partition=1024, None, L2",
           null,
           1006.1333333333332,
           "sift-128-euclidean"
          ],
          [
           "index: faiss IVF, n_partition=1024, None, L2",
           null,
           1006,
           "sift-128-euclidean"
          ],
          [
           "index: faiss IVF, n_partition=1024, None, L2",
           null,
           1006,
           "sift-128-euclidean"
          ],
          [
           "index: faiss HNSW, M=4, ef_construction=32, ef_search=128, None, L2",
           null,
           1038.336,
           "sift-128-euclidean"
          ],
          [
           "index: faiss HNSW, M=8, ef_construction=32, ef_search=128, None, L2",
           null,
           1066.2034285714287,
           "sift-128-euclidean"
          ],
          [
           "index: faiss HNSW, M=16, ef_construction=32, ef_search=128, None, L2",
           null,
           1127.1089230769228,
           "sift-128-euclidean"
          ],
          [
           "index: faiss HNSW, M=32, ef_construction=32, ef_search=128, None, L2",
           null,
           1249.353142857143,
           "sift-128-euclidean"
          ],
          [
           "index: faiss HNSW, M=64, ef_construction=32, ef_search=128, None, L2",
           null,
           1493.7234285714285,
           "sift-128-euclidean"
          ],
          [
           "index: faiss HNSW, M=32, ef_construction=8, ef_search=32, None, L2",
           null,
           1249.516307692308,
           "sift-128-euclidean"
          ],
          [
           "index: faiss HNSW, M=32, ef_construction=16, ef_search=32, None, L2",
           null,
           1248.8861538461538,
           "sift-128-euclidean"
          ],
          [
           "index: faiss HNSW, M=32, ef_construction=32, ef_search=32, None, L2",
           null,
           1249.2800000000002,
           "sift-128-euclidean"
          ],
          [
           "index: faiss HNSW, M=32, ef_construction=64, ef_search=32, None, L2",
           null,
           1249.1337142857144,
           "sift-128-euclidean"
          ],
          [
           "index: faiss HNSW, M=32, ef_construction=32, ef_search=8, None, L2",
           null,
           1249.0605714285716,
           "sift-128-euclidean"
          ],
          [
           "index: faiss HNSW, M=32, ef_construction=32, ef_search=16, None, L2",
           null,
           1249.437538461539,
           "sift-128-euclidean"
          ],
          [
           "index: faiss HNSW, M=32, ef_construction=32, ef_search=32, None, L2",
           null,
           1249.792,
           "sift-128-euclidean"
          ],
          [
           "index: faiss HNSW, M=32, ef_construction=32, ef_search=64, None, L2",
           null,
           1249.0436923076927,
           "sift-128-euclidean"
          ]
         ],
         "hovertemplate": "IndexProvider=faiss<br>Dataset=%{customdata[3]}<br>RecallMean=%{x}<br>SearchSpeedAverage=%{y}<br>BenchmarkingMean=%{customdata[2]}<br>Index=%{customdata[0]}<br>IngestingMax=%{customdata[1]}<extra></extra>",
         "legendgroup": "faiss, sift-128-euclidean",
         "marker": {
          "color": "#636efa",
          "size": [
           999.8121951219512,
           1000,
           1001,
           1003.0588235294116,
           1006,
           1006,
           1007,
           999.9075,
           1000,
           1001,
           1003,
           1006,
           1006.0666666666668,
           1006,
           1006.1333333333332,
           1006,
           1006,
           1038.336,
           1066.2034285714287,
           1127.1089230769228,
           1249.353142857143,
           1493.7234285714285,
           1249.516307692308,
           1248.8861538461538,
           1249.2800000000002,
           1249.1337142857144,
           1249.0605714285716,
           1249.437538461539,
           1249.792,
           1249.0436923076927
          ],
          "sizemode": "area",
          "sizeref": 6.332800576923078,
          "symbol": "circle"
         },
         "mode": "markers",
         "name": "faiss, sift-128-euclidean",
         "orientation": "v",
         "showlegend": true,
         "type": "scatter",
         "x": [
          0.999891,
          0.9987010000000002,
          0.995056,
          0.979676,
          0.954674,
          0.916098,
          0.862129,
          0.999891,
          0.9987010000000002,
          0.995056,
          0.979676,
          0.954674,
          0.954674,
          0.954674,
          0.954674,
          0.954674,
          0.954674,
          0.4511529999999999,
          0.7622439999999999,
          0.793136,
          0.9292430000000002,
          0.936988,
          0.331151,
          0.560553,
          0.7908109999999999,
          0.722916,
          0.5249280000000001,
          0.662133,
          0.791053,
          0.8830440000000002
         ],
         "xaxis": "x",
         "y": [
          5.551176502276212,
          2.8676457301480696,
          1.6765594156924637,
          0.8822918253950774,
          0.4954359418712556,
          0.2774939103983342,
          0.1686385741224512,
          5.484601624379866,
          2.817154288617894,
          1.6381493104621767,
          0.8596295063849538,
          0.4828412900911644,
          0.4844149155309424,
          0.4867137375986203,
          0.4857817105250433,
          0.4869662443175911,
          0.4884900826495141,
          0.0960711134131997,
          0.1175349216675385,
          0.1318374946480617,
          0.2114642679924145,
          0.2580522651784122,
          0.0802465430926531,
          0.0916492277057841,
          0.1030066754901781,
          0.088462966424413,
          0.0710326910717412,
          0.0834212895249948,
          0.1048738326644525,
          0.1428910297108814
         ],
         "yaxis": "y"
        },
        {
         "customdata": [
          [
           "index: qdrant HNSW, M=4, ef_construction=32, ef_search=128, None, L2",
           615.2,
           1209.4610285714286,
           "sift-128-euclidean"
          ],
          [
           "index: qdrant HNSW, M=8, ef_construction=32, ef_search=128, None, L2",
           673.8,
           1168.627047619048,
           "sift-128-euclidean"
          ],
          [
           "index: qdrant HNSW, M=16, ef_construction=32, ef_search=128, None, L2",
           651.3,
           1208.7486511627906,
           "sift-128-euclidean"
          ],
          [
           "index: qdrant HNSW, M=32, ef_construction=32, ef_search=128, None, L2",
           625.6,
           1229.1025454545454,
           "sift-128-euclidean"
          ],
          [
           "index: qdrant HNSW, M=64, ef_construction=32, ef_search=128, None, L2",
           638.4,
           1314.7207441860469,
           "sift-128-euclidean"
          ],
          [
           "index: qdrant HNSW, M=32, ef_construction=8, ef_search=32, None, L2",
           672.5,
           1095.0465454545454,
           "sift-128-euclidean"
          ],
          [
           "index: qdrant HNSW, M=32, ef_construction=16, ef_search=32, None, L2",
           626.6,
           1117.4012121212118,
           "sift-128-euclidean"
          ],
          [
           "index: qdrant HNSW, M=32, ef_construction=32, ef_search=32, None, L2",
           640.7,
           1177.014857142857,
           "sift-128-euclidean"
          ],
          [
           "index: qdrant HNSW, M=32, ef_construction=64, ef_search=32, None, L2",
           628.2,
           1232.3047499999998,
           "sift-128-euclidean"
          ],
          [
           "index: qdrant HNSW, M=32, ef_construction=32, ef_search=8, None, L2",
           656.5,
           1144.23843902439,
           "sift-128-euclidean"
          ],
          [
           "index: qdrant HNSW, M=32, ef_construction=32, ef_search=16, None, L2",
           644.8,
           1197.3253333333334,
           "sift-128-euclidean"
          ],
          [
           "index: qdrant HNSW, M=32, ef_construction=32, ef_search=32, None, L2",
           661.3,
           1171.0057560975608,
           "sift-128-euclidean"
          ],
          [
           "index: qdrant HNSW, M=32, ef_construction=32, ef_search=64, None, L2",
           654.4,
           1184.4584186046511,
           "sift-128-euclidean"
          ]
         ],
         "hovertemplate": "IndexProvider=qdrant<br>Dataset=%{customdata[3]}<br>RecallMean=%{x}<br>SearchSpeedAverage=%{y}<br>BenchmarkingMean=%{customdata[2]}<br>Index=%{customdata[0]}<br>IngestingMax=%{customdata[1]}<extra></extra>",
         "legendgroup": "qdrant, sift-128-euclidean",
         "marker": {
          "color": "#EF553B",
          "size": [
           1209.4610285714286,
           1168.627047619048,
           1208.7486511627906,
           1229.1025454545454,
           1314.7207441860469,
           1095.0465454545454,
           1117.4012121212118,
           1177.014857142857,
           1232.3047499999998,
           1144.23843902439,
           1197.3253333333334,
           1171.0057560975608,
           1184.4584186046511
          ],
          "sizemode": "area",
          "sizeref": 6.332800576923078,
          "symbol": "circle"
         },
         "mode": "markers",
         "name": "qdrant, sift-128-euclidean",
         "orientation": "v",
         "showlegend": true,
         "type": "scatter",
         "x": [
          0.810586,
          0.944481,
          0.965697,
          0.965138,
          0.937714,
          0.5224749999999999,
          0.792084,
          0.90686,
          0.959156,
          0.905743,
          0.904948,
          0.9002970000000001,
          0.925608
         ],
         "xaxis": "x",
         "y": [
          4.373466515773908,
          5.546062789973803,
          5.630343337869272,
          5.782740952237509,
          5.798158084996976,
          3.792617167392746,
          3.8868467862484977,
          5.3685825656866655,
          9.277747473260389,
          5.482019109278918,
          5.330064516328275,
          5.420762926363386,
          5.598698599892669
         ],
         "yaxis": "y"
        },
        {
         "customdata": [
          [
           "index: milvus IVF, n_partition=64, None, L2",
           1119.86,
           1142.5223846153845,
           "sift-128-euclidean"
          ],
          [
           "index: milvus IVF, n_partition=128, None, L2",
           1475.27,
           1221.3512307692308,
           "sift-128-euclidean"
          ],
          [
           "index: milvus IVF, n_partition=256, None, L2",
           829.36,
           1401.7116428571428,
           "sift-128-euclidean"
          ],
          [
           "index: milvus IVF, n_partition=512, None, L2",
           996.38,
           1846.3955483870964,
           "sift-128-euclidean"
          ],
          [
           "index: milvus IVF, n_partition=1024, None, L2",
           1909.246,
           1825.6995,
           "sift-128-euclidean"
          ],
          [
           "index: milvus IVF, n_partition=2048, None, L2",
           2651.688,
           1654.207125,
           "sift-128-euclidean"
          ],
          [
           "index: milvus IVF, n_partition=4096, None, L2",
           2853.702,
           1272.864,
           "sift-128-euclidean"
          ],
          [
           "index: milvus IVF, n_partition=64, None, L2",
           1735.358,
           1253.2879999999998,
           "sift-128-euclidean"
          ],
          [
           "index: milvus IVF, n_partition=128, None, L2",
           1483.632,
           1630.3922,
           "sift-128-euclidean"
          ],
          [
           "index: milvus IVF, n_partition=256, None, L2",
           1459.098,
           1227.5336842105262,
           "sift-128-euclidean"
          ],
          [
           "index: milvus IVF, n_partition=512, None, L2",
           1371.684,
           1227.0324444444443,
           "sift-128-euclidean"
          ],
          [
           "index: milvus IVF, n_partition=1024, None, L2",
           1502.274,
           1871.7586666666664,
           "sift-128-euclidean"
          ],
          [
           "index: milvus IVF, n_partition=1024, None, L2",
           1915.402,
           1802.10336,
           "sift-128-euclidean"
          ],
          [
           "index: milvus IVF, n_partition=1024, None, L2",
           1372.194,
           1765.295,
           "sift-128-euclidean"
          ],
          [
           "index: milvus IVF, n_partition=1024, None, L2",
           2614.494,
           1603.9353846153847,
           "sift-128-euclidean"
          ],
          [
           "index: milvus IVF, n_partition=1024, None, L2",
           1590.578,
           1728.4779310344827,
           "sift-128-euclidean"
          ],
          [
           "index: milvus IVF, n_partition=1024, None, L2",
           1896.644,
           1843.9835609756096,
           "sift-128-euclidean"
          ],
          [
           "index: milvus HNSW, M=4, ef_construction=32, ef_search=128, None, L2",
           1409.63,
           1343.2051578947369,
           "sift-128-euclidean"
          ],
          [
           "index: milvus HNSW, M=8, ef_construction=32, ef_search=128, None, L2",
           1405.248,
           1569.3821000000005,
           "sift-128-euclidean"
          ],
          [
           "index: milvus HNSW, M=16, ef_construction=32, ef_search=128, None, L2",
           1431.846,
           1597.4188,
           "sift-128-euclidean"
          ],
          [
           "index: milvus HNSW, M=32, ef_construction=32, ef_search=128, None, L2",
           1413.632,
           1668.7444,
           "sift-128-euclidean"
          ],
          [
           "index: milvus HNSW, M=64, ef_construction=32, ef_search=128, None, L2",
           1691.96,
           2533.120230769231,
           "sift-128-euclidean"
          ]
         ],
         "hovertemplate": "IndexProvider=milvus<br>Dataset=%{customdata[3]}<br>RecallMean=%{x}<br>SearchSpeedAverage=%{y}<br>BenchmarkingMean=%{customdata[2]}<br>Index=%{customdata[0]}<br>IngestingMax=%{customdata[1]}<extra></extra>",
         "legendgroup": "milvus, sift-128-euclidean",
         "marker": {
          "color": "#00cc96",
          "size": [
           1142.5223846153845,
           1221.3512307692308,
           1401.7116428571428,
           1846.3955483870964,
           1825.6995,
           1654.207125,
           1272.864,
           1253.2879999999998,
           1630.3922,
           1227.5336842105262,
           1227.0324444444443,
           1871.7586666666664,
           1802.10336,
           1765.295,
           1603.9353846153847,
           1728.4779310344827,
           1843.9835609756096,
           1343.2051578947369,
           1569.3821000000005,
           1597.4188,
           1668.7444,
           2533.120230769231
          ],
          "sizemode": "area",
          "sizeref": 6.332800576923078,
          "symbol": "circle"
         },
         "mode": "markers",
         "name": "milvus, sift-128-euclidean",
         "orientation": "v",
         "showlegend": true,
         "type": "scatter",
         "x": [
          0.98183,
          0.9909870000000002,
          0.9956550000000002,
          0.997885,
          0.998982,
          0.999472,
          0.999738,
          0.5727070000000001,
          0.496693,
          0.4270349999999999,
          0.365375,
          0.314229,
          0.3136710000000001,
          0.630547,
          0.893298,
          0.9911120000000002,
          0.9998960000000002,
          0.789474,
          0.9385290000000002,
          0.963838,
          0.96716,
          0.989532
         ],
         "xaxis": "x",
         "y": [
          2.3474386831978338,
          2.377785688918084,
          2.4257242204854266,
          2.618585297605023,
          2.8984016169561078,
          2.928263768972829,
          4.974531124625355,
          0.9552195499651134,
          0.926582378707826,
          0.8937856015982106,
          0.8014333583414555,
          1.0163617696380245,
          1.0930422391742467,
          1.0514266334474087,
          1.257183966273442,
          2.162138915527612,
          4.771788188442588,
          0.9236699264496564,
          1.0226154054282233,
          1.0222677037818355,
          1.0468098508194088,
          1.4501158218597994
         ],
         "yaxis": "y"
        }
       ],
       "layout": {
        "legend": {
         "itemsizing": "constant",
         "title": {
          "text": "IndexProvider, Dataset"
         },
         "tracegroupgap": 0
        },
        "margin": {
         "t": 60
        },
        "template": {
         "data": {
          "bar": [
           {
            "error_x": {
             "color": "#2a3f5f"
            },
            "error_y": {
             "color": "#2a3f5f"
            },
            "marker": {
             "line": {
              "color": "#E5ECF6",
              "width": 0.5
             },
             "pattern": {
              "fillmode": "overlay",
              "size": 10,
              "solidity": 0.2
             }
            },
            "type": "bar"
           }
          ],
          "barpolar": [
           {
            "marker": {
             "line": {
              "color": "#E5ECF6",
              "width": 0.5
             },
             "pattern": {
              "fillmode": "overlay",
              "size": 10,
              "solidity": 0.2
             }
            },
            "type": "barpolar"
           }
          ],
          "carpet": [
           {
            "aaxis": {
             "endlinecolor": "#2a3f5f",
             "gridcolor": "white",
             "linecolor": "white",
             "minorgridcolor": "white",
             "startlinecolor": "#2a3f5f"
            },
            "baxis": {
             "endlinecolor": "#2a3f5f",
             "gridcolor": "white",
             "linecolor": "white",
             "minorgridcolor": "white",
             "startlinecolor": "#2a3f5f"
            },
            "type": "carpet"
           }
          ],
          "choropleth": [
           {
            "colorbar": {
             "outlinewidth": 0,
             "ticks": ""
            },
            "type": "choropleth"
           }
          ],
          "contour": [
           {
            "colorbar": {
             "outlinewidth": 0,
             "ticks": ""
            },
            "colorscale": [
             [
              0,
              "#0d0887"
             ],
             [
              0.1111111111111111,
              "#46039f"
             ],
             [
              0.2222222222222222,
              "#7201a8"
             ],
             [
              0.3333333333333333,
              "#9c179e"
             ],
             [
              0.4444444444444444,
              "#bd3786"
             ],
             [
              0.5555555555555556,
              "#d8576b"
             ],
             [
              0.6666666666666666,
              "#ed7953"
             ],
             [
              0.7777777777777778,
              "#fb9f3a"
             ],
             [
              0.8888888888888888,
              "#fdca26"
             ],
             [
              1,
              "#f0f921"
             ]
            ],
            "type": "contour"
           }
          ],
          "contourcarpet": [
           {
            "colorbar": {
             "outlinewidth": 0,
             "ticks": ""
            },
            "type": "contourcarpet"
           }
          ],
          "heatmap": [
           {
            "colorbar": {
             "outlinewidth": 0,
             "ticks": ""
            },
            "colorscale": [
             [
              0,
              "#0d0887"
             ],
             [
              0.1111111111111111,
              "#46039f"
             ],
             [
              0.2222222222222222,
              "#7201a8"
             ],
             [
              0.3333333333333333,
              "#9c179e"
             ],
             [
              0.4444444444444444,
              "#bd3786"
             ],
             [
              0.5555555555555556,
              "#d8576b"
             ],
             [
              0.6666666666666666,
              "#ed7953"
             ],
             [
              0.7777777777777778,
              "#fb9f3a"
             ],
             [
              0.8888888888888888,
              "#fdca26"
             ],
             [
              1,
              "#f0f921"
             ]
            ],
            "type": "heatmap"
           }
          ],
          "heatmapgl": [
           {
            "colorbar": {
             "outlinewidth": 0,
             "ticks": ""
            },
            "colorscale": [
             [
              0,
              "#0d0887"
             ],
             [
              0.1111111111111111,
              "#46039f"
             ],
             [
              0.2222222222222222,
              "#7201a8"
             ],
             [
              0.3333333333333333,
              "#9c179e"
             ],
             [
              0.4444444444444444,
              "#bd3786"
             ],
             [
              0.5555555555555556,
              "#d8576b"
             ],
             [
              0.6666666666666666,
              "#ed7953"
             ],
             [
              0.7777777777777778,
              "#fb9f3a"
             ],
             [
              0.8888888888888888,
              "#fdca26"
             ],
             [
              1,
              "#f0f921"
             ]
            ],
            "type": "heatmapgl"
           }
          ],
          "histogram": [
           {
            "marker": {
             "pattern": {
              "fillmode": "overlay",
              "size": 10,
              "solidity": 0.2
             }
            },
            "type": "histogram"
           }
          ],
          "histogram2d": [
           {
            "colorbar": {
             "outlinewidth": 0,
             "ticks": ""
            },
            "colorscale": [
             [
              0,
              "#0d0887"
             ],
             [
              0.1111111111111111,
              "#46039f"
             ],
             [
              0.2222222222222222,
              "#7201a8"
             ],
             [
              0.3333333333333333,
              "#9c179e"
             ],
             [
              0.4444444444444444,
              "#bd3786"
             ],
             [
              0.5555555555555556,
              "#d8576b"
             ],
             [
              0.6666666666666666,
              "#ed7953"
             ],
             [
              0.7777777777777778,
              "#fb9f3a"
             ],
             [
              0.8888888888888888,
              "#fdca26"
             ],
             [
              1,
              "#f0f921"
             ]
            ],
            "type": "histogram2d"
           }
          ],
          "histogram2dcontour": [
           {
            "colorbar": {
             "outlinewidth": 0,
             "ticks": ""
            },
            "colorscale": [
             [
              0,
              "#0d0887"
             ],
             [
              0.1111111111111111,
              "#46039f"
             ],
             [
              0.2222222222222222,
              "#7201a8"
             ],
             [
              0.3333333333333333,
              "#9c179e"
             ],
             [
              0.4444444444444444,
              "#bd3786"
             ],
             [
              0.5555555555555556,
              "#d8576b"
             ],
             [
              0.6666666666666666,
              "#ed7953"
             ],
             [
              0.7777777777777778,
              "#fb9f3a"
             ],
             [
              0.8888888888888888,
              "#fdca26"
             ],
             [
              1,
              "#f0f921"
             ]
            ],
            "type": "histogram2dcontour"
           }
          ],
          "mesh3d": [
           {
            "colorbar": {
             "outlinewidth": 0,
             "ticks": ""
            },
            "type": "mesh3d"
           }
          ],
          "parcoords": [
           {
            "line": {
             "colorbar": {
              "outlinewidth": 0,
              "ticks": ""
             }
            },
            "type": "parcoords"
           }
          ],
          "pie": [
           {
            "automargin": true,
            "type": "pie"
           }
          ],
          "scatter": [
           {
            "fillpattern": {
             "fillmode": "overlay",
             "size": 10,
             "solidity": 0.2
            },
            "type": "scatter"
           }
          ],
          "scatter3d": [
           {
            "line": {
             "colorbar": {
              "outlinewidth": 0,
              "ticks": ""
             }
            },
            "marker": {
             "colorbar": {
              "outlinewidth": 0,
              "ticks": ""
             }
            },
            "type": "scatter3d"
           }
          ],
          "scattercarpet": [
           {
            "marker": {
             "colorbar": {
              "outlinewidth": 0,
              "ticks": ""
             }
            },
            "type": "scattercarpet"
           }
          ],
          "scattergeo": [
           {
            "marker": {
             "colorbar": {
              "outlinewidth": 0,
              "ticks": ""
             }
            },
            "type": "scattergeo"
           }
          ],
          "scattergl": [
           {
            "marker": {
             "colorbar": {
              "outlinewidth": 0,
              "ticks": ""
             }
            },
            "type": "scattergl"
           }
          ],
          "scattermapbox": [
           {
            "marker": {
             "colorbar": {
              "outlinewidth": 0,
              "ticks": ""
             }
            },
            "type": "scattermapbox"
           }
          ],
          "scatterpolar": [
           {
            "marker": {
             "colorbar": {
              "outlinewidth": 0,
              "ticks": ""
             }
            },
            "type": "scatterpolar"
           }
          ],
          "scatterpolargl": [
           {
            "marker": {
             "colorbar": {
              "outlinewidth": 0,
              "ticks": ""
             }
            },
            "type": "scatterpolargl"
           }
          ],
          "scatterternary": [
           {
            "marker": {
             "colorbar": {
              "outlinewidth": 0,
              "ticks": ""
             }
            },
            "type": "scatterternary"
           }
          ],
          "surface": [
           {
            "colorbar": {
             "outlinewidth": 0,
             "ticks": ""
            },
            "colorscale": [
             [
              0,
              "#0d0887"
             ],
             [
              0.1111111111111111,
              "#46039f"
             ],
             [
              0.2222222222222222,
              "#7201a8"
             ],
             [
              0.3333333333333333,
              "#9c179e"
             ],
             [
              0.4444444444444444,
              "#bd3786"
             ],
             [
              0.5555555555555556,
              "#d8576b"
             ],
             [
              0.6666666666666666,
              "#ed7953"
             ],
             [
              0.7777777777777778,
              "#fb9f3a"
             ],
             [
              0.8888888888888888,
              "#fdca26"
             ],
             [
              1,
              "#f0f921"
             ]
            ],
            "type": "surface"
           }
          ],
          "table": [
           {
            "cells": {
             "fill": {
              "color": "#EBF0F8"
             },
             "line": {
              "color": "white"
             }
            },
            "header": {
             "fill": {
              "color": "#C8D4E3"
             },
             "line": {
              "color": "white"
             }
            },
            "type": "table"
           }
          ]
         },
         "layout": {
          "annotationdefaults": {
           "arrowcolor": "#2a3f5f",
           "arrowhead": 0,
           "arrowwidth": 1
          },
          "autotypenumbers": "strict",
          "coloraxis": {
           "colorbar": {
            "outlinewidth": 0,
            "ticks": ""
           }
          },
          "colorscale": {
           "diverging": [
            [
             0,
             "#8e0152"
            ],
            [
             0.1,
             "#c51b7d"
            ],
            [
             0.2,
             "#de77ae"
            ],
            [
             0.3,
             "#f1b6da"
            ],
            [
             0.4,
             "#fde0ef"
            ],
            [
             0.5,
             "#f7f7f7"
            ],
            [
             0.6,
             "#e6f5d0"
            ],
            [
             0.7,
             "#b8e186"
            ],
            [
             0.8,
             "#7fbc41"
            ],
            [
             0.9,
             "#4d9221"
            ],
            [
             1,
             "#276419"
            ]
           ],
           "sequential": [
            [
             0,
             "#0d0887"
            ],
            [
             0.1111111111111111,
             "#46039f"
            ],
            [
             0.2222222222222222,
             "#7201a8"
            ],
            [
             0.3333333333333333,
             "#9c179e"
            ],
            [
             0.4444444444444444,
             "#bd3786"
            ],
            [
             0.5555555555555556,
             "#d8576b"
            ],
            [
             0.6666666666666666,
             "#ed7953"
            ],
            [
             0.7777777777777778,
             "#fb9f3a"
            ],
            [
             0.8888888888888888,
             "#fdca26"
            ],
            [
             1,
             "#f0f921"
            ]
           ],
           "sequentialminus": [
            [
             0,
             "#0d0887"
            ],
            [
             0.1111111111111111,
             "#46039f"
            ],
            [
             0.2222222222222222,
             "#7201a8"
            ],
            [
             0.3333333333333333,
             "#9c179e"
            ],
            [
             0.4444444444444444,
             "#bd3786"
            ],
            [
             0.5555555555555556,
             "#d8576b"
            ],
            [
             0.6666666666666666,
             "#ed7953"
            ],
            [
             0.7777777777777778,
             "#fb9f3a"
            ],
            [
             0.8888888888888888,
             "#fdca26"
            ],
            [
             1,
             "#f0f921"
            ]
           ]
          },
          "colorway": [
           "#636efa",
           "#EF553B",
           "#00cc96",
           "#ab63fa",
           "#FFA15A",
           "#19d3f3",
           "#FF6692",
           "#B6E880",
           "#FF97FF",
           "#FECB52"
          ],
          "font": {
           "color": "#2a3f5f"
          },
          "geo": {
           "bgcolor": "white",
           "lakecolor": "white",
           "landcolor": "#E5ECF6",
           "showlakes": true,
           "showland": true,
           "subunitcolor": "white"
          },
          "hoverlabel": {
           "align": "left"
          },
          "hovermode": "closest",
          "mapbox": {
           "style": "light"
          },
          "paper_bgcolor": "white",
          "plot_bgcolor": "#E5ECF6",
          "polar": {
           "angularaxis": {
            "gridcolor": "white",
            "linecolor": "white",
            "ticks": ""
           },
           "bgcolor": "#E5ECF6",
           "radialaxis": {
            "gridcolor": "white",
            "linecolor": "white",
            "ticks": ""
           }
          },
          "scene": {
           "xaxis": {
            "backgroundcolor": "#E5ECF6",
            "gridcolor": "white",
            "gridwidth": 2,
            "linecolor": "white",
            "showbackground": true,
            "ticks": "",
            "zerolinecolor": "white"
           },
           "yaxis": {
            "backgroundcolor": "#E5ECF6",
            "gridcolor": "white",
            "gridwidth": 2,
            "linecolor": "white",
            "showbackground": true,
            "ticks": "",
            "zerolinecolor": "white"
           },
           "zaxis": {
            "backgroundcolor": "#E5ECF6",
            "gridcolor": "white",
            "gridwidth": 2,
            "linecolor": "white",
            "showbackground": true,
            "ticks": "",
            "zerolinecolor": "white"
           }
          },
          "shapedefaults": {
           "line": {
            "color": "#2a3f5f"
           }
          },
          "ternary": {
           "aaxis": {
            "gridcolor": "white",
            "linecolor": "white",
            "ticks": ""
           },
           "baxis": {
            "gridcolor": "white",
            "linecolor": "white",
            "ticks": ""
           },
           "bgcolor": "#E5ECF6",
           "caxis": {
            "gridcolor": "white",
            "linecolor": "white",
            "ticks": ""
           }
          },
          "title": {
           "x": 0.05
          },
          "xaxis": {
           "automargin": true,
           "gridcolor": "white",
           "linecolor": "white",
           "ticks": "",
           "title": {
            "standoff": 15
           },
           "zerolinecolor": "white",
           "zerolinewidth": 2
          },
          "yaxis": {
           "automargin": true,
           "gridcolor": "white",
           "linecolor": "white",
           "ticks": "",
           "title": {
            "standoff": 15
           },
           "zerolinecolor": "white",
           "zerolinewidth": 2
          }
         }
        },
        "xaxis": {
         "anchor": "y",
         "domain": [
          0,
          1
         ],
         "title": {
          "text": "RecallMean"
         }
        },
        "yaxis": {
         "anchor": "x",
         "domain": [
          0,
          1
         ],
         "title": {
          "text": "SearchSpeedAverage"
         }
        }
       }
      }
     },
     "metadata": {},
     "output_type": "display_data"
    }
   ],
   "source": [
    "import plotly.express as px\n",
    "import plotly.graph_objects as go\n",
    "\n",
    "# Your existing DataFrame and plot\n",
    "fig = px.scatter(\n",
    "    df_results,\n",
    "    x=\"RecallMean\",\n",
    "    y=\"SearchSpeedAverage\",\n",
    "    hover_data=[\"Index\",\"IngestingMax\",\"BenchmarkingMean\",\"Dataset\"],\n",
    "    color=\"IndexProvider\",\n",
    "    size=df_results[\"BenchmarkingMean\"],\n",
    "    symbol=\"Dataset\"\n",
    ")\n",
    "\n",
    "# # Adding a similar scatter plot but with semi-transparency and different size mapping\n",
    "# fig.add_trace(\n",
    "#     go.Scatter(\n",
    "#         x=df_results[\"Recall avg\"],\n",
    "#         y=df_results[\"Search speed avg. (ms)\"],\n",
    "#         mode=\"markers\",\n",
    "#         marker=dict(\n",
    "#             size=df_results[\"ingesting_max\"] / 25,  # Size based on 'ingesting_max' column\n",
    "#             opacity=0.1,  # Semi-transparent markers\n",
    "#             # color=fig.data[0].marker.color,  # Use the same color as the first plot\n",
    "#             # line=dict(color=\"MediumPurple\", width=2),\n",
    "#         ),\n",
    "#         hoverinfo=\"text\",  # You can customize hover info as needed\n",
    "#         name=\"Ingesting max\",\n",
    "#     )\n",
    "# )\n",
    "\n",
    "fig.show()"
   ]
  },
  {
   "cell_type": "code",
   "execution_count": 252,
   "metadata": {},
   "outputs": [
    {
     "data": {
      "text/html": [
       "<div>\n",
       "<style scoped>\n",
       "    .dataframe tbody tr th:only-of-type {\n",
       "        vertical-align: middle;\n",
       "    }\n",
       "\n",
       "    .dataframe tbody tr th {\n",
       "        vertical-align: top;\n",
       "    }\n",
       "\n",
       "    .dataframe thead th {\n",
       "        text-align: right;\n",
       "    }\n",
       "</style>\n",
       "<table border=\"1\" class=\"dataframe\">\n",
       "  <thead>\n",
       "    <tr style=\"text-align: right;\">\n",
       "      <th></th>\n",
       "      <th>Unnamed: 0</th>\n",
       "      <th>Dataset</th>\n",
       "      <th>Index</th>\n",
       "      <th>IndexParameters</th>\n",
       "      <th>TimerMasterMean</th>\n",
       "      <th>TimerServerStartupMean</th>\n",
       "      <th>TimerBuildIndexMean</th>\n",
       "      <th>SearchSpeedAverage</th>\n",
       "      <th>SearchSpeedP95</th>\n",
       "      <th>RecallMean</th>\n",
       "      <th>...</th>\n",
       "      <th>BenchmarkingMax</th>\n",
       "      <th>BenchmarkingMean</th>\n",
       "      <th>IndexProvider</th>\n",
       "      <th>IndexType</th>\n",
       "      <th>Compression</th>\n",
       "      <th>EfConstruction</th>\n",
       "      <th>EfSearch</th>\n",
       "      <th>M</th>\n",
       "      <th>Metric</th>\n",
       "      <th>NPartitions</th>\n",
       "    </tr>\n",
       "  </thead>\n",
       "  <tbody>\n",
       "  </tbody>\n",
       "</table>\n",
       "<p>0 rows × 28 columns</p>\n",
       "</div>"
      ],
      "text/plain": [
       "Empty DataFrame\n",
       "Columns: [Unnamed: 0, Dataset, Index, IndexParameters, TimerMasterMean, TimerServerStartupMean, TimerBuildIndexMean, SearchSpeedAverage, SearchSpeedP95, RecallMean, RecallAt1Mean, RecallAt10Mean, RecallAt100Mean, RecallAt1000Mean, BaselineMax, BaselineMean, IngestingMax, IngestingMean, BenchmarkingMax, BenchmarkingMean, IndexProvider, IndexType, Compression, EfConstruction, EfSearch, M, Metric, NPartitions]\n",
       "Index: []\n",
       "\n",
       "[0 rows x 28 columns]"
      ]
     },
     "execution_count": 252,
     "metadata": {},
     "output_type": "execute_result"
    }
   ],
   "source": [
    "df_results.query(\"Dataset == 'gist-960-euclidean'\")"
   ]
  },
  {
   "cell_type": "markdown",
   "metadata": {},
   "source": [
    "### Compression plot"
   ]
  },
  {
   "cell_type": "code",
   "execution_count": 253,
   "metadata": {},
   "outputs": [
    {
     "data": {
      "image/png": "[encoded data removed]",
      "text/plain": [
       "<Figure size 640x480 with 1 Axes>"
      ]
     },
     "metadata": {},
     "output_type": "display_data"
    }
   ],
   "source": [
    "df_plot = df_results.query(\"Compression == 'SQ8'\")\n",
    "plt.scatter(df_plot.NPartitions, df_plot.SearchSpeedAverage/10, label=\"SQ8\", c=\"red\")\n",
    "df_plot = df_results.query(\"Compression == 'PQ8'\")\n",
    "plt.scatter(df_plot.NPartitions, df_plot.SearchSpeedAverage / 10, label=\"PQ8\")\n",
    "plt.title(\"Faiss IVF SQ8 - latency vs n partitions\")\n",
    "plt.xlabel(\"n partitions\")\n",
    "plt.ylabel(\"Mean search latency (ms)\")\n",
    "plt.legend()\n",
    "plt.show()"
   ]
  },
  {
   "cell_type": "markdown",
   "metadata": {},
   "source": [
    "### n partitions plot"
   ]
  },
  {
   "cell_type": "code",
   "execution_count": 254,
   "metadata": {},
   "outputs": [
    {
     "data": {
      "image/png": "[encoded data removed]",
      "text/plain": [
       "<Figure size 600x400 with 1 Axes>"
      ]
     },
     "metadata": {},
     "output_type": "display_data"
    }
   ],
   "source": [
    "import seaborn as sns\n",
    "\n",
    "plt.figure(figsize=(6,4))\n",
    "sns.scatterplot(data=df_results, x=\"NPartitions\", y=\"SearchSpeedAverage\", hue=\"BenchmarkingMean\", style=\"Compression\", palette=\"flare\", s=70)\n",
    "plt.title(\"Faiss IVF SQ8 - latency vs n partitions\")\n",
    "plt.xlabel(\"n partitions\")\n",
    "plt.ylabel(\"Mean search latency (ms)\")\n",
    "plt.show()"
   ]
  },
  {
   "cell_type": "code",
   "execution_count": 255,
   "metadata": {},
   "outputs": [
    {
     "data": {
      "text/plain": [
       "Index(['Unnamed: 0', 'Dataset', 'Index', 'IndexParameters', 'TimerMasterMean',\n",
       "       'TimerServerStartupMean', 'TimerBuildIndexMean', 'SearchSpeedAverage',\n",
       "       'SearchSpeedP95', 'RecallMean', 'RecallAt1Mean', 'RecallAt10Mean',\n",
       "       'RecallAt100Mean', 'RecallAt1000Mean', 'BaselineMax', 'BaselineMean',\n",
       "       'IngestingMax', 'IngestingMean', 'BenchmarkingMax', 'BenchmarkingMean',\n",
       "       'IndexProvider', 'IndexType', 'Compression', 'EfConstruction',\n",
       "       'EfSearch', 'M', 'Metric', 'NPartitions'],\n",
       "      dtype='object')"
      ]
     },
     "execution_count": 255,
     "metadata": {},
     "output_type": "execute_result"
    }
   ],
   "source": [
    "df_results.columns"
   ]
  },
  {
   "cell_type": "markdown",
   "metadata": {},
   "source": [
    "### n partions plot again"
   ]
  },
  {
   "cell_type": "code",
   "execution_count": 256,
   "metadata": {},
   "outputs": [
    {
     "data": {
      "image/png": "[encoded data removed]",
      "text/plain": [
       "<Figure size 600x400 with 1 Axes>"
      ]
     },
     "metadata": {},
     "output_type": "display_data"
    }
   ],
   "source": [
    "import seaborn as sns\n",
    "\n",
    "plt.figure(figsize=(6, 4))\n",
    "sns.scatterplot(\n",
    "    data=df_results,\n",
    "    x=\"NPartitions\",\n",
    "    y=\"TimerBuildIndexMean\",\n",
    "    hue=\"BenchmarkingMean\",\n",
    "    style=\"Compression\",\n",
    "    palette=\"flare\",\n",
    "    s=70,\n",
    ")\n",
    "plt.title(\"Faiss IVF SQ8 - latency vs n partitions\")\n",
    "plt.xlabel(\"n partitions\")\n",
    "plt.ylabel(\"Index build speed (s)\")\n",
    "plt.show()"
   ]
  },
  {
   "cell_type": "code",
   "execution_count": 257,
   "metadata": {},
   "outputs": [
    {
     "data": {
      "text/plain": [
       "Index(['Unnamed: 0', 'Dataset', 'Index', 'IndexParameters', 'TimerMasterMean',\n",
       "       'TimerServerStartupMean', 'TimerBuildIndexMean', 'SearchSpeedAverage',\n",
       "       'SearchSpeedP95', 'RecallMean', 'RecallAt1Mean', 'RecallAt10Mean',\n",
       "       'RecallAt100Mean', 'RecallAt1000Mean', 'BaselineMax', 'BaselineMean',\n",
       "       'IngestingMax', 'IngestingMean', 'BenchmarkingMax', 'BenchmarkingMean',\n",
       "       'IndexProvider', 'IndexType', 'Compression', 'EfConstruction',\n",
       "       'EfSearch', 'M', 'Metric', 'NPartitions'],\n",
       "      dtype='object')"
      ]
     },
     "execution_count": 257,
     "metadata": {},
     "output_type": "execute_result"
    }
   ],
   "source": [
    "df_results.columns"
   ]
  },
  {
   "cell_type": "code",
   "execution_count": 258,
   "metadata": {},
   "outputs": [
    {
     "data": {
      "image/png": "[encoded data removed]",
      "text/plain": [
       "<Figure size 640x480 with 1 Axes>"
      ]
     },
     "metadata": {},
     "output_type": "display_data"
    }
   ],
   "source": [
    "import seaborn as sns\n",
    "\n",
    "# plt.figure(figsize=(6, 4))\n",
    "sns.scatterplot(\n",
    "    data=df_results,\n",
    "    x=\"SearchSpeedAverage\",\n",
    "    y=\"RecallMean\",\n",
    "    style=\"Dataset\",\n",
    "    hue=\"TimerBuildIndexMean\",\n",
    "    palette=\"flare\",\n",
    "    s=70,\n",
    ")\n",
    "plt.title(\"Faiss IVF SQ8 - latency vs n partitions\")\n",
    "plt.ylabel(\"Recall\")\n",
    "plt.xlabel(\"Search speed (ms)\")\n",
    "plt.show()"
   ]
  },
  {
   "cell_type": "code",
   "execution_count": 259,
   "metadata": {},
   "outputs": [
    {
     "name": "stderr",
     "output_type": "stream",
     "text": [
      "/var/folders/n1/7wj2y4td3hvcbzpx659rrhch0000gn/T/ipykernel_4411/3256408376.py:4: UserWarning:\n",
      "\n",
      "Ignoring `palette` because no `hue` variable has been assigned.\n",
      "\n"
     ]
    },
    {
     "data": {
      "image/png": "[encoded data removed]",
      "text/plain": [
       "<Figure size 640x480 with 1 Axes>"
      ]
     },
     "metadata": {},
     "output_type": "display_data"
    }
   ],
   "source": [
    "df_plot = df_results.query(\"Dataset == 'glove-25-angular'\")\n",
    "\n",
    "# plt.figure(figsize=(6, 4))\n",
    "sns.scatterplot(\n",
    "    data=df_plot,\n",
    "    x=\"SearchSpeedAverage\",\n",
    "    y=\"RecallMean\",\n",
    "    style=\"Metric\",\n",
    "    hue=\"TimerBuildIndexMean\",\n",
    "    palette=\"flare\",\n",
    "    s=70,\n",
    ")\n",
    "plt.ylabel(\"Recall\")\n",
    "plt.xlabel(\"Search speed (ms)\")\n",
    "plt.show()"
   ]
  },
  {
   "cell_type": "code",
   "execution_count": 260,
   "metadata": {},
   "outputs": [
    {
     "data": {
      "text/html": [
       "<div>\n",
       "<style scoped>\n",
       "    .dataframe tbody tr th:only-of-type {\n",
       "        vertical-align: middle;\n",
       "    }\n",
       "\n",
       "    .dataframe tbody tr th {\n",
       "        vertical-align: top;\n",
       "    }\n",
       "\n",
       "    .dataframe thead th {\n",
       "        text-align: right;\n",
       "    }\n",
       "</style>\n",
       "<table border=\"1\" class=\"dataframe\">\n",
       "  <thead>\n",
       "    <tr style=\"text-align: right;\">\n",
       "      <th></th>\n",
       "      <th>Unnamed: 0</th>\n",
       "      <th>Dataset</th>\n",
       "      <th>Index</th>\n",
       "      <th>IndexParameters</th>\n",
       "      <th>TimerMasterMean</th>\n",
       "      <th>TimerServerStartupMean</th>\n",
       "      <th>TimerBuildIndexMean</th>\n",
       "      <th>SearchSpeedAverage</th>\n",
       "      <th>SearchSpeedP95</th>\n",
       "      <th>RecallMean</th>\n",
       "      <th>...</th>\n",
       "      <th>BenchmarkingMax</th>\n",
       "      <th>BenchmarkingMean</th>\n",
       "      <th>IndexProvider</th>\n",
       "      <th>IndexType</th>\n",
       "      <th>Compression</th>\n",
       "      <th>EfConstruction</th>\n",
       "      <th>EfSearch</th>\n",
       "      <th>M</th>\n",
       "      <th>Metric</th>\n",
       "      <th>NPartitions</th>\n",
       "    </tr>\n",
       "  </thead>\n",
       "  <tbody>\n",
       "  </tbody>\n",
       "</table>\n",
       "<p>0 rows × 28 columns</p>\n",
       "</div>"
      ],
      "text/plain": [
       "Empty DataFrame\n",
       "Columns: [Unnamed: 0, Dataset, Index, IndexParameters, TimerMasterMean, TimerServerStartupMean, TimerBuildIndexMean, SearchSpeedAverage, SearchSpeedP95, RecallMean, RecallAt1Mean, RecallAt10Mean, RecallAt100Mean, RecallAt1000Mean, BaselineMax, BaselineMean, IngestingMax, IngestingMean, BenchmarkingMax, BenchmarkingMean, IndexProvider, IndexType, Compression, EfConstruction, EfSearch, M, Metric, NPartitions]\n",
       "Index: []\n",
       "\n",
       "[0 rows x 28 columns]"
      ]
     },
     "execution_count": 260,
     "metadata": {},
     "output_type": "execute_result"
    }
   ],
   "source": [
    "df_results.query('Metric == \"IP\" and Dataset == \"glove-25-angular\"')"
   ]
  },
  {
   "cell_type": "code",
   "execution_count": 261,
   "metadata": {},
   "outputs": [
    {
     "ename": "AttributeError",
     "evalue": "'DataFrame' object has no attribute 'n'",
     "output_type": "error",
     "traceback": [
      "\u001b[0;31m---------------------------------------------------------------------------\u001b[0m",
      "\u001b[0;31mAttributeError\u001b[0m                            Traceback (most recent call last)",
      "Cell \u001b[0;32mIn[261], line 1\u001b[0m\n\u001b[0;32m----> 1\u001b[0m \u001b[43mdf_results\u001b[49m\u001b[38;5;241;43m.\u001b[39;49m\u001b[43mn\u001b[49m\n",
      "File \u001b[0;32m~/.pyenv/versions/3.11.2/lib/python3.11/site-packages/pandas/core/generic.py:5902\u001b[0m, in \u001b[0;36mNDFrame.__getattr__\u001b[0;34m(self, name)\u001b[0m\n\u001b[1;32m   5895\u001b[0m \u001b[38;5;28;01mif\u001b[39;00m (\n\u001b[1;32m   5896\u001b[0m     name \u001b[38;5;129;01mnot\u001b[39;00m \u001b[38;5;129;01min\u001b[39;00m \u001b[38;5;28mself\u001b[39m\u001b[38;5;241m.\u001b[39m_internal_names_set\n\u001b[1;32m   5897\u001b[0m     \u001b[38;5;129;01mand\u001b[39;00m name \u001b[38;5;129;01mnot\u001b[39;00m \u001b[38;5;129;01min\u001b[39;00m \u001b[38;5;28mself\u001b[39m\u001b[38;5;241m.\u001b[39m_metadata\n\u001b[1;32m   5898\u001b[0m     \u001b[38;5;129;01mand\u001b[39;00m name \u001b[38;5;129;01mnot\u001b[39;00m \u001b[38;5;129;01min\u001b[39;00m \u001b[38;5;28mself\u001b[39m\u001b[38;5;241m.\u001b[39m_accessors\n\u001b[1;32m   5899\u001b[0m     \u001b[38;5;129;01mand\u001b[39;00m \u001b[38;5;28mself\u001b[39m\u001b[38;5;241m.\u001b[39m_info_axis\u001b[38;5;241m.\u001b[39m_can_hold_identifiers_and_holds_name(name)\n\u001b[1;32m   5900\u001b[0m ):\n\u001b[1;32m   5901\u001b[0m     \u001b[38;5;28;01mreturn\u001b[39;00m \u001b[38;5;28mself\u001b[39m[name]\n\u001b[0;32m-> 5902\u001b[0m \u001b[38;5;28;01mreturn\u001b[39;00m \u001b[38;5;28;43mobject\u001b[39;49m\u001b[38;5;241;43m.\u001b[39;49m\u001b[38;5;21;43m__getattribute__\u001b[39;49m\u001b[43m(\u001b[49m\u001b[38;5;28;43mself\u001b[39;49m\u001b[43m,\u001b[49m\u001b[43m \u001b[49m\u001b[43mname\u001b[49m\u001b[43m)\u001b[49m\n",
      "\u001b[0;31mAttributeError\u001b[0m: 'DataFrame' object has no attribute 'n'"
     ]
    }
   ],
   "source": [
    "df_results.n"
   ]
  },
  {
   "cell_type": "code",
   "execution_count": null,
   "metadata": {},
   "outputs": [
    {
     "ename": "",
     "evalue": "",
     "output_type": "error",
     "traceback": [
      "\u001b[1;31mFailed to start the Kernel. \n",
      "\u001b[1;31mUnable to start Kernel 'Python 3.11.2' due to a connection timeout. \n",
      "\u001b[1;31mView Jupyter <a href='command:jupyter.viewOutput'>log</a> for further details."
     ]
    }
   ],
   "source": [
    "df_plot = df_results.query(\"IndexType == 'IVF'\")\n",
    "\n",
    "# plt.figure(figsize=(6, 4))\n",
    "sns.scatterplot(\n",
    "    data=df_plot,\n",
    "    x=\"Recall avg\",\n",
    "    y=\"Search speed avg. (ms)\",\n",
    "    style=\"Metric\",\n",
    "    hue=\"IndexProvider\",\n",
    "    palette=\"flare\",\n",
    "    s=70,\n",
    ")\n",
    "plt.xlabel(\"Recall\")\n",
    "plt.ylabel(\"Search speed (ms)\")\n",
    "plt.show()"
   ]
  },
  {
   "cell_type": "code",
   "execution_count": null,
   "metadata": {},
   "outputs": [
    {
     "ename": "",
     "evalue": "",
     "output_type": "error",
     "traceback": [
      "\u001b[1;31mFailed to start the Kernel. \n",
      "\u001b[1;31mUnable to start Kernel 'Python 3.11.2' due to a connection timeout. \n",
      "\u001b[1;31mView Jupyter <a href='command:jupyter.viewOutput'>log</a> for further details."
     ]
    }
   ],
   "source": [
    "df_plot"
   ]
  },
  {
   "cell_type": "code",
   "execution_count": null,
   "metadata": {},
   "outputs": [
    {
     "ename": "",
     "evalue": "",
     "output_type": "error",
     "traceback": [
      "\u001b[1;31mFailed to start the Kernel. \n",
      "\u001b[1;31mUnable to start Kernel 'Python 3.11.2' due to a connection timeout. \n",
      "\u001b[1;31mView Jupyter <a href='command:jupyter.viewOutput'>log</a> for further details."
     ]
    }
   ],
   "source": [
    "df_plot = df_results.query(\"IndexType == 'IVF'\")\n",
    "\n",
    "# plt.figure(figsize=(6, 4))\n",
    "sns.scatterplot(\n",
    "    data=df_plot,\n",
    "    x=\"Recall avg\",\n",
    "    y=\"Search speed avg. (ms)\",\n",
    "    style=\"Metric\",\n",
    "    hue=\"nPartitions\",\n",
    "    palette=\"flare\",\n",
    "    s=70,\n",
    ")\n",
    "plt.xlabel(\"Recall\")\n",
    "plt.ylabel(\"Search speed (ms)\")\n",
    "plt.show()"
   ]
  },
  {
   "cell_type": "code",
   "execution_count": null,
   "metadata": {},
   "outputs": [
    {
     "ename": "",
     "evalue": "",
     "output_type": "error",
     "traceback": [
      "\u001b[1;31mFailed to start the Kernel. \n",
      "\u001b[1;31mUnable to start Kernel 'Python 3.11.2' due to a connection timeout. \n",
      "\u001b[1;31mView Jupyter <a href='command:jupyter.viewOutput'>log</a> for further details."
     ]
    }
   ],
   "source": [
    "df_results.query(\"Dataset == \")"
   ]
  }
 ],
 "metadata": {
  "kernelspec": {
   "display_name": "vod-EhoGd8y6-py3.11",
   "language": "python",
   "name": "python3"
  },
  "language_info": {
   "codemirror_mode": {
    "name": "ipython",
    "version": 3
   },
   "file_extension": ".py",
   "mimetype": "text/x-python",
   "name": "python",
   "nbconvert_exporter": "python",
   "pygments_lexer": "ipython3",
   "version": "3.11.2"
  }
 },
 "nbformat": 4,
 "nbformat_minor": 2
}
