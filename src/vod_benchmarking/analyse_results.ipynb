{
 "cells": [
  {
   "cell_type": "code",
   "execution_count": 12,
   "metadata": {},
   "outputs": [],
   "source": [
    "import pandas as pd\n",
    "import matplotlib.pyplot as plt\n",
    "import os"
   ]
  },
  {
   "cell_type": "code",
   "execution_count": 13,
   "metadata": {},
   "outputs": [
    {
     "name": "stdout",
     "output_type": "stream",
     "text": [
      "/Users/oas/Downloads/benchmarking_results/2024-02-19-12-25-45.csv\n"
     ]
    }
   ],
   "source": [
    "folder_path = \"/Users/oas/Downloads/benchmarking_results\"\n",
    "# folder_path = \"/Users/oas/Documents/VOD/vod/benchmarking_results\"\n",
    "files = [\n",
    "    os.path.join(folder_path, file)\n",
    "    for file in os.listdir(folder_path)\n",
    "    if os.path.isfile(os.path.join(folder_path, file))\n",
    "]\n",
    "files.sort()  # Sort the files by name\n",
    "newest_file = files[-1]  # Pick the newest\n",
    "print(newest_file)"
   ]
  },
  {
   "cell_type": "code",
   "execution_count": 14,
   "metadata": {},
   "outputs": [
    {
     "data": {
      "text/plain": [
       "(15, 16)"
      ]
     },
     "execution_count": 14,
     "metadata": {},
     "output_type": "execute_result"
    }
   ],
   "source": [
    "df_results = pd.read_csv(newest_file)\n",
    "df_results.shape"
   ]
  },
  {
   "cell_type": "code",
   "execution_count": 23,
   "metadata": {},
   "outputs": [
    {
     "data": {
      "text/html": [
       "<div>\n",
       "<style scoped>\n",
       "    .dataframe tbody tr th:only-of-type {\n",
       "        vertical-align: middle;\n",
       "    }\n",
       "\n",
       "    .dataframe tbody tr th {\n",
       "        vertical-align: top;\n",
       "    }\n",
       "\n",
       "    .dataframe thead th {\n",
       "        text-align: right;\n",
       "    }\n",
       "</style>\n",
       "<table border=\"1\" class=\"dataframe\">\n",
       "  <thead>\n",
       "    <tr style=\"text-align: right;\">\n",
       "      <th></th>\n",
       "      <th>Unnamed: 0</th>\n",
       "      <th>Dataset</th>\n",
       "      <th>Index</th>\n",
       "      <th>Index parameters.</th>\n",
       "      <th>Server startup speed (s)</th>\n",
       "      <th>Index build speed (s)</th>\n",
       "      <th>Search speed avg. (ms)</th>\n",
       "      <th>Search speed p95 (ms)</th>\n",
       "      <th>Recall avg</th>\n",
       "      <th>Recall@1</th>\n",
       "      <th>Recall@10</th>\n",
       "      <th>Recall@100</th>\n",
       "      <th>ingesting_max</th>\n",
       "      <th>ingesting_mean</th>\n",
       "      <th>benchmarking_max</th>\n",
       "      <th>benchmarking_mean</th>\n",
       "      <th>index_prov</th>\n",
       "    </tr>\n",
       "  </thead>\n",
       "  <tbody>\n",
       "    <tr>\n",
       "      <th>0</th>\n",
       "      <td>0</td>\n",
       "      <td>gist-960-euclidean</td>\n",
       "      <td>index: faiss IVF, n_partition=100, None, DOT</td>\n",
       "      <td>IVF, n_partition=100, None, DOT</td>\n",
       "      <td>29.677277</td>\n",
       "      <td>12.114791</td>\n",
       "      <td>490.752727</td>\n",
       "      <td>530.608323</td>\n",
       "      <td>0.000433</td>\n",
       "      <td>0.000333</td>\n",
       "      <td>0.000667</td>\n",
       "      <td>0.003000</td>\n",
       "      <td>4149.248</td>\n",
       "      <td>1230.429600</td>\n",
       "      <td>4151.296</td>\n",
       "      <td>4151.296000</td>\n",
       "      <td>faiss</td>\n",
       "    </tr>\n",
       "    <tr>\n",
       "      <th>1</th>\n",
       "      <td>1</td>\n",
       "      <td>gist-960-euclidean</td>\n",
       "      <td>index: faiss IVF, n_partition=200, None, DOT</td>\n",
       "      <td>IVF, n_partition=200, None, DOT</td>\n",
       "      <td>28.091996</td>\n",
       "      <td>14.724321</td>\n",
       "      <td>383.251042</td>\n",
       "      <td>522.979428</td>\n",
       "      <td>0.000503</td>\n",
       "      <td>0.000333</td>\n",
       "      <td>0.000667</td>\n",
       "      <td>0.003667</td>\n",
       "      <td>1025.024</td>\n",
       "      <td>504.531000</td>\n",
       "      <td>4151.296</td>\n",
       "      <td>4151.296000</td>\n",
       "      <td>faiss</td>\n",
       "    </tr>\n",
       "    <tr>\n",
       "      <th>2</th>\n",
       "      <td>2</td>\n",
       "      <td>gist-960-euclidean</td>\n",
       "      <td>index: faiss IVF, n_partition=400, None, DOT</td>\n",
       "      <td>IVF, n_partition=400, None, DOT</td>\n",
       "      <td>24.369994</td>\n",
       "      <td>20.912197</td>\n",
       "      <td>309.938170</td>\n",
       "      <td>516.331521</td>\n",
       "      <td>0.000550</td>\n",
       "      <td>0.000333</td>\n",
       "      <td>0.001000</td>\n",
       "      <td>0.004333</td>\n",
       "      <td>913.400</td>\n",
       "      <td>475.575000</td>\n",
       "      <td>4152.320</td>\n",
       "      <td>4152.320000</td>\n",
       "      <td>faiss</td>\n",
       "    </tr>\n",
       "    <tr>\n",
       "      <th>3</th>\n",
       "      <td>3</td>\n",
       "      <td>gist-960-euclidean</td>\n",
       "      <td>index: faiss IVF, n_partition=800, None, DOT</td>\n",
       "      <td>IVF, n_partition=800, None, DOT</td>\n",
       "      <td>14.435392</td>\n",
       "      <td>35.834797</td>\n",
       "      <td>254.547133</td>\n",
       "      <td>512.055937</td>\n",
       "      <td>0.000757</td>\n",
       "      <td>0.000333</td>\n",
       "      <td>0.001667</td>\n",
       "      <td>0.006667</td>\n",
       "      <td>935.500</td>\n",
       "      <td>481.100000</td>\n",
       "      <td>4154.368</td>\n",
       "      <td>4154.368000</td>\n",
       "      <td>faiss</td>\n",
       "    </tr>\n",
       "    <tr>\n",
       "      <th>4</th>\n",
       "      <td>4</td>\n",
       "      <td>gist-960-euclidean</td>\n",
       "      <td>index: faiss IVF, n_partition=1600, None, DOT</td>\n",
       "      <td>IVF, n_partition=1600, None, DOT</td>\n",
       "      <td>-15.163393</td>\n",
       "      <td>76.522429</td>\n",
       "      <td>213.412361</td>\n",
       "      <td>507.295878</td>\n",
       "      <td>0.000960</td>\n",
       "      <td>0.000333</td>\n",
       "      <td>0.001333</td>\n",
       "      <td>0.009000</td>\n",
       "      <td>2928.640</td>\n",
       "      <td>841.968000</td>\n",
       "      <td>4157.440</td>\n",
       "      <td>4157.440000</td>\n",
       "      <td>faiss</td>\n",
       "    </tr>\n",
       "    <tr>\n",
       "      <th>8</th>\n",
       "      <td>8</td>\n",
       "      <td>gist-960-euclidean</td>\n",
       "      <td>index: faiss IVF, n_partition=800, PQ8, DOT</td>\n",
       "      <td>IVF, n_partition=800, PQ8, DOT</td>\n",
       "      <td>-390.127873</td>\n",
       "      <td>531.124948</td>\n",
       "      <td>179.575678</td>\n",
       "      <td>503.569848</td>\n",
       "      <td>0.001363</td>\n",
       "      <td>0.000000</td>\n",
       "      <td>0.000000</td>\n",
       "      <td>0.002000</td>\n",
       "      <td>414.500</td>\n",
       "      <td>330.633333</td>\n",
       "      <td>502.800</td>\n",
       "      <td>502.643333</td>\n",
       "      <td>faiss</td>\n",
       "    </tr>\n",
       "    <tr>\n",
       "      <th>9</th>\n",
       "      <td>9</td>\n",
       "      <td>gist-960-euclidean</td>\n",
       "      <td>index: faiss IVF, n_partition=1600, PQ8, DOT</td>\n",
       "      <td>IVF, n_partition=1600, PQ8, DOT</td>\n",
       "      <td>-288.399640</td>\n",
       "      <td>478.823034</td>\n",
       "      <td>155.345527</td>\n",
       "      <td>498.282929</td>\n",
       "      <td>0.002580</td>\n",
       "      <td>0.000000</td>\n",
       "      <td>0.000333</td>\n",
       "      <td>0.002667</td>\n",
       "      <td>414.200</td>\n",
       "      <td>330.333333</td>\n",
       "      <td>505.700</td>\n",
       "      <td>505.576364</td>\n",
       "      <td>faiss</td>\n",
       "    </tr>\n",
       "    <tr>\n",
       "      <th>10</th>\n",
       "      <td>10</td>\n",
       "      <td>gist-960-euclidean</td>\n",
       "      <td>index: faiss IVF, n_partition=100, SQ8, DOT</td>\n",
       "      <td>IVF, n_partition=100, SQ8, DOT</td>\n",
       "      <td>157.909800</td>\n",
       "      <td>11.987786</td>\n",
       "      <td>201.531834</td>\n",
       "      <td>533.332461</td>\n",
       "      <td>0.000493</td>\n",
       "      <td>0.000000</td>\n",
       "      <td>0.000667</td>\n",
       "      <td>0.002667</td>\n",
       "      <td>414.300</td>\n",
       "      <td>330.200000</td>\n",
       "      <td>1406.976</td>\n",
       "      <td>1405.995390</td>\n",
       "      <td>faiss</td>\n",
       "    </tr>\n",
       "    <tr>\n",
       "      <th>11</th>\n",
       "      <td>11</td>\n",
       "      <td>gist-960-euclidean</td>\n",
       "      <td>index: faiss IVF, n_partition=200, SQ8, DOT</td>\n",
       "      <td>IVF, n_partition=200, SQ8, DOT</td>\n",
       "      <td>137.454056</td>\n",
       "      <td>17.053442</td>\n",
       "      <td>211.917280</td>\n",
       "      <td>531.105791</td>\n",
       "      <td>0.000580</td>\n",
       "      <td>0.000000</td>\n",
       "      <td>0.000667</td>\n",
       "      <td>0.002667</td>\n",
       "      <td>452.300</td>\n",
       "      <td>315.175000</td>\n",
       "      <td>1406.976</td>\n",
       "      <td>1406.976000</td>\n",
       "      <td>faiss</td>\n",
       "    </tr>\n",
       "    <tr>\n",
       "      <th>12</th>\n",
       "      <td>12</td>\n",
       "      <td>gist-960-euclidean</td>\n",
       "      <td>index: faiss IVF, n_partition=400, SQ8, DOT</td>\n",
       "      <td>IVF, n_partition=400, SQ8, DOT</td>\n",
       "      <td>113.355539</td>\n",
       "      <td>30.161418</td>\n",
       "      <td>208.207856</td>\n",
       "      <td>528.579564</td>\n",
       "      <td>0.000603</td>\n",
       "      <td>0.000000</td>\n",
       "      <td>0.001000</td>\n",
       "      <td>0.003333</td>\n",
       "      <td>453.800</td>\n",
       "      <td>319.525000</td>\n",
       "      <td>1408.000</td>\n",
       "      <td>1408.000000</td>\n",
       "      <td>faiss</td>\n",
       "    </tr>\n",
       "    <tr>\n",
       "      <th>13</th>\n",
       "      <td>13</td>\n",
       "      <td>gist-960-euclidean</td>\n",
       "      <td>index: faiss IVF, n_partition=800, SQ8, DOT</td>\n",
       "      <td>IVF, n_partition=800, SQ8, DOT</td>\n",
       "      <td>80.925828</td>\n",
       "      <td>55.941901</td>\n",
       "      <td>197.844661</td>\n",
       "      <td>526.248041</td>\n",
       "      <td>0.000790</td>\n",
       "      <td>0.000333</td>\n",
       "      <td>0.001667</td>\n",
       "      <td>0.005667</td>\n",
       "      <td>668.200</td>\n",
       "      <td>412.766667</td>\n",
       "      <td>1409.024</td>\n",
       "      <td>1409.024000</td>\n",
       "      <td>faiss</td>\n",
       "    </tr>\n",
       "    <tr>\n",
       "      <th>14</th>\n",
       "      <td>14</td>\n",
       "      <td>gist-960-euclidean</td>\n",
       "      <td>index: faiss IVF, n_partition=1600, SQ8, DOT</td>\n",
       "      <td>IVF, n_partition=1600, SQ8, DOT</td>\n",
       "      <td>19.826818</td>\n",
       "      <td>116.560138</td>\n",
       "      <td>185.653035</td>\n",
       "      <td>524.372957</td>\n",
       "      <td>0.001023</td>\n",
       "      <td>0.000333</td>\n",
       "      <td>0.001333</td>\n",
       "      <td>0.008333</td>\n",
       "      <td>667.900</td>\n",
       "      <td>413.766667</td>\n",
       "      <td>1412.096</td>\n",
       "      <td>1412.096000</td>\n",
       "      <td>faiss</td>\n",
       "    </tr>\n",
       "  </tbody>\n",
       "</table>\n",
       "</div>"
      ],
      "text/plain": [
       "    Unnamed: 0             Dataset  \\\n",
       "0            0  gist-960-euclidean   \n",
       "1            1  gist-960-euclidean   \n",
       "2            2  gist-960-euclidean   \n",
       "3            3  gist-960-euclidean   \n",
       "4            4  gist-960-euclidean   \n",
       "8            8  gist-960-euclidean   \n",
       "9            9  gist-960-euclidean   \n",
       "10          10  gist-960-euclidean   \n",
       "11          11  gist-960-euclidean   \n",
       "12          12  gist-960-euclidean   \n",
       "13          13  gist-960-euclidean   \n",
       "14          14  gist-960-euclidean   \n",
       "\n",
       "                                            Index  \\\n",
       "0    index: faiss IVF, n_partition=100, None, DOT   \n",
       "1    index: faiss IVF, n_partition=200, None, DOT   \n",
       "2    index: faiss IVF, n_partition=400, None, DOT   \n",
       "3    index: faiss IVF, n_partition=800, None, DOT   \n",
       "4   index: faiss IVF, n_partition=1600, None, DOT   \n",
       "8     index: faiss IVF, n_partition=800, PQ8, DOT   \n",
       "9    index: faiss IVF, n_partition=1600, PQ8, DOT   \n",
       "10    index: faiss IVF, n_partition=100, SQ8, DOT   \n",
       "11    index: faiss IVF, n_partition=200, SQ8, DOT   \n",
       "12    index: faiss IVF, n_partition=400, SQ8, DOT   \n",
       "13    index: faiss IVF, n_partition=800, SQ8, DOT   \n",
       "14   index: faiss IVF, n_partition=1600, SQ8, DOT   \n",
       "\n",
       "                   Index parameters.  Server startup speed (s)  \\\n",
       "0    IVF, n_partition=100, None, DOT                 29.677277   \n",
       "1    IVF, n_partition=200, None, DOT                 28.091996   \n",
       "2    IVF, n_partition=400, None, DOT                 24.369994   \n",
       "3    IVF, n_partition=800, None, DOT                 14.435392   \n",
       "4   IVF, n_partition=1600, None, DOT                -15.163393   \n",
       "8     IVF, n_partition=800, PQ8, DOT               -390.127873   \n",
       "9    IVF, n_partition=1600, PQ8, DOT               -288.399640   \n",
       "10    IVF, n_partition=100, SQ8, DOT                157.909800   \n",
       "11    IVF, n_partition=200, SQ8, DOT                137.454056   \n",
       "12    IVF, n_partition=400, SQ8, DOT                113.355539   \n",
       "13    IVF, n_partition=800, SQ8, DOT                 80.925828   \n",
       "14   IVF, n_partition=1600, SQ8, DOT                 19.826818   \n",
       "\n",
       "    Index build speed (s)  Search speed avg. (ms)  Search speed p95 (ms)  \\\n",
       "0               12.114791              490.752727             530.608323   \n",
       "1               14.724321              383.251042             522.979428   \n",
       "2               20.912197              309.938170             516.331521   \n",
       "3               35.834797              254.547133             512.055937   \n",
       "4               76.522429              213.412361             507.295878   \n",
       "8              531.124948              179.575678             503.569848   \n",
       "9              478.823034              155.345527             498.282929   \n",
       "10              11.987786              201.531834             533.332461   \n",
       "11              17.053442              211.917280             531.105791   \n",
       "12              30.161418              208.207856             528.579564   \n",
       "13              55.941901              197.844661             526.248041   \n",
       "14             116.560138              185.653035             524.372957   \n",
       "\n",
       "    Recall avg  Recall@1  Recall@10  Recall@100  ingesting_max  \\\n",
       "0     0.000433  0.000333   0.000667    0.003000       4149.248   \n",
       "1     0.000503  0.000333   0.000667    0.003667       1025.024   \n",
       "2     0.000550  0.000333   0.001000    0.004333        913.400   \n",
       "3     0.000757  0.000333   0.001667    0.006667        935.500   \n",
       "4     0.000960  0.000333   0.001333    0.009000       2928.640   \n",
       "8     0.001363  0.000000   0.000000    0.002000        414.500   \n",
       "9     0.002580  0.000000   0.000333    0.002667        414.200   \n",
       "10    0.000493  0.000000   0.000667    0.002667        414.300   \n",
       "11    0.000580  0.000000   0.000667    0.002667        452.300   \n",
       "12    0.000603  0.000000   0.001000    0.003333        453.800   \n",
       "13    0.000790  0.000333   0.001667    0.005667        668.200   \n",
       "14    0.001023  0.000333   0.001333    0.008333        667.900   \n",
       "\n",
       "    ingesting_mean  benchmarking_max  benchmarking_mean index_prov  \n",
       "0      1230.429600          4151.296        4151.296000      faiss  \n",
       "1       504.531000          4151.296        4151.296000      faiss  \n",
       "2       475.575000          4152.320        4152.320000      faiss  \n",
       "3       481.100000          4154.368        4154.368000      faiss  \n",
       "4       841.968000          4157.440        4157.440000      faiss  \n",
       "8       330.633333           502.800         502.643333      faiss  \n",
       "9       330.333333           505.700         505.576364      faiss  \n",
       "10      330.200000          1406.976        1405.995390      faiss  \n",
       "11      315.175000          1406.976        1406.976000      faiss  \n",
       "12      319.525000          1408.000        1408.000000      faiss  \n",
       "13      412.766667          1409.024        1409.024000      faiss  \n",
       "14      413.766667          1412.096        1412.096000      faiss  "
      ]
     },
     "execution_count": 23,
     "metadata": {},
     "output_type": "execute_result"
    }
   ],
   "source": [
    "df_results"
   ]
  },
  {
   "cell_type": "code",
   "execution_count": 16,
   "metadata": {},
   "outputs": [],
   "source": [
    "df_results = df_results.query(\"Index != 'None'\")  # ignore failed runs\n",
    "df_results = df_results.query(\"benchmarking_mean != -1\")  # ignore failed runs"
   ]
  },
  {
   "cell_type": "code",
   "execution_count": 17,
   "metadata": {},
   "outputs": [],
   "source": [
    "df_results[\"index_prov\"] = df_results.Index.str.split(\" \").apply(lambda l: l[1])"
   ]
  },
  {
   "cell_type": "code",
   "execution_count": 18,
   "metadata": {},
   "outputs": [],
   "source": [
    "df_results = df_results.dropna()"
   ]
  },
  {
   "cell_type": "code",
   "execution_count": 19,
   "metadata": {},
   "outputs": [
    {
     "data": {
      "text/plain": [
       "Index(['Unnamed: 0', 'Dataset', 'Index', 'Index parameters.',\n",
       "       'Server startup speed (s)', 'Index build speed (s)',\n",
       "       'Search speed avg. (ms)', 'Search speed p95 (ms)', 'Recall avg',\n",
       "       'Recall@1', 'Recall@10', 'Recall@100', 'ingesting_max',\n",
       "       'ingesting_mean', 'benchmarking_max', 'benchmarking_mean',\n",
       "       'index_prov'],\n",
       "      dtype='object')"
      ]
     },
     "execution_count": 19,
     "metadata": {},
     "output_type": "execute_result"
    }
   ],
   "source": [
    "df_results.columns"
   ]
  },
  {
   "cell_type": "code",
   "execution_count": 20,
   "metadata": {},
   "outputs": [
    {
     "data": {
      "text/plain": [
       "(12, 17)"
      ]
     },
     "execution_count": 20,
     "metadata": {},
     "output_type": "execute_result"
    }
   ],
   "source": [
    "df_results.shape"
   ]
  },
  {
   "cell_type": "code",
   "execution_count": 21,
   "metadata": {},
   "outputs": [],
   "source": [
    "# df_results[df_results.isna()]"
   ]
  },
  {
   "cell_type": "code",
   "execution_count": 22,
   "metadata": {},
   "outputs": [
    {
     "data": {
      "application/vnd.plotly.v1+json": {
       "config": {
        "plotlyServerURL": "https://plot.ly"
       },
       "data": [
        {
         "customdata": [
          [
           "index: faiss IVF, n_partition=100, None, DOT",
           4149.248,
           4151.296000000001
          ],
          [
           "index: faiss IVF, n_partition=200, None, DOT",
           1025.024,
           4151.296
          ],
          [
           "index: faiss IVF, n_partition=400, None, DOT",
           913.4,
           4152.32
          ],
          [
           "index: faiss IVF, n_partition=800, None, DOT",
           935.5,
           4154.368000000001
          ],
          [
           "index: faiss IVF, n_partition=1600, None, DOT",
           2928.64,
           4157.4400000000005
          ],
          [
           "index: faiss IVF, n_partition=800, PQ8, DOT",
           414.5,
           502.64333333333343
          ],
          [
           "index: faiss IVF, n_partition=1600, PQ8, DOT",
           414.2,
           505.57636363636345
          ],
          [
           "index: faiss IVF, n_partition=100, SQ8, DOT",
           414.3,
           1405.9953898305082
          ],
          [
           "index: faiss IVF, n_partition=200, SQ8, DOT",
           452.3,
           1406.976
          ],
          [
           "index: faiss IVF, n_partition=400, SQ8, DOT",
           453.8,
           1408
          ],
          [
           "index: faiss IVF, n_partition=800, SQ8, DOT",
           668.2,
           1409.0239999999997
          ],
          [
           "index: faiss IVF, n_partition=1600, SQ8, DOT",
           667.9,
           1412.0959999999998
          ]
         ],
         "hovertemplate": "index_prov=faiss<br>Recall avg=%{x}<br>Search speed avg. (ms)=%{y}<br>benchmarking_mean=%{customdata[2]}<br>Index=%{customdata[0]}<br>ingesting_max=%{customdata[1]}<extra></extra>",
         "legendgroup": "faiss",
         "marker": {
          "color": "#636efa",
          "size": [
           4151.296000000001,
           4151.296,
           4152.32,
           4154.368000000001,
           4157.4400000000005,
           502.64333333333343,
           505.57636363636345,
           1405.9953898305082,
           1406.976,
           1408,
           1409.0239999999997,
           1412.0959999999998
          ],
          "sizemode": "area",
          "sizeref": 10.393600000000001,
          "symbol": "circle"
         },
         "mode": "markers",
         "name": "faiss",
         "orientation": "v",
         "showlegend": true,
         "type": "scatter",
         "x": [
          0.0004333333333333,
          0.0005033333333333,
          0.00055,
          0.0007566666666666,
          0.00096,
          0.0013633333333333,
          0.00258,
          0.0004933333333333,
          0.00058,
          0.0006033333333333,
          0.00079,
          0.0010233333333333
         ],
         "xaxis": "x",
         "y": [
          490.7527273784702,
          383.2510416318352,
          309.9381699780416,
          254.5471331467464,
          213.4123614827792,
          179.5756783364858,
          155.345526875795,
          201.5318335829458,
          211.9172804036902,
          208.2078557939579,
          197.8446609518406,
          185.6530349018673
         ],
         "yaxis": "y"
        },
        {
         "hoverinfo": "text",
         "marker": {
          "opacity": 0.1,
          "size": [
           165.96991999999997,
           41.00095999999999,
           36.536,
           37.42,
           117.1456,
           16.58,
           16.567999999999998,
           16.572,
           18.092,
           18.152,
           26.728,
           26.715999999999998
          ]
         },
         "mode": "markers",
         "name": "Ingesting max",
         "type": "scatter",
         "x": [
          0.0004333333333333,
          0.0005033333333333,
          0.00055,
          0.0007566666666666,
          0.00096,
          0.0013633333333333,
          0.00258,
          0.0004933333333333,
          0.00058,
          0.0006033333333333,
          0.00079,
          0.0010233333333333
         ],
         "y": [
          490.7527273784702,
          383.2510416318352,
          309.9381699780416,
          254.5471331467464,
          213.4123614827792,
          179.5756783364858,
          155.345526875795,
          201.5318335829458,
          211.9172804036902,
          208.2078557939579,
          197.8446609518406,
          185.6530349018673
         ]
        }
       ],
       "layout": {
        "legend": {
         "itemsizing": "constant",
         "title": {
          "text": "index_prov"
         },
         "tracegroupgap": 0
        },
        "margin": {
         "t": 60
        },
        "template": {
         "data": {
          "bar": [
           {
            "error_x": {
             "color": "#2a3f5f"
            },
            "error_y": {
             "color": "#2a3f5f"
            },
            "marker": {
             "line": {
              "color": "#E5ECF6",
              "width": 0.5
             },
             "pattern": {
              "fillmode": "overlay",
              "size": 10,
              "solidity": 0.2
             }
            },
            "type": "bar"
           }
          ],
          "barpolar": [
           {
            "marker": {
             "line": {
              "color": "#E5ECF6",
              "width": 0.5
             },
             "pattern": {
              "fillmode": "overlay",
              "size": 10,
              "solidity": 0.2
             }
            },
            "type": "barpolar"
           }
          ],
          "carpet": [
           {
            "aaxis": {
             "endlinecolor": "#2a3f5f",
             "gridcolor": "white",
             "linecolor": "white",
             "minorgridcolor": "white",
             "startlinecolor": "#2a3f5f"
            },
            "baxis": {
             "endlinecolor": "#2a3f5f",
             "gridcolor": "white",
             "linecolor": "white",
             "minorgridcolor": "white",
             "startlinecolor": "#2a3f5f"
            },
            "type": "carpet"
           }
          ],
          "choropleth": [
           {
            "colorbar": {
             "outlinewidth": 0,
             "ticks": ""
            },
            "type": "choropleth"
           }
          ],
          "contour": [
           {
            "colorbar": {
             "outlinewidth": 0,
             "ticks": ""
            },
            "colorscale": [
             [
              0,
              "#0d0887"
             ],
             [
              0.1111111111111111,
              "#46039f"
             ],
             [
              0.2222222222222222,
              "#7201a8"
             ],
             [
              0.3333333333333333,
              "#9c179e"
             ],
             [
              0.4444444444444444,
              "#bd3786"
             ],
             [
              0.5555555555555556,
              "#d8576b"
             ],
             [
              0.6666666666666666,
              "#ed7953"
             ],
             [
              0.7777777777777778,
              "#fb9f3a"
             ],
             [
              0.8888888888888888,
              "#fdca26"
             ],
             [
              1,
              "#f0f921"
             ]
            ],
            "type": "contour"
           }
          ],
          "contourcarpet": [
           {
            "colorbar": {
             "outlinewidth": 0,
             "ticks": ""
            },
            "type": "contourcarpet"
           }
          ],
          "heatmap": [
           {
            "colorbar": {
             "outlinewidth": 0,
             "ticks": ""
            },
            "colorscale": [
             [
              0,
              "#0d0887"
             ],
             [
              0.1111111111111111,
              "#46039f"
             ],
             [
              0.2222222222222222,
              "#7201a8"
             ],
             [
              0.3333333333333333,
              "#9c179e"
             ],
             [
              0.4444444444444444,
              "#bd3786"
             ],
             [
              0.5555555555555556,
              "#d8576b"
             ],
             [
              0.6666666666666666,
              "#ed7953"
             ],
             [
              0.7777777777777778,
              "#fb9f3a"
             ],
             [
              0.8888888888888888,
              "#fdca26"
             ],
             [
              1,
              "#f0f921"
             ]
            ],
            "type": "heatmap"
           }
          ],
          "heatmapgl": [
           {
            "colorbar": {
             "outlinewidth": 0,
             "ticks": ""
            },
            "colorscale": [
             [
              0,
              "#0d0887"
             ],
             [
              0.1111111111111111,
              "#46039f"
             ],
             [
              0.2222222222222222,
              "#7201a8"
             ],
             [
              0.3333333333333333,
              "#9c179e"
             ],
             [
              0.4444444444444444,
              "#bd3786"
             ],
             [
              0.5555555555555556,
              "#d8576b"
             ],
             [
              0.6666666666666666,
              "#ed7953"
             ],
             [
              0.7777777777777778,
              "#fb9f3a"
             ],
             [
              0.8888888888888888,
              "#fdca26"
             ],
             [
              1,
              "#f0f921"
             ]
            ],
            "type": "heatmapgl"
           }
          ],
          "histogram": [
           {
            "marker": {
             "pattern": {
              "fillmode": "overlay",
              "size": 10,
              "solidity": 0.2
             }
            },
            "type": "histogram"
           }
          ],
          "histogram2d": [
           {
            "colorbar": {
             "outlinewidth": 0,
             "ticks": ""
            },
            "colorscale": [
             [
              0,
              "#0d0887"
             ],
             [
              0.1111111111111111,
              "#46039f"
             ],
             [
              0.2222222222222222,
              "#7201a8"
             ],
             [
              0.3333333333333333,
              "#9c179e"
             ],
             [
              0.4444444444444444,
              "#bd3786"
             ],
             [
              0.5555555555555556,
              "#d8576b"
             ],
             [
              0.6666666666666666,
              "#ed7953"
             ],
             [
              0.7777777777777778,
              "#fb9f3a"
             ],
             [
              0.8888888888888888,
              "#fdca26"
             ],
             [
              1,
              "#f0f921"
             ]
            ],
            "type": "histogram2d"
           }
          ],
          "histogram2dcontour": [
           {
            "colorbar": {
             "outlinewidth": 0,
             "ticks": ""
            },
            "colorscale": [
             [
              0,
              "#0d0887"
             ],
             [
              0.1111111111111111,
              "#46039f"
             ],
             [
              0.2222222222222222,
              "#7201a8"
             ],
             [
              0.3333333333333333,
              "#9c179e"
             ],
             [
              0.4444444444444444,
              "#bd3786"
             ],
             [
              0.5555555555555556,
              "#d8576b"
             ],
             [
              0.6666666666666666,
              "#ed7953"
             ],
             [
              0.7777777777777778,
              "#fb9f3a"
             ],
             [
              0.8888888888888888,
              "#fdca26"
             ],
             [
              1,
              "#f0f921"
             ]
            ],
            "type": "histogram2dcontour"
           }
          ],
          "mesh3d": [
           {
            "colorbar": {
             "outlinewidth": 0,
             "ticks": ""
            },
            "type": "mesh3d"
           }
          ],
          "parcoords": [
           {
            "line": {
             "colorbar": {
              "outlinewidth": 0,
              "ticks": ""
             }
            },
            "type": "parcoords"
           }
          ],
          "pie": [
           {
            "automargin": true,
            "type": "pie"
           }
          ],
          "scatter": [
           {
            "fillpattern": {
             "fillmode": "overlay",
             "size": 10,
             "solidity": 0.2
            },
            "type": "scatter"
           }
          ],
          "scatter3d": [
           {
            "line": {
             "colorbar": {
              "outlinewidth": 0,
              "ticks": ""
             }
            },
            "marker": {
             "colorbar": {
              "outlinewidth": 0,
              "ticks": ""
             }
            },
            "type": "scatter3d"
           }
          ],
          "scattercarpet": [
           {
            "marker": {
             "colorbar": {
              "outlinewidth": 0,
              "ticks": ""
             }
            },
            "type": "scattercarpet"
           }
          ],
          "scattergeo": [
           {
            "marker": {
             "colorbar": {
              "outlinewidth": 0,
              "ticks": ""
             }
            },
            "type": "scattergeo"
           }
          ],
          "scattergl": [
           {
            "marker": {
             "colorbar": {
              "outlinewidth": 0,
              "ticks": ""
             }
            },
            "type": "scattergl"
           }
          ],
          "scattermapbox": [
           {
            "marker": {
             "colorbar": {
              "outlinewidth": 0,
              "ticks": ""
             }
            },
            "type": "scattermapbox"
           }
          ],
          "scatterpolar": [
           {
            "marker": {
             "colorbar": {
              "outlinewidth": 0,
              "ticks": ""
             }
            },
            "type": "scatterpolar"
           }
          ],
          "scatterpolargl": [
           {
            "marker": {
             "colorbar": {
              "outlinewidth": 0,
              "ticks": ""
             }
            },
            "type": "scatterpolargl"
           }
          ],
          "scatterternary": [
           {
            "marker": {
             "colorbar": {
              "outlinewidth": 0,
              "ticks": ""
             }
            },
            "type": "scatterternary"
           }
          ],
          "surface": [
           {
            "colorbar": {
             "outlinewidth": 0,
             "ticks": ""
            },
            "colorscale": [
             [
              0,
              "#0d0887"
             ],
             [
              0.1111111111111111,
              "#46039f"
             ],
             [
              0.2222222222222222,
              "#7201a8"
             ],
             [
              0.3333333333333333,
              "#9c179e"
             ],
             [
              0.4444444444444444,
              "#bd3786"
             ],
             [
              0.5555555555555556,
              "#d8576b"
             ],
             [
              0.6666666666666666,
              "#ed7953"
             ],
             [
              0.7777777777777778,
              "#fb9f3a"
             ],
             [
              0.8888888888888888,
              "#fdca26"
             ],
             [
              1,
              "#f0f921"
             ]
            ],
            "type": "surface"
           }
          ],
          "table": [
           {
            "cells": {
             "fill": {
              "color": "#EBF0F8"
             },
             "line": {
              "color": "white"
             }
            },
            "header": {
             "fill": {
              "color": "#C8D4E3"
             },
             "line": {
              "color": "white"
             }
            },
            "type": "table"
           }
          ]
         },
         "layout": {
          "annotationdefaults": {
           "arrowcolor": "#2a3f5f",
           "arrowhead": 0,
           "arrowwidth": 1
          },
          "autotypenumbers": "strict",
          "coloraxis": {
           "colorbar": {
            "outlinewidth": 0,
            "ticks": ""
           }
          },
          "colorscale": {
           "diverging": [
            [
             0,
             "#8e0152"
            ],
            [
             0.1,
             "#c51b7d"
            ],
            [
             0.2,
             "#de77ae"
            ],
            [
             0.3,
             "#f1b6da"
            ],
            [
             0.4,
             "#fde0ef"
            ],
            [
             0.5,
             "#f7f7f7"
            ],
            [
             0.6,
             "#e6f5d0"
            ],
            [
             0.7,
             "#b8e186"
            ],
            [
             0.8,
             "#7fbc41"
            ],
            [
             0.9,
             "#4d9221"
            ],
            [
             1,
             "#276419"
            ]
           ],
           "sequential": [
            [
             0,
             "#0d0887"
            ],
            [
             0.1111111111111111,
             "#46039f"
            ],
            [
             0.2222222222222222,
             "#7201a8"
            ],
            [
             0.3333333333333333,
             "#9c179e"
            ],
            [
             0.4444444444444444,
             "#bd3786"
            ],
            [
             0.5555555555555556,
             "#d8576b"
            ],
            [
             0.6666666666666666,
             "#ed7953"
            ],
            [
             0.7777777777777778,
             "#fb9f3a"
            ],
            [
             0.8888888888888888,
             "#fdca26"
            ],
            [
             1,
             "#f0f921"
            ]
           ],
           "sequentialminus": [
            [
             0,
             "#0d0887"
            ],
            [
             0.1111111111111111,
             "#46039f"
            ],
            [
             0.2222222222222222,
             "#7201a8"
            ],
            [
             0.3333333333333333,
             "#9c179e"
            ],
            [
             0.4444444444444444,
             "#bd3786"
            ],
            [
             0.5555555555555556,
             "#d8576b"
            ],
            [
             0.6666666666666666,
             "#ed7953"
            ],
            [
             0.7777777777777778,
             "#fb9f3a"
            ],
            [
             0.8888888888888888,
             "#fdca26"
            ],
            [
             1,
             "#f0f921"
            ]
           ]
          },
          "colorway": [
           "#636efa",
           "#EF553B",
           "#00cc96",
           "#ab63fa",
           "#FFA15A",
           "#19d3f3",
           "#FF6692",
           "#B6E880",
           "#FF97FF",
           "#FECB52"
          ],
          "font": {
           "color": "#2a3f5f"
          },
          "geo": {
           "bgcolor": "white",
           "lakecolor": "white",
           "landcolor": "#E5ECF6",
           "showlakes": true,
           "showland": true,
           "subunitcolor": "white"
          },
          "hoverlabel": {
           "align": "left"
          },
          "hovermode": "closest",
          "mapbox": {
           "style": "light"
          },
          "paper_bgcolor": "white",
          "plot_bgcolor": "#E5ECF6",
          "polar": {
           "angularaxis": {
            "gridcolor": "white",
            "linecolor": "white",
            "ticks": ""
           },
           "bgcolor": "#E5ECF6",
           "radialaxis": {
            "gridcolor": "white",
            "linecolor": "white",
            "ticks": ""
           }
          },
          "scene": {
           "xaxis": {
            "backgroundcolor": "#E5ECF6",
            "gridcolor": "white",
            "gridwidth": 2,
            "linecolor": "white",
            "showbackground": true,
            "ticks": "",
            "zerolinecolor": "white"
           },
           "yaxis": {
            "backgroundcolor": "#E5ECF6",
            "gridcolor": "white",
            "gridwidth": 2,
            "linecolor": "white",
            "showbackground": true,
            "ticks": "",
            "zerolinecolor": "white"
           },
           "zaxis": {
            "backgroundcolor": "#E5ECF6",
            "gridcolor": "white",
            "gridwidth": 2,
            "linecolor": "white",
            "showbackground": true,
            "ticks": "",
            "zerolinecolor": "white"
           }
          },
          "shapedefaults": {
           "line": {
            "color": "#2a3f5f"
           }
          },
          "ternary": {
           "aaxis": {
            "gridcolor": "white",
            "linecolor": "white",
            "ticks": ""
           },
           "baxis": {
            "gridcolor": "white",
            "linecolor": "white",
            "ticks": ""
           },
           "bgcolor": "#E5ECF6",
           "caxis": {
            "gridcolor": "white",
            "linecolor": "white",
            "ticks": ""
           }
          },
          "title": {
           "x": 0.05
          },
          "xaxis": {
           "automargin": true,
           "gridcolor": "white",
           "linecolor": "white",
           "ticks": "",
           "title": {
            "standoff": 15
           },
           "zerolinecolor": "white",
           "zerolinewidth": 2
          },
          "yaxis": {
           "automargin": true,
           "gridcolor": "white",
           "linecolor": "white",
           "ticks": "",
           "title": {
            "standoff": 15
           },
           "zerolinecolor": "white",
           "zerolinewidth": 2
          }
         }
        },
        "xaxis": {
         "anchor": "y",
         "domain": [
          0,
          1
         ],
         "title": {
          "text": "Recall avg"
         }
        },
        "yaxis": {
         "anchor": "x",
         "domain": [
          0,
          1
         ],
         "title": {
          "text": "Search speed avg. (ms)"
         }
        }
       }
      }
     },
     "metadata": {},
     "output_type": "display_data"
    }
   ],
   "source": [
    "import plotly.express as px\n",
    "import plotly.graph_objects as go\n",
    "\n",
    "# Your existing DataFrame and plot\n",
    "fig = px.scatter(\n",
    "    df_results,\n",
    "    x=\"Recall avg\",\n",
    "    y=\"Search speed avg. (ms)\",\n",
    "    hover_data=[\"Index\",\"ingesting_max\",\"benchmarking_mean\"],\n",
    "    color=\"index_prov\",\n",
    "    size=df_results[\"benchmarking_mean\"],\n",
    ")\n",
    "\n",
    "# Adding a similar scatter plot but with semi-transparency and different size mapping\n",
    "fig.add_trace(\n",
    "    go.Scatter(\n",
    "        x=df_results[\"Recall avg\"],\n",
    "        y=df_results[\"Search speed avg. (ms)\"],\n",
    "        mode=\"markers\",\n",
    "        marker=dict(\n",
    "            size=df_results[\"ingesting_max\"] / 25,  # Size based on 'ingesting_max' column\n",
    "            opacity=0.1,  # Semi-transparent markers\n",
    "            # color=fig.data[0].marker.color,  # Use the same color as the first plot\n",
    "            # line=dict(color=\"MediumPurple\", width=2),\n",
    "        ),\n",
    "        hoverinfo=\"text\",  # You can customize hover info as needed\n",
    "        name=\"Ingesting max\",\n",
    "    )\n",
    ")\n",
    "\n",
    "fig.show()"
   ]
  },
  {
   "cell_type": "code",
   "execution_count": null,
   "metadata": {},
   "outputs": [],
   "source": []
  }
 ],
 "metadata": {
  "kernelspec": {
   "display_name": "vod-EhoGd8y6-py3.11",
   "language": "python",
   "name": "python3"
  },
  "language_info": {
   "codemirror_mode": {
    "name": "ipython",
    "version": 3
   },
   "file_extension": ".py",
   "mimetype": "text/x-python",
   "name": "python",
   "nbconvert_exporter": "python",
   "pygments_lexer": "ipython3",
   "version": "3.11.2"
  }
 },
 "nbformat": 4,
 "nbformat_minor": 2
}
