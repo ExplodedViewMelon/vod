{
 "cells": [
  {
   "cell_type": "code",
   "execution_count": 14,
   "metadata": {},
   "outputs": [],
   "source": [
    "import pandas as pd\n",
    "import matplotlib.pyplot as plt"
   ]
  },
  {
   "cell_type": "code",
   "execution_count": 15,
   "metadata": {},
   "outputs": [],
   "source": [
    "df = pd.read_csv(\"/Users/oas/Documents/VOD/vod/docker_memory_logs/692101.csv\", delimiter=r\"\\s\\s+\", engine=\"python\")"
   ]
  },
  {
   "cell_type": "code",
   "execution_count": 16,
   "metadata": {},
   "outputs": [],
   "source": [
    "df = df.query(\"NAME != 'NAME'\") # remove headers"
   ]
  },
  {
   "cell_type": "code",
   "execution_count": 17,
   "metadata": {},
   "outputs": [],
   "source": [
    "# change name of timestamp\n",
    "columns = df.columns.tolist()\n",
    "columns[0] = \"TIMESTAMP\"\n",
    "df.columns = columns"
   ]
  },
  {
   "cell_type": "code",
   "execution_count": 18,
   "metadata": {},
   "outputs": [],
   "source": [
    "df.TIMESTAMP = pd.to_datetime(df.TIMESTAMP)\n",
    "df.TIMESTAMP = df.TIMESTAMP + pd.Timedelta(hours=1)\n"
   ]
  },
  {
   "cell_type": "code",
   "execution_count": 19,
   "metadata": {},
   "outputs": [],
   "source": [
    "def convert_memory_usage(s):\n",
    "    if \"KiB\" in s:\n",
    "        return float(s.split(\"/\")[0][:-4]) / 1024\n",
    "    elif \"MiB\" in s:\n",
    "        return float(s.split(\"/\")[0][:-4])\n",
    "    elif \"GiB\" in s:\n",
    "        return float(s.split(\"/\")[0][:-4]) * 1024\n",
    "    else:\n",
    "        return None\n",
    "\n",
    "df[\"MEMORY_USAGE_MB\"] = df[\"MEM USAGE / LIMIT\"].apply(convert_memory_usage)\n"
   ]
  },
  {
   "cell_type": "code",
   "execution_count": 20,
   "metadata": {},
   "outputs": [
    {
     "name": "stdout",
     "output_type": "stream",
     "text": [
      "processes: ['0.00%' 'milvus-etcd' 'milvus-minio' 'milvus-standalone']\n"
     ]
    }
   ],
   "source": [
    "print(\"processes:\", df.NAME.unique())"
   ]
  },
  {
   "cell_type": "code",
   "execution_count": 21,
   "metadata": {},
   "outputs": [],
   "source": [
    "def plot_memory_usage(df):\n",
    "    for process in df.NAME.unique():\n",
    "        df_subset = df.query(f\"NAME == '{process}'\")\n",
    "        # t = range(0,len(memory_usage))\n",
    "        plt.plot(df_subset.TIMESTAMP, df_subset.MEMORY_USAGE_MB, label=process, marker=\"x\")\n",
    "        plt.xticks(rotation=45)\n",
    "        #plt.title(f\"{process} memory usage\")\n",
    "        plt.xlabel(\"timestamp\")\n",
    "        plt.ylabel(\"Memory Usage (MiB)\")\n",
    "    plt.legend()"
   ]
  },
  {
   "cell_type": "code",
   "execution_count": 23,
   "metadata": {},
   "outputs": [
    {
     "ename": "AttributeError",
     "evalue": "'DataFrame' object has no attribute 'NAME'",
     "output_type": "error",
     "traceback": [
      "\u001b[0;31m---------------------------------------------------------------------------\u001b[0m",
      "\u001b[0;31mAttributeError\u001b[0m                            Traceback (most recent call last)",
      "Cell \u001b[0;32mIn[23], line 2\u001b[0m\n\u001b[1;32m      1\u001b[0m plt\u001b[38;5;241m.\u001b[39mfigure(figsize\u001b[38;5;241m=\u001b[39m(\u001b[38;5;241m15\u001b[39m, \u001b[38;5;241m5\u001b[39m))\n\u001b[0;32m----> 2\u001b[0m \u001b[43mplot_memory_usage\u001b[49m\u001b[43m(\u001b[49m\u001b[43mdf\u001b[49m\u001b[43m)\u001b[49m\n\u001b[1;32m      4\u001b[0m _T \u001b[38;5;241m=\u001b[39m []\n\u001b[1;32m      6\u001b[0m ts \u001b[38;5;241m=\u001b[39m [timestamp \u001b[38;5;28;01mfor\u001b[39;00m _, timestamp \u001b[38;5;129;01min\u001b[39;00m _T]\n",
      "Cell \u001b[0;32mIn[21], line 2\u001b[0m, in \u001b[0;36mplot_memory_usage\u001b[0;34m(df)\u001b[0m\n\u001b[1;32m      1\u001b[0m \u001b[38;5;28;01mdef\u001b[39;00m \u001b[38;5;21mplot_memory_usage\u001b[39m(df):\n\u001b[0;32m----> 2\u001b[0m     \u001b[38;5;28;01mfor\u001b[39;00m process \u001b[38;5;129;01min\u001b[39;00m \u001b[43mdf\u001b[49m\u001b[38;5;241;43m.\u001b[39;49m\u001b[43mNAME\u001b[49m\u001b[38;5;241m.\u001b[39munique():\n\u001b[1;32m      3\u001b[0m         df_subset \u001b[38;5;241m=\u001b[39m df\u001b[38;5;241m.\u001b[39mquery(\u001b[38;5;124mf\u001b[39m\u001b[38;5;124m\"\u001b[39m\u001b[38;5;124mNAME == \u001b[39m\u001b[38;5;124m'\u001b[39m\u001b[38;5;132;01m{\u001b[39;00mprocess\u001b[38;5;132;01m}\u001b[39;00m\u001b[38;5;124m'\u001b[39m\u001b[38;5;124m\"\u001b[39m)\n\u001b[1;32m      4\u001b[0m         \u001b[38;5;66;03m# t = range(0,len(memory_usage))\u001b[39;00m\n",
      "File \u001b[0;32m~/.pyenv/versions/3.11.2/lib/python3.11/site-packages/pandas/core/generic.py:5902\u001b[0m, in \u001b[0;36mNDFrame.__getattr__\u001b[0;34m(self, name)\u001b[0m\n\u001b[1;32m   5895\u001b[0m \u001b[38;5;28;01mif\u001b[39;00m (\n\u001b[1;32m   5896\u001b[0m     name \u001b[38;5;129;01mnot\u001b[39;00m \u001b[38;5;129;01min\u001b[39;00m \u001b[38;5;28mself\u001b[39m\u001b[38;5;241m.\u001b[39m_internal_names_set\n\u001b[1;32m   5897\u001b[0m     \u001b[38;5;129;01mand\u001b[39;00m name \u001b[38;5;129;01mnot\u001b[39;00m \u001b[38;5;129;01min\u001b[39;00m \u001b[38;5;28mself\u001b[39m\u001b[38;5;241m.\u001b[39m_metadata\n\u001b[1;32m   5898\u001b[0m     \u001b[38;5;129;01mand\u001b[39;00m name \u001b[38;5;129;01mnot\u001b[39;00m \u001b[38;5;129;01min\u001b[39;00m \u001b[38;5;28mself\u001b[39m\u001b[38;5;241m.\u001b[39m_accessors\n\u001b[1;32m   5899\u001b[0m     \u001b[38;5;129;01mand\u001b[39;00m \u001b[38;5;28mself\u001b[39m\u001b[38;5;241m.\u001b[39m_info_axis\u001b[38;5;241m.\u001b[39m_can_hold_identifiers_and_holds_name(name)\n\u001b[1;32m   5900\u001b[0m ):\n\u001b[1;32m   5901\u001b[0m     \u001b[38;5;28;01mreturn\u001b[39;00m \u001b[38;5;28mself\u001b[39m[name]\n\u001b[0;32m-> 5902\u001b[0m \u001b[38;5;28;01mreturn\u001b[39;00m \u001b[38;5;28;43mobject\u001b[39;49m\u001b[38;5;241;43m.\u001b[39;49m\u001b[38;5;21;43m__getattribute__\u001b[39;49m\u001b[43m(\u001b[49m\u001b[38;5;28;43mself\u001b[39;49m\u001b[43m,\u001b[49m\u001b[43m \u001b[49m\u001b[43mname\u001b[49m\u001b[43m)\u001b[49m\n",
      "\u001b[0;31mAttributeError\u001b[0m: 'DataFrame' object has no attribute 'NAME'"
     ]
    },
    {
     "data": {
      "text/plain": [
       "<Figure size 1500x500 with 0 Axes>"
      ]
     },
     "metadata": {},
     "output_type": "display_data"
    }
   ],
   "source": [
    "plt.figure(figsize=(15, 5))\n",
    "plot_memory_usage(df)\n",
    "\n",
    "_T = []\n",
    "\n",
    "ts = [timestamp for _, timestamp in _T]\n",
    "timestamps = pd.to_datetime(ts)\n",
    "\n",
    "plt.vlines(timestamps, 0, df.MEMORY_USAGE_MB.max())\n",
    "for label, timestamp in _T:\n",
    "    plt.text(\n",
    "        pd.to_datetime(timestamp),\n",
    "        df.MEMORY_USAGE_MB.max(),\n",
    "        label,\n",
    "        rotation=45,\n",
    "        verticalalignment=\"bottom\",\n",
    "        c=\"darkblue\",\n",
    "    )\n",
    "plt.show()"
   ]
  },
  {
   "cell_type": "code",
   "execution_count": 25,
   "metadata": {},
   "outputs": [
    {
     "data": {
      "text/html": [
       "<div>\n",
       "<style scoped>\n",
       "    .dataframe tbody tr th:only-of-type {\n",
       "        vertical-align: middle;\n",
       "    }\n",
       "\n",
       "    .dataframe tbody tr th {\n",
       "        vertical-align: top;\n",
       "    }\n",
       "\n",
       "    .dataframe thead th {\n",
       "        text-align: right;\n",
       "    }\n",
       "</style>\n",
       "<table border=\"1\" class=\"dataframe\">\n",
       "  <thead>\n",
       "    <tr style=\"text-align: right;\">\n",
       "      <th></th>\n",
       "      <th>MEMORY_USAGE_MB</th>\n",
       "    </tr>\n",
       "    <tr>\n",
       "      <th>TIMESTAMP</th>\n",
       "      <th></th>\n",
       "    </tr>\n",
       "  </thead>\n",
       "  <tbody>\n",
       "    <tr>\n",
       "      <th>2024-01-25 13:25:40</th>\n",
       "      <td>0.00</td>\n",
       "    </tr>\n",
       "    <tr>\n",
       "      <th>2024-01-25 13:25:43</th>\n",
       "      <td>141.22</td>\n",
       "    </tr>\n",
       "    <tr>\n",
       "      <th>2024-01-25 13:25:45</th>\n",
       "      <td>184.35</td>\n",
       "    </tr>\n",
       "    <tr>\n",
       "      <th>2024-01-25 13:25:47</th>\n",
       "      <td>186.36</td>\n",
       "    </tr>\n",
       "    <tr>\n",
       "      <th>2024-01-25 13:25:49</th>\n",
       "      <td>187.40</td>\n",
       "    </tr>\n",
       "    <tr>\n",
       "      <th>...</th>\n",
       "      <td>...</td>\n",
       "    </tr>\n",
       "    <tr>\n",
       "      <th>2024-01-25 13:28:38</th>\n",
       "      <td>640.21</td>\n",
       "    </tr>\n",
       "    <tr>\n",
       "      <th>2024-01-25 13:28:40</th>\n",
       "      <td>640.50</td>\n",
       "    </tr>\n",
       "    <tr>\n",
       "      <th>2024-01-25 13:28:42</th>\n",
       "      <td>641.00</td>\n",
       "    </tr>\n",
       "    <tr>\n",
       "      <th>2024-01-25 13:28:44</th>\n",
       "      <td>641.40</td>\n",
       "    </tr>\n",
       "    <tr>\n",
       "      <th>2024-01-25 13:28:46</th>\n",
       "      <td>640.70</td>\n",
       "    </tr>\n",
       "  </tbody>\n",
       "</table>\n",
       "<p>94 rows × 1 columns</p>\n",
       "</div>"
      ],
      "text/plain": [
       "                     MEMORY_USAGE_MB\n",
       "TIMESTAMP                           \n",
       "2024-01-25 13:25:40             0.00\n",
       "2024-01-25 13:25:43           141.22\n",
       "2024-01-25 13:25:45           184.35\n",
       "2024-01-25 13:25:47           186.36\n",
       "2024-01-25 13:25:49           187.40\n",
       "...                              ...\n",
       "2024-01-25 13:28:38           640.21\n",
       "2024-01-25 13:28:40           640.50\n",
       "2024-01-25 13:28:42           641.00\n",
       "2024-01-25 13:28:44           641.40\n",
       "2024-01-25 13:28:46           640.70\n",
       "\n",
       "[94 rows x 1 columns]"
      ]
     },
     "execution_count": 25,
     "metadata": {},
     "output_type": "execute_result"
    }
   ],
   "source": [
    "df"
   ]
  },
  {
   "cell_type": "code",
   "execution_count": 27,
   "metadata": {},
   "outputs": [],
   "source": [
    "df = df.groupby(\"TIMESTAMP\").sum()"
   ]
  },
  {
   "cell_type": "code",
   "execution_count": 31,
   "metadata": {},
   "outputs": [
    {
     "data": {
      "text/html": [
       "<div>\n",
       "<style scoped>\n",
       "    .dataframe tbody tr th:only-of-type {\n",
       "        vertical-align: middle;\n",
       "    }\n",
       "\n",
       "    .dataframe tbody tr th {\n",
       "        vertical-align: top;\n",
       "    }\n",
       "\n",
       "    .dataframe thead th {\n",
       "        text-align: right;\n",
       "    }\n",
       "</style>\n",
       "<table border=\"1\" class=\"dataframe\">\n",
       "  <thead>\n",
       "    <tr style=\"text-align: right;\">\n",
       "      <th></th>\n",
       "      <th>MEMORY_USAGE_MB</th>\n",
       "    </tr>\n",
       "    <tr>\n",
       "      <th>TIMESTAMP</th>\n",
       "      <th></th>\n",
       "    </tr>\n",
       "  </thead>\n",
       "  <tbody>\n",
       "    <tr>\n",
       "      <th>2024-01-25 13:25:40</th>\n",
       "      <td>0.00</td>\n",
       "    </tr>\n",
       "    <tr>\n",
       "      <th>2024-01-25 13:25:43</th>\n",
       "      <td>141.22</td>\n",
       "    </tr>\n",
       "    <tr>\n",
       "      <th>2024-01-25 13:25:45</th>\n",
       "      <td>184.35</td>\n",
       "    </tr>\n",
       "    <tr>\n",
       "      <th>2024-01-25 13:25:47</th>\n",
       "      <td>186.36</td>\n",
       "    </tr>\n",
       "  </tbody>\n",
       "</table>\n",
       "</div>"
      ],
      "text/plain": [
       "                     MEMORY_USAGE_MB\n",
       "TIMESTAMP                           \n",
       "2024-01-25 13:25:40             0.00\n",
       "2024-01-25 13:25:43           141.22\n",
       "2024-01-25 13:25:45           184.35\n",
       "2024-01-25 13:25:47           186.36"
      ]
     },
     "execution_count": 31,
     "metadata": {},
     "output_type": "execute_result"
    }
   ],
   "source": [
    "df.query(\"TIMESTAMP < '2024-01-25 13:25:49'\")"
   ]
  },
  {
   "cell_type": "code",
   "execution_count": null,
   "metadata": {},
   "outputs": [
    {
     "data": {
      "image/png": "[encoded data removed]",
      "text/plain": [
       "<Figure size 640x480 with 1 Axes>"
      ]
     },
     "metadata": {},
     "output_type": "display_data"
    }
   ],
   "source": [
    "plot_memory_usage(df.query(\"NAME == 'milvus-minio'\"))"
   ]
  }
 ],
 "metadata": {
  "kernelspec": {
   "display_name": "vod-EhoGd8y6-py3.11",
   "language": "python",
   "name": "python3"
  },
  "language_info": {
   "codemirror_mode": {
    "name": "ipython",
    "version": 3
   },
   "file_extension": ".py",
   "mimetype": "text/x-python",
   "name": "python",
   "nbconvert_exporter": "python",
   "pygments_lexer": "ipython3",
   "version": "3.11.2"
  }
 },
 "nbformat": 4,
 "nbformat_minor": 2
}
