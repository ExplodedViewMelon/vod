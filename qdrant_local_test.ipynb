{
 "cells": [
  {
   "cell_type": "code",
   "execution_count": null,
   "metadata": {},
   "outputs": [],
   "source": [
    "from fastapi import FastAPI\n",
    "import uvicorn\n",
    "import re\n",
    "from qdrant_client import QdrantClient\n",
    "import numpy as np"
   ]
  },
  {
   "cell_type": "code",
   "execution_count": null,
   "metadata": {},
   "outputs": [],
   "source": [
    "\"\"\" TODO\n",
    "- implement server for searching w. api\n",
    "- implement master to spawn server\n",
    "- implement client to interact.\n",
    "\"\"\"\n",
    "# def parse_args():\n",
    "#     raise NotImplementedError()\n",
    "\n",
    "# args = parse_args()\n",
    "# app = FastAPI()\n",
    "\n",
    "# @app.get(\"/search\")"
   ]
  },
  {
   "cell_type": "code",
   "execution_count": null,
   "metadata": {},
   "outputs": [],
   "source": [
    "vectors = np.random.randn(args.dataset_size, args.vector_size).astype(\"float32\")\n",
    "\n",
    "\n",
    "async def search(query):\n",
    "    \"\"\"returns response from search query\"\"\"\n",
    "    raise NotImplementedError()\n",
    "\n",
    "\n",
    "def run_faiss_server(host: str = args.host, port: int = args.port) -> None:\n",
    "    \"\"\"Start the API.\"\"\"\n",
    "    pattern = re.compile(r\"^(http|https)://\")\n",
    "    host = re.sub(pattern, \"\", host)\n",
    "    uvicorn.run(\n",
    "        app, host=host, port=port, workers=1, log_level=args.logging_level.lower()\n",
    "    )\n",
    "\n",
    "\n",
    "if __name__ == \"__main__\":\n",
    "    run_faiss_server()\n"
   ]
  }
 ],
 "metadata": {
  "language_info": {
   "name": "python"
  },
  "orig_nbformat": 4
 },
 "nbformat": 4,
 "nbformat_minor": 2
}
